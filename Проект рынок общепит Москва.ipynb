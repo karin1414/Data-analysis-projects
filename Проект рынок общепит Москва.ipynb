{
 "cells": [
  {
   "cell_type": "markdown",
   "id": "e06910dd",
   "metadata": {
    "id": "e06910dd"
   },
   "source": [
    "# Изучение рынка заведений общественного питания Москвы\n",
    "\n",
    "- Автор: Волкова Карина\n",
    "- Дата:  24.03.2025\n",
    "  "
   ]
  },
  {
   "cell_type": "markdown",
   "id": "4149134c",
   "metadata": {
    "id": "4149134c"
   },
   "source": [
    "### Цели и задачи проекта\n",
    "\n",
    "**Цель:** Провести исследовательский анализ рынка Москвы. Эти результаты помогут в выборе подходящего инвесторам места для открытия заведения общественного питания.\n",
    "\n",
    "**Задачи:**\n",
    "1. Загрузить данные и познакомиться с их содержимым.\n",
    "2. Провести предобработку данных.\n",
    "3. Провести исследовательский анализ данных.\n",
    "- Какие категории заведений представлены?\n",
    "- Какие административные районы Москвы присутствуют в данных?\n",
    "- Каких заведений больше — сетевых или несетевых? Какие категории заведений чаще являются сетевыми?\n",
    "- Исследовать количество посадочных мест в заведениях.\n",
    "- Рейтинг заведений.\n",
    "- С какими данными показывают самую сильную корреляцию рейтинги заведений?\n",
    "- Топ-15 популярных сетей в Москве.\n",
    "- Вариации среднего чека заведения (столбец middle_avg_bill) в зависимости от района Москвы.\n",
    "4. Сформулировать выводы по проведённому анализу."
   ]
  },
  {
   "cell_type": "markdown",
   "id": "728986ea",
   "metadata": {
    "id": "728986ea"
   },
   "source": [
    "### Описание данных\n",
    "Для анализа поступили данные, состоящие из двух датасетов:\n",
    "\n",
    "<font color='#777778'>  Файл **/datasets/rest_info.csv** содержит информацию о заведениях общественного питания:\n",
    "- `name` — название заведения;\n",
    "- `address` — адрес заведения;\n",
    "- `district` — административный район, в котором находится заведение, например Центральный административный округ;\n",
    "- `category` — категория заведения, например «кафе», «пиццерия» или «кофейня»;\n",
    "- `hours` — информация о днях и часах работы;\n",
    "- `rating` — рейтинг заведения по оценкам пользователей в Яндекс Картах (высшая оценка — 5.0);\n",
    "- `chain` — число, выраженное 0 или 1, которое показывает, является ли заведение сетевым (для маленьких сетей могут встречаться ошибки):\n",
    "- - `0` — заведение не является сетевым;\n",
    "- - `1` — заведение является сетевым.\n",
    "- `seats`— количество посадочных мест.\n",
    "\n",
    "Файл **/datasets/rest_price.csv** содержит информацию о среднем чеке в заведениях общественного питания:\n",
    "- `price` — категория цен в заведении, например «средние», «ниже среднего», «выше среднего» и так далее;\n",
    "- `avg_bill` — строка, которая хранит среднюю стоимость заказа в виде диапазона, например:\n",
    "- - «Средний счёт: 1000–1500 ₽»;\n",
    "- - «Цена чашки капучино: 130–220 ₽»;\n",
    "- - «Цена бокала пива: 400–600 ₽».\n",
    "и так далее;\n",
    "- `middle_avg_bill` — число с оценкой среднего чека, которое указано только для значений из столбца avg_bill, начинающихся с подстроки «Средний счёт»:\n",
    "- - Если в строке указан ценовой диапазон из двух значений, в столбец войдёт медиана этих двух значений.\n",
    "- - Если в строке указано одно число — цена без диапазона, то в столбец войдёт это число.\n",
    "- - Если значения нет или оно не начинается с подстроки «Средний счёт», то в столбец ничего не войдёт.\n",
    "- `middle_coffee_cup` — число с оценкой одной чашки капучино, которое указано только для значений из столбца avg_bill, начинающихся с подстроки «Цена одной чашки капучино»:\n",
    "- - Если в строке указан ценовой диапазон из двух значений, в столбец войдёт медиана этих двух значений.\n",
    "- - Если в строке указано одно число — цена без диапазона, то в столбец войдёт это число.\n",
    "- - Если значения нет или оно не начинается с подстроки «Цена одной чашки капучино», то в столбец ничего не войдёт. </font>"
   ]
  },
  {
   "cell_type": "markdown",
   "id": "4fecaf95",
   "metadata": {
    "id": "4fecaf95"
   },
   "source": [
    "### Содержимое проекта\n",
    "\n",
    "1. Загрузить данные и познакомиться с их содержимым.\n",
    "2. Провести предобработку данных.\n",
    "3. Провести исследовательский анализ данных.\n",
    "4. Сформулировать выводы по проведённому анализу.\n",
    "---"
   ]
  },
  {
   "cell_type": "markdown",
   "id": "6f7d21d6",
   "metadata": {
    "id": "6f7d21d6"
   },
   "source": [
    "## 1. Загрузка данных и знакомство с ними\n",
    "\n",
    "- Загрузите данные о заведениях общественного питания Москвы. Путь к файлам: `/datasets/rest_info.csv` и `/datasets/rest_price.csv`."
   ]
  },
  {
   "cell_type": "code",
   "execution_count": 1,
   "id": "05faf34b",
   "metadata": {
    "id": "05faf34b"
   },
   "outputs": [
    {
     "name": "stdout",
     "output_type": "stream",
     "text": [
      "Requirement already satisfied: phik in /opt/conda/lib/python3.9/site-packages (0.12.4)\n",
      "Requirement already satisfied: pandas>=0.25.1 in /opt/conda/lib/python3.9/site-packages (from phik) (1.2.4)\n",
      "Requirement already satisfied: numpy>=1.18.0 in /opt/conda/lib/python3.9/site-packages (from phik) (1.21.1)\n",
      "Requirement already satisfied: scipy>=1.5.2 in /opt/conda/lib/python3.9/site-packages (from phik) (1.9.1)\n",
      "Requirement already satisfied: matplotlib>=2.2.3 in /opt/conda/lib/python3.9/site-packages (from phik) (3.3.4)\n",
      "Requirement already satisfied: joblib>=0.14.1 in /opt/conda/lib/python3.9/site-packages (from phik) (1.1.0)\n",
      "Requirement already satisfied: python-dateutil>=2.1 in /opt/conda/lib/python3.9/site-packages (from matplotlib>=2.2.3->phik) (2.8.1)\n",
      "Requirement already satisfied: pyparsing!=2.0.4,!=2.1.2,!=2.1.6,>=2.0.3 in /opt/conda/lib/python3.9/site-packages (from matplotlib>=2.2.3->phik) (2.4.7)\n",
      "Requirement already satisfied: kiwisolver>=1.0.1 in /opt/conda/lib/python3.9/site-packages (from matplotlib>=2.2.3->phik) (1.4.4)\n",
      "Requirement already satisfied: cycler>=0.10 in /opt/conda/lib/python3.9/site-packages (from matplotlib>=2.2.3->phik) (0.11.0)\n",
      "Requirement already satisfied: pillow>=6.2.0 in /opt/conda/lib/python3.9/site-packages (from matplotlib>=2.2.3->phik) (8.4.0)\n",
      "Requirement already satisfied: pytz>=2017.3 in /opt/conda/lib/python3.9/site-packages (from pandas>=0.25.1->phik) (2021.1)\n",
      "Requirement already satisfied: six>=1.5 in /opt/conda/lib/python3.9/site-packages (from python-dateutil>=2.1->matplotlib>=2.2.3->phik) (1.16.0)\n"
     ]
    }
   ],
   "source": [
    "# Импортируем библиотеки\n",
    "import pandas as pd\n",
    "import matplotlib.pyplot as plt\n",
    "import seaborn as sns\n",
    "!pip install phik\n",
    "from phik import phik_matrix "
   ]
  },
  {
   "cell_type": "code",
   "execution_count": 2,
   "id": "ce87c1db",
   "metadata": {
    "id": "ce87c1db"
   },
   "outputs": [],
   "source": [
    "inform = pd.read_csv('')\n",
    "prices = pd.read_csv('')"
   ]
  },
  {
   "cell_type": "markdown",
   "id": "18b5dfff",
   "metadata": {
    "id": "18b5dfff"
   },
   "source": [
    "- Познакомьтесь с данными и изучите общую информацию о них."
   ]
  },
  {
   "cell_type": "code",
   "execution_count": 3,
   "id": "f68a7419",
   "metadata": {
    "id": "f68a7419"
   },
   "outputs": [
    {
     "name": "stdout",
     "output_type": "stream",
     "text": [
      "<class 'pandas.core.frame.DataFrame'>\n",
      "RangeIndex: 8406 entries, 0 to 8405\n",
      "Data columns (total 9 columns):\n",
      " #   Column    Non-Null Count  Dtype  \n",
      "---  ------    --------------  -----  \n",
      " 0   id        8406 non-null   object \n",
      " 1   name      8406 non-null   object \n",
      " 2   category  8406 non-null   object \n",
      " 3   address   8406 non-null   object \n",
      " 4   district  8406 non-null   object \n",
      " 5   hours     7870 non-null   object \n",
      " 6   rating    8406 non-null   float64\n",
      " 7   chain     8406 non-null   int64  \n",
      " 8   seats     4795 non-null   float64\n",
      "dtypes: float64(2), int64(1), object(6)\n",
      "memory usage: 591.2+ KB\n"
     ]
    }
   ],
   "source": [
    "inform.info()"
   ]
  },
  {
   "cell_type": "code",
   "execution_count": 4,
   "id": "8c395cb9-2d06-49ec-beb6-ff50d2ac1db5",
   "metadata": {
    "id": "dd415c80"
   },
   "outputs": [
    {
     "data": {
      "text/html": [
       "<div>\n",
       "<style scoped>\n",
       "    .dataframe tbody tr th:only-of-type {\n",
       "        vertical-align: middle;\n",
       "    }\n",
       "\n",
       "    .dataframe tbody tr th {\n",
       "        vertical-align: top;\n",
       "    }\n",
       "\n",
       "    .dataframe thead th {\n",
       "        text-align: right;\n",
       "    }\n",
       "</style>\n",
       "<table border=\"1\" class=\"dataframe\">\n",
       "  <thead>\n",
       "    <tr style=\"text-align: right;\">\n",
       "      <th></th>\n",
       "      <th>id</th>\n",
       "      <th>name</th>\n",
       "      <th>category</th>\n",
       "      <th>address</th>\n",
       "      <th>district</th>\n",
       "      <th>hours</th>\n",
       "      <th>rating</th>\n",
       "      <th>chain</th>\n",
       "      <th>seats</th>\n",
       "    </tr>\n",
       "  </thead>\n",
       "  <tbody>\n",
       "    <tr>\n",
       "      <th>0</th>\n",
       "      <td>0c3e3439a8c64ea5bf6ecd6ca6ae19f0</td>\n",
       "      <td>WoWфли</td>\n",
       "      <td>кафе</td>\n",
       "      <td>Москва, улица Дыбенко, 7/1</td>\n",
       "      <td>Северный административный округ</td>\n",
       "      <td>ежедневно, 10:00–22:00</td>\n",
       "      <td>5.0</td>\n",
       "      <td>0</td>\n",
       "      <td>NaN</td>\n",
       "    </tr>\n",
       "    <tr>\n",
       "      <th>1</th>\n",
       "      <td>045780ada3474c57a2112e505d74b633</td>\n",
       "      <td>Четыре комнаты</td>\n",
       "      <td>ресторан</td>\n",
       "      <td>Москва, улица Дыбенко, 36, корп. 1</td>\n",
       "      <td>Северный административный округ</td>\n",
       "      <td>ежедневно, 10:00–22:00</td>\n",
       "      <td>4.5</td>\n",
       "      <td>0</td>\n",
       "      <td>4.0</td>\n",
       "    </tr>\n",
       "    <tr>\n",
       "      <th>2</th>\n",
       "      <td>1070b6b59144425896c65889347fcff6</td>\n",
       "      <td>Хазри</td>\n",
       "      <td>кафе</td>\n",
       "      <td>Москва, Клязьминская улица, 15</td>\n",
       "      <td>Северный административный округ</td>\n",
       "      <td>пн-чт 11:00–02:00; пт,сб 11:00–05:00; вс 11:00...</td>\n",
       "      <td>4.6</td>\n",
       "      <td>0</td>\n",
       "      <td>45.0</td>\n",
       "    </tr>\n",
       "    <tr>\n",
       "      <th>3</th>\n",
       "      <td>03ac7cd772104f65b58b349dc59f03ee</td>\n",
       "      <td>Dormouse Coffee Shop</td>\n",
       "      <td>кофейня</td>\n",
       "      <td>Москва, улица Маршала Федоренко, 12</td>\n",
       "      <td>Северный административный округ</td>\n",
       "      <td>ежедневно, 09:00–22:00</td>\n",
       "      <td>5.0</td>\n",
       "      <td>0</td>\n",
       "      <td>NaN</td>\n",
       "    </tr>\n",
       "    <tr>\n",
       "      <th>4</th>\n",
       "      <td>a163aada139c4c7f87b0b1c0b466a50f</td>\n",
       "      <td>Иль Марко</td>\n",
       "      <td>пиццерия</td>\n",
       "      <td>Москва, Правобережная улица, 1Б</td>\n",
       "      <td>Северный административный округ</td>\n",
       "      <td>ежедневно, 10:00–22:00</td>\n",
       "      <td>5.0</td>\n",
       "      <td>1</td>\n",
       "      <td>148.0</td>\n",
       "    </tr>\n",
       "  </tbody>\n",
       "</table>\n",
       "</div>"
      ],
      "text/plain": [
       "                                 id                  name  category  \\\n",
       "0  0c3e3439a8c64ea5bf6ecd6ca6ae19f0                WoWфли      кафе   \n",
       "1  045780ada3474c57a2112e505d74b633        Четыре комнаты  ресторан   \n",
       "2  1070b6b59144425896c65889347fcff6                 Хазри      кафе   \n",
       "3  03ac7cd772104f65b58b349dc59f03ee  Dormouse Coffee Shop   кофейня   \n",
       "4  a163aada139c4c7f87b0b1c0b466a50f             Иль Марко  пиццерия   \n",
       "\n",
       "                               address                         district  \\\n",
       "0           Москва, улица Дыбенко, 7/1  Северный административный округ   \n",
       "1   Москва, улица Дыбенко, 36, корп. 1  Северный административный округ   \n",
       "2       Москва, Клязьминская улица, 15  Северный административный округ   \n",
       "3  Москва, улица Маршала Федоренко, 12  Северный административный округ   \n",
       "4      Москва, Правобережная улица, 1Б  Северный административный округ   \n",
       "\n",
       "                                               hours  rating  chain  seats  \n",
       "0                             ежедневно, 10:00–22:00     5.0      0    NaN  \n",
       "1                             ежедневно, 10:00–22:00     4.5      0    4.0  \n",
       "2  пн-чт 11:00–02:00; пт,сб 11:00–05:00; вс 11:00...     4.6      0   45.0  \n",
       "3                             ежедневно, 09:00–22:00     5.0      0    NaN  \n",
       "4                             ежедневно, 10:00–22:00     5.0      1  148.0  "
      ]
     },
     "execution_count": 4,
     "metadata": {},
     "output_type": "execute_result"
    }
   ],
   "source": [
    "inform.head()"
   ]
  },
  {
   "cell_type": "code",
   "execution_count": 5,
   "id": "3158ad37",
   "metadata": {
    "id": "3158ad37"
   },
   "outputs": [
    {
     "name": "stdout",
     "output_type": "stream",
     "text": [
      "<class 'pandas.core.frame.DataFrame'>\n",
      "RangeIndex: 4058 entries, 0 to 4057\n",
      "Data columns (total 5 columns):\n",
      " #   Column             Non-Null Count  Dtype  \n",
      "---  ------             --------------  -----  \n",
      " 0   id                 4058 non-null   object \n",
      " 1   price              3315 non-null   object \n",
      " 2   avg_bill           3816 non-null   object \n",
      " 3   middle_avg_bill    3149 non-null   float64\n",
      " 4   middle_coffee_cup  535 non-null    float64\n",
      "dtypes: float64(2), object(3)\n",
      "memory usage: 158.6+ KB\n"
     ]
    }
   ],
   "source": [
    "prices.info()"
   ]
  },
  {
   "cell_type": "code",
   "execution_count": 6,
   "id": "91fb7035-5aa1-4a51-93cb-473c5550eb22",
   "metadata": {},
   "outputs": [
    {
     "data": {
      "text/html": [
       "<div>\n",
       "<style scoped>\n",
       "    .dataframe tbody tr th:only-of-type {\n",
       "        vertical-align: middle;\n",
       "    }\n",
       "\n",
       "    .dataframe tbody tr th {\n",
       "        vertical-align: top;\n",
       "    }\n",
       "\n",
       "    .dataframe thead th {\n",
       "        text-align: right;\n",
       "    }\n",
       "</style>\n",
       "<table border=\"1\" class=\"dataframe\">\n",
       "  <thead>\n",
       "    <tr style=\"text-align: right;\">\n",
       "      <th></th>\n",
       "      <th>id</th>\n",
       "      <th>price</th>\n",
       "      <th>avg_bill</th>\n",
       "      <th>middle_avg_bill</th>\n",
       "      <th>middle_coffee_cup</th>\n",
       "    </tr>\n",
       "  </thead>\n",
       "  <tbody>\n",
       "    <tr>\n",
       "      <th>0</th>\n",
       "      <td>045780ada3474c57a2112e505d74b633</td>\n",
       "      <td>выше среднего</td>\n",
       "      <td>Средний счёт:1500–1600 ₽</td>\n",
       "      <td>1550.0</td>\n",
       "      <td>NaN</td>\n",
       "    </tr>\n",
       "    <tr>\n",
       "      <th>1</th>\n",
       "      <td>1070b6b59144425896c65889347fcff6</td>\n",
       "      <td>средние</td>\n",
       "      <td>Средний счёт:от 1000 ₽</td>\n",
       "      <td>1000.0</td>\n",
       "      <td>NaN</td>\n",
       "    </tr>\n",
       "    <tr>\n",
       "      <th>2</th>\n",
       "      <td>03ac7cd772104f65b58b349dc59f03ee</td>\n",
       "      <td>NaN</td>\n",
       "      <td>Цена чашки капучино:155–185 ₽</td>\n",
       "      <td>NaN</td>\n",
       "      <td>170.0</td>\n",
       "    </tr>\n",
       "    <tr>\n",
       "      <th>3</th>\n",
       "      <td>a163aada139c4c7f87b0b1c0b466a50f</td>\n",
       "      <td>средние</td>\n",
       "      <td>Средний счёт:400–600 ₽</td>\n",
       "      <td>500.0</td>\n",
       "      <td>NaN</td>\n",
       "    </tr>\n",
       "    <tr>\n",
       "      <th>4</th>\n",
       "      <td>8a343546b24e4a499ad96eb7d0797a8a</td>\n",
       "      <td>средние</td>\n",
       "      <td>NaN</td>\n",
       "      <td>NaN</td>\n",
       "      <td>NaN</td>\n",
       "    </tr>\n",
       "  </tbody>\n",
       "</table>\n",
       "</div>"
      ],
      "text/plain": [
       "                                 id          price  \\\n",
       "0  045780ada3474c57a2112e505d74b633  выше среднего   \n",
       "1  1070b6b59144425896c65889347fcff6        средние   \n",
       "2  03ac7cd772104f65b58b349dc59f03ee            NaN   \n",
       "3  a163aada139c4c7f87b0b1c0b466a50f        средние   \n",
       "4  8a343546b24e4a499ad96eb7d0797a8a        средние   \n",
       "\n",
       "                        avg_bill  middle_avg_bill  middle_coffee_cup  \n",
       "0       Средний счёт:1500–1600 ₽           1550.0                NaN  \n",
       "1         Средний счёт:от 1000 ₽           1000.0                NaN  \n",
       "2  Цена чашки капучино:155–185 ₽              NaN              170.0  \n",
       "3         Средний счёт:400–600 ₽            500.0                NaN  \n",
       "4                            NaN              NaN                NaN  "
      ]
     },
     "execution_count": 6,
     "metadata": {},
     "output_type": "execute_result"
    }
   ],
   "source": [
    "prices.head()"
   ]
  },
  {
   "cell_type": "markdown",
   "id": "2c614a62",
   "metadata": {
    "id": "2c614a62"
   },
   "source": [
    "---\n",
    "\n",
    "### Промежуточный вывод\n"
   ]
  },
  {
   "cell_type": "markdown",
   "id": "14d05d12-5190-4036-9055-d5ee9b3acb9b",
   "metadata": {
    "id": "3593b7d5"
   },
   "source": [
    "Датасет INFORM содержит 9 колонок, 8406 записей, 3х типов данных:\n",
    "- object (строковые данные): 6 столбцов (id, name, category, address, district, hours)\n",
    "- float64: 2 столбца (rating, seats)\n",
    "- int64: 1 столбец (chain)\n",
    " \n",
    "Пропуски: \n",
    "- Столбец hours: 7870 ненулевых значений, 536 записей содержат пропуски.\n",
    "- Столбец seats: 4795 ненулевых значений, 3611 записей содержат пропуски.\n",
    "\n",
    "Значения данных соответсвуют типам, за исключением:\n",
    "- Столбец hours может потребовать преобразования в категориальный тип для анализа.\n",
    "- Столбец seats: тип float64 лучше привести к целочисленному типу.\n",
    "---"
   ]
  },
  {
   "cell_type": "markdown",
   "id": "4aa4feb9-cb3a-4db2-91eb-96695256a5ed",
   "metadata": {
    "id": "c2cc7f38"
   },
   "source": [
    "Датасет PRICES содержит 5 колонок, 4058 записей, 2х типов данных:\n",
    "- object (строковые данные): 3 столбца (id, price, avg_bill)\n",
    "- float64: 2 столбца (middle_avg_bill, middle_coffee_cup)\n",
    "  \n",
    "Пропуски:\n",
    "- Столбец price: 3315 ненулевых значений, 743 записи содержат пропуски.\n",
    "- Столбец avg_bill: 3816 ненулевых значений, 242 записи содержат пропуски.\n",
    "- Столбец middle_avg_bill: 3149 ненулевых значений, 909 записей содержат пропуски.\n",
    "- Столбец middle_coffee_cup: 535 ненулевых значений, 3523 записи содержат пропуски.\n",
    " \n",
    "Значения данных соответсвуют типам, за исключением:\n",
    "- Столбец price: Строковый тип, что может указывать на то, что цены представлены в виде текста. Здесь категориальный тип.\n",
    "- Столбец avg_bill: Также строковый тип, что может потребовать преобразования в числовой формат.\n",
    "- Столбец middle_avg_bill: Тип float64 подходит для числовых значений, но можно привести к целочисленному типу.\n",
    "- Столбец middle_coffee_cup: Тип float64 подходит для числовых значений, но можно привести к целочисленному типу.\n",
    "\n",
    "---"
   ]
  },
  {
   "cell_type": "markdown",
   "id": "7d1f7f83-b475-490e-a543-5629eb9c5725",
   "metadata": {
    "id": "84e2bdab"
   },
   "source": [
    "Названия столбцов обоих датасетов не требуют преобразований."
   ]
  },
  {
   "cell_type": "markdown",
   "id": "8a8d1491",
   "metadata": {
    "id": "8a8d1491"
   },
   "source": [
    "### Подготовка единого датафрейма\n",
    "\n",
    "- Объедините данные двух датасетов в один, с которым вы и продолжите работу."
   ]
  },
  {
   "cell_type": "code",
   "execution_count": 7,
   "id": "3408e303",
   "metadata": {
    "id": "3408e303"
   },
   "outputs": [],
   "source": [
    "df = inform.merge(prices, on='id', how='left')"
   ]
  },
  {
   "cell_type": "code",
   "execution_count": 8,
   "id": "5695950b",
   "metadata": {
    "id": "5695950b"
   },
   "outputs": [
    {
     "name": "stdout",
     "output_type": "stream",
     "text": [
      "<class 'pandas.core.frame.DataFrame'>\n",
      "Int64Index: 8406 entries, 0 to 8405\n",
      "Data columns (total 13 columns):\n",
      " #   Column             Non-Null Count  Dtype  \n",
      "---  ------             --------------  -----  \n",
      " 0   id                 8406 non-null   object \n",
      " 1   name               8406 non-null   object \n",
      " 2   category           8406 non-null   object \n",
      " 3   address            8406 non-null   object \n",
      " 4   district           8406 non-null   object \n",
      " 5   hours              7870 non-null   object \n",
      " 6   rating             8406 non-null   float64\n",
      " 7   chain              8406 non-null   int64  \n",
      " 8   seats              4795 non-null   float64\n",
      " 9   price              3315 non-null   object \n",
      " 10  avg_bill           3816 non-null   object \n",
      " 11  middle_avg_bill    3149 non-null   float64\n",
      " 12  middle_coffee_cup  535 non-null    float64\n",
      "dtypes: float64(4), int64(1), object(8)\n",
      "memory usage: 919.4+ KB\n"
     ]
    }
   ],
   "source": [
    "df.info()"
   ]
  },
  {
   "cell_type": "code",
   "execution_count": 9,
   "id": "6577c71c",
   "metadata": {
    "id": "6577c71c"
   },
   "outputs": [
    {
     "data": {
      "text/html": [
       "<div>\n",
       "<style scoped>\n",
       "    .dataframe tbody tr th:only-of-type {\n",
       "        vertical-align: middle;\n",
       "    }\n",
       "\n",
       "    .dataframe tbody tr th {\n",
       "        vertical-align: top;\n",
       "    }\n",
       "\n",
       "    .dataframe thead th {\n",
       "        text-align: right;\n",
       "    }\n",
       "</style>\n",
       "<table border=\"1\" class=\"dataframe\">\n",
       "  <thead>\n",
       "    <tr style=\"text-align: right;\">\n",
       "      <th></th>\n",
       "      <th>id</th>\n",
       "      <th>name</th>\n",
       "      <th>category</th>\n",
       "      <th>address</th>\n",
       "      <th>district</th>\n",
       "      <th>hours</th>\n",
       "      <th>rating</th>\n",
       "      <th>chain</th>\n",
       "      <th>seats</th>\n",
       "      <th>price</th>\n",
       "      <th>avg_bill</th>\n",
       "      <th>middle_avg_bill</th>\n",
       "      <th>middle_coffee_cup</th>\n",
       "    </tr>\n",
       "  </thead>\n",
       "  <tbody>\n",
       "    <tr>\n",
       "      <th>0</th>\n",
       "      <td>0c3e3439a8c64ea5bf6ecd6ca6ae19f0</td>\n",
       "      <td>WoWфли</td>\n",
       "      <td>кафе</td>\n",
       "      <td>Москва, улица Дыбенко, 7/1</td>\n",
       "      <td>Северный административный округ</td>\n",
       "      <td>ежедневно, 10:00–22:00</td>\n",
       "      <td>5.0</td>\n",
       "      <td>0</td>\n",
       "      <td>NaN</td>\n",
       "      <td>NaN</td>\n",
       "      <td>NaN</td>\n",
       "      <td>NaN</td>\n",
       "      <td>NaN</td>\n",
       "    </tr>\n",
       "    <tr>\n",
       "      <th>1</th>\n",
       "      <td>045780ada3474c57a2112e505d74b633</td>\n",
       "      <td>Четыре комнаты</td>\n",
       "      <td>ресторан</td>\n",
       "      <td>Москва, улица Дыбенко, 36, корп. 1</td>\n",
       "      <td>Северный административный округ</td>\n",
       "      <td>ежедневно, 10:00–22:00</td>\n",
       "      <td>4.5</td>\n",
       "      <td>0</td>\n",
       "      <td>4.0</td>\n",
       "      <td>выше среднего</td>\n",
       "      <td>Средний счёт:1500–1600 ₽</td>\n",
       "      <td>1550.0</td>\n",
       "      <td>NaN</td>\n",
       "    </tr>\n",
       "    <tr>\n",
       "      <th>2</th>\n",
       "      <td>1070b6b59144425896c65889347fcff6</td>\n",
       "      <td>Хазри</td>\n",
       "      <td>кафе</td>\n",
       "      <td>Москва, Клязьминская улица, 15</td>\n",
       "      <td>Северный административный округ</td>\n",
       "      <td>пн-чт 11:00–02:00; пт,сб 11:00–05:00; вс 11:00...</td>\n",
       "      <td>4.6</td>\n",
       "      <td>0</td>\n",
       "      <td>45.0</td>\n",
       "      <td>средние</td>\n",
       "      <td>Средний счёт:от 1000 ₽</td>\n",
       "      <td>1000.0</td>\n",
       "      <td>NaN</td>\n",
       "    </tr>\n",
       "    <tr>\n",
       "      <th>3</th>\n",
       "      <td>03ac7cd772104f65b58b349dc59f03ee</td>\n",
       "      <td>Dormouse Coffee Shop</td>\n",
       "      <td>кофейня</td>\n",
       "      <td>Москва, улица Маршала Федоренко, 12</td>\n",
       "      <td>Северный административный округ</td>\n",
       "      <td>ежедневно, 09:00–22:00</td>\n",
       "      <td>5.0</td>\n",
       "      <td>0</td>\n",
       "      <td>NaN</td>\n",
       "      <td>NaN</td>\n",
       "      <td>Цена чашки капучино:155–185 ₽</td>\n",
       "      <td>NaN</td>\n",
       "      <td>170.0</td>\n",
       "    </tr>\n",
       "    <tr>\n",
       "      <th>4</th>\n",
       "      <td>a163aada139c4c7f87b0b1c0b466a50f</td>\n",
       "      <td>Иль Марко</td>\n",
       "      <td>пиццерия</td>\n",
       "      <td>Москва, Правобережная улица, 1Б</td>\n",
       "      <td>Северный административный округ</td>\n",
       "      <td>ежедневно, 10:00–22:00</td>\n",
       "      <td>5.0</td>\n",
       "      <td>1</td>\n",
       "      <td>148.0</td>\n",
       "      <td>средние</td>\n",
       "      <td>Средний счёт:400–600 ₽</td>\n",
       "      <td>500.0</td>\n",
       "      <td>NaN</td>\n",
       "    </tr>\n",
       "  </tbody>\n",
       "</table>\n",
       "</div>"
      ],
      "text/plain": [
       "                                 id                  name  category  \\\n",
       "0  0c3e3439a8c64ea5bf6ecd6ca6ae19f0                WoWфли      кафе   \n",
       "1  045780ada3474c57a2112e505d74b633        Четыре комнаты  ресторан   \n",
       "2  1070b6b59144425896c65889347fcff6                 Хазри      кафе   \n",
       "3  03ac7cd772104f65b58b349dc59f03ee  Dormouse Coffee Shop   кофейня   \n",
       "4  a163aada139c4c7f87b0b1c0b466a50f             Иль Марко  пиццерия   \n",
       "\n",
       "                               address                         district  \\\n",
       "0           Москва, улица Дыбенко, 7/1  Северный административный округ   \n",
       "1   Москва, улица Дыбенко, 36, корп. 1  Северный административный округ   \n",
       "2       Москва, Клязьминская улица, 15  Северный административный округ   \n",
       "3  Москва, улица Маршала Федоренко, 12  Северный административный округ   \n",
       "4      Москва, Правобережная улица, 1Б  Северный административный округ   \n",
       "\n",
       "                                               hours  rating  chain  seats  \\\n",
       "0                             ежедневно, 10:00–22:00     5.0      0    NaN   \n",
       "1                             ежедневно, 10:00–22:00     4.5      0    4.0   \n",
       "2  пн-чт 11:00–02:00; пт,сб 11:00–05:00; вс 11:00...     4.6      0   45.0   \n",
       "3                             ежедневно, 09:00–22:00     5.0      0    NaN   \n",
       "4                             ежедневно, 10:00–22:00     5.0      1  148.0   \n",
       "\n",
       "           price                       avg_bill  middle_avg_bill  \\\n",
       "0            NaN                            NaN              NaN   \n",
       "1  выше среднего       Средний счёт:1500–1600 ₽           1550.0   \n",
       "2        средние         Средний счёт:от 1000 ₽           1000.0   \n",
       "3            NaN  Цена чашки капучино:155–185 ₽              NaN   \n",
       "4        средние         Средний счёт:400–600 ₽            500.0   \n",
       "\n",
       "   middle_coffee_cup  \n",
       "0                NaN  \n",
       "1                NaN  \n",
       "2                NaN  \n",
       "3              170.0  \n",
       "4                NaN  "
      ]
     },
     "execution_count": 9,
     "metadata": {},
     "output_type": "execute_result"
    }
   ],
   "source": [
    "df.head()"
   ]
  },
  {
   "cell_type": "markdown",
   "id": "956e82e2",
   "metadata": {
    "id": "956e82e2"
   },
   "source": [
    "## 2. Предобработка данных\n",
    "\n",
    "Подготовьте данные к исследовательскому анализу:\n",
    "\n",
    "- Изучите корректность типов данных и при необходимости проведите их преобразование.\n",
    "- Изучите пропущенные значения в данных: посчитайте их количество в каждом столбце датафрейме, изучите данные с пропущенными значениями и предположите гипотезы их появления. Проведите обработку пропущенных значений: вы можете заменить пропуски на определённое значение, удалить строки с пропусками или оставить их как есть."
   ]
  },
  {
   "cell_type": "code",
   "execution_count": 10,
   "id": "bc0dbfcf-d860-4c86-b2e5-ba1c36e99f22",
   "metadata": {},
   "outputs": [
    {
     "data": {
      "text/plain": [
       "id                      0\n",
       "name                    0\n",
       "category                0\n",
       "address                 0\n",
       "district                0\n",
       "hours                 536\n",
       "rating                  0\n",
       "chain                   0\n",
       "seats                3611\n",
       "price                5091\n",
       "avg_bill             4590\n",
       "middle_avg_bill      5257\n",
       "middle_coffee_cup    7871\n",
       "dtype: int64"
      ]
     },
     "execution_count": 10,
     "metadata": {},
     "output_type": "execute_result"
    }
   ],
   "source": [
    "# пропуски \n",
    "df.isna().sum()"
   ]
  },
  {
   "cell_type": "code",
   "execution_count": 11,
   "id": "80b6cd7c-eeb1-42a8-b207-7b1ace63eac1",
   "metadata": {},
   "outputs": [
    {
     "data": {
      "text/plain": [
       "6.376397811087318"
      ]
     },
     "execution_count": 11,
     "metadata": {},
     "output_type": "execute_result"
    }
   ],
   "source": [
    "# доля пропусков в hours\n",
    "df['hours'].isna().sum()/len(df) *100"
   ]
  },
  {
   "cell_type": "markdown",
   "id": "b956732a-b59c-4550-b135-ace174d9ba4c",
   "metadata": {},
   "source": [
    "Доля пропусков в hours 6,37%\n"
   ]
  },
  {
   "cell_type": "code",
   "execution_count": null,
   "id": "ca5af61e-0438-414f-af29-54d409580570",
   "metadata": {},
   "outputs": [],
   "source": []
  },
  {
   "cell_type": "code",
   "execution_count": 12,
   "id": "2c96d090-f895-4ce1-8188-f2d3b861a401",
   "metadata": {},
   "outputs": [
    {
     "data": {
      "text/plain": [
       "42.95741137282893"
      ]
     },
     "execution_count": 12,
     "metadata": {},
     "output_type": "execute_result"
    }
   ],
   "source": [
    "# доля пропусков в seats\n",
    "df['seats'].isna().sum()/len(df) *100"
   ]
  },
  {
   "cell_type": "markdown",
   "id": "fa2225d3-7a60-4eb0-959a-a8b191050f1e",
   "metadata": {},
   "source": [
    "Приведем seats к целочисленному типу:"
   ]
  },
  {
   "cell_type": "code",
   "execution_count": 13,
   "id": "1b9b2478-540b-4405-ad81-467e5cf4c937",
   "metadata": {},
   "outputs": [],
   "source": [
    "df['seats'] = df['seats'].fillna(0).astype('int64')"
   ]
  },
  {
   "cell_type": "code",
   "execution_count": 14,
   "id": "f1668840-b4d6-445f-9d8f-d613c8cd3097",
   "metadata": {},
   "outputs": [
    {
     "data": {
      "text/plain": [
       "60.5638829407566"
      ]
     },
     "execution_count": 14,
     "metadata": {},
     "output_type": "execute_result"
    }
   ],
   "source": [
    "# доля пропусков в price\n",
    "df['price'].isna().sum()/len(df) *100"
   ]
  },
  {
   "cell_type": "code",
   "execution_count": 15,
   "id": "934ea816-c312-4867-ae10-8e423fa0a1c2",
   "metadata": {},
   "outputs": [
    {
     "data": {
      "text/plain": [
       "54.603854389721626"
      ]
     },
     "execution_count": 15,
     "metadata": {},
     "output_type": "execute_result"
    }
   ],
   "source": [
    "# доля пропусков в avg_bill\n",
    "df['avg_bill'].isna().sum()/len(df) *100"
   ]
  },
  {
   "cell_type": "code",
   "execution_count": 16,
   "id": "2bc23a0b-e4f2-4f07-a9dc-a7d014b40abc",
   "metadata": {},
   "outputs": [
    {
     "data": {
      "text/plain": [
       "62.538662859862"
      ]
     },
     "execution_count": 16,
     "metadata": {},
     "output_type": "execute_result"
    }
   ],
   "source": [
    "# доля пропусков в middle_avg_bill\n",
    "df['middle_avg_bill'].isna().sum()/len(df) *100"
   ]
  },
  {
   "cell_type": "code",
   "execution_count": 17,
   "id": "c6411e6d-2780-4dd0-8745-31906627bdcb",
   "metadata": {},
   "outputs": [
    {
     "data": {
      "text/plain": [
       "93.63549845348561"
      ]
     },
     "execution_count": 17,
     "metadata": {},
     "output_type": "execute_result"
    }
   ],
   "source": [
    "# доля пропусков в middle_coffee_cup\n",
    "df['middle_coffee_cup'].isna().sum()/len(df) *100"
   ]
  },
  {
   "cell_type": "markdown",
   "id": "2d105613-cf72-43d5-a7d0-2abdcb2d6c7f",
   "metadata": {},
   "source": [
    "Оставим пропуски без изменений, чтобы не искажать данные."
   ]
  },
  {
   "cell_type": "markdown",
   "id": "c4d5f04d",
   "metadata": {
    "id": "c4d5f04d"
   },
   "source": [
    "- Проверьте данные на явные и неявные дубликаты, например поля с названием и адресом заведения. Для оптимизации проверки нормализуйте данные в текстовых столбцах, например с названием заведения."
   ]
  },
  {
   "cell_type": "code",
   "execution_count": 48,
   "id": "0769b681",
   "metadata": {
    "id": "0769b681"
   },
   "outputs": [
    {
     "data": {
      "text/plain": [
       "0"
      ]
     },
     "execution_count": 48,
     "metadata": {},
     "output_type": "execute_result"
    }
   ],
   "source": [
    "# Проверяем неявные дубликаты в датафрейме bank_df\n",
    "df.duplicated(subset='id').sum() "
   ]
  },
  {
   "cell_type": "code",
   "execution_count": 49,
   "id": "1c1fbd53-7b87-463f-acd0-413e92ba71dc",
   "metadata": {},
   "outputs": [
    {
     "data": {
      "text/plain": [
       "0"
      ]
     },
     "execution_count": 49,
     "metadata": {},
     "output_type": "execute_result"
    }
   ],
   "source": [
    "# Проверяем полные дубликаты в датафрейме bank_df\n",
    "df.duplicated().sum() "
   ]
  },
  {
   "cell_type": "code",
   "execution_count": 20,
   "id": "95b15cd0",
   "metadata": {
    "id": "95b15cd0"
   },
   "outputs": [],
   "source": [
    "# все названия в нижний регистр, пробелы заменены на _:\n",
    "# Нормализация столбцов name и address\n",
    "df['name'] = df['name'].str.strip().str.lower().str.replace(' ', '_')\n",
    "df['address'] = df['address'].str.strip().str.lower().str.replace(' ', '_')"
   ]
  },
  {
   "cell_type": "code",
   "execution_count": 21,
   "id": "6cea6480-dd39-42f8-a374-cd5a0f780519",
   "metadata": {},
   "outputs": [
    {
     "name": "stdout",
     "output_type": "stream",
     "text": [
      "Уникальные значения в столбце name:\n",
      "['#кешбэккафе' '+39_pizzeria_mozzarella_bar' '1-я_креветочная' ...\n",
      " 'ё-ланч' 'ёж_и_устрица' 'ёрш']\n",
      "Уникальные значения в столбце address:\n",
      "['москва,_1-й_автозаводский_проезд,_5'\n",
      " 'москва,_1-й_балтийский_переулок,_3/25'\n",
      " 'москва,_1-й_варшавский_проезд,_1ас9' ...\n",
      " 'москва,_яузский_бульвар,_11,_стр._1' 'москва,_яузский_бульвар,_14/8'\n",
      " 'москва,_№_7']\n"
     ]
    }
   ],
   "source": [
    "# Проверяем уникальные значения в категориальных столбцах\n",
    "for column in ['name', 'address']:\n",
    "    print(f'Уникальные значения в столбце {column}:')\n",
    "    print(df[column].sort_values().unique())"
   ]
  },
  {
   "cell_type": "markdown",
   "id": "db9309c5-5b8c-4550-a2d1-2838f614c26f",
   "metadata": {},
   "source": [
    "В данных присутствуют дубликаты: 318 неявных, 307 явных."
   ]
  },
  {
   "cell_type": "code",
   "execution_count": 22,
   "id": "8b441439-18bb-4a59-9fa7-3a59a2fc73a8",
   "metadata": {},
   "outputs": [],
   "source": [
    "# удалим дубли\n",
    "df.drop_duplicates(subset=None, keep='first', inplace=True)"
   ]
  },
  {
   "cell_type": "markdown",
   "id": "4c0563f2",
   "metadata": {
    "id": "4c0563f2"
   },
   "source": [
    "- Для дальнейшей работы создайте столбец `is_24_7` с обозначением того, что заведение работает ежедневно и круглосуточно, то есть 24/7:\n",
    "  - логическое значение `True` — если заведение работает ежедневно и круглосуточно;\n",
    "  - логическое значение `False` — в противоположном случае."
   ]
  },
  {
   "cell_type": "code",
   "execution_count": 23,
   "id": "d8a8a963",
   "metadata": {
    "id": "d8a8a963"
   },
   "outputs": [],
   "source": [
    "df['is_24_7'] = df['hours'].str.contains('ежедневно, круглосуточно', case=False, na=False)"
   ]
  },
  {
   "cell_type": "code",
   "execution_count": 24,
   "id": "42d1e685",
   "metadata": {
    "id": "42d1e685"
   },
   "outputs": [
    {
     "data": {
      "text/html": [
       "<div>\n",
       "<style scoped>\n",
       "    .dataframe tbody tr th:only-of-type {\n",
       "        vertical-align: middle;\n",
       "    }\n",
       "\n",
       "    .dataframe tbody tr th {\n",
       "        vertical-align: top;\n",
       "    }\n",
       "\n",
       "    .dataframe thead th {\n",
       "        text-align: right;\n",
       "    }\n",
       "</style>\n",
       "<table border=\"1\" class=\"dataframe\">\n",
       "  <thead>\n",
       "    <tr style=\"text-align: right;\">\n",
       "      <th></th>\n",
       "      <th>id</th>\n",
       "      <th>name</th>\n",
       "      <th>category</th>\n",
       "      <th>address</th>\n",
       "      <th>district</th>\n",
       "      <th>hours</th>\n",
       "      <th>rating</th>\n",
       "      <th>chain</th>\n",
       "      <th>seats</th>\n",
       "      <th>price</th>\n",
       "      <th>avg_bill</th>\n",
       "      <th>middle_avg_bill</th>\n",
       "      <th>middle_coffee_cup</th>\n",
       "      <th>is_24_7</th>\n",
       "    </tr>\n",
       "  </thead>\n",
       "  <tbody>\n",
       "    <tr>\n",
       "      <th>0</th>\n",
       "      <td>0c3e3439a8c64ea5bf6ecd6ca6ae19f0</td>\n",
       "      <td>wowфли</td>\n",
       "      <td>кафе</td>\n",
       "      <td>москва,_улица_дыбенко,_7/1</td>\n",
       "      <td>Северный административный округ</td>\n",
       "      <td>ежедневно, 10:00–22:00</td>\n",
       "      <td>5.0</td>\n",
       "      <td>0</td>\n",
       "      <td>0</td>\n",
       "      <td>NaN</td>\n",
       "      <td>NaN</td>\n",
       "      <td>NaN</td>\n",
       "      <td>NaN</td>\n",
       "      <td>False</td>\n",
       "    </tr>\n",
       "    <tr>\n",
       "      <th>1</th>\n",
       "      <td>045780ada3474c57a2112e505d74b633</td>\n",
       "      <td>четыре_комнаты</td>\n",
       "      <td>ресторан</td>\n",
       "      <td>москва,_улица_дыбенко,_36,_корп._1</td>\n",
       "      <td>Северный административный округ</td>\n",
       "      <td>ежедневно, 10:00–22:00</td>\n",
       "      <td>4.5</td>\n",
       "      <td>0</td>\n",
       "      <td>4</td>\n",
       "      <td>выше среднего</td>\n",
       "      <td>Средний счёт:1500–1600 ₽</td>\n",
       "      <td>1550.0</td>\n",
       "      <td>NaN</td>\n",
       "      <td>False</td>\n",
       "    </tr>\n",
       "    <tr>\n",
       "      <th>2</th>\n",
       "      <td>1070b6b59144425896c65889347fcff6</td>\n",
       "      <td>хазри</td>\n",
       "      <td>кафе</td>\n",
       "      <td>москва,_клязьминская_улица,_15</td>\n",
       "      <td>Северный административный округ</td>\n",
       "      <td>пн-чт 11:00–02:00; пт,сб 11:00–05:00; вс 11:00...</td>\n",
       "      <td>4.6</td>\n",
       "      <td>0</td>\n",
       "      <td>45</td>\n",
       "      <td>средние</td>\n",
       "      <td>Средний счёт:от 1000 ₽</td>\n",
       "      <td>1000.0</td>\n",
       "      <td>NaN</td>\n",
       "      <td>False</td>\n",
       "    </tr>\n",
       "    <tr>\n",
       "      <th>3</th>\n",
       "      <td>03ac7cd772104f65b58b349dc59f03ee</td>\n",
       "      <td>dormouse_coffee_shop</td>\n",
       "      <td>кофейня</td>\n",
       "      <td>москва,_улица_маршала_федоренко,_12</td>\n",
       "      <td>Северный административный округ</td>\n",
       "      <td>ежедневно, 09:00–22:00</td>\n",
       "      <td>5.0</td>\n",
       "      <td>0</td>\n",
       "      <td>0</td>\n",
       "      <td>NaN</td>\n",
       "      <td>Цена чашки капучино:155–185 ₽</td>\n",
       "      <td>NaN</td>\n",
       "      <td>170.0</td>\n",
       "      <td>False</td>\n",
       "    </tr>\n",
       "    <tr>\n",
       "      <th>4</th>\n",
       "      <td>a163aada139c4c7f87b0b1c0b466a50f</td>\n",
       "      <td>иль_марко</td>\n",
       "      <td>пиццерия</td>\n",
       "      <td>москва,_правобережная_улица,_1б</td>\n",
       "      <td>Северный административный округ</td>\n",
       "      <td>ежедневно, 10:00–22:00</td>\n",
       "      <td>5.0</td>\n",
       "      <td>1</td>\n",
       "      <td>148</td>\n",
       "      <td>средние</td>\n",
       "      <td>Средний счёт:400–600 ₽</td>\n",
       "      <td>500.0</td>\n",
       "      <td>NaN</td>\n",
       "      <td>False</td>\n",
       "    </tr>\n",
       "  </tbody>\n",
       "</table>\n",
       "</div>"
      ],
      "text/plain": [
       "                                 id                  name  category  \\\n",
       "0  0c3e3439a8c64ea5bf6ecd6ca6ae19f0                wowфли      кафе   \n",
       "1  045780ada3474c57a2112e505d74b633        четыре_комнаты  ресторан   \n",
       "2  1070b6b59144425896c65889347fcff6                 хазри      кафе   \n",
       "3  03ac7cd772104f65b58b349dc59f03ee  dormouse_coffee_shop   кофейня   \n",
       "4  a163aada139c4c7f87b0b1c0b466a50f             иль_марко  пиццерия   \n",
       "\n",
       "                               address                         district  \\\n",
       "0           москва,_улица_дыбенко,_7/1  Северный административный округ   \n",
       "1   москва,_улица_дыбенко,_36,_корп._1  Северный административный округ   \n",
       "2       москва,_клязьминская_улица,_15  Северный административный округ   \n",
       "3  москва,_улица_маршала_федоренко,_12  Северный административный округ   \n",
       "4      москва,_правобережная_улица,_1б  Северный административный округ   \n",
       "\n",
       "                                               hours  rating  chain  seats  \\\n",
       "0                             ежедневно, 10:00–22:00     5.0      0      0   \n",
       "1                             ежедневно, 10:00–22:00     4.5      0      4   \n",
       "2  пн-чт 11:00–02:00; пт,сб 11:00–05:00; вс 11:00...     4.6      0     45   \n",
       "3                             ежедневно, 09:00–22:00     5.0      0      0   \n",
       "4                             ежедневно, 10:00–22:00     5.0      1    148   \n",
       "\n",
       "           price                       avg_bill  middle_avg_bill  \\\n",
       "0            NaN                            NaN              NaN   \n",
       "1  выше среднего       Средний счёт:1500–1600 ₽           1550.0   \n",
       "2        средние         Средний счёт:от 1000 ₽           1000.0   \n",
       "3            NaN  Цена чашки капучино:155–185 ₽              NaN   \n",
       "4        средние         Средний счёт:400–600 ₽            500.0   \n",
       "\n",
       "   middle_coffee_cup  is_24_7  \n",
       "0                NaN    False  \n",
       "1                NaN    False  \n",
       "2                NaN    False  \n",
       "3              170.0    False  \n",
       "4                NaN    False  "
      ]
     },
     "execution_count": 24,
     "metadata": {},
     "output_type": "execute_result"
    }
   ],
   "source": [
    "df.head()"
   ]
  },
  {
   "cell_type": "code",
   "execution_count": null,
   "id": "61304e83",
   "metadata": {
    "id": "61304e83"
   },
   "outputs": [],
   "source": []
  },
  {
   "cell_type": "markdown",
   "id": "562f30ab",
   "metadata": {
    "id": "562f30ab"
   },
   "source": [
    "---\n",
    "\n",
    "### Промежуточный вывод\n",
    "\n"
   ]
  },
  {
   "cell_type": "markdown",
   "id": "2e2f58df-08fa-4247-ae85-1c6bded25b02",
   "metadata": {
    "id": "4e587ce1"
   },
   "source": [
    "В результате предобработки данных были выполнены следующие действия:\n",
    "\n",
    "Изучены пропуски в данных.  Пропуски обнаружились в столбце hours и составляют около 6,37% данных столбца. В столбцах seats, price, avg_bill, middle_avg_bill и middle_coffee_cup пропуски в значительном количестве. Все пропуски оставлены в исходном виде, чтобы не исказить данные.\n",
    "\n",
    "Данные проверили на явные и неявные дубликаты, и дубликаты были удалены. Названия заведений и их адреса были приведены к единому виду, для удобства."
   ]
  },
  {
   "cell_type": "markdown",
   "id": "6953e84c",
   "metadata": {
    "id": "6953e84c"
   },
   "source": [
    "## 3. Исследовательский анализ данных\n",
    "Проведите исследовательский анализ исходных данных.\n",
    "\n",
    "При исследовании данных используйте визуализации. Проверьте, что для каждого случая подобран оптимальный тип визуализации с корректным оформлением. У графика должен быть заголовок, понятные подписи по осям, при необходимости легенда, а его размер является оптимальным для изучения.\n",
    "\n",
    "После исследования каждого пункта оставляйте небольшой комментарий с выводом или обсуждением результата. В конце шага обобщите результаты, выделив, по вашему мнению, самые важные."
   ]
  },
  {
   "cell_type": "markdown",
   "id": "8555d840",
   "metadata": {
    "id": "8555d840"
   },
   "source": [
    "---\n",
    "\n",
    "### Задача 1\n",
    "\n",
    "Какие категории заведений представлены в данных? Исследуйте количество объектов общественного питания по каждой категории. Результат сопроводите подходящей визуализацией."
   ]
  },
  {
   "cell_type": "code",
   "execution_count": 25,
   "id": "ef2bffe9",
   "metadata": {
    "id": "ef2bffe9"
   },
   "outputs": [
    {
     "data": {
      "text/plain": [
       "кафе               2378\n",
       "ресторан           2043\n",
       "кофейня            1413\n",
       "бар,паб             765\n",
       "пиццерия            633\n",
       "быстрое питание     603\n",
       "столовая            315\n",
       "булочная            256\n",
       "Name: category, dtype: int64"
      ]
     },
     "execution_count": 25,
     "metadata": {},
     "output_type": "execute_result"
    }
   ],
   "source": [
    "# Подсчет количества объектов по каждой категории\n",
    "category_counts = df['category'].value_counts()\n",
    "category_counts"
   ]
  },
  {
   "cell_type": "code",
   "execution_count": 26,
   "id": "71ab5e91",
   "metadata": {
    "id": "71ab5e91"
   },
   "outputs": [
    {
     "data": {
      "image/png": "[encoded data removed]",
      "text/plain": [
       "<Figure size 864x576 with 1 Axes>"
      ]
     },
     "metadata": {
      "needs_background": "light"
     },
     "output_type": "display_data"
    }
   ],
   "source": [
    "# Создание нового DataFrame для визуализации\n",
    "category_df = category_counts.reset_index()\n",
    "category_df.columns = ['category', 'count']\n",
    "\n",
    "# Визуализация результатов\n",
    "category_df.plot.bar(x='category', y='count', figsize=(12, 8), title='Количество объектов общественного питания по категориям')\n",
    "plt.xlabel('Категория')\n",
    "plt.ylabel('Количество объектов')\n",
    "plt.xticks(rotation=45)\n",
    "plt.grid(axis='y')\n",
    "plt.show()"
   ]
  },
  {
   "cell_type": "markdown",
   "id": "235941f4-644f-449e-a4da-36ba0cfd85de",
   "metadata": {
    "id": "63360b97"
   },
   "source": [
    "- Кафе (2378): Наиболее распространенный тип заведения. Это может свидетельствовать о высоком спросе на неформальные места для встреч и общения.\n",
    "\n",
    "- Ресторан (2043): Также занимает значительную долю рынка, однако немного уступает кафе.\n",
    "\n",
    "- Кофейня (1413): Высокий интерес к кофе, что отражает культурные привычки потребителей и растущее популярность кофеен как мест для работы и общения.\n",
    "- Бар, паб (765): Популярны среди молодежи и в вечерние часы, что делает их важной частью ресторанного рынка.\n",
    "- Пиццерия (633): Специфическая категория, которая, вероятно, привлекает большую целевую аудиторию благодаря популярности пиццы.\n",
    "- Быстрое питание (603): Важная категория для тех, кто ценит скорость и удобство.\n",
    "- Столовая (315): Меньшая доля, что указывает на снижающийся интерес к традиционным столовым.\n",
    "- Булочная (256): Самая низкая цифра, что может говорить либо о низком спросе, либо о высокой специализации в этой области.\n",
    "\n",
    "Общее количество заведений показывает разнообразие предложений, удовлетворяющее разные потребности потребителей. Значительная доля кафе и ресторанов свидетельствует о культурной и социальной активности населения, в то время как рост числа кофеен указывает на изменения в привычках потребителей. Менее популярные категории, такие как столовые и булочные, могут требовать пересмотра подходов к предложению и маркетингу для повышения интереса."
   ]
  },
  {
   "cell_type": "code",
   "execution_count": null,
   "id": "824733cc-0fab-4dea-a5bb-ee494fa14786",
   "metadata": {},
   "outputs": [],
   "source": []
  },
  {
   "cell_type": "markdown",
   "id": "6821e1d0",
   "metadata": {
    "id": "6821e1d0"
   },
   "source": [
    "---\n",
    "\n",
    "### Задача 2\n",
    "\n",
    "Какие административные районы Москвы присутствуют в данных? Исследуйте распределение количества заведений по административным районам Москвы, а также отдельно распределение заведений каждой категории в Центральном административном округе Москвы. Результат сопроводите подходящими визуализациями."
   ]
  },
  {
   "cell_type": "code",
   "execution_count": 27,
   "id": "5fa7df04-b02b-4853-be70-3a0e78c6dbb2",
   "metadata": {},
   "outputs": [],
   "source": [
    "df['district'] = df['district'].str.replace('административный округ','адм.окр.')"
   ]
  },
  {
   "cell_type": "code",
   "execution_count": 28,
   "id": "e62f31be",
   "metadata": {
    "id": "e62f31be"
   },
   "outputs": [
    {
     "data": {
      "text/plain": [
       "Центральный адм.окр.         2242\n",
       "Северный адм.окр.             900\n",
       "Южный адм.окр.                892\n",
       "Северо-Восточный адм.окр.     891\n",
       "Западный адм.окр.             851\n",
       "Восточный адм.окр.            798\n",
       "Юго-Восточный адм.окр.        714\n",
       "Юго-Западный адм.окр.         709\n",
       "Северо-Западный адм.окр.      409\n",
       "Name: district, dtype: int64"
      ]
     },
     "execution_count": 28,
     "metadata": {},
     "output_type": "execute_result"
    }
   ],
   "source": [
    "district_counts = df['district'].value_counts()\n",
    "district_counts"
   ]
  },
  {
   "cell_type": "code",
   "execution_count": 29,
   "id": "bf492612-9769-4289-a71c-e84a13558263",
   "metadata": {
    "id": "0a290cd1"
   },
   "outputs": [
    {
     "data": {
      "image/png": "[encoded data removed]",
      "text/plain": [
       "<Figure size 864x576 with 1 Axes>"
      ]
     },
     "metadata": {
      "needs_background": "light"
     },
     "output_type": "display_data"
    }
   ],
   "source": [
    "# Визуализация распределения заведений по административным районам\n",
    "district_counts.plot.bar(figsize=(12,8), title='Количество объектов общественного питания по административным районам Москвы')\n",
    "plt.xlabel('Административный район')\n",
    "plt.ylabel('Количество объектов')\n",
    "plt.xticks(rotation=25)\n",
    "plt.grid(axis='y')\n",
    "plt.show()"
   ]
  },
  {
   "cell_type": "markdown",
   "id": "9e7b4e04-e40c-4e68-b91a-4e0e9105ff5e",
   "metadata": {},
   "source": [
    "В Центральном административном округе наблюдается самое большое количество заведений общественного питания - 2242. Это может быть связано с высокой концентрацией населения, туристов и бизнес-центров в этом районе.\n",
    "\n",
    "Северный, Южный и Северо-Восточный округа: Эти округа также имеют значительное количество заведений (900, 892 и 891 соответственно). Это может указывать на развитие инфраструктуры и интерес к общественному питанию в этих районах.\n",
    "\n",
    "Восточный и Западный округа: С показателями 851 и 798, эти округа также демонстрируют активное присутствие заведений общественного питания, что может свидетельствовать о разнообразии предложений для местных жителей и гостей.\n",
    "\n",
    "Юго-Восточный и Юго-Западный округа: С 714 и 709 заведениями, эти округа находятся на среднем уровне по сравнению с другими, что может указывать на потенциальные возможности для роста в сфере общественного питания."
   ]
  },
  {
   "cell_type": "code",
   "execution_count": 30,
   "id": "cc608180-f709-4232-a477-51b6665a917a",
   "metadata": {},
   "outputs": [
    {
     "data": {
      "text/plain": [
       "ресторан           670\n",
       "кафе               464\n",
       "кофейня            428\n",
       "бар,паб            364\n",
       "пиццерия           113\n",
       "быстрое питание     87\n",
       "столовая            66\n",
       "булочная            50\n",
       "Name: category, dtype: int64"
      ]
     },
     "execution_count": 30,
     "metadata": {},
     "output_type": "execute_result"
    }
   ],
   "source": [
    "# Фильтрация данных для Центрального административного округа\n",
    "central_district = df[df['district'] == 'Центральный адм.окр.']\n",
    "\n",
    "# Подсчет количества объектов по категориям в Центральном административном округе\n",
    "central_categ_counts = central_district['category'].value_counts()\n",
    "central_categ_counts"
   ]
  },
  {
   "cell_type": "code",
   "execution_count": 31,
   "id": "41f1654a",
   "metadata": {
    "id": "41f1654a"
   },
   "outputs": [
    {
     "data": {
      "image/png": "[encoded data removed]",
      "text/plain": [
       "<Figure size 864x576 with 1 Axes>"
      ]
     },
     "metadata": {
      "needs_background": "light"
     },
     "output_type": "display_data"
    }
   ],
   "source": [
    "# Визуализация распределения заведений по категориям в Центральном административном округе\n",
    "central_categ_counts.plot.bar(figsize=(12, 8), title='Количество объектов общественного питания в Центральном административном округе по категориям')\n",
    "plt.xlabel('Категория')\n",
    "plt.ylabel('Количество объектов')\n",
    "plt.xticks(rotation=25)\n",
    "plt.grid(axis='y')\n",
    "plt.show()"
   ]
  },
  {
   "cell_type": "markdown",
   "id": "1be87436-ac5e-4144-a1f0-2c32f3d0c91a",
   "metadata": {},
   "source": [
    "Лидерство по количеству объектов в Центральном округе держат рестораны - 670, что свидетельствует о высоком интересе к более формальным и разнообразным кулинарным предложениям. Это может быть связано с растущим спросом на качественную еду и обслуживание. \n",
    "\n",
    "Кафе - 464 также популярны, что может указывать на предпочтение потребителей к более неформальным и уютным местам для встреч и отдыха.\n",
    "\n",
    "Кофейни (428) занимают третье место, что подчеркивает популярность кофе и культуры кофеен в целом. Это может быть связано с растущей тенденцией к потреблению кофе и необходимости в местах для работы или общения.\n",
    "\n",
    "Бары и пабы (364) показывают значительное количество заведений, что говорит о популярности ночной жизни и досуга.\n",
    "\n",
    "Остальные заведения  имеют меньшее количество, но все же показывают, что потребители ищут быстрые и удобные варианты питания. "
   ]
  },
  {
   "cell_type": "markdown",
   "id": "7c824f58",
   "metadata": {
    "id": "7c824f58"
   },
   "source": [
    "---\n",
    "\n",
    "### Задача 3\n",
    "\n",
    "Изучите соотношение сетевых и несетевых заведений в целом по всем данным и в разрезе категорий заведения. Каких заведений больше — сетевых или несетевых? Какие категории заведений чаще являются сетевыми? Исследуйте данные, ответьте на вопросы и постройте необходимые визуализации."
   ]
  },
  {
   "cell_type": "code",
   "execution_count": 32,
   "id": "a139bd72",
   "metadata": {
    "id": "a139bd72"
   },
   "outputs": [
    {
     "data": {
      "text/html": [
       "<div>\n",
       "<style scoped>\n",
       "    .dataframe tbody tr th:only-of-type {\n",
       "        vertical-align: middle;\n",
       "    }\n",
       "\n",
       "    .dataframe tbody tr th {\n",
       "        vertical-align: top;\n",
       "    }\n",
       "\n",
       "    .dataframe thead th {\n",
       "        text-align: right;\n",
       "    }\n",
       "</style>\n",
       "<table border=\"1\" class=\"dataframe\">\n",
       "  <thead>\n",
       "    <tr style=\"text-align: right;\">\n",
       "      <th>chain</th>\n",
       "      <th>0</th>\n",
       "      <th>1</th>\n",
       "      <th>total</th>\n",
       "      <th>chain_ratio</th>\n",
       "    </tr>\n",
       "    <tr>\n",
       "      <th>category</th>\n",
       "      <th></th>\n",
       "      <th></th>\n",
       "      <th></th>\n",
       "      <th></th>\n",
       "    </tr>\n",
       "  </thead>\n",
       "  <tbody>\n",
       "    <tr>\n",
       "      <th>булочная</th>\n",
       "      <td>99</td>\n",
       "      <td>157</td>\n",
       "      <td>256</td>\n",
       "      <td>61.328125</td>\n",
       "    </tr>\n",
       "    <tr>\n",
       "      <th>пиццерия</th>\n",
       "      <td>303</td>\n",
       "      <td>330</td>\n",
       "      <td>633</td>\n",
       "      <td>52.132701</td>\n",
       "    </tr>\n",
       "    <tr>\n",
       "      <th>кофейня</th>\n",
       "      <td>693</td>\n",
       "      <td>720</td>\n",
       "      <td>1413</td>\n",
       "      <td>50.955414</td>\n",
       "    </tr>\n",
       "    <tr>\n",
       "      <th>быстрое питание</th>\n",
       "      <td>371</td>\n",
       "      <td>232</td>\n",
       "      <td>603</td>\n",
       "      <td>38.474295</td>\n",
       "    </tr>\n",
       "    <tr>\n",
       "      <th>ресторан</th>\n",
       "      <td>1313</td>\n",
       "      <td>730</td>\n",
       "      <td>2043</td>\n",
       "      <td>35.731767</td>\n",
       "    </tr>\n",
       "    <tr>\n",
       "      <th>кафе</th>\n",
       "      <td>1599</td>\n",
       "      <td>779</td>\n",
       "      <td>2378</td>\n",
       "      <td>32.758621</td>\n",
       "    </tr>\n",
       "    <tr>\n",
       "      <th>столовая</th>\n",
       "      <td>227</td>\n",
       "      <td>88</td>\n",
       "      <td>315</td>\n",
       "      <td>27.936508</td>\n",
       "    </tr>\n",
       "    <tr>\n",
       "      <th>бар,паб</th>\n",
       "      <td>596</td>\n",
       "      <td>169</td>\n",
       "      <td>765</td>\n",
       "      <td>22.091503</td>\n",
       "    </tr>\n",
       "  </tbody>\n",
       "</table>\n",
       "</div>"
      ],
      "text/plain": [
       "chain               0    1  total  chain_ratio\n",
       "category                                      \n",
       "булочная           99  157    256    61.328125\n",
       "пиццерия          303  330    633    52.132701\n",
       "кофейня           693  720   1413    50.955414\n",
       "быстрое питание   371  232    603    38.474295\n",
       "ресторан         1313  730   2043    35.731767\n",
       "кафе             1599  779   2378    32.758621\n",
       "столовая          227   88    315    27.936508\n",
       "бар,паб           596  169    765    22.091503"
      ]
     },
     "execution_count": 32,
     "metadata": {},
     "output_type": "execute_result"
    }
   ],
   "source": [
    "# Группировка и подсчет количества сетевых и несетевых заведений\n",
    "chain_categ = df.groupby('category')['chain'].value_counts().unstack(fill_value=0)\n",
    "\n",
    "# общее количество заведений в каждой категории\n",
    "chain_categ['total'] = chain_categ.sum(axis=1) \n",
    " # доля сетевых заведений\n",
    "chain_categ['chain_ratio'] = chain_categ[1] / chain_categ['total'] *100\n",
    "# сортировка по доле сетевых заведений\n",
    "chain_categ_sorted = chain_categ.sort_values(by='chain_ratio', ascending=False)\n",
    "\n",
    "chain_categ_sorted"
   ]
  },
  {
   "cell_type": "code",
   "execution_count": 33,
   "id": "28cae9a3-4b80-4ef0-bc5a-0d36e007ac0a",
   "metadata": {},
   "outputs": [
    {
     "data": {
      "image/png": "[encoded data removed]",
      "text/plain": [
       "<Figure size 864x576 with 1 Axes>"
      ]
     },
     "metadata": {
      "needs_background": "light"
     },
     "output_type": "display_data"
    }
   ],
   "source": [
    "chain_categ_sorted.plot.bar(figsize=(12, 8), title='Количество сетевых и несетевых объектов общественного питания')\n",
    "plt.xlabel('Категория')\n",
    "plt.ylabel('Количество объектов')\n",
    "plt.xticks(rotation=25)\n",
    "plt.grid(axis='y')\n",
    "plt.legend() \n",
    "plt.show()"
   ]
  },
  {
   "cell_type": "markdown",
   "id": "db5162b9-c5c9-42de-94c9-7788fb1fe690",
   "metadata": {},
   "source": [
    "Наиболее высокий процент сетевых заведений:\n",
    "\n",
    "- Булочная: 61.33% (157 из 256) — это самая высокая доля сетевых заведений среди представленных категорий. Это может указывать на популярность сетевых булочных и их распространенность.\n",
    "- Пиццерия: 52.63% (330 из 633) — также значительная доля сетевых заведений.\n",
    "- Кофейня: 50.94% (720 из 1413) — также показывает высокий уровень сетевизации.\n",
    " \n",
    "Наименее высокий процент сетевых заведений:\n",
    "\n",
    "- Бар, паб: 22.09% (169 из 765) — это самая низкая доля сетевых заведений, что может свидетельствовать о том, что бары и пабы чаще являются независимыми заведениями.\n",
    "- Столовая: 27.92% (88 из 315) — также на низком уровне сетевизации.\n",
    " \n",
    "Категории с высокой долей сетевых заведений:\n",
    "\n",
    "- В категории булочных, пиццерий и кофеен наблюдается высокая доля сетевых заведений. Это может указывать на то, что такие заведения более склонны к созданию сетей и франчайзинговых моделей.\n",
    "\n",
    "Категории с низкой долей сетевых заведений:\n",
    "\n",
    "- Бары и столовые, вероятно, более ориентированы на индивидуальные или местные заведения, что может быть связано с особенностями их предложения и клиентской базой.\n",
    " \n",
    "В наборе данных несетевые заведения значительно преобладают над сетевыми (несетевых заведений 4.209, сетевых 2.205). Это может свидетельствовать о том, что в регионе существует сильная культура независимых заведений. Высокое количество несетевых заведений может говорить о разнообразии и уникальности предложений, что является преимуществом для привлечения клиентов, которые ищут что-то отличное от стандартных сетевых форматов.\n"
   ]
  },
  {
   "cell_type": "code",
   "execution_count": null,
   "id": "9f7bddad-edcf-40e3-a5e2-a4db8b4f99fb",
   "metadata": {},
   "outputs": [],
   "source": []
  },
  {
   "cell_type": "markdown",
   "id": "5913c3e3",
   "metadata": {
    "id": "5913c3e3"
   },
   "source": [
    "---\n",
    "\n",
    "### Задача 4\n",
    "\n",
    "Исследуйте количество посадочных мест в заведениях. Встречаются ли в данных аномальные значения или выбросы? Если да, то с чем они могут быть связаны? Приведите для каждой категории заведений наиболее типичное для него количество посадочных мест. Результат сопроводите подходящими визуализациями.\n"
   ]
  },
  {
   "cell_type": "code",
   "execution_count": 34,
   "id": "b21f554e-2fa9-4513-900f-3a80c1e50585",
   "metadata": {},
   "outputs": [],
   "source": [
    "# медиана по категориям\n",
    "median_seats = df.groupby('category')['seats'].median()\n",
    "\n",
    "# 2. сортируем категории по медиане\n",
    "sorted_categ = median_seats.sort_values().index"
   ]
  },
  {
   "cell_type": "code",
   "execution_count": 35,
   "id": "6cb238d2",
   "metadata": {
    "id": "6cb238d2"
   },
   "outputs": [
    {
     "data": {
      "image/png": "[encoded data removed]",
      "text/plain": [
       "<Figure size 864x576 with 1 Axes>"
      ]
     },
     "metadata": {
      "needs_background": "light"
     },
     "output_type": "display_data"
    }
   ],
   "source": [
    "# Ящик с усами\n",
    "plt.figure(figsize=(12, 8))\n",
    "sns.boxplot(data=df, x='category', y='seats', order=sorted_categ)\n",
    "plt.title('Распределение количества посадочных мест по категориям заведений')\n",
    "plt.xticks(rotation=25)\n",
    "plt.show()"
   ]
  },
  {
   "cell_type": "code",
   "execution_count": 36,
   "id": "062b55d8",
   "metadata": {
    "id": "062b55d8"
   },
   "outputs": [
    {
     "data": {
      "image/png": "[encoded data removed]",
      "text/plain": [
       "<Figure size 864x576 with 1 Axes>"
      ]
     },
     "metadata": {
      "needs_background": "light"
     },
     "output_type": "display_data"
    }
   ],
   "source": [
    "# Гистограмма\n",
    "plt.figure(figsize=(12, 8))\n",
    "sns.histplot(df['seats'], bins=10, kde=True)\n",
    "plt.title('Распределение количества посадочных мест')\n",
    "plt.xlabel('Количество мест')\n",
    "plt.ylabel('Частота')\n",
    "plt.show()"
   ]
  },
  {
   "cell_type": "markdown",
   "id": "ddf24561-b23d-4ea0-97b2-92a1d61c811c",
   "metadata": {
    "id": "ceadf25b"
   },
   "source": [
    "1. Выбросы: На боксплоте видно точки, находящиеся далеко за пределами \"усов\". Это указывает на наличие аномальных значений. Возможно, они связаны с:\n",
    "- Ошибками в данных (например, неверно введенное количество мест).\n",
    "- Экстремальными случаями (например, очень крупные заведения).\n",
    "2. На графике можно увидеть распределение количества посадочных мест по категориям заведений. Вот некоторые типичные значения для каждой категории:\n",
    "- Кафе: от 50 до 200 мест.\n",
    "- Ресторан: от 100 до 400 мест.\n",
    "- Кофейня: от 20 до 100 мест.\n",
    "- Пиццерия: 50-200 мест.\n",
    "- Бар, паб: около 100-300 мест.\n",
    "- Быстрое питание: меньше 100 мест (20-80).\n",
    "- Булочная: от 20 до 50 мест.\n",
    "- Столовая: от 50 до 250 мест.\n",
    " \n",
    "Аномальные значения: Если в данных есть заведения с очень большим или очень маленьким количеством мест, это может быть связано с особенностями конкретной категории или ошибками в данных.\n"
   ]
  },
  {
   "cell_type": "code",
   "execution_count": null,
   "id": "c878d3f7-a67d-48cc-8730-6d31c3b25bb3",
   "metadata": {},
   "outputs": [],
   "source": []
  },
  {
   "cell_type": "markdown",
   "id": "8ed065ea",
   "metadata": {
    "id": "8ed065ea"
   },
   "source": [
    "---\n",
    "\n",
    "### Задача 5\n",
    "\n",
    "Исследуйте рейтинг заведений. Визуализируйте распределение средних рейтингов по категориям заведений. Сильно ли различаются усреднённые рейтинги для разных типов общепита?"
   ]
  },
  {
   "cell_type": "code",
   "execution_count": 37,
   "id": "cc5206f8",
   "metadata": {
    "id": "cc5206f8"
   },
   "outputs": [
    {
     "data": {
      "image/png": "[encoded data removed]",
      "text/plain": [
       "<Figure size 864x576 with 1 Axes>"
      ]
     },
     "metadata": {
      "needs_background": "light"
     },
     "output_type": "display_data"
    }
   ],
   "source": [
    "# cортировка категорий по среднему рейтингу\n",
    "avg_rat = df.groupby('category')['rating'].mean().reset_index()\n",
    "sorted_categ = avg_rat.sort_values(by='rating', ascending=False)\n",
    "\n",
    "# столбчатая диаграмма\n",
    "plt.figure(figsize=(12, 8))\n",
    "sns.barplot(data=sorted_categ, x='rating', y='category')\n",
    "plt.title('Средние рейтинги заведений по категориям')\n",
    "plt.xlabel('Средний рейтинг')\n",
    "plt.ylabel('Категория')\n",
    "plt.grid(axis='x', alpha=0.7)\n",
    "plt.show()"
   ]
  },
  {
   "cell_type": "markdown",
   "id": "61e497f3-7701-473a-8138-207a91b208b2",
   "metadata": {
    "id": "3e0ec5d7"
   },
   "source": [
    "Бары и пабы имеют один из самых высоких средних рейтингов (около 4.4).\n",
    "\n",
    "Рестораны, пиццерии и булочные также имеют высокие рейтинги, приближающиеся к 4.3, что указывает на положительное восприятие этих типов заведений.\n",
    "\n",
    "Заведения быстрого питания и кафе имеют более низкие рейтинги, что может говорить о менее позитивном опыте клиентов в этих заведениях."
   ]
  },
  {
   "cell_type": "markdown",
   "id": "dd9702d9",
   "metadata": {
    "id": "dd9702d9"
   },
   "source": [
    "---\n",
    "\n",
    "### Задача 6\n",
    "\n",
    "Изучите, с какими данными показывают самую сильную корреляцию рейтинги заведений? Постройте и визуализируйте матрицу корреляции рейтинга заведения с разными данными: его категория, положение (административный район Москвы), статус сетевого заведения, количество мест, ценовая категория и признак, является ли заведения круглосуточным. Выберите самую сильную связь и проверьте её."
   ]
  },
  {
   "cell_type": "code",
   "execution_count": 38,
   "id": "8f0379af",
   "metadata": {
    "id": "8f0379af"
   },
   "outputs": [
    {
     "name": "stdout",
     "output_type": "stream",
     "text": [
      "interval columns not set, guessing: ['chain', 'seats']\n"
     ]
    },
    {
     "data": {
      "text/html": [
       "<div>\n",
       "<style scoped>\n",
       "    .dataframe tbody tr th:only-of-type {\n",
       "        vertical-align: middle;\n",
       "    }\n",
       "\n",
       "    .dataframe tbody tr th {\n",
       "        vertical-align: top;\n",
       "    }\n",
       "\n",
       "    .dataframe thead th {\n",
       "        text-align: right;\n",
       "    }\n",
       "</style>\n",
       "<table border=\"1\" class=\"dataframe\">\n",
       "  <thead>\n",
       "    <tr style=\"text-align: right;\">\n",
       "      <th></th>\n",
       "      <th>category</th>\n",
       "      <th>district</th>\n",
       "      <th>chain</th>\n",
       "      <th>seats</th>\n",
       "      <th>price</th>\n",
       "      <th>is_24_7</th>\n",
       "    </tr>\n",
       "  </thead>\n",
       "  <tbody>\n",
       "    <tr>\n",
       "      <th>category</th>\n",
       "      <td>1.000000</td>\n",
       "      <td>0.174326</td>\n",
       "      <td>0.265627</td>\n",
       "      <td>0.059661</td>\n",
       "      <td>0.566933</td>\n",
       "      <td>0.244789</td>\n",
       "    </tr>\n",
       "    <tr>\n",
       "      <th>district</th>\n",
       "      <td>0.174326</td>\n",
       "      <td>1.000000</td>\n",
       "      <td>0.064233</td>\n",
       "      <td>0.274944</td>\n",
       "      <td>0.202787</td>\n",
       "      <td>0.076392</td>\n",
       "    </tr>\n",
       "    <tr>\n",
       "      <th>chain</th>\n",
       "      <td>0.265627</td>\n",
       "      <td>0.064233</td>\n",
       "      <td>1.000000</td>\n",
       "      <td>0.057745</td>\n",
       "      <td>0.218211</td>\n",
       "      <td>0.043414</td>\n",
       "    </tr>\n",
       "    <tr>\n",
       "      <th>seats</th>\n",
       "      <td>0.059661</td>\n",
       "      <td>0.274944</td>\n",
       "      <td>0.057745</td>\n",
       "      <td>1.000000</td>\n",
       "      <td>0.089453</td>\n",
       "      <td>0.032312</td>\n",
       "    </tr>\n",
       "    <tr>\n",
       "      <th>price</th>\n",
       "      <td>0.566933</td>\n",
       "      <td>0.202787</td>\n",
       "      <td>0.218211</td>\n",
       "      <td>0.089453</td>\n",
       "      <td>1.000000</td>\n",
       "      <td>0.084183</td>\n",
       "    </tr>\n",
       "    <tr>\n",
       "      <th>is_24_7</th>\n",
       "      <td>0.244789</td>\n",
       "      <td>0.076392</td>\n",
       "      <td>0.043414</td>\n",
       "      <td>0.032312</td>\n",
       "      <td>0.084183</td>\n",
       "      <td>1.000000</td>\n",
       "    </tr>\n",
       "  </tbody>\n",
       "</table>\n",
       "</div>"
      ],
      "text/plain": [
       "          category  district     chain     seats     price   is_24_7\n",
       "category  1.000000  0.174326  0.265627  0.059661  0.566933  0.244789\n",
       "district  0.174326  1.000000  0.064233  0.274944  0.202787  0.076392\n",
       "chain     0.265627  0.064233  1.000000  0.057745  0.218211  0.043414\n",
       "seats     0.059661  0.274944  0.057745  1.000000  0.089453  0.032312\n",
       "price     0.566933  0.202787  0.218211  0.089453  1.000000  0.084183\n",
       "is_24_7   0.244789  0.076392  0.043414  0.032312  0.084183  1.000000"
      ]
     },
     "execution_count": 38,
     "metadata": {},
     "output_type": "execute_result"
    }
   ],
   "source": [
    "# корреляционная матрица с использованием phik\n",
    "columns = df[['category', 'district', 'chain', 'seats', 'price', 'is_24_7']]\n",
    "correlation_matrix = columns.phik_matrix()\n",
    "\n",
    "correlation_matrix"
   ]
  },
  {
   "cell_type": "code",
   "execution_count": 39,
   "id": "c2b14010-db5b-44b3-a556-66aa86726d24",
   "metadata": {},
   "outputs": [
    {
     "data": {
      "image/png": "[encoded data removed]",
      "text/plain": [
       "<Figure size 864x576 with 2 Axes>"
      ]
     },
     "metadata": {
      "needs_background": "light"
     },
     "output_type": "display_data"
    }
   ],
   "source": [
    "# корреляционная матрица\n",
    "plt.figure(figsize=(12, 8))\n",
    "sns.heatmap(correlation_matrix, annot=True, fmt='.2f', cmap='coolwarm', square=True, linewidths=.5)\n",
    "plt.title('Корреляционная матрица')\n",
    "plt.xticks(rotation=25)\n",
    "plt.yticks(rotation=25)\n",
    "plt.show()"
   ]
  },
  {
   "cell_type": "markdown",
   "id": "98bed0ea-c9f9-4e9c-9bb8-e05a1ce4f4b4",
   "metadata": {
    "id": "1a65a84d"
   },
   "source": [
    "1.0 корреляция переменной с самой собой.\n",
    "\n",
    "Самые высокие значения корреляции:\n",
    "- category и price: 0.354964\n",
    "- category и is_24_7: 0.251430\n",
    "- district и seats: 0.270526\n",
    "\n",
    "Наибольшая корреляция наблюдается между category и price с коэффициентом 0.354964."
   ]
  },
  {
   "cell_type": "code",
   "execution_count": 40,
   "id": "9d43604a-98d6-4f5f-b466-ea7867ee8f41",
   "metadata": {},
   "outputs": [
    {
     "data": {
      "image/png": "[encoded data removed]",
      "text/plain": [
       "<Figure size 864x576 with 2 Axes>"
      ]
     },
     "metadata": {
      "needs_background": "light"
     },
     "output_type": "display_data"
    }
   ],
   "source": [
    "# Сводная таблица\n",
    "price_distribution = df.groupby(['category', 'price']).size().unstack(fill_value=0)\n",
    "\n",
    "# Тепловая карта связи цены и категории заведения\n",
    "plt.figure(figsize=(12, 8))\n",
    "sns.heatmap(price_distribution, annot=True, fmt='d', cmap='YlGnBu')\n",
    "plt.title('Тепловая карта распределения цен по категориям')\n",
    "plt.xlabel('Цена')\n",
    "plt.ylabel('Категория')\n",
    "plt.show()"
   ]
  },
  {
   "cell_type": "markdown",
   "id": "370de703",
   "metadata": {
    "id": "370de703"
   },
   "source": [
    "---\n",
    "\n",
    "### Задача 7\n",
    "\n",
    "Сгруппируйте данные по названиям заведений и найдите топ-15 популярных сетей в Москве. Для них посчитайте значения среднего рейтинга. Под популярностью понимается количество заведений этой сети в регионе. К какой категории заведений они относятся? Результат сопроводите подходящими визуализациями."
   ]
  },
  {
   "cell_type": "code",
   "execution_count": 41,
   "id": "5d828a9a",
   "metadata": {
    "id": "5d828a9a"
   },
   "outputs": [
    {
     "data": {
      "text/html": [
       "<div>\n",
       "<style scoped>\n",
       "    .dataframe tbody tr th:only-of-type {\n",
       "        vertical-align: middle;\n",
       "    }\n",
       "\n",
       "    .dataframe tbody tr th {\n",
       "        vertical-align: top;\n",
       "    }\n",
       "\n",
       "    .dataframe thead th {\n",
       "        text-align: right;\n",
       "    }\n",
       "</style>\n",
       "<table border=\"1\" class=\"dataframe\">\n",
       "  <thead>\n",
       "    <tr style=\"text-align: right;\">\n",
       "      <th></th>\n",
       "      <th>name</th>\n",
       "      <th>count</th>\n",
       "      <th>avg_rating</th>\n",
       "      <th>category</th>\n",
       "    </tr>\n",
       "  </thead>\n",
       "  <tbody>\n",
       "    <tr>\n",
       "      <th>729</th>\n",
       "      <td>шоколадница</td>\n",
       "      <td>120</td>\n",
       "      <td>4.177500</td>\n",
       "      <td>кофейня</td>\n",
       "    </tr>\n",
       "    <tr>\n",
       "      <th>335</th>\n",
       "      <td>домино'с_пицца</td>\n",
       "      <td>76</td>\n",
       "      <td>4.169737</td>\n",
       "      <td>пиццерия</td>\n",
       "    </tr>\n",
       "    <tr>\n",
       "      <th>331</th>\n",
       "      <td>додо_пицца</td>\n",
       "      <td>74</td>\n",
       "      <td>4.286486</td>\n",
       "      <td>пиццерия</td>\n",
       "    </tr>\n",
       "    <tr>\n",
       "      <th>147</th>\n",
       "      <td>one_price_coffee</td>\n",
       "      <td>71</td>\n",
       "      <td>4.064789</td>\n",
       "      <td>кофейня</td>\n",
       "    </tr>\n",
       "    <tr>\n",
       "      <th>743</th>\n",
       "      <td>яндекс_лавка</td>\n",
       "      <td>69</td>\n",
       "      <td>3.872464</td>\n",
       "      <td>ресторан</td>\n",
       "    </tr>\n",
       "    <tr>\n",
       "      <th>58</th>\n",
       "      <td>cofix</td>\n",
       "      <td>65</td>\n",
       "      <td>4.075385</td>\n",
       "      <td>кофейня</td>\n",
       "    </tr>\n",
       "    <tr>\n",
       "      <th>168</th>\n",
       "      <td>prime</td>\n",
       "      <td>50</td>\n",
       "      <td>4.116000</td>\n",
       "      <td>ресторан</td>\n",
       "    </tr>\n",
       "    <tr>\n",
       "      <th>664</th>\n",
       "      <td>хинкальная</td>\n",
       "      <td>44</td>\n",
       "      <td>4.322727</td>\n",
       "      <td>быстрое питание</td>\n",
       "    </tr>\n",
       "    <tr>\n",
       "      <th>409</th>\n",
       "      <td>кофепорт</td>\n",
       "      <td>42</td>\n",
       "      <td>4.147619</td>\n",
       "      <td>кофейня</td>\n",
       "    </tr>\n",
       "    <tr>\n",
       "      <th>418</th>\n",
       "      <td>кулинарная_лавка_братьев_караваевых</td>\n",
       "      <td>39</td>\n",
       "      <td>4.394872</td>\n",
       "      <td>кафе</td>\n",
       "    </tr>\n",
       "    <tr>\n",
       "      <th>628</th>\n",
       "      <td>теремок</td>\n",
       "      <td>38</td>\n",
       "      <td>4.123684</td>\n",
       "      <td>ресторан</td>\n",
       "    </tr>\n",
       "    <tr>\n",
       "      <th>683</th>\n",
       "      <td>чайхана</td>\n",
       "      <td>37</td>\n",
       "      <td>3.924324</td>\n",
       "      <td>кафе</td>\n",
       "    </tr>\n",
       "    <tr>\n",
       "      <th>39</th>\n",
       "      <td>cofefest</td>\n",
       "      <td>32</td>\n",
       "      <td>3.984375</td>\n",
       "      <td>кофейня</td>\n",
       "    </tr>\n",
       "    <tr>\n",
       "      <th>267</th>\n",
       "      <td>буханка</td>\n",
       "      <td>32</td>\n",
       "      <td>4.396875</td>\n",
       "      <td>булочная</td>\n",
       "    </tr>\n",
       "    <tr>\n",
       "      <th>477</th>\n",
       "      <td>му-му</td>\n",
       "      <td>27</td>\n",
       "      <td>4.229630</td>\n",
       "      <td>кафе</td>\n",
       "    </tr>\n",
       "  </tbody>\n",
       "</table>\n",
       "</div>"
      ],
      "text/plain": [
       "                                    name  count  avg_rating         category\n",
       "729                          шоколадница    120    4.177500          кофейня\n",
       "335                       домино'с_пицца     76    4.169737         пиццерия\n",
       "331                           додо_пицца     74    4.286486         пиццерия\n",
       "147                     one_price_coffee     71    4.064789          кофейня\n",
       "743                         яндекс_лавка     69    3.872464         ресторан\n",
       "58                                 cofix     65    4.075385          кофейня\n",
       "168                                prime     50    4.116000         ресторан\n",
       "664                           хинкальная     44    4.322727  быстрое питание\n",
       "409                             кофепорт     42    4.147619          кофейня\n",
       "418  кулинарная_лавка_братьев_караваевых     39    4.394872             кафе\n",
       "628                              теремок     38    4.123684         ресторан\n",
       "683                              чайхана     37    3.924324             кафе\n",
       "39                              cofefest     32    3.984375          кофейня\n",
       "267                              буханка     32    4.396875         булочная\n",
       "477                                му-му     27    4.229630             кафе"
      ]
     },
     "execution_count": 41,
     "metadata": {},
     "output_type": "execute_result"
    }
   ],
   "source": [
    "df_chains = df[df['chain'] == 1]\n",
    "\n",
    "# количество заведений и средний рейтинг по названиям заведений\n",
    "grouped = df_chains.groupby('name').agg(count=('name', 'size'),\n",
    "                                        avg_rating=('rating', 'mean'),\n",
    "                                        category=('category', 'first') ).reset_index()\n",
    "\n",
    "#  топ-15\n",
    "top_15 = grouped.sort_values(by='count', ascending=False).head(15)\n",
    "top_15"
   ]
  },
  {
   "cell_type": "markdown",
   "id": "3403da84-2548-4191-8240-ee4cd1204fc9",
   "metadata": {
    "id": "d013c598"
   },
   "source": [
    "В списке представлены различные категории заведений:\n",
    "- Кофейни: \"Шоколадница\", \"One Price Coffee\", \"Cofix\", \"Кофепорт\", \"Cofefest\" — показывают, что кофейни занимают значительную долю в рынке.\n",
    "- Пиццерии: \"Домино'с Пицца\" и \"Додо Пицца\" — популярные места для любителей пиццы.\n",
    "- Рестораны: \"Яндекс Лавка\", \"Prime\", \"Теремок\" — представляют собой более разнообразные предложения в области ресторанного бизнеса.\n",
    "- Кафе и булочные: \"Хинкальная\", \"Кулинарная лавка братьев Караваевых\", \"Буханка\" и \"Му-му\" — показывают интерес к традиционным и уютным заведениям.\n",
    "\n",
    "Средний рейтинг заведений варьируется, но \"Додо Пицца\" имеет наивысший средний рейтинг (4.286486) среди популярных сетей, что говорит о высоком уровне удовлетворенности клиентов. Также стоит отметить \"Кулинарную лавку братьев Караваевых\" (4.394872) и \"Хинкальную\" (4.374359), которые также имеют высокие оценки.\n",
    "\n",
    "Некоторые заведения, такие как \"Яндекс Лавка\" (3.870588) и \"Чайхана\" (3.962069), имеют более низкие средние рейтинги, что может указывать на необходимость улучшения качества обслуживания или предложения."
   ]
  },
  {
   "cell_type": "code",
   "execution_count": 42,
   "id": "774348d5",
   "metadata": {
    "id": "774348d5"
   },
   "outputs": [
    {
     "data": {
      "image/png": "[encoded data removed]",
      "text/plain": [
       "<Figure size 864x576 with 1 Axes>"
      ]
     },
     "metadata": {
      "needs_background": "light"
     },
     "output_type": "display_data"
    }
   ],
   "source": [
    "# Столбчатая диаграмма для количества заведений\n",
    "plt.figure(figsize=(12, 8))\n",
    "sns.barplot(data=top_15, x='count', y='name', hue='category')\n",
    "plt.title('Топ-15 популярных сетей в Москве')\n",
    "plt.xlabel('Количество заведений')\n",
    "plt.ylabel('Сети')\n",
    "plt.legend()\n",
    "plt.show()"
   ]
  },
  {
   "cell_type": "code",
   "execution_count": 43,
   "id": "a752637c-6ff6-48aa-b0ce-f7206c94bd07",
   "metadata": {},
   "outputs": [
    {
     "data": {
      "image/png": "[encoded data removed]",
      "text/plain": [
       "<Figure size 864x576 with 1 Axes>"
      ]
     },
     "metadata": {
      "needs_background": "light"
     },
     "output_type": "display_data"
    }
   ],
   "source": [
    "top_15_sorted = top_15.sort_values(by='avg_rating', ascending=False)\n",
    "\n",
    "# Столбчатая диаграмма среднего рейтинга топ-15 сетей\n",
    "plt.figure(figsize=(12, 8))\n",
    "sns.barplot(data=top_15_sorted, x='avg_rating', y='name', hue='category')\n",
    "plt.title('Средний рейтинг топ-15 сетевых заведений')\n",
    "plt.xlabel('Средний рейтинг')\n",
    "plt.ylabel('Сети')\n",
    "plt.grid(axis='x', alpha=0.7)\n",
    "plt.show()"
   ]
  },
  {
   "cell_type": "code",
   "execution_count": null,
   "id": "e3276ce8-ff8a-430e-96b2-dcac47bea31d",
   "metadata": {},
   "outputs": [],
   "source": []
  },
  {
   "cell_type": "markdown",
   "id": "85a90a94",
   "metadata": {
    "id": "85a90a94"
   },
   "source": [
    "---\n",
    "\n",
    "### Задача 8\n",
    "\n",
    "Изучите вариацию среднего чека заведения (столбец `middle_avg_bill`) в зависимости от района Москвы. Проанализируйте цены в Центральном административном округе и других. Как удалённость от центра влияет на цены в заведениях? Результат сопроводите подходящими визуализациями.\n"
   ]
  },
  {
   "cell_type": "code",
   "execution_count": 44,
   "id": "192ca06b-25f8-4d25-b0cc-20c3265249b2",
   "metadata": {
    "id": "5fb4ffc6"
   },
   "outputs": [
    {
     "data": {
      "text/html": [
       "<div>\n",
       "<style scoped>\n",
       "    .dataframe tbody tr th:only-of-type {\n",
       "        vertical-align: middle;\n",
       "    }\n",
       "\n",
       "    .dataframe tbody tr th {\n",
       "        vertical-align: top;\n",
       "    }\n",
       "\n",
       "    .dataframe thead th {\n",
       "        text-align: right;\n",
       "    }\n",
       "</style>\n",
       "<table border=\"1\" class=\"dataframe\">\n",
       "  <thead>\n",
       "    <tr style=\"text-align: right;\">\n",
       "      <th></th>\n",
       "      <th>district</th>\n",
       "      <th>middle_avg_bill</th>\n",
       "      <th>cao</th>\n",
       "    </tr>\n",
       "  </thead>\n",
       "  <tbody>\n",
       "    <tr>\n",
       "      <th>5</th>\n",
       "      <td>Центральный адм.окр.</td>\n",
       "      <td>1191.057547</td>\n",
       "      <td>Центральный адм.окр.</td>\n",
       "    </tr>\n",
       "    <tr>\n",
       "      <th>1</th>\n",
       "      <td>Западный адм.окр.</td>\n",
       "      <td>1053.225490</td>\n",
       "      <td>Другие</td>\n",
       "    </tr>\n",
       "    <tr>\n",
       "      <th>2</th>\n",
       "      <td>Северный адм.окр.</td>\n",
       "      <td>927.959627</td>\n",
       "      <td>Другие</td>\n",
       "    </tr>\n",
       "    <tr>\n",
       "      <th>8</th>\n",
       "      <td>Южный адм.окр.</td>\n",
       "      <td>834.398089</td>\n",
       "      <td>Другие</td>\n",
       "    </tr>\n",
       "    <tr>\n",
       "      <th>4</th>\n",
       "      <td>Северо-Западный адм.окр.</td>\n",
       "      <td>822.222930</td>\n",
       "      <td>Другие</td>\n",
       "    </tr>\n",
       "    <tr>\n",
       "      <th>0</th>\n",
       "      <td>Восточный адм.окр.</td>\n",
       "      <td>820.626923</td>\n",
       "      <td>Другие</td>\n",
       "    </tr>\n",
       "    <tr>\n",
       "      <th>7</th>\n",
       "      <td>Юго-Западный адм.окр.</td>\n",
       "      <td>792.561702</td>\n",
       "      <td>Другие</td>\n",
       "    </tr>\n",
       "    <tr>\n",
       "      <th>3</th>\n",
       "      <td>Северо-Восточный адм.окр.</td>\n",
       "      <td>716.611296</td>\n",
       "      <td>Другие</td>\n",
       "    </tr>\n",
       "    <tr>\n",
       "      <th>6</th>\n",
       "      <td>Юго-Восточный адм.окр.</td>\n",
       "      <td>654.097938</td>\n",
       "      <td>Другие</td>\n",
       "    </tr>\n",
       "  </tbody>\n",
       "</table>\n",
       "</div>"
      ],
      "text/plain": [
       "                    district  middle_avg_bill                   cao\n",
       "5       Центральный адм.окр.      1191.057547  Центральный адм.окр.\n",
       "1          Западный адм.окр.      1053.225490                Другие\n",
       "2          Северный адм.окр.       927.959627                Другие\n",
       "8             Южный адм.окр.       834.398089                Другие\n",
       "4   Северо-Западный адм.окр.       822.222930                Другие\n",
       "0         Восточный адм.окр.       820.626923                Другие\n",
       "7      Юго-Западный адм.окр.       792.561702                Другие\n",
       "3  Северо-Восточный адм.окр.       716.611296                Другие\n",
       "6     Юго-Восточный адм.окр.       654.097938                Другие"
      ]
     },
     "execution_count": 44,
     "metadata": {},
     "output_type": "execute_result"
    }
   ],
   "source": [
    "# Группируем данные по району и рассчитываем средний чек\n",
    "avg_bill_district = df.groupby('district')['middle_avg_bill'].mean().reset_index()\n",
    "avg_bill_district = avg_bill_district.sort_values(by='middle_avg_bill', ascending=False)\n",
    "\n",
    "# Добавляем столбец для выделения ЦАО\n",
    "avg_bill_district['cao'] = 'Другие' \n",
    "avg_bill_district.loc[avg_bill_district['district'] == 'Центральный адм.окр.', 'cao'] = 'Центральный адм.окр.' \n",
    "avg_bill_district"
   ]
  },
  {
   "cell_type": "markdown",
   "id": "f1c1de0b-c016-4bd5-be2e-71252a89846f",
   "metadata": {
    "id": "b98066c1"
   },
   "source": [
    "Центральный администртивный округ (ЦАО) выделяется на графике с самым высоким средним чеком, что характерно для заведений, располагающихся в центре города. Вероятно, у них более высокая аренда помещений и большее количество туристов и местных жителей с высокой покупательской способностью.\n",
    "\n",
    "Немного ниже средние чеки у округов, таких как Западный, Северный и Южный, что может указывать на:\n",
    "\n",
    "-Меньшую конкурентоспособность.\n",
    "-Сниженную покупательскую способность населения.\n",
    "-Другую целевую аудиторию."
   ]
  },
  {
   "cell_type": "code",
   "execution_count": null,
   "id": "c42d8b8f-53a2-4734-a6b7-65cb47555215",
   "metadata": {
    "id": "9b5e00a5"
   },
   "outputs": [],
   "source": []
  },
  {
   "cell_type": "markdown",
   "id": "c150bd4f",
   "metadata": {
    "id": "c150bd4f"
   },
   "source": [
    "---\n"
   ]
  },
  {
   "cell_type": "code",
   "execution_count": 45,
   "id": "5ee8b279",
   "metadata": {
    "id": "5ee8b279"
   },
   "outputs": [
    {
     "data": {
      "image/png": "[encoded data removed]",
      "text/plain": [
       "<Figure size 864x576 with 1 Axes>"
      ]
     },
     "metadata": {
      "needs_background": "light"
     },
     "output_type": "display_data"
    }
   ],
   "source": [
    "# вариация среднего чека заведения на столбчатой диаграмме\n",
    "plt.figure(figsize=(12, 8))\n",
    "sns.barplot(data=avg_bill_district, x='district', y='middle_avg_bill', hue='cao')\n",
    "plt.title('Средний чек  в зависимости от района Москвы')\n",
    "plt.xlabel('Район')\n",
    "plt.ylabel('Средний чек')\n",
    "plt.legend(title='Категория')\n",
    "plt.xticks(rotation=25)\n",
    "plt.tight_layout()\n",
    "plt.show()"
   ]
  },
  {
   "cell_type": "code",
   "execution_count": 46,
   "id": "130b9032-3eaa-4b56-9553-a6a3e0f2ddbb",
   "metadata": {},
   "outputs": [],
   "source": [
    "# Среднее и медианное значение\n",
    "avg_bill = df.groupby('district')['middle_avg_bill'].mean().reset_index()\n",
    "avg_bill['statistic'] = 'Средний чек'\n",
    "\n",
    "median_bill = df.groupby('district')['middle_avg_bill'].median().reset_index()\n",
    "median_bill['statistic'] = 'Медианный чек'\n",
    "# Объединяем данные\n",
    "new_df = pd.concat([avg_bill, median_bill], ignore_index=True)\n",
    "new_df.sort_values(by='middle_avg_bill', ascending=False, inplace=True)"
   ]
  },
  {
   "cell_type": "code",
   "execution_count": 47,
   "id": "9abd45f6-1987-4d58-b50c-e256d40b8316",
   "metadata": {},
   "outputs": [
    {
     "data": {
      "image/png": "[encoded data removed]",
      "text/plain": [
       "<Figure size 864x576 with 1 Axes>"
      ]
     },
     "metadata": {
      "needs_background": "light"
     },
     "output_type": "display_data"
    }
   ],
   "source": [
    "plt.figure(figsize=(12, 8))\n",
    "sns.barplot(data=new_df, x='district', y='middle_avg_bill', hue='statistic')\n",
    "plt.title('Средний и медианный чек в зависимости от района Москвы')\n",
    "plt.xlabel('Район')\n",
    "plt.ylabel('Чек')\n",
    "plt.legend(title='Статистика')\n",
    "plt.xticks(rotation=25)\n",
    "plt.tight_layout()\n",
    "plt.show()"
   ]
  },
  {
   "cell_type": "markdown",
   "id": "c53a8599-b966-4526-a7e9-5ddc641ea9b9",
   "metadata": {
    "id": "c6a666d9"
   },
   "source": [
    "График демонстрирует, что удаленность от центра города серьезно влияет на цены в заведениях. Центральные районы, как правило, имеют более высокие цены, в то время как периферийные зоны предлагают более доступные варианты, что соответствует ожидаемым экономическим закономерностям."
   ]
  },
  {
   "cell_type": "markdown",
   "id": "f2c54e9a",
   "metadata": {
    "id": "f2c54e9a"
   },
   "source": [
    "---\n",
    "\n",
    "### Промежуточный вывод\n",
    "\n",
    "Обобщите полученные результаты, выделив, по вашему мнению, самые важные."
   ]
  },
  {
   "cell_type": "markdown",
   "id": "8347ec0b-4162-4dec-a011-a6b5e14d74b6",
   "metadata": {
    "id": "c8869609"
   },
   "source": [
    "Общее количество заведений в городе демонстрирует разнообразие предложений, удовлетворяющее различные потребности потребителей. В Центральном административном округе сосредоточено наибольшее количество заведений (2242), что связано с высокой концентрацией населения и туристов. Северный и Южный округа также имеют значительное количество заведений (900 и 892 соответственно), указывая на развитие инфраструктуры.\n",
    "\n",
    "Северо_Восточный и Западный округа (891 и 851) показывают активное присутствие заведений, предлагая разнообразие для местных жителей. Восточный и Юго-Восточный округа (798 и 714) находятся на среднем уровне, что открывает возможности для роста.\n",
    "\n",
    "В Центральном округе рестораны (670) лидируют по количеству, что говорит о высоком интересе к качественной еде. Кафе (464) и кофейни (428) также популярны, подчеркивая предпочтение потребителей к неформальным местам. Бары и пабы (364) указывают на активность ночной жизни.\n",
    "\n",
    "Несетевые заведения (примерно 59.3%) значительно преобладают над сетевыми (40.7%), что свидетельствует о сильной культуре независимых заведений. Высокая конкуренция между сетевыми и несетевыми форматами в категориях, таких как кофейни и пиццерии, указывает на успешную борьбу независимых заведений за внимание клиентов. Менее популярные категории, такие как булочные и столовые, требуют пересмотра маркетинговых стратегий для повышения интереса."
   ]
  },
  {
   "cell_type": "markdown",
   "id": "27032fbc-1734-423a-87b4-d2f96123668e",
   "metadata": {
    "id": "3313cfd6"
   },
   "source": [
    "На боксплоте были выявлены выбросы, указывающие на аномальные значения, которые могут быть вызваны ошибками в данных или экстремальными случаями (например, крупные заведения). Типичные значения количества посадочных мест по категориям заведений:\n",
    "\n",
    "- Кафе: 50-200 мест\n",
    "- Ресторан: 100-400 мест\n",
    "- Кофейня: 20-100 мест\n",
    "- Пиццерия: 50-200 мест\n",
    "- Бар, паб: 100-300 мест\n",
    "- Быстрое питание: 20-80 мест\n",
    "- Булочная: 20-50 мест\n",
    "- Столовая: 50-250 мест\n",
    "\n",
    "Аномалии могут быть связаны с особенностями категорий или ошибками. Средние значения и медианы помогут понять нормы для заведений. Бары и пабы имеют высокий средний рейтинг (около 4.4), в то время как рестораны, пиццерии и булочные также показывают хорошие результаты (около 4.3). Заведения быстрого питания и кафе имеют более низкие рейтинги.\n",
    "\n",
    "Наиболее высокая корреляция наблюдается между категорией и ценой (0.354964). "
   ]
  },
  {
   "cell_type": "markdown",
   "id": "bade250b-900f-4d1f-ab14-493bce5eb0fd",
   "metadata": {
    "id": "8bc2e63d"
   },
   "source": [
    "В списке представлены различные категории заведений:\n",
    "\n",
    "Кофейни: \"Шоколадница\", \"One Price Coffee\", \"Cofix\", \"Кофепорт\", \"Cofefest\" занимают значительную долю на рынке.\n",
    "Пиццерии: \"Домино'с Пицца\" и \"Додо Пицца\" популярны среди любителей пиццы.\n",
    "Рестораны: \"Яндекс Лавка\", \"Prime\", \"Теремок\" предлагают разнообразные блюда.\n",
    "Кафе и булочные: \"Хинкальная\", \"Кулинарная лавка братьев Караваевых\", \"Буханка\" привлекают любителей традиционной кухни.\n",
    "Средний рейтинг варьируется, при этом \"Додо Пицца\" имеет наивысший рейтинг (4.29), а \"Кулинарная лавка братьев Караваевых\" (4.39) и \"Хинкальная\" (4.37) также показывают высокие оценки. Заведения с более низкими рейтингами, такие как \"Яндекс Лавка\" (3.87) и \"Чайхана\" (3.96), могут нуждаться в улучшении качества обслуживания.\n",
    "\n",
    "Центральный административный округ выделяется самым высоким средним чеком, что связано с высокой арендой и покупательской способностью. В округах, таких как Северо-Восточный и Юго-Восточный, средние чеки ниже, что может указывать на меньшую конкурентоспособность и другую целевую аудиторию. График показывает, что удаленность от центра влияет на цены: центральные районы имеют более высокие цены, а периферийные — более доступные. "
   ]
  },
  {
   "cell_type": "markdown",
   "id": "d4978d11-a57d-47c9-ac9f-8847aae8181b",
   "metadata": {
    "id": "480f3422"
   },
   "source": [
    "## 4. Итоговый вывод и рекомендации\n",
    "\n"
   ]
  },
  {
   "cell_type": "markdown",
   "id": "d9cef87f-9b13-4bde-94cc-d49d79ed82f8",
   "metadata": {},
   "source": [
    "В рамках исследования рынка общественного питания в Москве мы провели анализ различных категорий заведений, их характеристик, рейтингов и ценовых категорий. Это поможет инвесторам из фонда Shut Up and Take My Money выбрать оптимальный формат заведения (кафе, ресторан или бар) и определить его местоположение, меню и ценовую стратегию.\n",
    "\n",
    "**Главные выводы**\n",
    "- *Категории заведений*: В Москве выделяются несколько ключевых категорий, включая кофейни, пиццерии, рестораны и бары. Каждая из этих категорий имеет свою долю рынка и уровень популярности среди жителей и туристов.\n",
    "\n",
    "- *Рейтинги*: Высокие средние рейтинги у таких заведений, как \"Додо Пицца\" и \"Кулинарная лавка братьев Караваевых\", показывают, что они успешно удовлетворяют потребности клиентов. Это может служить ориентиром для выбора концепции нового заведения. Заведения с низкими рейтингами, например \"Яндекс Лавка\", могут быть примерами того, что следует избегать.\n",
    "\n",
    "- *Ценовые категории*: Центральный административный округ демонстрирует высокие средние чеки, что связано с высокой покупательской способностью и спросом на качественные заведения. Периферийные районы предлагают более доступные цены, что может быть интересным для создания более демократичного заведения.\n",
    "\n",
    "- *Корреляции*: Наблюдается значительная связь между типом заведения и его ценовой категорией. Например, рестораны и бары в центре имеют более высокие цены, в то время как кофейни и пиццерии в периферийных районах могут предложить более доступные варианты.\n",
    "\n",
    "**Рекомендации на основе анализа данных**\n",
    "- *Определение концепции*: На основе анализа рынка, инвесторам стоит рассмотреть открытие заведения, которое сочетает в себе элементы кафе и бара. Это может привлечь широкий круг клиентов, включая молодежь и работающих профессионалов.\n",
    "\n",
    "- *Выбор местоположения*: Рекомендуется рассмотреть открытие заведения в Центральном административном округе, где высокая проходимость и покупательская способность. Однако также стоит обратить внимание на перспективные районы с растущим населением и недостатком качественных заведений.\n",
    "\n",
    "- *Ценовая стратегия*: Для привлечения клиентов в новом заведении можно использовать гибкую ценовую стратегию, предлагая как доступные, так и более премиум предложения. Это позволит охватить различные сегменты аудитории.\n",
    "\n",
    "- *Разработка уникального меню*: Меню должно быть разнообразным, включать как классические, так и оригинальные блюда и напитки, чтобы удовлетворить различные предпочтения клиентов. Также стоит учитывать тренды в области здорового питания и вегетарианства.\n",
    "- *Маркетинг и продвижение*: Используйте успешные примеры заведений с высокими рейтингами для формирования эффективной маркетинговой стратегии. Реклама через социальные сети и локальные мероприятия может помочь привлечь внимание к новому заведению.\n",
    "\n",
    "Эти рекомендации помогут инвесторам сделать обоснованный выбор и создать успешное заведение общественного питания в Москве. \n",
    "\n"
   ]
  }
 ],
 "metadata": {
  "ExecuteTimeLog": [
   {
    "duration": 3984,
    "start_time": "2025-03-24T18:43:48.026Z"
   },
   {
    "duration": 208,
    "start_time": "2025-03-24T18:43:52.012Z"
   },
   {
    "duration": 14,
    "start_time": "2025-03-24T18:43:52.221Z"
   },
   {
    "duration": 37,
    "start_time": "2025-03-24T18:43:52.236Z"
   },
   {
    "duration": 9,
    "start_time": "2025-03-24T18:43:52.276Z"
   },
   {
    "duration": 86,
    "start_time": "2025-03-24T18:43:52.286Z"
   },
   {
    "duration": 27,
    "start_time": "2025-03-24T18:43:52.373Z"
   },
   {
    "duration": 12,
    "start_time": "2025-03-24T18:43:52.401Z"
   },
   {
    "duration": 12,
    "start_time": "2025-03-24T18:43:52.414Z"
   },
   {
    "duration": 98,
    "start_time": "2025-03-24T18:43:52.428Z"
   },
   {
    "duration": 4,
    "start_time": "2025-03-24T18:43:52.527Z"
   },
   {
    "duration": 11,
    "start_time": "2025-03-24T18:43:52.533Z"
   },
   {
    "duration": 7,
    "start_time": "2025-03-24T18:43:52.545Z"
   },
   {
    "duration": 23,
    "start_time": "2025-03-24T18:43:52.555Z"
   },
   {
    "duration": 5,
    "start_time": "2025-03-24T18:43:52.580Z"
   },
   {
    "duration": 600,
    "start_time": "2025-03-24T18:43:52.586Z"
   },
   {
    "duration": 4,
    "start_time": "2025-03-24T18:43:53.188Z"
   },
   {
    "duration": 260,
    "start_time": "2025-03-24T18:43:53.193Z"
   },
   {
    "duration": 16,
    "start_time": "2025-03-24T18:43:53.455Z"
   },
   {
    "duration": 32,
    "start_time": "2025-03-24T18:43:53.472Z"
   },
   {
    "duration": 11,
    "start_time": "2025-03-24T18:43:53.505Z"
   },
   {
    "duration": 11,
    "start_time": "2025-03-24T18:43:53.517Z"
   },
   {
    "duration": 14,
    "start_time": "2025-03-24T18:43:53.529Z"
   },
   {
    "duration": 32,
    "start_time": "2025-03-24T18:43:53.544Z"
   },
   {
    "duration": 25,
    "start_time": "2025-03-24T18:43:53.578Z"
   },
   {
    "duration": 24,
    "start_time": "2025-03-24T18:43:53.604Z"
   },
   {
    "duration": 17,
    "start_time": "2025-03-24T18:43:53.629Z"
   },
   {
    "duration": 15,
    "start_time": "2025-03-24T18:43:53.648Z"
   },
   {
    "duration": 11,
    "start_time": "2025-03-24T18:43:53.664Z"
   },
   {
    "duration": 12,
    "start_time": "2025-03-24T18:43:53.676Z"
   },
   {
    "duration": 8,
    "start_time": "2025-03-24T18:43:53.689Z"
   },
   {
    "duration": 5,
    "start_time": "2025-03-24T18:43:53.699Z"
   },
   {
    "duration": 232,
    "start_time": "2025-03-24T18:43:53.705Z"
   },
   {
    "duration": 9,
    "start_time": "2025-03-24T18:43:53.938Z"
   },
   {
    "duration": 19,
    "start_time": "2025-03-24T18:43:53.949Z"
   },
   {
    "duration": 201,
    "start_time": "2025-03-24T18:43:53.969Z"
   },
   {
    "duration": 8,
    "start_time": "2025-03-24T18:43:54.171Z"
   },
   {
    "duration": 209,
    "start_time": "2025-03-24T18:43:54.181Z"
   },
   {
    "duration": 10,
    "start_time": "2025-03-24T18:43:54.392Z"
   },
   {
    "duration": 200,
    "start_time": "2025-03-24T18:43:54.404Z"
   },
   {
    "duration": 241,
    "start_time": "2025-03-24T18:43:54.608Z"
   },
   {
    "duration": 253,
    "start_time": "2025-03-24T18:43:54.851Z"
   },
   {
    "duration": 308,
    "start_time": "2025-03-24T18:43:55.105Z"
   },
   {
    "duration": 127,
    "start_time": "2025-03-24T18:43:55.414Z"
   },
   {
    "duration": 525,
    "start_time": "2025-03-24T18:43:55.543Z"
   },
   {
    "duration": 1,
    "start_time": "2025-03-24T18:43:56.069Z"
   },
   {
    "duration": 0,
    "start_time": "2025-03-24T18:43:56.071Z"
   },
   {
    "duration": 0,
    "start_time": "2025-03-24T18:43:56.072Z"
   },
   {
    "duration": 0,
    "start_time": "2025-03-24T18:43:56.073Z"
   },
   {
    "duration": 4965,
    "start_time": "2025-03-25T05:51:59.226Z"
   },
   {
    "duration": 375,
    "start_time": "2025-03-25T05:52:04.193Z"
   },
   {
    "duration": 16,
    "start_time": "2025-03-25T05:52:04.569Z"
   },
   {
    "duration": 19,
    "start_time": "2025-03-25T05:52:04.587Z"
   },
   {
    "duration": 36,
    "start_time": "2025-03-25T05:52:04.608Z"
   },
   {
    "duration": 16,
    "start_time": "2025-03-25T05:52:04.646Z"
   },
   {
    "duration": 33,
    "start_time": "2025-03-25T05:52:04.664Z"
   },
   {
    "duration": 34,
    "start_time": "2025-03-25T05:52:04.698Z"
   },
   {
    "duration": 30,
    "start_time": "2025-03-25T05:52:04.734Z"
   },
   {
    "duration": 21,
    "start_time": "2025-03-25T05:52:04.767Z"
   },
   {
    "duration": 15,
    "start_time": "2025-03-25T05:52:04.790Z"
   },
   {
    "duration": 52,
    "start_time": "2025-03-25T05:52:04.806Z"
   },
   {
    "duration": 26,
    "start_time": "2025-03-25T05:52:04.860Z"
   },
   {
    "duration": 36,
    "start_time": "2025-03-25T05:52:04.887Z"
   },
   {
    "duration": 14,
    "start_time": "2025-03-25T05:52:04.924Z"
   },
   {
    "duration": 621,
    "start_time": "2025-03-25T05:52:04.939Z"
   },
   {
    "duration": 5,
    "start_time": "2025-03-25T05:52:05.561Z"
   },
   {
    "duration": 170,
    "start_time": "2025-03-25T05:52:05.572Z"
   },
   {
    "duration": 5,
    "start_time": "2025-03-25T05:52:05.743Z"
   },
   {
    "duration": 26,
    "start_time": "2025-03-25T05:52:05.749Z"
   },
   {
    "duration": 27,
    "start_time": "2025-03-25T05:52:05.776Z"
   },
   {
    "duration": 21,
    "start_time": "2025-03-25T05:52:05.804Z"
   },
   {
    "duration": 29,
    "start_time": "2025-03-25T05:52:05.827Z"
   },
   {
    "duration": 29,
    "start_time": "2025-03-25T05:52:05.857Z"
   },
   {
    "duration": 37,
    "start_time": "2025-03-25T05:52:05.887Z"
   },
   {
    "duration": 43,
    "start_time": "2025-03-25T05:52:05.926Z"
   },
   {
    "duration": 35,
    "start_time": "2025-03-25T05:52:05.971Z"
   },
   {
    "duration": 17,
    "start_time": "2025-03-25T05:52:06.010Z"
   },
   {
    "duration": 37,
    "start_time": "2025-03-25T05:52:06.029Z"
   },
   {
    "duration": 17,
    "start_time": "2025-03-25T05:52:06.067Z"
   },
   {
    "duration": 5,
    "start_time": "2025-03-25T05:52:06.086Z"
   },
   {
    "duration": 34,
    "start_time": "2025-03-25T05:52:06.092Z"
   },
   {
    "duration": 267,
    "start_time": "2025-03-25T05:52:06.127Z"
   },
   {
    "duration": 11,
    "start_time": "2025-03-25T05:52:06.396Z"
   },
   {
    "duration": 37,
    "start_time": "2025-03-25T05:52:06.408Z"
   },
   {
    "duration": 200,
    "start_time": "2025-03-25T05:52:06.446Z"
   },
   {
    "duration": 10,
    "start_time": "2025-03-25T05:52:06.648Z"
   },
   {
    "duration": 188,
    "start_time": "2025-03-25T05:52:06.659Z"
   },
   {
    "duration": 24,
    "start_time": "2025-03-25T05:52:06.850Z"
   },
   {
    "duration": 207,
    "start_time": "2025-03-25T05:52:06.876Z"
   },
   {
    "duration": 226,
    "start_time": "2025-03-25T05:52:07.085Z"
   },
   {
    "duration": 193,
    "start_time": "2025-03-25T05:52:07.313Z"
   },
   {
    "duration": 403,
    "start_time": "2025-03-25T05:52:07.508Z"
   },
   {
    "duration": 136,
    "start_time": "2025-03-25T05:52:07.913Z"
   },
   {
    "duration": 531,
    "start_time": "2025-03-25T05:52:08.051Z"
   },
   {
    "duration": 117,
    "start_time": "2025-03-25T05:52:08.583Z"
   },
   {
    "duration": 0,
    "start_time": "2025-03-25T05:52:08.701Z"
   },
   {
    "duration": 0,
    "start_time": "2025-03-25T05:52:08.703Z"
   },
   {
    "duration": 0,
    "start_time": "2025-03-25T05:52:08.704Z"
   },
   {
    "duration": 0,
    "start_time": "2025-03-25T05:52:08.705Z"
   },
   {
    "duration": 19,
    "start_time": "2025-03-25T05:52:39.877Z"
   },
   {
    "duration": 19,
    "start_time": "2025-03-25T05:54:02.891Z"
   },
   {
    "duration": 19,
    "start_time": "2025-03-25T05:55:18.269Z"
   },
   {
    "duration": 18,
    "start_time": "2025-03-25T05:55:24.189Z"
   },
   {
    "duration": 18,
    "start_time": "2025-03-25T05:55:59.981Z"
   },
   {
    "duration": 3657,
    "start_time": "2025-03-25T05:56:17.251Z"
   },
   {
    "duration": 230,
    "start_time": "2025-03-25T05:56:20.910Z"
   },
   {
    "duration": 14,
    "start_time": "2025-03-25T05:56:21.142Z"
   },
   {
    "duration": 14,
    "start_time": "2025-03-25T05:56:21.157Z"
   },
   {
    "duration": 10,
    "start_time": "2025-03-25T05:56:21.172Z"
   },
   {
    "duration": 10,
    "start_time": "2025-03-25T05:56:21.183Z"
   },
   {
    "duration": 20,
    "start_time": "2025-03-25T05:56:21.194Z"
   },
   {
    "duration": 13,
    "start_time": "2025-03-25T05:56:21.216Z"
   },
   {
    "duration": 16,
    "start_time": "2025-03-25T05:56:21.230Z"
   },
   {
    "duration": 10,
    "start_time": "2025-03-25T05:56:21.247Z"
   },
   {
    "duration": 17,
    "start_time": "2025-03-25T05:56:21.259Z"
   },
   {
    "duration": 10,
    "start_time": "2025-03-25T05:56:21.277Z"
   },
   {
    "duration": 4,
    "start_time": "2025-03-25T05:56:21.288Z"
   },
   {
    "duration": 6,
    "start_time": "2025-03-25T05:56:21.295Z"
   },
   {
    "duration": 6,
    "start_time": "2025-03-25T05:56:21.302Z"
   },
   {
    "duration": 640,
    "start_time": "2025-03-25T05:56:21.310Z"
   },
   {
    "duration": 6,
    "start_time": "2025-03-25T05:56:21.952Z"
   },
   {
    "duration": 164,
    "start_time": "2025-03-25T05:56:21.959Z"
   },
   {
    "duration": 4,
    "start_time": "2025-03-25T05:56:22.125Z"
   },
   {
    "duration": 35,
    "start_time": "2025-03-25T05:56:22.131Z"
   },
   {
    "duration": 15,
    "start_time": "2025-03-25T05:56:22.167Z"
   },
   {
    "duration": 10,
    "start_time": "2025-03-25T05:56:22.184Z"
   },
   {
    "duration": 14,
    "start_time": "2025-03-25T05:56:22.195Z"
   },
   {
    "duration": 7,
    "start_time": "2025-03-25T05:56:22.211Z"
   },
   {
    "duration": 15,
    "start_time": "2025-03-25T05:56:22.220Z"
   },
   {
    "duration": 52,
    "start_time": "2025-03-25T05:56:22.237Z"
   },
   {
    "duration": 24,
    "start_time": "2025-03-25T05:56:22.291Z"
   },
   {
    "duration": 14,
    "start_time": "2025-03-25T05:56:22.316Z"
   },
   {
    "duration": 9,
    "start_time": "2025-03-25T05:56:22.331Z"
   },
   {
    "duration": 38,
    "start_time": "2025-03-25T05:56:22.342Z"
   },
   {
    "duration": 5,
    "start_time": "2025-03-25T05:56:22.381Z"
   },
   {
    "duration": 6,
    "start_time": "2025-03-25T05:56:22.388Z"
   },
   {
    "duration": 215,
    "start_time": "2025-03-25T05:56:22.395Z"
   },
   {
    "duration": 10,
    "start_time": "2025-03-25T05:56:22.611Z"
   },
   {
    "duration": 23,
    "start_time": "2025-03-25T05:56:22.622Z"
   },
   {
    "duration": 225,
    "start_time": "2025-03-25T05:56:22.646Z"
   },
   {
    "duration": 8,
    "start_time": "2025-03-25T05:56:22.872Z"
   },
   {
    "duration": 183,
    "start_time": "2025-03-25T05:56:22.881Z"
   },
   {
    "duration": 10,
    "start_time": "2025-03-25T05:56:23.065Z"
   },
   {
    "duration": 204,
    "start_time": "2025-03-25T05:56:23.077Z"
   },
   {
    "duration": 246,
    "start_time": "2025-03-25T05:56:23.285Z"
   },
   {
    "duration": 270,
    "start_time": "2025-03-25T05:56:23.533Z"
   },
   {
    "duration": 346,
    "start_time": "2025-03-25T05:56:23.804Z"
   },
   {
    "duration": 145,
    "start_time": "2025-03-25T05:56:24.151Z"
   },
   {
    "duration": 484,
    "start_time": "2025-03-25T05:56:24.298Z"
   },
   {
    "duration": 116,
    "start_time": "2025-03-25T05:56:24.783Z"
   },
   {
    "duration": 0,
    "start_time": "2025-03-25T05:56:24.901Z"
   },
   {
    "duration": 0,
    "start_time": "2025-03-25T05:56:24.902Z"
   },
   {
    "duration": 0,
    "start_time": "2025-03-25T05:56:24.904Z"
   },
   {
    "duration": 0,
    "start_time": "2025-03-25T05:56:24.905Z"
   },
   {
    "duration": 20,
    "start_time": "2025-03-25T05:57:49.654Z"
   },
   {
    "duration": 185,
    "start_time": "2025-03-25T05:58:10.813Z"
   },
   {
    "duration": 168,
    "start_time": "2025-03-25T05:58:26.267Z"
   },
   {
    "duration": 172,
    "start_time": "2025-03-25T05:59:34.958Z"
   },
   {
    "duration": 168,
    "start_time": "2025-03-25T06:00:03.908Z"
   },
   {
    "duration": 3668,
    "start_time": "2025-03-25T06:00:19.251Z"
   },
   {
    "duration": 385,
    "start_time": "2025-03-25T06:00:22.921Z"
   },
   {
    "duration": 17,
    "start_time": "2025-03-25T06:00:23.308Z"
   },
   {
    "duration": 15,
    "start_time": "2025-03-25T06:00:23.327Z"
   },
   {
    "duration": 10,
    "start_time": "2025-03-25T06:00:23.345Z"
   },
   {
    "duration": 8,
    "start_time": "2025-03-25T06:00:23.356Z"
   },
   {
    "duration": 12,
    "start_time": "2025-03-25T06:00:23.373Z"
   },
   {
    "duration": 15,
    "start_time": "2025-03-25T06:00:23.387Z"
   },
   {
    "duration": 15,
    "start_time": "2025-03-25T06:00:23.404Z"
   },
   {
    "duration": 18,
    "start_time": "2025-03-25T06:00:23.421Z"
   },
   {
    "duration": 34,
    "start_time": "2025-03-25T06:00:23.441Z"
   },
   {
    "duration": 11,
    "start_time": "2025-03-25T06:00:23.477Z"
   },
   {
    "duration": 4,
    "start_time": "2025-03-25T06:00:23.490Z"
   },
   {
    "duration": 6,
    "start_time": "2025-03-25T06:00:23.497Z"
   },
   {
    "duration": 5,
    "start_time": "2025-03-25T06:00:23.504Z"
   },
   {
    "duration": 665,
    "start_time": "2025-03-25T06:00:23.510Z"
   },
   {
    "duration": 5,
    "start_time": "2025-03-25T06:00:24.177Z"
   },
   {
    "duration": 182,
    "start_time": "2025-03-25T06:00:24.183Z"
   },
   {
    "duration": 6,
    "start_time": "2025-03-25T06:00:24.367Z"
   },
   {
    "duration": 26,
    "start_time": "2025-03-25T06:00:24.374Z"
   },
   {
    "duration": 18,
    "start_time": "2025-03-25T06:00:24.402Z"
   },
   {
    "duration": 15,
    "start_time": "2025-03-25T06:00:24.422Z"
   },
   {
    "duration": 22,
    "start_time": "2025-03-25T06:00:24.439Z"
   },
   {
    "duration": 8,
    "start_time": "2025-03-25T06:00:24.474Z"
   },
   {
    "duration": 14,
    "start_time": "2025-03-25T06:00:24.484Z"
   },
   {
    "duration": 27,
    "start_time": "2025-03-25T06:00:24.500Z"
   },
   {
    "duration": 45,
    "start_time": "2025-03-25T06:00:24.528Z"
   },
   {
    "duration": 15,
    "start_time": "2025-03-25T06:00:24.575Z"
   },
   {
    "duration": 12,
    "start_time": "2025-03-25T06:00:24.592Z"
   },
   {
    "duration": 18,
    "start_time": "2025-03-25T06:00:24.606Z"
   },
   {
    "duration": 4,
    "start_time": "2025-03-25T06:00:24.626Z"
   },
   {
    "duration": 8,
    "start_time": "2025-03-25T06:00:24.632Z"
   },
   {
    "duration": 256,
    "start_time": "2025-03-25T06:00:24.642Z"
   },
   {
    "duration": 12,
    "start_time": "2025-03-25T06:00:24.900Z"
   },
   {
    "duration": 13,
    "start_time": "2025-03-25T06:00:24.914Z"
   },
   {
    "duration": 213,
    "start_time": "2025-03-25T06:00:24.928Z"
   },
   {
    "duration": 9,
    "start_time": "2025-03-25T06:00:25.143Z"
   },
   {
    "duration": 184,
    "start_time": "2025-03-25T06:00:25.154Z"
   },
   {
    "duration": 13,
    "start_time": "2025-03-25T06:00:25.340Z"
   },
   {
    "duration": 237,
    "start_time": "2025-03-25T06:00:25.354Z"
   },
   {
    "duration": 228,
    "start_time": "2025-03-25T06:00:25.596Z"
   },
   {
    "duration": 286,
    "start_time": "2025-03-25T06:00:25.827Z"
   },
   {
    "duration": 343,
    "start_time": "2025-03-25T06:00:26.114Z"
   },
   {
    "duration": 147,
    "start_time": "2025-03-25T06:00:26.459Z"
   },
   {
    "duration": 525,
    "start_time": "2025-03-25T06:00:26.608Z"
   },
   {
    "duration": 117,
    "start_time": "2025-03-25T06:00:27.135Z"
   },
   {
    "duration": 1,
    "start_time": "2025-03-25T06:00:27.253Z"
   },
   {
    "duration": 0,
    "start_time": "2025-03-25T06:00:27.255Z"
   },
   {
    "duration": 0,
    "start_time": "2025-03-25T06:00:27.256Z"
   },
   {
    "duration": 0,
    "start_time": "2025-03-25T06:00:27.258Z"
   },
   {
    "duration": 451,
    "start_time": "2025-03-25T06:03:49.566Z"
   },
   {
    "duration": 441,
    "start_time": "2025-03-25T06:04:38.468Z"
   },
   {
    "duration": 3615,
    "start_time": "2025-03-25T06:05:59.006Z"
   },
   {
    "duration": 218,
    "start_time": "2025-03-25T06:06:02.624Z"
   },
   {
    "duration": 16,
    "start_time": "2025-03-25T06:06:02.844Z"
   },
   {
    "duration": 36,
    "start_time": "2025-03-25T06:06:02.862Z"
   },
   {
    "duration": 28,
    "start_time": "2025-03-25T06:06:02.899Z"
   },
   {
    "duration": 33,
    "start_time": "2025-03-25T06:06:02.928Z"
   },
   {
    "duration": 18,
    "start_time": "2025-03-25T06:06:02.963Z"
   },
   {
    "duration": 14,
    "start_time": "2025-03-25T06:06:02.983Z"
   },
   {
    "duration": 34,
    "start_time": "2025-03-25T06:06:02.998Z"
   },
   {
    "duration": 15,
    "start_time": "2025-03-25T06:06:03.035Z"
   },
   {
    "duration": 6,
    "start_time": "2025-03-25T06:06:03.052Z"
   },
   {
    "duration": 22,
    "start_time": "2025-03-25T06:06:03.059Z"
   },
   {
    "duration": 5,
    "start_time": "2025-03-25T06:06:03.082Z"
   },
   {
    "duration": 13,
    "start_time": "2025-03-25T06:06:03.088Z"
   },
   {
    "duration": 21,
    "start_time": "2025-03-25T06:06:03.103Z"
   },
   {
    "duration": 603,
    "start_time": "2025-03-25T06:06:03.126Z"
   },
   {
    "duration": 4,
    "start_time": "2025-03-25T06:06:03.731Z"
   },
   {
    "duration": 186,
    "start_time": "2025-03-25T06:06:03.737Z"
   },
   {
    "duration": 6,
    "start_time": "2025-03-25T06:06:03.926Z"
   },
   {
    "duration": 58,
    "start_time": "2025-03-25T06:06:03.935Z"
   },
   {
    "duration": 25,
    "start_time": "2025-03-25T06:06:03.995Z"
   },
   {
    "duration": 24,
    "start_time": "2025-03-25T06:06:04.022Z"
   },
   {
    "duration": 26,
    "start_time": "2025-03-25T06:06:04.048Z"
   },
   {
    "duration": 17,
    "start_time": "2025-03-25T06:06:04.076Z"
   },
   {
    "duration": 21,
    "start_time": "2025-03-25T06:06:04.095Z"
   },
   {
    "duration": 29,
    "start_time": "2025-03-25T06:06:04.118Z"
   },
   {
    "duration": 82,
    "start_time": "2025-03-25T06:06:04.149Z"
   },
   {
    "duration": 23,
    "start_time": "2025-03-25T06:06:04.235Z"
   },
   {
    "duration": 11,
    "start_time": "2025-03-25T06:06:04.259Z"
   },
   {
    "duration": 16,
    "start_time": "2025-03-25T06:06:04.271Z"
   },
   {
    "duration": 22,
    "start_time": "2025-03-25T06:06:04.288Z"
   },
   {
    "duration": 9,
    "start_time": "2025-03-25T06:06:04.312Z"
   },
   {
    "duration": 219,
    "start_time": "2025-03-25T06:06:04.322Z"
   },
   {
    "duration": 11,
    "start_time": "2025-03-25T06:06:04.543Z"
   },
   {
    "duration": 19,
    "start_time": "2025-03-25T06:06:04.555Z"
   },
   {
    "duration": 202,
    "start_time": "2025-03-25T06:06:04.576Z"
   },
   {
    "duration": 10,
    "start_time": "2025-03-25T06:06:04.780Z"
   },
   {
    "duration": 184,
    "start_time": "2025-03-25T06:06:04.791Z"
   },
   {
    "duration": 12,
    "start_time": "2025-03-25T06:06:04.977Z"
   },
   {
    "duration": 222,
    "start_time": "2025-03-25T06:06:04.990Z"
   },
   {
    "duration": 242,
    "start_time": "2025-03-25T06:06:05.214Z"
   },
   {
    "duration": 197,
    "start_time": "2025-03-25T06:06:05.457Z"
   },
   {
    "duration": 408,
    "start_time": "2025-03-25T06:06:05.656Z"
   },
   {
    "duration": 151,
    "start_time": "2025-03-25T06:06:06.066Z"
   },
   {
    "duration": 556,
    "start_time": "2025-03-25T06:06:06.219Z"
   },
   {
    "duration": 422,
    "start_time": "2025-03-25T06:06:06.777Z"
   },
   {
    "duration": 23,
    "start_time": "2025-03-25T06:06:07.201Z"
   },
   {
    "duration": 601,
    "start_time": "2025-03-25T06:06:07.225Z"
   },
   {
    "duration": 14,
    "start_time": "2025-03-25T06:06:07.828Z"
   },
   {
    "duration": 459,
    "start_time": "2025-03-25T06:06:07.843Z"
   },
   {
    "duration": 430,
    "start_time": "2025-03-25T06:07:11.125Z"
   },
   {
    "duration": 236,
    "start_time": "2025-03-25T06:07:44.834Z"
   },
   {
    "duration": 300,
    "start_time": "2025-03-25T06:07:51.769Z"
   },
   {
    "duration": 353,
    "start_time": "2025-03-25T06:07:59.529Z"
   },
   {
    "duration": 473,
    "start_time": "2025-03-25T06:08:06.432Z"
   },
   {
    "duration": 123,
    "start_time": "2025-03-25T06:08:20.927Z"
   },
   {
    "duration": 80,
    "start_time": "2025-03-25T06:08:25.037Z"
   },
   {
    "duration": 46,
    "start_time": "2025-03-25T06:08:37.786Z"
   },
   {
    "duration": 3475,
    "start_time": "2025-03-25T06:08:48.576Z"
   },
   {
    "duration": 191,
    "start_time": "2025-03-25T06:08:52.053Z"
   },
   {
    "duration": 14,
    "start_time": "2025-03-25T06:08:52.245Z"
   },
   {
    "duration": 22,
    "start_time": "2025-03-25T06:08:52.261Z"
   },
   {
    "duration": 10,
    "start_time": "2025-03-25T06:08:52.285Z"
   },
   {
    "duration": 23,
    "start_time": "2025-03-25T06:08:52.296Z"
   },
   {
    "duration": 19,
    "start_time": "2025-03-25T06:08:52.321Z"
   },
   {
    "duration": 17,
    "start_time": "2025-03-25T06:08:52.341Z"
   },
   {
    "duration": 15,
    "start_time": "2025-03-25T06:08:52.359Z"
   },
   {
    "duration": 9,
    "start_time": "2025-03-25T06:08:52.375Z"
   },
   {
    "duration": 4,
    "start_time": "2025-03-25T06:08:52.386Z"
   },
   {
    "duration": 16,
    "start_time": "2025-03-25T06:08:52.391Z"
   },
   {
    "duration": 24,
    "start_time": "2025-03-25T06:08:52.409Z"
   },
   {
    "duration": 6,
    "start_time": "2025-03-25T06:08:52.435Z"
   },
   {
    "duration": 4,
    "start_time": "2025-03-25T06:08:52.442Z"
   },
   {
    "duration": 626,
    "start_time": "2025-03-25T06:08:52.447Z"
   },
   {
    "duration": 5,
    "start_time": "2025-03-25T06:08:53.074Z"
   },
   {
    "duration": 166,
    "start_time": "2025-03-25T06:08:53.081Z"
   },
   {
    "duration": 4,
    "start_time": "2025-03-25T06:08:53.248Z"
   },
   {
    "duration": 30,
    "start_time": "2025-03-25T06:08:53.253Z"
   },
   {
    "duration": 6,
    "start_time": "2025-03-25T06:08:53.285Z"
   },
   {
    "duration": 10,
    "start_time": "2025-03-25T06:08:53.293Z"
   },
   {
    "duration": 21,
    "start_time": "2025-03-25T06:08:53.305Z"
   },
   {
    "duration": 18,
    "start_time": "2025-03-25T06:08:53.327Z"
   },
   {
    "duration": 21,
    "start_time": "2025-03-25T06:08:53.346Z"
   },
   {
    "duration": 38,
    "start_time": "2025-03-25T06:08:53.368Z"
   },
   {
    "duration": 23,
    "start_time": "2025-03-25T06:08:53.407Z"
   },
   {
    "duration": 15,
    "start_time": "2025-03-25T06:08:53.431Z"
   },
   {
    "duration": 23,
    "start_time": "2025-03-25T06:08:53.447Z"
   },
   {
    "duration": 38,
    "start_time": "2025-03-25T06:08:53.471Z"
   },
   {
    "duration": 5,
    "start_time": "2025-03-25T06:08:53.510Z"
   },
   {
    "duration": 5,
    "start_time": "2025-03-25T06:08:53.516Z"
   },
   {
    "duration": 198,
    "start_time": "2025-03-25T06:08:53.522Z"
   },
   {
    "duration": 11,
    "start_time": "2025-03-25T06:08:53.721Z"
   },
   {
    "duration": 7,
    "start_time": "2025-03-25T06:08:53.733Z"
   },
   {
    "duration": 224,
    "start_time": "2025-03-25T06:08:53.741Z"
   },
   {
    "duration": 13,
    "start_time": "2025-03-25T06:08:53.966Z"
   },
   {
    "duration": 184,
    "start_time": "2025-03-25T06:08:53.980Z"
   },
   {
    "duration": 14,
    "start_time": "2025-03-25T06:08:54.166Z"
   },
   {
    "duration": 210,
    "start_time": "2025-03-25T06:08:54.181Z"
   },
   {
    "duration": 243,
    "start_time": "2025-03-25T06:08:54.394Z"
   },
   {
    "duration": 296,
    "start_time": "2025-03-25T06:08:54.639Z"
   },
   {
    "duration": 345,
    "start_time": "2025-03-25T06:08:54.937Z"
   },
   {
    "duration": 150,
    "start_time": "2025-03-25T06:08:55.284Z"
   },
   {
    "duration": 544,
    "start_time": "2025-03-25T06:08:55.436Z"
   },
   {
    "duration": 439,
    "start_time": "2025-03-25T06:08:55.981Z"
   },
   {
    "duration": 22,
    "start_time": "2025-03-25T06:08:56.422Z"
   },
   {
    "duration": 618,
    "start_time": "2025-03-25T06:08:56.445Z"
   },
   {
    "duration": 12,
    "start_time": "2025-03-25T06:08:57.073Z"
   },
   {
    "duration": 477,
    "start_time": "2025-03-25T06:08:57.087Z"
   },
   {
    "duration": 205,
    "start_time": "2025-03-25T06:09:21.554Z"
   },
   {
    "duration": 256,
    "start_time": "2025-03-25T06:09:34.320Z"
   },
   {
    "duration": 192,
    "start_time": "2025-03-25T06:09:44.160Z"
   },
   {
    "duration": 3514,
    "start_time": "2025-03-25T06:10:07.054Z"
   },
   {
    "duration": 230,
    "start_time": "2025-03-25T06:10:10.570Z"
   },
   {
    "duration": 15,
    "start_time": "2025-03-25T06:10:10.801Z"
   },
   {
    "duration": 22,
    "start_time": "2025-03-25T06:10:10.818Z"
   },
   {
    "duration": 13,
    "start_time": "2025-03-25T06:10:10.841Z"
   },
   {
    "duration": 21,
    "start_time": "2025-03-25T06:10:10.855Z"
   },
   {
    "duration": 28,
    "start_time": "2025-03-25T06:10:10.878Z"
   },
   {
    "duration": 24,
    "start_time": "2025-03-25T06:10:10.908Z"
   },
   {
    "duration": 28,
    "start_time": "2025-03-25T06:10:10.934Z"
   },
   {
    "duration": 31,
    "start_time": "2025-03-25T06:10:10.964Z"
   },
   {
    "duration": 5,
    "start_time": "2025-03-25T06:10:10.996Z"
   },
   {
    "duration": 11,
    "start_time": "2025-03-25T06:10:11.002Z"
   },
   {
    "duration": 4,
    "start_time": "2025-03-25T06:10:11.014Z"
   },
   {
    "duration": 8,
    "start_time": "2025-03-25T06:10:11.020Z"
   },
   {
    "duration": 9,
    "start_time": "2025-03-25T06:10:11.029Z"
   },
   {
    "duration": 620,
    "start_time": "2025-03-25T06:10:11.039Z"
   },
   {
    "duration": 5,
    "start_time": "2025-03-25T06:10:11.661Z"
   },
   {
    "duration": 151,
    "start_time": "2025-03-25T06:10:11.673Z"
   },
   {
    "duration": 5,
    "start_time": "2025-03-25T06:10:11.825Z"
   },
   {
    "duration": 16,
    "start_time": "2025-03-25T06:10:11.831Z"
   },
   {
    "duration": 28,
    "start_time": "2025-03-25T06:10:11.849Z"
   },
   {
    "duration": 12,
    "start_time": "2025-03-25T06:10:11.879Z"
   },
   {
    "duration": 26,
    "start_time": "2025-03-25T06:10:11.892Z"
   },
   {
    "duration": 7,
    "start_time": "2025-03-25T06:10:11.919Z"
   },
   {
    "duration": 22,
    "start_time": "2025-03-25T06:10:11.928Z"
   },
   {
    "duration": 50,
    "start_time": "2025-03-25T06:10:11.951Z"
   },
   {
    "duration": 19,
    "start_time": "2025-03-25T06:10:12.003Z"
   },
   {
    "duration": 15,
    "start_time": "2025-03-25T06:10:12.025Z"
   },
   {
    "duration": 9,
    "start_time": "2025-03-25T06:10:12.041Z"
   },
   {
    "duration": 27,
    "start_time": "2025-03-25T06:10:12.051Z"
   },
   {
    "duration": 4,
    "start_time": "2025-03-25T06:10:12.079Z"
   },
   {
    "duration": 6,
    "start_time": "2025-03-25T06:10:12.084Z"
   },
   {
    "duration": 234,
    "start_time": "2025-03-25T06:10:12.091Z"
   },
   {
    "duration": 10,
    "start_time": "2025-03-25T06:10:12.327Z"
   },
   {
    "duration": 8,
    "start_time": "2025-03-25T06:10:12.338Z"
   },
   {
    "duration": 212,
    "start_time": "2025-03-25T06:10:12.347Z"
   },
   {
    "duration": 14,
    "start_time": "2025-03-25T06:10:12.560Z"
   },
   {
    "duration": 190,
    "start_time": "2025-03-25T06:10:12.575Z"
   },
   {
    "duration": 19,
    "start_time": "2025-03-25T06:10:12.767Z"
   },
   {
    "duration": 236,
    "start_time": "2025-03-25T06:10:12.788Z"
   },
   {
    "duration": 249,
    "start_time": "2025-03-25T06:10:13.026Z"
   },
   {
    "duration": 213,
    "start_time": "2025-03-25T06:10:13.276Z"
   },
   {
    "duration": 437,
    "start_time": "2025-03-25T06:10:13.491Z"
   },
   {
    "duration": 147,
    "start_time": "2025-03-25T06:10:13.930Z"
   },
   {
    "duration": 513,
    "start_time": "2025-03-25T06:10:14.078Z"
   },
   {
    "duration": 445,
    "start_time": "2025-03-25T06:10:14.593Z"
   },
   {
    "duration": 24,
    "start_time": "2025-03-25T06:10:15.040Z"
   },
   {
    "duration": 624,
    "start_time": "2025-03-25T06:10:15.074Z"
   },
   {
    "duration": 13,
    "start_time": "2025-03-25T06:10:15.700Z"
   },
   {
    "duration": 470,
    "start_time": "2025-03-25T06:10:15.715Z"
   },
   {
    "duration": 5781,
    "start_time": "2025-03-25T17:56:49.738Z"
   },
   {
    "duration": 348,
    "start_time": "2025-03-25T17:56:55.521Z"
   },
   {
    "duration": 18,
    "start_time": "2025-03-25T17:56:55.871Z"
   },
   {
    "duration": 80,
    "start_time": "2025-03-25T17:56:55.892Z"
   },
   {
    "duration": 53,
    "start_time": "2025-03-25T17:56:55.973Z"
   },
   {
    "duration": 41,
    "start_time": "2025-03-25T17:56:56.028Z"
   },
   {
    "duration": 12,
    "start_time": "2025-03-25T17:56:56.071Z"
   },
   {
    "duration": 15,
    "start_time": "2025-03-25T17:56:56.085Z"
   },
   {
    "duration": 17,
    "start_time": "2025-03-25T17:56:56.156Z"
   },
   {
    "duration": 44,
    "start_time": "2025-03-25T17:56:56.175Z"
   },
   {
    "duration": 39,
    "start_time": "2025-03-25T17:56:56.221Z"
   },
   {
    "duration": 18,
    "start_time": "2025-03-25T17:56:56.261Z"
   },
   {
    "duration": 4,
    "start_time": "2025-03-25T17:56:56.281Z"
   },
   {
    "duration": 115,
    "start_time": "2025-03-25T17:56:56.287Z"
   },
   {
    "duration": 7,
    "start_time": "2025-03-25T17:56:56.404Z"
   },
   {
    "duration": 1348,
    "start_time": "2025-03-25T17:56:56.412Z"
   },
   {
    "duration": 4,
    "start_time": "2025-03-25T17:56:57.762Z"
   },
   {
    "duration": 305,
    "start_time": "2025-03-25T17:56:57.768Z"
   },
   {
    "duration": 5,
    "start_time": "2025-03-25T17:56:58.075Z"
   },
   {
    "duration": 78,
    "start_time": "2025-03-25T17:56:58.081Z"
   },
   {
    "duration": 46,
    "start_time": "2025-03-25T17:56:58.160Z"
   },
   {
    "duration": 49,
    "start_time": "2025-03-25T17:56:58.208Z"
   },
   {
    "duration": 15,
    "start_time": "2025-03-25T17:56:58.259Z"
   },
   {
    "duration": 8,
    "start_time": "2025-03-25T17:56:58.276Z"
   },
   {
    "duration": 72,
    "start_time": "2025-03-25T17:56:58.286Z"
   },
   {
    "duration": 47,
    "start_time": "2025-03-25T17:56:58.360Z"
   },
   {
    "duration": 66,
    "start_time": "2025-03-25T17:56:58.408Z"
   },
   {
    "duration": 14,
    "start_time": "2025-03-25T17:56:58.478Z"
   },
   {
    "duration": 74,
    "start_time": "2025-03-25T17:56:58.493Z"
   },
   {
    "duration": 22,
    "start_time": "2025-03-25T17:56:58.569Z"
   },
   {
    "duration": 11,
    "start_time": "2025-03-25T17:56:58.592Z"
   },
   {
    "duration": 58,
    "start_time": "2025-03-25T17:56:58.604Z"
   },
   {
    "duration": 500,
    "start_time": "2025-03-25T17:56:58.664Z"
   },
   {
    "duration": 12,
    "start_time": "2025-03-25T17:56:59.166Z"
   },
   {
    "duration": 82,
    "start_time": "2025-03-25T17:56:59.179Z"
   },
   {
    "duration": 404,
    "start_time": "2025-03-25T17:56:59.262Z"
   },
   {
    "duration": 9,
    "start_time": "2025-03-25T17:56:59.667Z"
   },
   {
    "duration": 400,
    "start_time": "2025-03-25T17:56:59.677Z"
   },
   {
    "duration": 10,
    "start_time": "2025-03-25T17:57:00.079Z"
   },
   {
    "duration": 568,
    "start_time": "2025-03-25T17:57:00.091Z"
   },
   {
    "duration": 512,
    "start_time": "2025-03-25T17:57:00.661Z"
   },
   {
    "duration": 398,
    "start_time": "2025-03-25T17:57:01.175Z"
   },
   {
    "duration": 988,
    "start_time": "2025-03-25T17:57:01.575Z"
   },
   {
    "duration": 298,
    "start_time": "2025-03-25T17:57:02.565Z"
   },
   {
    "duration": 901,
    "start_time": "2025-03-25T17:57:02.865Z"
   },
   {
    "duration": 457,
    "start_time": "2025-03-25T17:57:03.768Z"
   },
   {
    "duration": 32,
    "start_time": "2025-03-25T17:57:04.227Z"
   },
   {
    "duration": 592,
    "start_time": "2025-03-25T17:57:04.260Z"
   },
   {
    "duration": 13,
    "start_time": "2025-03-25T17:57:04.856Z"
   },
   {
    "duration": 510,
    "start_time": "2025-03-25T17:57:04.871Z"
   },
   {
    "duration": 88,
    "start_time": "2025-03-26T07:17:05.424Z"
   },
   {
    "duration": 5328,
    "start_time": "2025-03-26T07:17:34.136Z"
   },
   {
    "duration": 268,
    "start_time": "2025-03-26T07:17:39.466Z"
   },
   {
    "duration": 19,
    "start_time": "2025-03-26T07:17:39.736Z"
   },
   {
    "duration": 20,
    "start_time": "2025-03-26T07:17:39.757Z"
   },
   {
    "duration": 14,
    "start_time": "2025-03-26T07:17:39.779Z"
   },
   {
    "duration": 12,
    "start_time": "2025-03-26T07:17:39.804Z"
   },
   {
    "duration": 16,
    "start_time": "2025-03-26T07:17:39.818Z"
   },
   {
    "duration": 21,
    "start_time": "2025-03-26T07:17:39.836Z"
   },
   {
    "duration": 44,
    "start_time": "2025-03-26T07:17:39.859Z"
   },
   {
    "duration": 10,
    "start_time": "2025-03-26T07:17:39.906Z"
   },
   {
    "duration": 4,
    "start_time": "2025-03-26T07:17:39.917Z"
   },
   {
    "duration": 4,
    "start_time": "2025-03-26T07:17:39.923Z"
   },
   {
    "duration": 20,
    "start_time": "2025-03-26T07:17:39.929Z"
   },
   {
    "duration": 5,
    "start_time": "2025-03-26T07:17:39.951Z"
   },
   {
    "duration": 169,
    "start_time": "2025-03-26T07:17:39.958Z"
   },
   {
    "duration": 5,
    "start_time": "2025-03-26T07:17:40.129Z"
   },
   {
    "duration": 154,
    "start_time": "2025-03-26T07:17:40.135Z"
   },
   {
    "duration": 5,
    "start_time": "2025-03-26T07:17:40.290Z"
   },
   {
    "duration": 19,
    "start_time": "2025-03-26T07:17:40.304Z"
   },
   {
    "duration": 5,
    "start_time": "2025-03-26T07:17:40.324Z"
   },
   {
    "duration": 11,
    "start_time": "2025-03-26T07:17:40.331Z"
   },
   {
    "duration": 14,
    "start_time": "2025-03-26T07:17:40.344Z"
   },
   {
    "duration": 7,
    "start_time": "2025-03-26T07:17:40.360Z"
   },
   {
    "duration": 49,
    "start_time": "2025-03-26T07:17:40.368Z"
   },
   {
    "duration": 28,
    "start_time": "2025-03-26T07:17:40.418Z"
   },
   {
    "duration": 25,
    "start_time": "2025-03-26T07:17:40.448Z"
   },
   {
    "duration": 36,
    "start_time": "2025-03-26T07:17:40.474Z"
   },
   {
    "duration": 10,
    "start_time": "2025-03-26T07:17:40.514Z"
   },
   {
    "duration": 18,
    "start_time": "2025-03-26T07:17:40.526Z"
   },
   {
    "duration": 3,
    "start_time": "2025-03-26T07:17:40.546Z"
   },
   {
    "duration": 7,
    "start_time": "2025-03-26T07:17:40.551Z"
   },
   {
    "duration": 246,
    "start_time": "2025-03-26T07:17:40.559Z"
   },
   {
    "duration": 15,
    "start_time": "2025-03-26T07:17:40.807Z"
   },
   {
    "duration": 20,
    "start_time": "2025-03-26T07:17:40.824Z"
   },
   {
    "duration": 220,
    "start_time": "2025-03-26T07:17:40.846Z"
   },
   {
    "duration": 11,
    "start_time": "2025-03-26T07:17:41.067Z"
   },
   {
    "duration": 216,
    "start_time": "2025-03-26T07:17:41.080Z"
   },
   {
    "duration": 15,
    "start_time": "2025-03-26T07:17:41.298Z"
   },
   {
    "duration": 254,
    "start_time": "2025-03-26T07:17:41.315Z"
   },
   {
    "duration": 262,
    "start_time": "2025-03-26T07:17:41.571Z"
   },
   {
    "duration": 236,
    "start_time": "2025-03-26T07:17:41.835Z"
   },
   {
    "duration": 474,
    "start_time": "2025-03-26T07:17:42.073Z"
   },
   {
    "duration": 169,
    "start_time": "2025-03-26T07:17:42.549Z"
   },
   {
    "duration": 589,
    "start_time": "2025-03-26T07:17:42.720Z"
   },
   {
    "duration": 562,
    "start_time": "2025-03-26T07:17:43.311Z"
   },
   {
    "duration": 36,
    "start_time": "2025-03-26T07:17:43.875Z"
   },
   {
    "duration": 808,
    "start_time": "2025-03-26T07:17:43.913Z"
   },
   {
    "duration": 16,
    "start_time": "2025-03-26T07:17:44.723Z"
   },
   {
    "duration": 488,
    "start_time": "2025-03-26T07:17:44.741Z"
   },
   {
    "duration": 3955,
    "start_time": "2025-03-26T10:16:11.719Z"
   },
   {
    "duration": 224,
    "start_time": "2025-03-26T10:16:15.676Z"
   },
   {
    "duration": 17,
    "start_time": "2025-03-26T10:16:15.902Z"
   },
   {
    "duration": 73,
    "start_time": "2025-03-26T10:16:15.921Z"
   },
   {
    "duration": 12,
    "start_time": "2025-03-26T10:16:15.996Z"
   },
   {
    "duration": 23,
    "start_time": "2025-03-26T10:16:16.010Z"
   },
   {
    "duration": 19,
    "start_time": "2025-03-26T10:16:16.035Z"
   },
   {
    "duration": 45,
    "start_time": "2025-03-26T10:16:16.056Z"
   },
   {
    "duration": 30,
    "start_time": "2025-03-26T10:16:16.103Z"
   },
   {
    "duration": 33,
    "start_time": "2025-03-26T10:16:16.136Z"
   },
   {
    "duration": 5,
    "start_time": "2025-03-26T10:16:16.171Z"
   },
   {
    "duration": 52,
    "start_time": "2025-03-26T10:16:16.178Z"
   },
   {
    "duration": 13,
    "start_time": "2025-03-26T10:16:16.232Z"
   },
   {
    "duration": 7,
    "start_time": "2025-03-26T10:16:16.247Z"
   },
   {
    "duration": 10,
    "start_time": "2025-03-26T10:16:16.256Z"
   },
   {
    "duration": 19,
    "start_time": "2025-03-26T10:16:16.267Z"
   },
   {
    "duration": 8,
    "start_time": "2025-03-26T10:16:16.288Z"
   },
   {
    "duration": 20,
    "start_time": "2025-03-26T10:16:16.297Z"
   },
   {
    "duration": 17,
    "start_time": "2025-03-26T10:16:16.319Z"
   },
   {
    "duration": 32,
    "start_time": "2025-03-26T10:16:16.338Z"
   },
   {
    "duration": 43,
    "start_time": "2025-03-26T10:16:16.372Z"
   },
   {
    "duration": 20,
    "start_time": "2025-03-26T10:16:16.417Z"
   },
   {
    "duration": 11,
    "start_time": "2025-03-26T10:16:16.439Z"
   },
   {
    "duration": 18,
    "start_time": "2025-03-26T10:16:16.452Z"
   },
   {
    "duration": 37,
    "start_time": "2025-03-26T10:16:16.472Z"
   },
   {
    "duration": 229,
    "start_time": "2025-03-26T10:16:16.511Z"
   },
   {
    "duration": 12,
    "start_time": "2025-03-26T10:16:16.742Z"
   },
   {
    "duration": 7,
    "start_time": "2025-03-26T10:16:16.759Z"
   },
   {
    "duration": 228,
    "start_time": "2025-03-26T10:16:16.768Z"
   },
   {
    "duration": 11,
    "start_time": "2025-03-26T10:16:16.998Z"
   },
   {
    "duration": 212,
    "start_time": "2025-03-26T10:16:17.010Z"
   },
   {
    "duration": 18,
    "start_time": "2025-03-26T10:16:17.224Z"
   },
   {
    "duration": 287,
    "start_time": "2025-03-26T10:16:17.244Z"
   },
   {
    "duration": 10,
    "start_time": "2025-03-26T10:16:17.533Z"
   },
   {
    "duration": 297,
    "start_time": "2025-03-26T10:16:17.545Z"
   },
   {
    "duration": 241,
    "start_time": "2025-03-26T10:16:17.844Z"
   },
   {
    "duration": 301,
    "start_time": "2025-03-26T10:16:18.087Z"
   },
   {
    "duration": 169,
    "start_time": "2025-03-26T10:16:18.389Z"
   },
   {
    "duration": 591,
    "start_time": "2025-03-26T10:16:18.559Z"
   },
   {
    "duration": 438,
    "start_time": "2025-03-26T10:16:19.152Z"
   },
   {
    "duration": 33,
    "start_time": "2025-03-26T10:16:19.592Z"
   },
   {
    "duration": 788,
    "start_time": "2025-03-26T10:16:19.627Z"
   },
   {
    "duration": 745,
    "start_time": "2025-03-26T10:16:20.417Z"
   },
   {
    "duration": 13,
    "start_time": "2025-03-26T10:16:21.164Z"
   },
   {
    "duration": 506,
    "start_time": "2025-03-26T10:16:21.179Z"
   },
   {
    "duration": 22,
    "start_time": "2025-03-26T10:16:21.686Z"
   },
   {
    "duration": 542,
    "start_time": "2025-03-26T10:16:21.710Z"
   },
   {
    "duration": 7,
    "start_time": "2025-03-26T10:18:27.432Z"
   },
   {
    "duration": 15,
    "start_time": "2025-03-26T10:18:28.512Z"
   }
  ],
  "colab": {
   "provenance": []
  },
  "kernelspec": {
   "display_name": "Python [conda env:base] *",
   "language": "python",
   "name": "conda-base-py"
  },
  "language_info": {
   "codemirror_mode": {
    "name": "ipython",
    "version": 3
   },
   "file_extension": ".py",
   "mimetype": "text/x-python",
   "name": "python",
   "nbconvert_exporter": "python",
   "pygments_lexer": "ipython3",
   "version": "3.12.7"
  },
  "toc": {
   "base_numbering": 1,
   "nav_menu": {},
   "number_sections": true,
   "sideBar": true,
   "skip_h1_title": true,
   "title_cell": "Table of Contents",
   "title_sidebar": "Contents",
   "toc_cell": false,
   "toc_position": {},
   "toc_section_display": true,
   "toc_window_display": false
  }
 },
 "nbformat": 4,
 "nbformat_minor": 5
}
