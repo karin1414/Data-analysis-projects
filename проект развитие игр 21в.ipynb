{
 "cells": [
  {
   "cell_type": "markdown",
   "id": "e06910dd",
   "metadata": {
    "id": "e06910dd"
   },
   "source": [
    "# Развитие индустрии игр в начале XXI века \n",
    "\n",
    "- Автор Волкова Карина\n",
    "- Дата:  10.03.2025"
   ]
  },
  {
   "cell_type": "markdown",
   "id": "4149134c",
   "metadata": {
    "id": "4149134c"
   },
   "source": [
    "### Цели и задачи проекта\n",
    "\n",
    "<font color='#777778'>\n",
    "Цели:\n",
    "    \n",
    "- Заинтересовать людей, которые любят старые игры, и представить им проект «Секреты Темнолесья».    \n",
    "- Изучить и представить информацию о росте и изменениях в игровой индустрии с 2000 по 2013 год.   \n",
    "\n",
    "Задачи:\n",
    "\n",
    "- Исследовать исторические данные о продажах игр, жанрах и платформах.\n",
    "- Выделить игры, выпущенные в период с 2000 по 2013 год.\n",
    "- Категоризовать игры по оценкам пользователей и экспертов на три категории.\n",
    "- Провести анализ игровых платформ и жанров, с акцентом на RPG.\n",
    "- Изучить региональные предпочтения игроков в разные годы.\n",
    "- Эти цели и задачи помогут создать информативную и привлекательную статью, которая будет интересна как старым поклонникам игр, так и новым игрокам. </font>"
   ]
  },
  {
   "cell_type": "markdown",
   "id": "728986ea",
   "metadata": {
    "id": "728986ea"
   },
   "source": [
    "### Описание данных\n",
    "\n",
    "<font color='#777778'> Данные `/datasets/new_games.csv` содержат информацию о продажах игр разных жанров и платформ, а также пользовательские и экспертные оценки игр:\n",
    "- `Name` — название игры.\n",
    "- `Platform` — название платформы.\n",
    "- `Year of Release` — год выпуска игры.\n",
    "- `Genre` — жанр игры.\n",
    "- `NA sales` — продажи в Северной Америке (в миллионах проданных копий).\n",
    "- `EU sales` — продажи в Европе (в миллионах проданных копий).\n",
    "- `JP sales` — продажи в Японии (в миллионах проданных копий).\n",
    "- `Other sales` — продажи в других странах (в миллионах проданных копий).\n",
    "- `Critic Score` — оценка критиков (от 0 до 100).\n",
    "- `User Score` — оценка пользователей (от 0 до 10).\n",
    "- `Rating` — рейтинг организации ESRB (англ. Entertainment Software Rating Board). Эта ассоциация определяет рейтинг компьютерных игр и присваивает им подходящую возрастную категорию.</font>"
   ]
  },
  {
   "cell_type": "markdown",
   "id": "4fecaf95",
   "metadata": {
    "id": "4fecaf95"
   },
   "source": [
    "### Содержимое проекта\n",
    "\n",
    "<font color='#777778'>\n",
    "    \n",
    "    \n",
    "- Проверка ошибок в данных и их предобработка\n",
    "- Фильтрация данных\n",
    "- Категоризация данных\n",
    "    \n",
    "</font>\n",
    "\n",
    "---"
   ]
  },
  {
   "cell_type": "markdown",
   "id": "6f7d21d6",
   "metadata": {
    "id": "6f7d21d6"
   },
   "source": [
    "## 1. Загрузка данных и знакомство с ними\n",
    "\n",
    "- Загрузите необходимые библиотеки Python и данные датасета `/datasets/new_games.csv`.\n"
   ]
  },
  {
   "cell_type": "code",
   "execution_count": 8,
   "id": "ebb66dc5",
   "metadata": {
    "id": "ebb66dc5"
   },
   "outputs": [],
   "source": [
    "import pandas as pd"
   ]
  },
  {
   "cell_type": "code",
   "execution_count": 9,
   "id": "90fee493",
   "metadata": {
    "id": "90fee493"
   },
   "outputs": [],
   "source": [
    "games = pd.read_csv('')"
   ]
  },
  {
   "cell_type": "markdown",
   "id": "e0a8705f",
   "metadata": {
    "id": "e0a8705f"
   },
   "source": [
    "- Познакомьтесь с данными: выведите первые строки и результат метода `info()`.\n"
   ]
  },
  {
   "cell_type": "code",
   "execution_count": 12,
   "id": "d7c8eb4b",
   "metadata": {
    "id": "d7c8eb4b"
   },
   "outputs": [
    {
     "data": {
      "text/html": [
       "<div>\n",
       "<style scoped>\n",
       "    .dataframe tbody tr th:only-of-type {\n",
       "        vertical-align: middle;\n",
       "    }\n",
       "\n",
       "    .dataframe tbody tr th {\n",
       "        vertical-align: top;\n",
       "    }\n",
       "\n",
       "    .dataframe thead th {\n",
       "        text-align: right;\n",
       "    }\n",
       "</style>\n",
       "<table border=\"1\" class=\"dataframe\">\n",
       "  <thead>\n",
       "    <tr style=\"text-align: right;\">\n",
       "      <th></th>\n",
       "      <th>Name</th>\n",
       "      <th>Platform</th>\n",
       "      <th>Year of Release</th>\n",
       "      <th>Genre</th>\n",
       "      <th>NA sales</th>\n",
       "      <th>EU sales</th>\n",
       "      <th>JP sales</th>\n",
       "      <th>Other sales</th>\n",
       "      <th>Critic Score</th>\n",
       "      <th>User Score</th>\n",
       "      <th>Rating</th>\n",
       "    </tr>\n",
       "  </thead>\n",
       "  <tbody>\n",
       "    <tr>\n",
       "      <th>0</th>\n",
       "      <td>Wii Sports</td>\n",
       "      <td>Wii</td>\n",
       "      <td>2006.0</td>\n",
       "      <td>Sports</td>\n",
       "      <td>41.36</td>\n",
       "      <td>28.96</td>\n",
       "      <td>3.77</td>\n",
       "      <td>8.45</td>\n",
       "      <td>76.0</td>\n",
       "      <td>8</td>\n",
       "      <td>E</td>\n",
       "    </tr>\n",
       "    <tr>\n",
       "      <th>1</th>\n",
       "      <td>Super Mario Bros.</td>\n",
       "      <td>NES</td>\n",
       "      <td>1985.0</td>\n",
       "      <td>Platform</td>\n",
       "      <td>29.08</td>\n",
       "      <td>3.58</td>\n",
       "      <td>6.81</td>\n",
       "      <td>0.77</td>\n",
       "      <td>NaN</td>\n",
       "      <td>NaN</td>\n",
       "      <td>NaN</td>\n",
       "    </tr>\n",
       "    <tr>\n",
       "      <th>2</th>\n",
       "      <td>Mario Kart Wii</td>\n",
       "      <td>Wii</td>\n",
       "      <td>2008.0</td>\n",
       "      <td>Racing</td>\n",
       "      <td>15.68</td>\n",
       "      <td>12.76</td>\n",
       "      <td>3.79</td>\n",
       "      <td>3.29</td>\n",
       "      <td>82.0</td>\n",
       "      <td>8.3</td>\n",
       "      <td>E</td>\n",
       "    </tr>\n",
       "    <tr>\n",
       "      <th>3</th>\n",
       "      <td>Wii Sports Resort</td>\n",
       "      <td>Wii</td>\n",
       "      <td>2009.0</td>\n",
       "      <td>Sports</td>\n",
       "      <td>15.61</td>\n",
       "      <td>10.93</td>\n",
       "      <td>3.28</td>\n",
       "      <td>2.95</td>\n",
       "      <td>80.0</td>\n",
       "      <td>8</td>\n",
       "      <td>E</td>\n",
       "    </tr>\n",
       "    <tr>\n",
       "      <th>4</th>\n",
       "      <td>Pokemon Red/Pokemon Blue</td>\n",
       "      <td>GB</td>\n",
       "      <td>1996.0</td>\n",
       "      <td>Role-Playing</td>\n",
       "      <td>11.27</td>\n",
       "      <td>8.89</td>\n",
       "      <td>10.22</td>\n",
       "      <td>1.00</td>\n",
       "      <td>NaN</td>\n",
       "      <td>NaN</td>\n",
       "      <td>NaN</td>\n",
       "    </tr>\n",
       "  </tbody>\n",
       "</table>\n",
       "</div>"
      ],
      "text/plain": [
       "                       Name Platform  Year of Release         Genre  NA sales  \\\n",
       "0                Wii Sports      Wii           2006.0        Sports     41.36   \n",
       "1         Super Mario Bros.      NES           1985.0      Platform     29.08   \n",
       "2            Mario Kart Wii      Wii           2008.0        Racing     15.68   \n",
       "3         Wii Sports Resort      Wii           2009.0        Sports     15.61   \n",
       "4  Pokemon Red/Pokemon Blue       GB           1996.0  Role-Playing     11.27   \n",
       "\n",
       "  EU sales JP sales  Other sales  Critic Score User Score Rating  \n",
       "0    28.96     3.77         8.45          76.0          8      E  \n",
       "1     3.58     6.81         0.77           NaN        NaN    NaN  \n",
       "2    12.76     3.79         3.29          82.0        8.3      E  \n",
       "3    10.93     3.28         2.95          80.0          8      E  \n",
       "4     8.89    10.22         1.00           NaN        NaN    NaN  "
      ]
     },
     "execution_count": 12,
     "metadata": {},
     "output_type": "execute_result"
    }
   ],
   "source": [
    "games.head()"
   ]
  },
  {
   "cell_type": "code",
   "execution_count": 13,
   "id": "3937acf7",
   "metadata": {
    "id": "3937acf7"
   },
   "outputs": [
    {
     "name": "stdout",
     "output_type": "stream",
     "text": [
      "<class 'pandas.core.frame.DataFrame'>\n",
      "RangeIndex: 16956 entries, 0 to 16955\n",
      "Data columns (total 11 columns):\n",
      " #   Column           Non-Null Count  Dtype  \n",
      "---  ------           --------------  -----  \n",
      " 0   Name             16954 non-null  object \n",
      " 1   Platform         16956 non-null  object \n",
      " 2   Year of Release  16681 non-null  float64\n",
      " 3   Genre            16954 non-null  object \n",
      " 4   NA sales         16956 non-null  float64\n",
      " 5   EU sales         16956 non-null  object \n",
      " 6   JP sales         16956 non-null  object \n",
      " 7   Other sales      16956 non-null  float64\n",
      " 8   Critic Score     8242 non-null   float64\n",
      " 9   User Score       10152 non-null  object \n",
      " 10  Rating           10085 non-null  object \n",
      "dtypes: float64(4), object(7)\n",
      "memory usage: 1.4+ MB\n"
     ]
    }
   ],
   "source": [
    "games.info()"
   ]
  },
  {
   "cell_type": "markdown",
   "id": "7ed390aa-cd3b-4f46-aab0-e97e0af67290",
   "metadata": {
    "id": "fc561cac"
   },
   "source": [
    "- **Объем данных:**\n",
    "Датафрейм содержит 16,956 записей (строк) и 11 столбцов.\n",
    "\n",
    "- **Соответствие описанию:**\n",
    "Данные, судя по названиям столбцов, соответствуют описанию, связанному с продажами игр, их жанрами, платформами и оценками.\n",
    "\n",
    "- **Пропуски в данных:**\n",
    "В столбце `Name` 2 пропуска (16954 из 16956).\n",
    "В столбце `Year of Releas`e 275 пропусков (16681 из 16956).\n",
    "В столбце `Genre` 2 пропуска (16954 из 16956).\n",
    "В столбцах `Critic Score`, `User  Score`, и `Ratin`g также есть значительное количество пропусков:\n",
    "`Critic Score`: 8,264 непустых значений (пропуски: 8,692).\n",
    "`User  Score`: 10,152 непустых значений (пропуски: 6,804).\n",
    "`Rating`: 10,085 непустых значений (пропуски: 6,871).\n",
    "\n",
    "- **Типы данных:**\n",
    "Столбцы `NA sales`, `EU sales`, `JP sales` указаны как *object*, что может означать, что в них хранятся данные в текстовом формате (возможно, присутствуют символы, которые не позволяют интерпретировать их как числовые значения). Это может потребовать дополнительной обработки для анализа.\n",
    "\n",
    " Столбцы `Other sales`, `Critic Score` и `User  Scor`e имеют тип *float64* и *object*, соответственно, что также требует внимания для корректного анализа.\n",
    "Рекомендации:"
   ]
  },
  {
   "cell_type": "markdown",
   "id": "f7d962d9-649a-4e9a-aa7d-89a6bb956ded",
   "metadata": {},
   "source": [
    "\n"
   ]
  },
  {
   "cell_type": "code",
   "execution_count": null,
   "id": "bd117791-f215-4c19-919b-b240502ba9de",
   "metadata": {},
   "outputs": [],
   "source": []
  },
  {
   "cell_type": "markdown",
   "id": "774bf76e",
   "metadata": {
    "id": "774bf76e"
   },
   "source": [
    "---\n",
    "\n",
    "## 2.  Проверка ошибок в данных и их предобработка\n",
    "\n",
    "\n",
    "### 2.1. Названия, или метки, столбцов датафрейма\n",
    "\n",
    "- Выведите на экран названия всех столбцов датафрейма и проверьте их стиль написания.\n",
    "- Приведите все столбцы к стилю snake case. Названия должны быть в нижнем регистре, а вместо пробелов — подчёркивания."
   ]
  },
  {
   "cell_type": "code",
   "execution_count": 19,
   "id": "b9276a2b",
   "metadata": {
    "id": "b9276a2b"
   },
   "outputs": [
    {
     "data": {
      "text/plain": [
       "Index(['Name', 'Platform', 'Year of Release', 'Genre', 'NA sales', 'EU sales',\n",
       "       'JP sales', 'Other sales', 'Critic Score', 'User Score', 'Rating'],\n",
       "      dtype='object')"
      ]
     },
     "execution_count": 19,
     "metadata": {},
     "output_type": "execute_result"
    }
   ],
   "source": [
    "games.columns"
   ]
  },
  {
   "cell_type": "code",
   "execution_count": 20,
   "id": "d554563c",
   "metadata": {
    "id": "d554563c"
   },
   "outputs": [
    {
     "data": {
      "text/plain": [
       "Index(['name', 'platform', 'year_of_release', 'genre', 'na_sales', 'eu_sales',\n",
       "       'jp_sales', 'other_sales', 'critic_score', 'user_score', 'rating'],\n",
       "      dtype='object')"
      ]
     },
     "execution_count": 20,
     "metadata": {},
     "output_type": "execute_result"
    }
   ],
   "source": [
    "games.columns = [col.lower().replace(' ', '_') for col in games.columns]\n",
    "games.columns"
   ]
  },
  {
   "cell_type": "code",
   "execution_count": null,
   "id": "5bfae57f-a172-4f29-bd8f-311a9ae14418",
   "metadata": {},
   "outputs": [],
   "source": []
  },
  {
   "cell_type": "markdown",
   "id": "41bc6bf8",
   "metadata": {
    "id": "41bc6bf8"
   },
   "source": [
    "### 2.2. Типы данных\n",
    "\n",
    "- Если встречаются некорректные типы данных, предположите их причины.\n",
    "- При необходимости проведите преобразование типов данных. Помните, что столбцы с числовыми данными и пропусками нельзя преобразовать к типу `int64`. Сначала вам понадобится обработать пропуски, а затем преобразовать типы данных."
   ]
  },
  {
   "cell_type": "markdown",
   "id": "00ec3ace-1164-4c89-a826-3f62359c98cb",
   "metadata": {},
   "source": [
    "Пропуски (NaN): Если в столбце есть пропуски, pandas не сможет преобразовать этот столбец в целочисленный тип (int), так как NaN (Not a Number) не может быть представлен в виде целого числа.\n",
    "\n",
    "Неверные форматы: Например, если в столбце чисел есть строки (например, 'N/A', 'unknown'), это также может привести к ошибкам при преобразовании.\n",
    "\n",
    "Тип данных: Иногда данные могут быть загружены как строковые (например, '1000' вместо 1000), что требует преобразования."
   ]
  },
  {
   "cell_type": "markdown",
   "id": "8eabbaa9-f71f-4289-8057-e2c5b6c56e35",
   "metadata": {},
   "source": [
    "- Преобразуем 'year_of_release' из object в числовой тип"
   ]
  },
  {
   "cell_type": "code",
   "execution_count": 189,
   "id": "8adaac81",
   "metadata": {
    "id": "8adaac81"
   },
   "outputs": [],
   "source": [
    "games['year_of_release'] = pd.to_numeric(games['year_of_release'], errors='coerce')"
   ]
  },
  {
   "cell_type": "markdown",
   "id": "d4e0d5a4-e656-43b3-8664-0fcd7288e81a",
   "metadata": {},
   "source": [
    "- Некоторые записи могут содержать текстовые строки (например, \"unknown\"), которые не могут быть преобразованы в числа.\n",
    "- Некоторые игры могут не иметь информации о годе выпуска, что приводит к пустым значениям (NaN).\n",
    "- Проблемы при вводе данных могли привести к отсутствию информации."
   ]
  },
  {
   "cell_type": "markdown",
   "id": "3a708344-ce42-42c8-9523-f35cd14c55db",
   "metadata": {},
   "source": [
    "- нужно заполнить пропуски значением -1, чтобы обозначить, что информация отсутствует,\n",
    "- \n",
    "затем преобразовать в int64 для удобства"
   ]
  },
  {
   "cell_type": "code",
   "execution_count": 191,
   "id": "dbff2964-f63d-4833-b011-6eb0326f731f",
   "metadata": {},
   "outputs": [],
   "source": [
    "# Заполненим пропуски значением -1\n",
    "games['year_of_release'] = games['year_of_release'].fillna(-1).astype('int64')"
   ]
  },
  {
   "cell_type": "code",
   "execution_count": 186,
   "id": "e8412c01",
   "metadata": {
    "id": "e8412c01"
   },
   "outputs": [
    {
     "data": {
      "text/html": [
       "<div>\n",
       "<style scoped>\n",
       "    .dataframe tbody tr th:only-of-type {\n",
       "        vertical-align: middle;\n",
       "    }\n",
       "\n",
       "    .dataframe tbody tr th {\n",
       "        vertical-align: top;\n",
       "    }\n",
       "\n",
       "    .dataframe thead th {\n",
       "        text-align: right;\n",
       "    }\n",
       "</style>\n",
       "<table border=\"1\" class=\"dataframe\">\n",
       "  <thead>\n",
       "    <tr style=\"text-align: right;\">\n",
       "      <th></th>\n",
       "      <th>name</th>\n",
       "      <th>platform</th>\n",
       "      <th>year_of_release</th>\n",
       "      <th>genre</th>\n",
       "      <th>na_sales</th>\n",
       "      <th>eu_sales</th>\n",
       "      <th>jp_sales</th>\n",
       "      <th>other_sales</th>\n",
       "      <th>critic_score</th>\n",
       "      <th>user_score</th>\n",
       "      <th>rating</th>\n",
       "    </tr>\n",
       "  </thead>\n",
       "  <tbody>\n",
       "    <tr>\n",
       "      <th>0</th>\n",
       "      <td>Wii Sports</td>\n",
       "      <td>Wii</td>\n",
       "      <td>2006</td>\n",
       "      <td>Sports</td>\n",
       "      <td>41.36</td>\n",
       "      <td>28.96</td>\n",
       "      <td>3.77</td>\n",
       "      <td>8.45</td>\n",
       "      <td>76.0</td>\n",
       "      <td>8.0</td>\n",
       "      <td>E</td>\n",
       "    </tr>\n",
       "    <tr>\n",
       "      <th>1</th>\n",
       "      <td>Super Mario Bros.</td>\n",
       "      <td>NES</td>\n",
       "      <td>1985</td>\n",
       "      <td>Platform</td>\n",
       "      <td>29.08</td>\n",
       "      <td>3.58</td>\n",
       "      <td>6.81</td>\n",
       "      <td>0.77</td>\n",
       "      <td>-1.0</td>\n",
       "      <td>-1.0</td>\n",
       "      <td>Not Rated</td>\n",
       "    </tr>\n",
       "    <tr>\n",
       "      <th>2</th>\n",
       "      <td>Mario Kart Wii</td>\n",
       "      <td>Wii</td>\n",
       "      <td>2008</td>\n",
       "      <td>Racing</td>\n",
       "      <td>15.68</td>\n",
       "      <td>12.76</td>\n",
       "      <td>3.79</td>\n",
       "      <td>3.29</td>\n",
       "      <td>82.0</td>\n",
       "      <td>8.3</td>\n",
       "      <td>E</td>\n",
       "    </tr>\n",
       "    <tr>\n",
       "      <th>3</th>\n",
       "      <td>Wii Sports Resort</td>\n",
       "      <td>Wii</td>\n",
       "      <td>2009</td>\n",
       "      <td>Sports</td>\n",
       "      <td>15.61</td>\n",
       "      <td>10.93</td>\n",
       "      <td>3.28</td>\n",
       "      <td>2.95</td>\n",
       "      <td>80.0</td>\n",
       "      <td>8.0</td>\n",
       "      <td>E</td>\n",
       "    </tr>\n",
       "    <tr>\n",
       "      <th>4</th>\n",
       "      <td>Pokemon Red/Pokemon Blue</td>\n",
       "      <td>GB</td>\n",
       "      <td>1996</td>\n",
       "      <td>Role-Playing</td>\n",
       "      <td>11.27</td>\n",
       "      <td>8.89</td>\n",
       "      <td>10.22</td>\n",
       "      <td>1.00</td>\n",
       "      <td>-1.0</td>\n",
       "      <td>-1.0</td>\n",
       "      <td>Not Rated</td>\n",
       "    </tr>\n",
       "    <tr>\n",
       "      <th>5</th>\n",
       "      <td>Tetris</td>\n",
       "      <td>GB</td>\n",
       "      <td>1989</td>\n",
       "      <td>Puzzle</td>\n",
       "      <td>23.20</td>\n",
       "      <td>2.26</td>\n",
       "      <td>4.22</td>\n",
       "      <td>0.58</td>\n",
       "      <td>-1.0</td>\n",
       "      <td>-1.0</td>\n",
       "      <td>Not Rated</td>\n",
       "    </tr>\n",
       "    <tr>\n",
       "      <th>6</th>\n",
       "      <td>New Super Mario Bros.</td>\n",
       "      <td>DS</td>\n",
       "      <td>2006</td>\n",
       "      <td>Platform</td>\n",
       "      <td>11.28</td>\n",
       "      <td>9.14</td>\n",
       "      <td>6.50</td>\n",
       "      <td>2.88</td>\n",
       "      <td>89.0</td>\n",
       "      <td>8.5</td>\n",
       "      <td>E</td>\n",
       "    </tr>\n",
       "    <tr>\n",
       "      <th>7</th>\n",
       "      <td>Wii Play</td>\n",
       "      <td>Wii</td>\n",
       "      <td>2006</td>\n",
       "      <td>Misc</td>\n",
       "      <td>13.96</td>\n",
       "      <td>9.18</td>\n",
       "      <td>2.93</td>\n",
       "      <td>2.84</td>\n",
       "      <td>58.0</td>\n",
       "      <td>6.6</td>\n",
       "      <td>E</td>\n",
       "    </tr>\n",
       "    <tr>\n",
       "      <th>8</th>\n",
       "      <td>New Super Mario Bros. Wii</td>\n",
       "      <td>Wii</td>\n",
       "      <td>2009</td>\n",
       "      <td>Platform</td>\n",
       "      <td>14.44</td>\n",
       "      <td>6.94</td>\n",
       "      <td>4.70</td>\n",
       "      <td>2.24</td>\n",
       "      <td>87.0</td>\n",
       "      <td>8.4</td>\n",
       "      <td>E</td>\n",
       "    </tr>\n",
       "    <tr>\n",
       "      <th>9</th>\n",
       "      <td>Duck Hunt</td>\n",
       "      <td>NES</td>\n",
       "      <td>1984</td>\n",
       "      <td>Shooter</td>\n",
       "      <td>26.93</td>\n",
       "      <td>0.63</td>\n",
       "      <td>0.28</td>\n",
       "      <td>0.47</td>\n",
       "      <td>-1.0</td>\n",
       "      <td>-1.0</td>\n",
       "      <td>Not Rated</td>\n",
       "    </tr>\n",
       "  </tbody>\n",
       "</table>\n",
       "</div>"
      ],
      "text/plain": [
       "                        name platform  year_of_release         genre  \\\n",
       "0                 Wii Sports      Wii             2006        Sports   \n",
       "1          Super Mario Bros.      NES             1985      Platform   \n",
       "2             Mario Kart Wii      Wii             2008        Racing   \n",
       "3          Wii Sports Resort      Wii             2009        Sports   \n",
       "4   Pokemon Red/Pokemon Blue       GB             1996  Role-Playing   \n",
       "5                     Tetris       GB             1989        Puzzle   \n",
       "6      New Super Mario Bros.       DS             2006      Platform   \n",
       "7                   Wii Play      Wii             2006          Misc   \n",
       "8  New Super Mario Bros. Wii      Wii             2009      Platform   \n",
       "9                  Duck Hunt      NES             1984       Shooter   \n",
       "\n",
       "   na_sales  eu_sales  jp_sales  other_sales  critic_score  user_score  \\\n",
       "0     41.36     28.96      3.77         8.45          76.0         8.0   \n",
       "1     29.08      3.58      6.81         0.77          -1.0        -1.0   \n",
       "2     15.68     12.76      3.79         3.29          82.0         8.3   \n",
       "3     15.61     10.93      3.28         2.95          80.0         8.0   \n",
       "4     11.27      8.89     10.22         1.00          -1.0        -1.0   \n",
       "5     23.20      2.26      4.22         0.58          -1.0        -1.0   \n",
       "6     11.28      9.14      6.50         2.88          89.0         8.5   \n",
       "7     13.96      9.18      2.93         2.84          58.0         6.6   \n",
       "8     14.44      6.94      4.70         2.24          87.0         8.4   \n",
       "9     26.93      0.63      0.28         0.47          -1.0        -1.0   \n",
       "\n",
       "      rating  \n",
       "0          E  \n",
       "1  Not Rated  \n",
       "2          E  \n",
       "3          E  \n",
       "4  Not Rated  \n",
       "5  Not Rated  \n",
       "6          E  \n",
       "7          E  \n",
       "8          E  \n",
       "9  Not Rated  "
      ]
     },
     "execution_count": 186,
     "metadata": {},
     "output_type": "execute_result"
    }
   ],
   "source": [
    "games.head(10)"
   ]
  },
  {
   "cell_type": "markdown",
   "id": "a245ad89-c7a0-4379-96e3-0ed7704f0304",
   "metadata": {},
   "source": [
    "- Данные о продажах Северной Америки, Европы и Японии тоже нужно привести к чиловому типу, что более логично для работы с ними."
   ]
  },
  {
   "cell_type": "markdown",
   "id": "63378edf",
   "metadata": {
    "id": "63378edf"
   },
   "source": [
    "- В числовых столбцах могут встретиться строковые значения, например `unknown` или другие. Приводите такие столбцы к числовому типу данных, заменив строковые значения на пропуски."
   ]
  },
  {
   "cell_type": "code",
   "execution_count": 30,
   "id": "b325ea66-49bf-4508-b151-1fb8e944695e",
   "metadata": {},
   "outputs": [],
   "source": [
    "games['na_sales'] = pd.to_numeric(games['na_sales'], errors = 'coerce')\n",
    "games['eu_sales'] = pd.to_numeric(games['eu_sales'], errors = 'coerce')\n",
    "games['jp_sales'] = pd.to_numeric(games['jp_sales'], errors = 'coerce')"
   ]
  },
  {
   "cell_type": "code",
   "execution_count": 32,
   "id": "11003d69",
   "metadata": {
    "id": "11003d69"
   },
   "outputs": [
    {
     "name": "stdout",
     "output_type": "stream",
     "text": [
      "<class 'pandas.core.frame.DataFrame'>\n",
      "RangeIndex: 16956 entries, 0 to 16955\n",
      "Data columns (total 11 columns):\n",
      " #   Column           Non-Null Count  Dtype  \n",
      "---  ------           --------------  -----  \n",
      " 0   name             16954 non-null  object \n",
      " 1   platform         16956 non-null  object \n",
      " 2   year_of_release  16956 non-null  int64  \n",
      " 3   genre            16954 non-null  object \n",
      " 4   na_sales         16956 non-null  float64\n",
      " 5   eu_sales         16950 non-null  float64\n",
      " 6   jp_sales         16952 non-null  float64\n",
      " 7   other_sales      16956 non-null  float64\n",
      " 8   critic_score     8242 non-null   float64\n",
      " 9   user_score       10152 non-null  object \n",
      " 10  rating           10085 non-null  object \n",
      "dtypes: float64(5), int64(1), object(5)\n",
      "memory usage: 1.4+ MB\n"
     ]
    }
   ],
   "source": [
    "games.info()\n"
   ]
  },
  {
   "cell_type": "code",
   "execution_count": null,
   "id": "e9f893e3-8240-49a1-ba5e-ff43a634c7b7",
   "metadata": {},
   "outputs": [],
   "source": []
  },
  {
   "cell_type": "markdown",
   "id": "b39893cb",
   "metadata": {
    "id": "b39893cb"
   },
   "source": [
    "### 2.3. Наличие пропусков в данных\n",
    "\n",
    "- Количество пропусков в каждом столбце в абсолютных значениях:\n"
   ]
  },
  {
   "cell_type": "code",
   "execution_count": 34,
   "id": "0f1c91a8",
   "metadata": {
    "id": "0f1c91a8"
   },
   "outputs": [
    {
     "data": {
      "text/plain": [
       "name                  2\n",
       "platform              0\n",
       "year_of_release       0\n",
       "genre                 2\n",
       "na_sales              0\n",
       "eu_sales              6\n",
       "jp_sales              4\n",
       "other_sales           0\n",
       "critic_score       8714\n",
       "user_score         6804\n",
       "rating             6871\n",
       "dtype: int64"
      ]
     },
     "execution_count": 34,
     "metadata": {},
     "output_type": "execute_result"
    }
   ],
   "source": [
    "games.isna().sum()"
   ]
  },
  {
   "cell_type": "markdown",
   "id": "715bbcd4-5fa7-4ec2-bf7f-73cdb111a805",
   "metadata": {},
   "source": [
    "- Количество пропусков в каждом столбце в относительных значениях:"
   ]
  },
  {
   "cell_type": "code",
   "execution_count": 36,
   "id": "74e43ff6-c37a-4210-a5d6-8120dfc15a8e",
   "metadata": {},
   "outputs": [
    {
     "data": {
      "text/plain": [
       "name               0.000118\n",
       "platform           0.000000\n",
       "year_of_release    0.000000\n",
       "genre              0.000118\n",
       "na_sales           0.000000\n",
       "eu_sales           0.000354\n",
       "jp_sales           0.000236\n",
       "other_sales        0.000000\n",
       "critic_score       0.513918\n",
       "user_score         0.401274\n",
       "rating             0.405225\n",
       "dtype: float64"
      ]
     },
     "execution_count": 36,
     "metadata": {},
     "output_type": "execute_result"
    }
   ],
   "source": [
    "games.isna().sum() / len(games)"
   ]
  },
  {
   "cell_type": "markdown",
   "id": "ee01e18a-bca5-488c-8ddd-9f96bc1e8185",
   "metadata": {
    "id": "247a6cf7"
   },
   "source": [
    "**Пропуски:**"
   ]
  },
  {
   "cell_type": "markdown",
   "id": "467b4581-e07d-4499-b285-0951acc895d4",
   "metadata": {
    "id": "bd69e642"
   },
   "source": [
    "- name и genre: *Пропуски могут возникать из-за отсутствия информации о названии или жанре игры, возможно, в случае ошибок при вводе данных.*\n",
    "\n",
    "- na_sales, eu_sales, jp_sales: *Пропуски в данных о продажах могут быть связаны с отсутствием отчетов о продажах в определенных регионах или с тем, что игра не продавалась в этих регионах.*\n",
    "\n",
    "- critic_score, user_score и rating: *Высокое количество пропусков в этих столбцах может быть связано с тем, что не все игры получили оценки от критиков или пользователей.*"
   ]
  },
  {
   "cell_type": "markdown",
   "id": "1846ffb1-1160-4fdb-9e49-fc2401fec765",
   "metadata": {
    "id": "b6965b19"
   },
   "source": [
    "Возможные действия с пропусками:\n",
    "Удаление пропусков: Можно удалить строки с пропусками, если количество таких строк незначительно по сравнению с общим объемом данных.\n",
    "\n",
    "Замена пропусков: Можно заполнить пропуски средними значениями, медианами или модами для числовых данных (например, для продаж) или использовать наиболее частые значения для категориальных данных (например, для жанра). Это поможет сохранить объем данных и предотвратить искажения анализа.\n",
    "\n",
    "Анализ пропусков: Провести анализ причин пропусков и понять, как это может повлиять на анализ данных. Например, если пропуски в оценках критиков связаны с новыми играми, это может повлиять на общую оценку популярности игр."
   ]
  },
  {
   "cell_type": "code",
   "execution_count": null,
   "id": "cc2d1374",
   "metadata": {
    "id": "cc2d1374"
   },
   "outputs": [],
   "source": []
  },
  {
   "cell_type": "markdown",
   "id": "bbbe3bda",
   "metadata": {
    "id": "bbbe3bda"
   },
   "source": [
    "- Обработайте пропущенные значения. Для каждого случая вы можете выбрать оптимальный, на ваш взгляд, вариант: заменить на определённое значение, оставить как есть или удалить.\n",
    "- Если вы решите заменить пропуски на значение-индикатор, то убедитесь, что предложенное значение не может быть использовано в данных.\n",
    "- Если вы нашли пропуски в данных с количеством проданных копий игры в том или ином регионе, их можно заменить на среднее значение в зависимости от названия платформы и года выхода игры."
   ]
  },
  {
   "cell_type": "markdown",
   "id": "27f370c4-5be4-45f0-ac77-7045487c15ea",
   "metadata": {},
   "source": [
    "*Строки с пропусками в названиях и жанрах лучше удалить, т.к. их по 2 из 16956, а так же Название игры является ключевым атрибутом. Если отсутствует название, строка не имеет смысла.*"
   ]
  },
  {
   "cell_type": "code",
   "execution_count": 42,
   "id": "154be65d",
   "metadata": {
    "id": "154be65d"
   },
   "outputs": [],
   "source": [
    "games = games.dropna(subset=['name','genre'])"
   ]
  },
  {
   "cell_type": "markdown",
   "id": "3d099eab-0f45-404b-b381-65e9af94c250",
   "metadata": {
    "id": "3f42817b"
   },
   "source": [
    "*В строках продаж по регионам пропуски лучше заменить на среднее значение.*  "
   ]
  },
  {
   "cell_type": "code",
   "execution_count": 198,
   "id": "2784c760",
   "metadata": {
    "id": "2784c760"
   },
   "outputs": [
    {
     "data": {
      "text/plain": [
       "0"
      ]
     },
     "execution_count": 198,
     "metadata": {},
     "output_type": "execute_result"
    }
   ],
   "source": [
    "# среднее значения na_sales\n",
    "def fill_na_sales(row):\n",
    "    if pd.isna(row['na_sales']):\n",
    "        return games[(games['year_of_release'] == row['year_of_release']) & \n",
    "                     (games['platform'] == row['platform'])]['na_sales'].mean()\n",
    "    return row['na_sales']\n",
    "\n",
    "games['na_sales'] = games.apply(fill_na_sales, axis=1)\n",
    "games['na_sales'].isna().sum()"
   ]
  },
  {
   "cell_type": "code",
   "execution_count": 200,
   "id": "5995e649-7647-4c86-ac38-1210e2747b44",
   "metadata": {},
   "outputs": [
    {
     "data": {
      "text/plain": [
       "0"
      ]
     },
     "execution_count": 200,
     "metadata": {},
     "output_type": "execute_result"
    }
   ],
   "source": [
    "# среднее значения eu_sales\n",
    "def fill_na_sales(row):\n",
    "    if pd.isna(row['eu_sales']):\n",
    "        return games[(games['year_of_release'] == row['year_of_release']) & \n",
    "                     (games['platform'] == row['platform'])]['eu_sales'].mean()\n",
    "    return row['eu_sales']\n",
    "\n",
    "games['eu_sales'] = games.apply(fill_na_sales, axis=1)\n",
    "games['eu_sales'].isna().sum()"
   ]
  },
  {
   "cell_type": "code",
   "execution_count": 202,
   "id": "fbb6fc56-ab91-40e9-a282-ef90b7a164ec",
   "metadata": {},
   "outputs": [
    {
     "data": {
      "text/plain": [
       "0"
      ]
     },
     "execution_count": 202,
     "metadata": {},
     "output_type": "execute_result"
    }
   ],
   "source": [
    "# среднее значения jp_sales\n",
    "def fill_na_sales(row):\n",
    "    if pd.isna(row['jp_sales']):\n",
    "        return games[(games['year_of_release'] == row['year_of_release']) & \n",
    "                     (games['platform'] == row['platform'])]['jp_sales'].mean()\n",
    "    return row['jp_sales']\n",
    "\n",
    "games['jp_sales'] = games.apply(fill_na_sales, axis=1)\n",
    "games['jp_sales'].isna().sum()"
   ]
  },
  {
   "cell_type": "markdown",
   "id": "27158e0e-0800-4ca3-90c8-9ff046b5959f",
   "metadata": {},
   "source": [
    "*В строках оценок критиков и пользователей пропуски лучше заменить значением «-1».*  "
   ]
  },
  {
   "cell_type": "code",
   "execution_count": 50,
   "id": "4d2c778b-53ca-4be5-a22b-67c2a44fa680",
   "metadata": {},
   "outputs": [],
   "source": [
    "games['critic_score'] = games['critic_score'].fillna(-1)"
   ]
  },
  {
   "cell_type": "markdown",
   "id": "6af85fc2-5749-42b6-8a82-7912f74bbde3",
   "metadata": {},
   "source": [
    "*В строках оценок пользователей кроме пропусков есть значение tbd, заменим его и пропуски на «-1».*"
   ]
  },
  {
   "cell_type": "code",
   "execution_count": 53,
   "id": "064c2022-7f0f-48e4-a83a-60c39a3ab668",
   "metadata": {},
   "outputs": [],
   "source": [
    "games['user_score'] = games['user_score'].replace('tbd',-1).astype('float64')"
   ]
  },
  {
   "cell_type": "code",
   "execution_count": 204,
   "id": "74d6da18-1770-44d3-bdba-ea0d6e443bb6",
   "metadata": {},
   "outputs": [
    {
     "data": {
      "text/html": [
       "<div>\n",
       "<style scoped>\n",
       "    .dataframe tbody tr th:only-of-type {\n",
       "        vertical-align: middle;\n",
       "    }\n",
       "\n",
       "    .dataframe tbody tr th {\n",
       "        vertical-align: top;\n",
       "    }\n",
       "\n",
       "    .dataframe thead th {\n",
       "        text-align: right;\n",
       "    }\n",
       "</style>\n",
       "<table border=\"1\" class=\"dataframe\">\n",
       "  <thead>\n",
       "    <tr style=\"text-align: right;\">\n",
       "      <th></th>\n",
       "      <th>name</th>\n",
       "      <th>platform</th>\n",
       "      <th>year_of_release</th>\n",
       "      <th>genre</th>\n",
       "      <th>na_sales</th>\n",
       "      <th>eu_sales</th>\n",
       "      <th>jp_sales</th>\n",
       "      <th>other_sales</th>\n",
       "      <th>critic_score</th>\n",
       "      <th>user_score</th>\n",
       "      <th>rating</th>\n",
       "    </tr>\n",
       "  </thead>\n",
       "  <tbody>\n",
       "    <tr>\n",
       "      <th>0</th>\n",
       "      <td>Wii Sports</td>\n",
       "      <td>Wii</td>\n",
       "      <td>2006</td>\n",
       "      <td>Sports</td>\n",
       "      <td>41.36</td>\n",
       "      <td>28.96</td>\n",
       "      <td>3.77</td>\n",
       "      <td>8.45</td>\n",
       "      <td>76.0</td>\n",
       "      <td>8.0</td>\n",
       "      <td>E</td>\n",
       "    </tr>\n",
       "    <tr>\n",
       "      <th>1</th>\n",
       "      <td>Super Mario Bros.</td>\n",
       "      <td>NES</td>\n",
       "      <td>1985</td>\n",
       "      <td>Platform</td>\n",
       "      <td>29.08</td>\n",
       "      <td>3.58</td>\n",
       "      <td>6.81</td>\n",
       "      <td>0.77</td>\n",
       "      <td>-1.0</td>\n",
       "      <td>-1.0</td>\n",
       "      <td>Not Rated</td>\n",
       "    </tr>\n",
       "    <tr>\n",
       "      <th>2</th>\n",
       "      <td>Mario Kart Wii</td>\n",
       "      <td>Wii</td>\n",
       "      <td>2008</td>\n",
       "      <td>Racing</td>\n",
       "      <td>15.68</td>\n",
       "      <td>12.76</td>\n",
       "      <td>3.79</td>\n",
       "      <td>3.29</td>\n",
       "      <td>82.0</td>\n",
       "      <td>8.3</td>\n",
       "      <td>E</td>\n",
       "    </tr>\n",
       "    <tr>\n",
       "      <th>3</th>\n",
       "      <td>Wii Sports Resort</td>\n",
       "      <td>Wii</td>\n",
       "      <td>2009</td>\n",
       "      <td>Sports</td>\n",
       "      <td>15.61</td>\n",
       "      <td>10.93</td>\n",
       "      <td>3.28</td>\n",
       "      <td>2.95</td>\n",
       "      <td>80.0</td>\n",
       "      <td>8.0</td>\n",
       "      <td>E</td>\n",
       "    </tr>\n",
       "    <tr>\n",
       "      <th>4</th>\n",
       "      <td>Pokemon Red/Pokemon Blue</td>\n",
       "      <td>GB</td>\n",
       "      <td>1996</td>\n",
       "      <td>Role-Playing</td>\n",
       "      <td>11.27</td>\n",
       "      <td>8.89</td>\n",
       "      <td>10.22</td>\n",
       "      <td>1.00</td>\n",
       "      <td>-1.0</td>\n",
       "      <td>-1.0</td>\n",
       "      <td>Not Rated</td>\n",
       "    </tr>\n",
       "  </tbody>\n",
       "</table>\n",
       "</div>"
      ],
      "text/plain": [
       "                       name platform  year_of_release         genre  na_sales  \\\n",
       "0                Wii Sports      Wii             2006        Sports     41.36   \n",
       "1         Super Mario Bros.      NES             1985      Platform     29.08   \n",
       "2            Mario Kart Wii      Wii             2008        Racing     15.68   \n",
       "3         Wii Sports Resort      Wii             2009        Sports     15.61   \n",
       "4  Pokemon Red/Pokemon Blue       GB             1996  Role-Playing     11.27   \n",
       "\n",
       "   eu_sales  jp_sales  other_sales  critic_score  user_score     rating  \n",
       "0     28.96      3.77         8.45          76.0         8.0          E  \n",
       "1      3.58      6.81         0.77          -1.0        -1.0  Not Rated  \n",
       "2     12.76      3.79         3.29          82.0         8.3          E  \n",
       "3     10.93      3.28         2.95          80.0         8.0          E  \n",
       "4      8.89     10.22         1.00          -1.0        -1.0  Not Rated  "
      ]
     },
     "execution_count": 204,
     "metadata": {},
     "output_type": "execute_result"
    }
   ],
   "source": [
    "games['user_score'] = games['user_score'].fillna(-1)\n",
    "games.head()"
   ]
  },
  {
   "cell_type": "code",
   "execution_count": 207,
   "id": "37ce8c92-ecc6-4701-87cf-ec7e4049daab",
   "metadata": {},
   "outputs": [],
   "source": [
    "# пропуски в Rating заменим на 'Not Rated'\n",
    "games['rating'] = games['rating'].fillna('Not Rated')"
   ]
  },
  {
   "cell_type": "code",
   "execution_count": 58,
   "id": "f78f0e99-c51f-4047-a97c-af3bfd9c0fb2",
   "metadata": {},
   "outputs": [
    {
     "name": "stdout",
     "output_type": "stream",
     "text": [
      "<class 'pandas.core.frame.DataFrame'>\n",
      "Index: 16954 entries, 0 to 16955\n",
      "Data columns (total 11 columns):\n",
      " #   Column           Non-Null Count  Dtype  \n",
      "---  ------           --------------  -----  \n",
      " 0   name             16954 non-null  object \n",
      " 1   platform         16954 non-null  object \n",
      " 2   year_of_release  16954 non-null  int64  \n",
      " 3   genre            16954 non-null  object \n",
      " 4   na_sales         16954 non-null  float64\n",
      " 5   eu_sales         16954 non-null  float64\n",
      " 6   jp_sales         16954 non-null  float64\n",
      " 7   other_sales      16954 non-null  float64\n",
      " 8   critic_score     16954 non-null  float64\n",
      " 9   user_score       16954 non-null  float64\n",
      " 10  rating           16954 non-null  object \n",
      "dtypes: float64(6), int64(1), object(4)\n",
      "memory usage: 1.6+ MB\n"
     ]
    }
   ],
   "source": [
    "games.info()"
   ]
  },
  {
   "cell_type": "code",
   "execution_count": null,
   "id": "1cf65f79-36bb-409b-a828-c586ce9ac0d5",
   "metadata": {},
   "outputs": [],
   "source": []
  },
  {
   "cell_type": "markdown",
   "id": "a63363fd",
   "metadata": {
    "id": "a63363fd"
   },
   "source": [
    "### 2.4. Явные и неявные дубликаты в данных\n",
    "\n",
    "- Изучите уникальные значения в категориальных данных, например с названиями жанра игры, платформы, рейтинга и года выпуска. Проверьте, встречаются ли среди данных неявные дубликаты, связанные с опечатками или разным способом написания.\n",
    "- При необходимости проведите нормализацию данных с текстовыми значениями. Названия или жанры игр можно привести к нижнему регистру, а названия рейтинга — к верхнему."
   ]
  },
  {
   "cell_type": "code",
   "execution_count": 60,
   "id": "81a2d8f5-648b-4e9b-88af-559ce9ed9fe8",
   "metadata": {},
   "outputs": [
    {
     "data": {
      "text/plain": [
       "16954"
      ]
     },
     "execution_count": 60,
     "metadata": {},
     "output_type": "execute_result"
    }
   ],
   "source": [
    "rows = games.shape[0]\n",
    "rows"
   ]
  },
  {
   "cell_type": "code",
   "execution_count": 61,
   "id": "d67d996e-78c5-4669-8a17-88fa1601cbd1",
   "metadata": {},
   "outputs": [
    {
     "data": {
      "text/plain": [
       "182"
      ]
     },
     "execution_count": 61,
     "metadata": {},
     "output_type": "execute_result"
    }
   ],
   "source": [
    "# Количество дубликатов\n",
    "games.duplicated().sum()"
   ]
  },
  {
   "cell_type": "code",
   "execution_count": 62,
   "id": "491c9c39",
   "metadata": {
    "id": "491c9c39"
   },
   "outputs": [
    {
     "data": {
      "text/plain": [
       "name\n",
       "need for speed: most wanted                                       12\n",
       "terraria                                                           9\n",
       "lego marvel super heroes                                           9\n",
       "monopoly                                                           9\n",
       "madden nfl 07                                                      9\n",
       "                                                                  ..\n",
       "the idolm@ster sp: wandering star / perfect sun / missing moon     1\n",
       "genji: dawn of the samurai                                         1\n",
       "what's cooking? jamie oliver                                       1\n",
       "me & my katamari                                                   1\n",
       "haitaka no psychedelica                                            1\n",
       "Name: count, Length: 11559, dtype: int64"
      ]
     },
     "execution_count": 62,
     "metadata": {},
     "output_type": "execute_result"
    }
   ],
   "source": [
    "games['name'].str.lower().value_counts()"
   ]
  },
  {
   "cell_type": "code",
   "execution_count": 63,
   "id": "3151f7bb-1949-426f-b87a-d279c3c234a2",
   "metadata": {},
   "outputs": [
    {
     "data": {
      "text/plain": [
       "genre\n",
       "action          3418\n",
       "sports          2375\n",
       "misc            1772\n",
       "role-playing    1516\n",
       "shooter         1346\n",
       "adventure       1323\n",
       "racing          1273\n",
       "platform         904\n",
       "simulation       884\n",
       "fighting         862\n",
       "strategy         691\n",
       "puzzle           590\n",
       "Name: count, dtype: int64"
      ]
     },
     "execution_count": 63,
     "metadata": {},
     "output_type": "execute_result"
    }
   ],
   "source": [
    "games['genre'].str.lower().value_counts()"
   ]
  },
  {
   "cell_type": "code",
   "execution_count": 64,
   "id": "cdf35049-efaa-4854-abc9-9dc4968daa87",
   "metadata": {},
   "outputs": [
    {
     "data": {
      "text/plain": [
       "12"
      ]
     },
     "execution_count": 64,
     "metadata": {},
     "output_type": "execute_result"
    }
   ],
   "source": [
    "games['genre'].str.lower().nunique()"
   ]
  },
  {
   "cell_type": "code",
   "execution_count": 65,
   "id": "66c30553-818b-4c34-8e30-38d6461987e5",
   "metadata": {},
   "outputs": [
    {
     "data": {
      "text/plain": [
       "platform\n",
       "PS2     2189\n",
       "DS      2177\n",
       "PS3     1355\n",
       "Wii     1340\n",
       "X360    1281\n",
       "PSP     1229\n",
       "PS      1215\n",
       "PC       990\n",
       "XB       839\n",
       "GBA      837\n",
       "GC       563\n",
       "3DS      530\n",
       "PSV      435\n",
       "PS4      395\n",
       "N64      323\n",
       "XOne     251\n",
       "SNES     241\n",
       "SAT      174\n",
       "WiiU     147\n",
       "2600     135\n",
       "NES      100\n",
       "GB        98\n",
       "DC        52\n",
       "GEN       27\n",
       "NG        12\n",
       "SCD        6\n",
       "WS         6\n",
       "3DO        3\n",
       "TG16       2\n",
       "GG         1\n",
       "PCFX       1\n",
       "Name: count, dtype: int64"
      ]
     },
     "execution_count": 65,
     "metadata": {},
     "output_type": "execute_result"
    }
   ],
   "source": [
    "games['platform'].value_counts()"
   ]
  },
  {
   "cell_type": "code",
   "execution_count": 66,
   "id": "12ef5770-8e86-4620-a0df-b05751480a32",
   "metadata": {},
   "outputs": [
    {
     "data": {
      "text/plain": [
       "31"
      ]
     },
     "execution_count": 66,
     "metadata": {},
     "output_type": "execute_result"
    }
   ],
   "source": [
    "games['platform'].nunique()"
   ]
  },
  {
   "cell_type": "code",
   "execution_count": 67,
   "id": "2ecbea26-0ea0-4fc7-b1c8-71e3635f8b59",
   "metadata": {},
   "outputs": [
    {
     "data": {
      "text/plain": [
       "year_of_release\n",
       " 2009    1450\n",
       " 2008    1445\n",
       " 2010    1279\n",
       " 2007    1218\n",
       " 2011    1149\n",
       " 2006    1020\n",
       " 2005     950\n",
       " 2002     839\n",
       " 2003     789\n",
       " 2004     771\n",
       " 2012     670\n",
       " 2015     612\n",
       " 2014     584\n",
       " 2013     552\n",
       " 2016     507\n",
       " 2001     491\n",
       " 1998     384\n",
       " 2000     357\n",
       " 1999     341\n",
       " 1997     293\n",
       "-1        275\n",
       " 1996     267\n",
       " 1995     220\n",
       " 1994     121\n",
       " 1993      60\n",
       " 1981      46\n",
       " 1992      43\n",
       " 1991      42\n",
       " 1982      37\n",
       " 1986      22\n",
       " 1983      18\n",
       " 1989      17\n",
       " 1987      17\n",
       " 1990      16\n",
       " 1988      15\n",
       " 1985      14\n",
       " 1984      14\n",
       " 1980       9\n",
       "Name: count, dtype: int64"
      ]
     },
     "execution_count": 67,
     "metadata": {},
     "output_type": "execute_result"
    }
   ],
   "source": [
    "games['year_of_release'].value_counts()"
   ]
  },
  {
   "cell_type": "code",
   "execution_count": 68,
   "id": "09acbdd9-3001-4bd4-9e44-9feff04e7e32",
   "metadata": {},
   "outputs": [
    {
     "data": {
      "text/plain": [
       "31"
      ]
     },
     "execution_count": 68,
     "metadata": {},
     "output_type": "execute_result"
    }
   ],
   "source": [
    "games['platform'].nunique()"
   ]
  },
  {
   "cell_type": "code",
   "execution_count": 69,
   "id": "e5f7c685-d766-4809-9dfa-7cb7451fc868",
   "metadata": {},
   "outputs": [
    {
     "data": {
      "text/plain": [
       "rating\n",
       "NOT RATED    6869\n",
       "E            4037\n",
       "T            3005\n",
       "M            1587\n",
       "E10+         1441\n",
       "EC              8\n",
       "K-A             3\n",
       "RP              3\n",
       "AO              1\n",
       "Name: count, dtype: int64"
      ]
     },
     "execution_count": 69,
     "metadata": {},
     "output_type": "execute_result"
    }
   ],
   "source": [
    "games['rating'].str.upper().value_counts()"
   ]
  },
  {
   "cell_type": "code",
   "execution_count": 70,
   "id": "b18a23cd-2d4b-4253-b70d-a977fe46fb17",
   "metadata": {},
   "outputs": [
    {
     "data": {
      "text/plain": [
       "9"
      ]
     },
     "execution_count": 70,
     "metadata": {},
     "output_type": "execute_result"
    }
   ],
   "source": [
    "games['rating'].str.upper().nunique()"
   ]
  },
  {
   "cell_type": "code",
   "execution_count": 71,
   "id": "2c918f58-e69d-4cb3-80b4-01d91c9a3613",
   "metadata": {},
   "outputs": [],
   "source": [
    "# рейтинг K-A заменяем на E, т.к.это аббревиатура использовалась ранее\n",
    "games['rating'] = games['rating'].replace('K-A','E')"
   ]
  },
  {
   "cell_type": "code",
   "execution_count": 72,
   "id": "6282a951-f316-4142-99ef-fd7ac4227583",
   "metadata": {},
   "outputs": [
    {
     "data": {
      "text/plain": [
       "rating\n",
       "Not Rated    6869\n",
       "E            4040\n",
       "T            3005\n",
       "M            1587\n",
       "E10+         1441\n",
       "EC              8\n",
       "RP              3\n",
       "AO              1\n",
       "Name: count, dtype: int64"
      ]
     },
     "execution_count": 72,
     "metadata": {},
     "output_type": "execute_result"
    }
   ],
   "source": [
    "games['rating'].value_counts()"
   ]
  },
  {
   "cell_type": "code",
   "execution_count": 73,
   "id": "f1627198",
   "metadata": {
    "id": "f1627198"
   },
   "outputs": [],
   "source": [
    "games['name_low'] = games['name'].str.lower()\n",
    "games['genre_low'] = games['genre'].str.lower()\n",
    "games['platform_low'] = games['platform'].str.lower()\n",
    "games['rating_upp'] = games['rating'].str.upper()"
   ]
  },
  {
   "cell_type": "code",
   "execution_count": 76,
   "id": "e1ddbf84-c202-4064-b676-3ee3a21c1af3",
   "metadata": {},
   "outputs": [
    {
     "data": {
      "text/plain": [
       "245"
      ]
     },
     "execution_count": 76,
     "metadata": {},
     "output_type": "execute_result"
    }
   ],
   "source": [
    "# Количество дубликатов\n",
    "duplicate_count = games.duplicated(subset=['name_low', 'genre_low', 'platform_low', 'rating_upp']).sum()\n",
    "duplicate_count"
   ]
  },
  {
   "cell_type": "code",
   "execution_count": 77,
   "id": "55f9c7cc-8c09-44d9-bf65-bee8a952f9f1",
   "metadata": {},
   "outputs": [],
   "source": [
    "# Удаляем дубликаты на основе нижнего регистра\n",
    "games = games.drop_duplicates(subset=['name_low','genre_low', 'platform_low', 'rating_upp'])"
   ]
  },
  {
   "cell_type": "code",
   "execution_count": 79,
   "id": "81c572cf-76c9-44c8-8024-1c59363f0d0c",
   "metadata": {},
   "outputs": [],
   "source": [
    "# Удаляем временные столбцы\n",
    "games = games.drop(columns=['name_low','genre_low', 'platform_low', 'rating_upp'])"
   ]
  },
  {
   "cell_type": "markdown",
   "id": "fc3d3db4",
   "metadata": {
    "id": "fc3d3db4"
   },
   "source": [
    "- После того как нормализуете данные и устраните неявные дубликаты, проверьте наличие явных дубликатов в данных."
   ]
  },
  {
   "cell_type": "code",
   "execution_count": 81,
   "id": "fc5c91b5",
   "metadata": {
    "id": "fc5c91b5"
   },
   "outputs": [
    {
     "data": {
      "text/plain": [
       "0"
      ]
     },
     "execution_count": 81,
     "metadata": {},
     "output_type": "execute_result"
    }
   ],
   "source": [
    "games.duplicated().sum()"
   ]
  },
  {
   "cell_type": "markdown",
   "id": "181912db-3437-4382-a448-abdf86645446",
   "metadata": {
    "id": "8548f894"
   },
   "source": [
    "В процессе анализа данных в DataFrame games были найдены 245 дубликата в столбцах, содержащих информацию о названиях, жанрах, платформах и рейтингах. Эти дубликаты могли возникнуть из-за различий в регистре написания или незначительных опечаток.\n",
    "\n",
    "Действия по обработке дубликатов:\n",
    "Приведение к нижнему регистру: Все значения в столбцах name, genre, platform и rating были приведены к нижнему регистру для унификации данных.\n",
    "Удаление дубликатов: После приведения к нижнему регистру был использован метод .drop_duplicates(), удалены все строки, которые имели одинаковые значения в указанных столбцах.\n",
    "Удаление временных столбцов: Временные столбцы, созданные для проверки дубликатов, были удалены."
   ]
  },
  {
   "cell_type": "code",
   "execution_count": 83,
   "id": "0814c721",
   "metadata": {
    "id": "0814c721"
   },
   "outputs": [
    {
     "name": "stdout",
     "output_type": "stream",
     "text": [
      "<class 'pandas.core.frame.DataFrame'>\n",
      "Index: 16709 entries, 0 to 16955\n",
      "Data columns (total 11 columns):\n",
      " #   Column           Non-Null Count  Dtype  \n",
      "---  ------           --------------  -----  \n",
      " 0   name             16709 non-null  object \n",
      " 1   platform         16709 non-null  object \n",
      " 2   year_of_release  16709 non-null  int64  \n",
      " 3   genre            16709 non-null  object \n",
      " 4   na_sales         16709 non-null  float64\n",
      " 5   eu_sales         16709 non-null  float64\n",
      " 6   jp_sales         16709 non-null  float64\n",
      " 7   other_sales      16709 non-null  float64\n",
      " 8   critic_score     16709 non-null  float64\n",
      " 9   user_score       16709 non-null  float64\n",
      " 10  rating           16709 non-null  object \n",
      "dtypes: float64(6), int64(1), object(4)\n",
      "memory usage: 1.5+ MB\n"
     ]
    }
   ],
   "source": [
    "games.info()"
   ]
  },
  {
   "cell_type": "markdown",
   "id": "efcbbcee-b433-4aa4-a89a-eb53bbb364a3",
   "metadata": {
    "id": "f9d8ee19"
   },
   "source": [
    "Было 16955 строк, стало 16709.\n",
    "Всего было очищено 246 строк, доля удаленных строк 1,45%"
   ]
  },
  {
   "cell_type": "code",
   "execution_count": 85,
   "id": "09cafbf5-e1a5-4449-821d-af94118565ca",
   "metadata": {},
   "outputs": [
    {
     "data": {
      "text/plain": [
       "1.45"
      ]
     },
     "execution_count": 85,
     "metadata": {},
     "output_type": "execute_result"
    }
   ],
   "source": [
    "share_dupl = round((245/rows)*100,2)\n",
    "share_dupl"
   ]
  },
  {
   "cell_type": "markdown",
   "id": "1f13fb0e-9aff-43d2-a820-a77d97489d0b",
   "metadata": {},
   "source": [
    "Доля удаленных дубликатов 1.47%"
   ]
  },
  {
   "cell_type": "code",
   "execution_count": 87,
   "id": "74d5e40b-fcaf-47a7-bee3-a673a35e192f",
   "metadata": {},
   "outputs": [
    {
     "data": {
      "text/plain": [
       "1.47"
      ]
     },
     "execution_count": 87,
     "metadata": {},
     "output_type": "execute_result"
    }
   ],
   "source": [
    "rows_aft = games.shape[0]\n",
    "share_dupl_after = round((245/rows_aft)*100,2)\n",
    "share_dupl_after"
   ]
  },
  {
   "cell_type": "markdown",
   "id": "baa58c05-0a54-423f-992e-1e52e419ee68",
   "metadata": {
    "id": "3d7a9d8e"
   },
   "source": [
    "**1.45% DataFrame games было очищено**"
   ]
  },
  {
   "cell_type": "markdown",
   "id": "3d1e167b-3d6d-4425-9651-5a9db3e7382c",
   "metadata": {
    "id": "5166fdf8"
   },
   "source": [
    "В процессе предобработки были удалены некоторые пропуски, часть пропусков были заменены на средние значения по региону продажи, в столбце Rating пропуски заменены на not rated. Удалены 246 строк для чистоты датафрейма."
   ]
  },
  {
   "cell_type": "markdown",
   "id": "3c23dd7a-2575-4125-82ba-3d4cf0981aee",
   "metadata": {
    "id": "12a69dba"
   },
   "source": [
    "*Предобработка данных позволила значительно улучшить их качество и структуру, что создаёт более надежную основу для дальнейшего анализа. Удаление пропусков и дубликатов способствует повышению точности и достоверности результатов последующих исследований.*"
   ]
  },
  {
   "cell_type": "code",
   "execution_count": null,
   "id": "a2c09ca7",
   "metadata": {
    "id": "a2c09ca7"
   },
   "outputs": [],
   "source": []
  },
  {
   "cell_type": "markdown",
   "id": "613f0eb0",
   "metadata": {
    "id": "613f0eb0"
   },
   "source": [
    "---\n",
    "\n",
    "## 3. Фильтрация данных\n",
    "\n",
    "Коллеги хотят изучить историю продаж игр в начале XXI века, и их интересует период с 2000 по 2013 год включительно. Отберите данные по этому показателю. Сохраните новый срез данных в отдельном датафрейме, например `df_actual`."
   ]
  },
  {
   "cell_type": "code",
   "execution_count": 93,
   "id": "2344916d",
   "metadata": {
    "id": "2344916d"
   },
   "outputs": [],
   "source": [
    "df_actual = games[(games['year_of_release']>=2000) & (games['year_of_release']<=2013)].copy()"
   ]
  },
  {
   "cell_type": "code",
   "execution_count": 95,
   "id": "44d7529f",
   "metadata": {
    "id": "44d7529f"
   },
   "outputs": [
    {
     "data": {
      "text/html": [
       "<div>\n",
       "<style scoped>\n",
       "    .dataframe tbody tr th:only-of-type {\n",
       "        vertical-align: middle;\n",
       "    }\n",
       "\n",
       "    .dataframe tbody tr th {\n",
       "        vertical-align: top;\n",
       "    }\n",
       "\n",
       "    .dataframe thead th {\n",
       "        text-align: right;\n",
       "    }\n",
       "</style>\n",
       "<table border=\"1\" class=\"dataframe\">\n",
       "  <thead>\n",
       "    <tr style=\"text-align: right;\">\n",
       "      <th></th>\n",
       "      <th>name</th>\n",
       "      <th>platform</th>\n",
       "      <th>year_of_release</th>\n",
       "      <th>genre</th>\n",
       "      <th>na_sales</th>\n",
       "      <th>eu_sales</th>\n",
       "      <th>jp_sales</th>\n",
       "      <th>other_sales</th>\n",
       "      <th>critic_score</th>\n",
       "      <th>user_score</th>\n",
       "      <th>rating</th>\n",
       "    </tr>\n",
       "  </thead>\n",
       "  <tbody>\n",
       "    <tr>\n",
       "      <th>0</th>\n",
       "      <td>Wii Sports</td>\n",
       "      <td>Wii</td>\n",
       "      <td>2006</td>\n",
       "      <td>Sports</td>\n",
       "      <td>41.36</td>\n",
       "      <td>28.96</td>\n",
       "      <td>3.77</td>\n",
       "      <td>8.45</td>\n",
       "      <td>76.0</td>\n",
       "      <td>8.0</td>\n",
       "      <td>E</td>\n",
       "    </tr>\n",
       "    <tr>\n",
       "      <th>2</th>\n",
       "      <td>Mario Kart Wii</td>\n",
       "      <td>Wii</td>\n",
       "      <td>2008</td>\n",
       "      <td>Racing</td>\n",
       "      <td>15.68</td>\n",
       "      <td>12.76</td>\n",
       "      <td>3.79</td>\n",
       "      <td>3.29</td>\n",
       "      <td>82.0</td>\n",
       "      <td>8.3</td>\n",
       "      <td>E</td>\n",
       "    </tr>\n",
       "    <tr>\n",
       "      <th>3</th>\n",
       "      <td>Wii Sports Resort</td>\n",
       "      <td>Wii</td>\n",
       "      <td>2009</td>\n",
       "      <td>Sports</td>\n",
       "      <td>15.61</td>\n",
       "      <td>10.93</td>\n",
       "      <td>3.28</td>\n",
       "      <td>2.95</td>\n",
       "      <td>80.0</td>\n",
       "      <td>8.0</td>\n",
       "      <td>E</td>\n",
       "    </tr>\n",
       "    <tr>\n",
       "      <th>6</th>\n",
       "      <td>New Super Mario Bros.</td>\n",
       "      <td>DS</td>\n",
       "      <td>2006</td>\n",
       "      <td>Platform</td>\n",
       "      <td>11.28</td>\n",
       "      <td>9.14</td>\n",
       "      <td>6.50</td>\n",
       "      <td>2.88</td>\n",
       "      <td>89.0</td>\n",
       "      <td>8.5</td>\n",
       "      <td>E</td>\n",
       "    </tr>\n",
       "    <tr>\n",
       "      <th>7</th>\n",
       "      <td>Wii Play</td>\n",
       "      <td>Wii</td>\n",
       "      <td>2006</td>\n",
       "      <td>Misc</td>\n",
       "      <td>13.96</td>\n",
       "      <td>9.18</td>\n",
       "      <td>2.93</td>\n",
       "      <td>2.84</td>\n",
       "      <td>58.0</td>\n",
       "      <td>6.6</td>\n",
       "      <td>E</td>\n",
       "    </tr>\n",
       "  </tbody>\n",
       "</table>\n",
       "</div>"
      ],
      "text/plain": [
       "                    name platform  year_of_release     genre  na_sales  \\\n",
       "0             Wii Sports      Wii             2006    Sports     41.36   \n",
       "2         Mario Kart Wii      Wii             2008    Racing     15.68   \n",
       "3      Wii Sports Resort      Wii             2009    Sports     15.61   \n",
       "6  New Super Mario Bros.       DS             2006  Platform     11.28   \n",
       "7               Wii Play      Wii             2006      Misc     13.96   \n",
       "\n",
       "   eu_sales  jp_sales  other_sales  critic_score  user_score rating  \n",
       "0     28.96      3.77         8.45          76.0         8.0      E  \n",
       "2     12.76      3.79         3.29          82.0         8.3      E  \n",
       "3     10.93      3.28         2.95          80.0         8.0      E  \n",
       "6      9.14      6.50         2.88          89.0         8.5      E  \n",
       "7      9.18      2.93         2.84          58.0         6.6      E  "
      ]
     },
     "execution_count": 95,
     "metadata": {},
     "output_type": "execute_result"
    }
   ],
   "source": [
    "df_actual.head()"
   ]
  },
  {
   "cell_type": "code",
   "execution_count": null,
   "id": "906577e8",
   "metadata": {
    "id": "906577e8"
   },
   "outputs": [],
   "source": []
  },
  {
   "cell_type": "markdown",
   "id": "a6f10b01",
   "metadata": {
    "id": "a6f10b01"
   },
   "source": [
    "---\n",
    "\n",
    "## 4. Категоризация данных\n",
    "    \n",
    "Проведите категоризацию данных:\n",
    "- Разделите все игры по оценкам пользователей и выделите такие категории: высокая оценка (от 8 до 10 включительно), средняя оценка (от 3 до 8, не включая правую границу интервала) и низкая оценка (от 0 до 3, не включая правую границу интервала)."
   ]
  },
  {
   "cell_type": "code",
   "execution_count": 99,
   "id": "292be0aa-3504-4f94-ac1b-6a3270281fde",
   "metadata": {},
   "outputs": [],
   "source": [
    "df_actual['user_score_category'] = pd.cut(df_actual['user_score'], bins=[0, 3, 8, 10], labels=[\"низкая оценка\", \"средняя оценка\", \"высокая оценка\"], \n",
    "   right=False)"
   ]
  },
  {
   "cell_type": "code",
   "execution_count": 100,
   "id": "9b0ca0f2",
   "metadata": {
    "id": "9b0ca0f2"
   },
   "outputs": [
    {
     "data": {
      "text/html": [
       "<div>\n",
       "<style scoped>\n",
       "    .dataframe tbody tr th:only-of-type {\n",
       "        vertical-align: middle;\n",
       "    }\n",
       "\n",
       "    .dataframe tbody tr th {\n",
       "        vertical-align: top;\n",
       "    }\n",
       "\n",
       "    .dataframe thead th {\n",
       "        text-align: right;\n",
       "    }\n",
       "</style>\n",
       "<table border=\"1\" class=\"dataframe\">\n",
       "  <thead>\n",
       "    <tr style=\"text-align: right;\">\n",
       "      <th></th>\n",
       "      <th>name</th>\n",
       "      <th>platform</th>\n",
       "      <th>year_of_release</th>\n",
       "      <th>genre</th>\n",
       "      <th>na_sales</th>\n",
       "      <th>eu_sales</th>\n",
       "      <th>jp_sales</th>\n",
       "      <th>other_sales</th>\n",
       "      <th>critic_score</th>\n",
       "      <th>user_score</th>\n",
       "      <th>rating</th>\n",
       "      <th>user_score_category</th>\n",
       "    </tr>\n",
       "  </thead>\n",
       "  <tbody>\n",
       "    <tr>\n",
       "      <th>0</th>\n",
       "      <td>Wii Sports</td>\n",
       "      <td>Wii</td>\n",
       "      <td>2006</td>\n",
       "      <td>Sports</td>\n",
       "      <td>41.36</td>\n",
       "      <td>28.96</td>\n",
       "      <td>3.77</td>\n",
       "      <td>8.45</td>\n",
       "      <td>76.0</td>\n",
       "      <td>8.0</td>\n",
       "      <td>E</td>\n",
       "      <td>высокая оценка</td>\n",
       "    </tr>\n",
       "    <tr>\n",
       "      <th>2</th>\n",
       "      <td>Mario Kart Wii</td>\n",
       "      <td>Wii</td>\n",
       "      <td>2008</td>\n",
       "      <td>Racing</td>\n",
       "      <td>15.68</td>\n",
       "      <td>12.76</td>\n",
       "      <td>3.79</td>\n",
       "      <td>3.29</td>\n",
       "      <td>82.0</td>\n",
       "      <td>8.3</td>\n",
       "      <td>E</td>\n",
       "      <td>высокая оценка</td>\n",
       "    </tr>\n",
       "    <tr>\n",
       "      <th>3</th>\n",
       "      <td>Wii Sports Resort</td>\n",
       "      <td>Wii</td>\n",
       "      <td>2009</td>\n",
       "      <td>Sports</td>\n",
       "      <td>15.61</td>\n",
       "      <td>10.93</td>\n",
       "      <td>3.28</td>\n",
       "      <td>2.95</td>\n",
       "      <td>80.0</td>\n",
       "      <td>8.0</td>\n",
       "      <td>E</td>\n",
       "      <td>высокая оценка</td>\n",
       "    </tr>\n",
       "    <tr>\n",
       "      <th>6</th>\n",
       "      <td>New Super Mario Bros.</td>\n",
       "      <td>DS</td>\n",
       "      <td>2006</td>\n",
       "      <td>Platform</td>\n",
       "      <td>11.28</td>\n",
       "      <td>9.14</td>\n",
       "      <td>6.50</td>\n",
       "      <td>2.88</td>\n",
       "      <td>89.0</td>\n",
       "      <td>8.5</td>\n",
       "      <td>E</td>\n",
       "      <td>высокая оценка</td>\n",
       "    </tr>\n",
       "    <tr>\n",
       "      <th>7</th>\n",
       "      <td>Wii Play</td>\n",
       "      <td>Wii</td>\n",
       "      <td>2006</td>\n",
       "      <td>Misc</td>\n",
       "      <td>13.96</td>\n",
       "      <td>9.18</td>\n",
       "      <td>2.93</td>\n",
       "      <td>2.84</td>\n",
       "      <td>58.0</td>\n",
       "      <td>6.6</td>\n",
       "      <td>E</td>\n",
       "      <td>средняя оценка</td>\n",
       "    </tr>\n",
       "  </tbody>\n",
       "</table>\n",
       "</div>"
      ],
      "text/plain": [
       "                    name platform  year_of_release     genre  na_sales  \\\n",
       "0             Wii Sports      Wii             2006    Sports     41.36   \n",
       "2         Mario Kart Wii      Wii             2008    Racing     15.68   \n",
       "3      Wii Sports Resort      Wii             2009    Sports     15.61   \n",
       "6  New Super Mario Bros.       DS             2006  Platform     11.28   \n",
       "7               Wii Play      Wii             2006      Misc     13.96   \n",
       "\n",
       "   eu_sales  jp_sales  other_sales  critic_score  user_score rating  \\\n",
       "0     28.96      3.77         8.45          76.0         8.0      E   \n",
       "2     12.76      3.79         3.29          82.0         8.3      E   \n",
       "3     10.93      3.28         2.95          80.0         8.0      E   \n",
       "6      9.14      6.50         2.88          89.0         8.5      E   \n",
       "7      9.18      2.93         2.84          58.0         6.6      E   \n",
       "\n",
       "  user_score_category  \n",
       "0      высокая оценка  \n",
       "2      высокая оценка  \n",
       "3      высокая оценка  \n",
       "6      высокая оценка  \n",
       "7      средняя оценка  "
      ]
     },
     "execution_count": 100,
     "metadata": {},
     "output_type": "execute_result"
    }
   ],
   "source": [
    "df_actual.head()"
   ]
  },
  {
   "cell_type": "code",
   "execution_count": null,
   "id": "35438bd6",
   "metadata": {
    "id": "35438bd6"
   },
   "outputs": [],
   "source": []
  },
  {
   "cell_type": "markdown",
   "id": "f8f34b40",
   "metadata": {
    "id": "f8f34b40"
   },
   "source": [
    "- Разделите все игры по оценкам критиков и выделите такие категории: высокая оценка (от 80 до 100 включительно), средняя оценка (от 30 до 80, не включая правую границу интервала) и низкая оценка (от 0 до 30, не включая правую границу интервала)."
   ]
  },
  {
   "cell_type": "code",
   "execution_count": 102,
   "id": "e3f7acb0",
   "metadata": {
    "id": "e3f7acb0"
   },
   "outputs": [],
   "source": [
    "df_actual['critic_score_category'] = pd.cut(df_actual['critic_score'], bins=[0, 30, 80, 100], labels=[\"низкая оценка\", \"средняя оценка\", \"высокая оценка\"], \n",
    "   right=False)"
   ]
  },
  {
   "cell_type": "code",
   "execution_count": 104,
   "id": "548fde17",
   "metadata": {
    "id": "548fde17"
   },
   "outputs": [
    {
     "data": {
      "text/html": [
       "<div>\n",
       "<style scoped>\n",
       "    .dataframe tbody tr th:only-of-type {\n",
       "        vertical-align: middle;\n",
       "    }\n",
       "\n",
       "    .dataframe tbody tr th {\n",
       "        vertical-align: top;\n",
       "    }\n",
       "\n",
       "    .dataframe thead th {\n",
       "        text-align: right;\n",
       "    }\n",
       "</style>\n",
       "<table border=\"1\" class=\"dataframe\">\n",
       "  <thead>\n",
       "    <tr style=\"text-align: right;\">\n",
       "      <th></th>\n",
       "      <th>name</th>\n",
       "      <th>platform</th>\n",
       "      <th>year_of_release</th>\n",
       "      <th>genre</th>\n",
       "      <th>na_sales</th>\n",
       "      <th>eu_sales</th>\n",
       "      <th>jp_sales</th>\n",
       "      <th>other_sales</th>\n",
       "      <th>critic_score</th>\n",
       "      <th>user_score</th>\n",
       "      <th>rating</th>\n",
       "      <th>user_score_category</th>\n",
       "      <th>critic_score_category</th>\n",
       "    </tr>\n",
       "  </thead>\n",
       "  <tbody>\n",
       "    <tr>\n",
       "      <th>0</th>\n",
       "      <td>Wii Sports</td>\n",
       "      <td>Wii</td>\n",
       "      <td>2006</td>\n",
       "      <td>Sports</td>\n",
       "      <td>41.36</td>\n",
       "      <td>28.96</td>\n",
       "      <td>3.77</td>\n",
       "      <td>8.45</td>\n",
       "      <td>76.0</td>\n",
       "      <td>8.0</td>\n",
       "      <td>E</td>\n",
       "      <td>высокая оценка</td>\n",
       "      <td>средняя оценка</td>\n",
       "    </tr>\n",
       "    <tr>\n",
       "      <th>2</th>\n",
       "      <td>Mario Kart Wii</td>\n",
       "      <td>Wii</td>\n",
       "      <td>2008</td>\n",
       "      <td>Racing</td>\n",
       "      <td>15.68</td>\n",
       "      <td>12.76</td>\n",
       "      <td>3.79</td>\n",
       "      <td>3.29</td>\n",
       "      <td>82.0</td>\n",
       "      <td>8.3</td>\n",
       "      <td>E</td>\n",
       "      <td>высокая оценка</td>\n",
       "      <td>высокая оценка</td>\n",
       "    </tr>\n",
       "    <tr>\n",
       "      <th>3</th>\n",
       "      <td>Wii Sports Resort</td>\n",
       "      <td>Wii</td>\n",
       "      <td>2009</td>\n",
       "      <td>Sports</td>\n",
       "      <td>15.61</td>\n",
       "      <td>10.93</td>\n",
       "      <td>3.28</td>\n",
       "      <td>2.95</td>\n",
       "      <td>80.0</td>\n",
       "      <td>8.0</td>\n",
       "      <td>E</td>\n",
       "      <td>высокая оценка</td>\n",
       "      <td>высокая оценка</td>\n",
       "    </tr>\n",
       "    <tr>\n",
       "      <th>6</th>\n",
       "      <td>New Super Mario Bros.</td>\n",
       "      <td>DS</td>\n",
       "      <td>2006</td>\n",
       "      <td>Platform</td>\n",
       "      <td>11.28</td>\n",
       "      <td>9.14</td>\n",
       "      <td>6.50</td>\n",
       "      <td>2.88</td>\n",
       "      <td>89.0</td>\n",
       "      <td>8.5</td>\n",
       "      <td>E</td>\n",
       "      <td>высокая оценка</td>\n",
       "      <td>высокая оценка</td>\n",
       "    </tr>\n",
       "    <tr>\n",
       "      <th>7</th>\n",
       "      <td>Wii Play</td>\n",
       "      <td>Wii</td>\n",
       "      <td>2006</td>\n",
       "      <td>Misc</td>\n",
       "      <td>13.96</td>\n",
       "      <td>9.18</td>\n",
       "      <td>2.93</td>\n",
       "      <td>2.84</td>\n",
       "      <td>58.0</td>\n",
       "      <td>6.6</td>\n",
       "      <td>E</td>\n",
       "      <td>средняя оценка</td>\n",
       "      <td>средняя оценка</td>\n",
       "    </tr>\n",
       "  </tbody>\n",
       "</table>\n",
       "</div>"
      ],
      "text/plain": [
       "                    name platform  year_of_release     genre  na_sales  \\\n",
       "0             Wii Sports      Wii             2006    Sports     41.36   \n",
       "2         Mario Kart Wii      Wii             2008    Racing     15.68   \n",
       "3      Wii Sports Resort      Wii             2009    Sports     15.61   \n",
       "6  New Super Mario Bros.       DS             2006  Platform     11.28   \n",
       "7               Wii Play      Wii             2006      Misc     13.96   \n",
       "\n",
       "   eu_sales  jp_sales  other_sales  critic_score  user_score rating  \\\n",
       "0     28.96      3.77         8.45          76.0         8.0      E   \n",
       "2     12.76      3.79         3.29          82.0         8.3      E   \n",
       "3     10.93      3.28         2.95          80.0         8.0      E   \n",
       "6      9.14      6.50         2.88          89.0         8.5      E   \n",
       "7      9.18      2.93         2.84          58.0         6.6      E   \n",
       "\n",
       "  user_score_category critic_score_category  \n",
       "0      высокая оценка        средняя оценка  \n",
       "2      высокая оценка        высокая оценка  \n",
       "3      высокая оценка        высокая оценка  \n",
       "6      высокая оценка        высокая оценка  \n",
       "7      средняя оценка        средняя оценка  "
      ]
     },
     "execution_count": 104,
     "metadata": {},
     "output_type": "execute_result"
    }
   ],
   "source": [
    "df_actual.head()"
   ]
  },
  {
   "cell_type": "code",
   "execution_count": null,
   "id": "d136d06b",
   "metadata": {
    "id": "d136d06b"
   },
   "outputs": [],
   "source": []
  },
  {
   "cell_type": "markdown",
   "id": "olkTlTlAUDR9",
   "metadata": {
    "id": "olkTlTlAUDR9"
   },
   "source": [
    "- После категоризации данных проверьте результат: сгруппируйте данные по выделенным категориям и посчитайте количество игр в каждой категории."
   ]
  },
  {
   "cell_type": "code",
   "execution_count": 106,
   "id": "HW0Nsp-4UMSL",
   "metadata": {
    "id": "HW0Nsp-4UMSL"
   },
   "outputs": [
    {
     "data": {
      "text/plain": [
       "user_score_category\n",
       "низкая оценка      116\n",
       "средняя оценка    4080\n",
       "высокая оценка    2284\n",
       "Name: name, dtype: int64"
      ]
     },
     "execution_count": 106,
     "metadata": {},
     "output_type": "execute_result"
    }
   ],
   "source": [
    "df_actual.groupby('user_score_category',observed=False)['name'].count()"
   ]
  },
  {
   "cell_type": "code",
   "execution_count": 107,
   "id": "x2ne0HIpUMMD",
   "metadata": {
    "id": "x2ne0HIpUMMD"
   },
   "outputs": [
    {
     "data": {
      "text/plain": [
       "critic_score_category\n",
       "низкая оценка       55\n",
       "средняя оценка    5422\n",
       "высокая оценка    1689\n",
       "Name: name, dtype: int64"
      ]
     },
     "execution_count": 107,
     "metadata": {},
     "output_type": "execute_result"
    }
   ],
   "source": [
    "df_actual.groupby('critic_score_category',observed=False)['name'].count()"
   ]
  },
  {
   "cell_type": "code",
   "execution_count": null,
   "id": "U6kiXU3JUMCc",
   "metadata": {
    "id": "U6kiXU3JUMCc"
   },
   "outputs": [],
   "source": []
  },
  {
   "cell_type": "markdown",
   "id": "6a98444c",
   "metadata": {
    "id": "6a98444c"
   },
   "source": [
    "- Выделите топ-7 платформ по количеству игр, выпущенных за весь актуальный период."
   ]
  },
  {
   "cell_type": "code",
   "execution_count": 109,
   "id": "003caa2c",
   "metadata": {
    "id": "003caa2c"
   },
   "outputs": [
    {
     "data": {
      "text/plain": [
       "platform\n",
       "PS2     2127\n",
       "DS      2120\n",
       "Wii     1275\n",
       "PSP     1180\n",
       "X360    1120\n",
       "PS3     1086\n",
       "GBA      811\n",
       "Name: name, dtype: int64"
      ]
     },
     "execution_count": 109,
     "metadata": {},
     "output_type": "execute_result"
    }
   ],
   "source": [
    "df_actual.groupby('platform')['name'].count().sort_values(ascending = False).head(7)"
   ]
  },
  {
   "cell_type": "code",
   "execution_count": null,
   "id": "f240904a",
   "metadata": {
    "id": "f240904a"
   },
   "outputs": [],
   "source": []
  },
  {
   "cell_type": "markdown",
   "id": "c0158881",
   "metadata": {
    "id": "c0158881"
   },
   "source": [
    "---\n",
    "\n",
    "## 5. Итоговый вывод\n",
    "\n"
   ]
  },
  {
   "cell_type": "markdown",
   "id": "03b56205-4137-4fcf-aab2-17cd424f8b8b",
   "metadata": {},
   "source": [
    "В ходе работы были:\n",
    "\n",
    "*Отфильтрованы данные:* Создан новый DataFrame df_actual, который содержит только игры, выпущенные в период с 2000 по 2013 год. Это позволяет сосредоточиться на интересующем нас временном интервале и исключить данные, которые не соответствуют этому критерию.\n",
    "\n",
    "*Проанализированы данные:* Анализ распределения игр по пользовательским и критическим рейтингам, выявлено количество игр с низкими, средними и высокими оценками. Это дало представление о том, как игры воспринимаются игроками и критиками.\n",
    "\n",
    " Выделены топ-7 платформ по количеству выпущенных игр за указанный период. Результаты показали, что наиболее популярными платформами были:*\n",
    "\n",
    "- PS2 — 2160 игр\n",
    "- DS — 2150 игр\n",
    "- Wii — 1309 игр\n",
    "- PSP — 1192 игры\n",
    "- X360 — 1144 игры\n",
    "- PS3 — 1106 игр\n",
    "- XB — 824 игры\n",
    "\n",
    "*Описание среза данных:* В df_actual мы имеем только те игры, которые были выпущены в начале XXI века, что значительно упрощает дальнейший анализ и позволяет делать более точные выводы о тенденциях на рынке игр в этот период."
   ]
  },
  {
   "cell_type": "markdown",
   "id": "9c777079-f8bb-49b8-afa4-b69079534b2d",
   "metadata": {
    "id": "0c1afc40"
   },
   "source": [
    "**Основные выводы:**\n",
    "- Тенденции на рынке: В начале XXI века наблюдался рост популярности определённых платформ, что может быть связано с их уникальными предложениями и играми, которые они предоставляли.\n",
    "- Качество игр: Разные рейтинги показывают, что на рынке были как высококачественные, так и менее успешные проекты, что подчеркивает разнообразие игрового контента."
   ]
  },
  {
   "cell_type": "code",
   "execution_count": null,
   "id": "9fe570b3",
   "metadata": {
    "id": "9fe570b3"
   },
   "outputs": [],
   "source": []
  }
 ],
 "metadata": {
  "ExecuteTimeLog": [
   {
    "duration": 4,
    "start_time": "2025-03-06T12:34:39.584Z"
   },
   {
    "duration": 3,
    "start_time": "2025-03-06T12:34:40.502Z"
   },
   {
    "duration": 3,
    "start_time": "2025-03-06T12:34:41.030Z"
   },
   {
    "duration": 431,
    "start_time": "2025-03-10T16:13:49.555Z"
   },
   {
    "duration": 73,
    "start_time": "2025-03-10T16:13:51.661Z"
   },
   {
    "duration": 47,
    "start_time": "2025-03-10T16:32:03.158Z"
   },
   {
    "duration": 5,
    "start_time": "2025-03-10T16:32:11.924Z"
   }
  ],
  "colab": {
   "provenance": []
  },
  "kernelspec": {
   "display_name": "Python [conda env:base] *",
   "language": "python",
   "name": "conda-base-py"
  },
  "language_info": {
   "codemirror_mode": {
    "name": "ipython",
    "version": 3
   },
   "file_extension": ".py",
   "mimetype": "text/x-python",
   "name": "python",
   "nbconvert_exporter": "python",
   "pygments_lexer": "ipython3",
   "version": "3.12.7"
  },
  "toc": {
   "base_numbering": 1,
   "nav_menu": {},
   "number_sections": true,
   "sideBar": true,
   "skip_h1_title": true,
   "title_cell": "Table of Contents",
   "title_sidebar": "Contents",
   "toc_cell": false,
   "toc_position": {},
   "toc_section_display": true,
   "toc_window_display": false
  }
 },
 "nbformat": 4,
 "nbformat_minor": 5
}
