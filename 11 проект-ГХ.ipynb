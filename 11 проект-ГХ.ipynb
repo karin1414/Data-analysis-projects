{
 "cells": [
  {
   "cell_type": "markdown",
   "id": "_E41Wr5fqnFT",
   "metadata": {
    "id": "_E41Wr5fqnFT"
   },
   "source": [
    "# Часть 1. Проверка гипотезы в Python и составление аналитической записки"
   ]
  },
  {
   "cell_type": "markdown",
   "id": "Z5_6nf-FrY7o",
   "metadata": {
    "id": "Z5_6nf-FrY7o"
   },
   "source": [
    "Вы предобработали данные в SQL, и теперь они готовы для проверки гипотезы в Python. Загрузите данные пользователей из Москвы и Санкт-Петербурга c суммой часов их активности из файла yandex_knigi_data.csv. Если работаете локально, скачать файл можно по ссылке.\n",
    "\n",
    "Проверьте наличие дубликатов в идентификаторах пользователей. Сравните размеры групп, их статистики и распределение.\n",
    "\n",
    "Напомним, как выглядит гипотеза: пользователи из Санкт-Петербурга проводят в среднем больше времени за чтением и прослушиванием книг в приложении, чем пользователи из Москвы. Попробуйте статистически это доказать, используя одностороннюю проверку гипотезы с двумя выборками:\n",
    "\n",
    "Нулевая гипотеза $H_0: \\mu_{\\text{СПб}} \\leq \\mu_{\\text{Москва}}$ <br> Среднее время активности пользователей в Санкт-Петербурге не больше, чем в Москве.\n",
    "\n",
    "Альтернативная гипотеза $H_1: \\mu_{\\text{СПб}} > \\mu_{\\text{Москва}}$ <br> Среднее время активности пользователей в Санкт-Петербурге больше, и это различие статистически значимо.\n",
    "\n",
    "По результатам анализа данных подготовьте аналитическую записку, в которой опишите:\n",
    "\n",
    "Выбранный тип t-теста и уровень статистической значимости.\n",
    "\n",
    "Результат теста, или p-value.\n",
    "\n",
    "Вывод на основе полученного p-value, то есть интерпретацию результатов.\n",
    "\n",
    "Одну или две возможные причины, объясняющие полученные результаты."
   ]
  },
  {
   "cell_type": "markdown",
   "id": "2fccdd08",
   "metadata": {},
   "source": []
  },
  {
   "cell_type": "markdown",
   "id": "e06910dd",
   "metadata": {
    "id": "e06910dd"
   },
   "source": [
    "## Напишите заголовок первой части проекта здесь\n",
    "\n",
    "- Автор: Волкова Карина\n",
    "- Дата:10.06.2025"
   ]
  },
  {
   "cell_type": "markdown",
   "id": "4149134c",
   "metadata": {
    "id": "4149134c"
   },
   "source": [
    "## Цели и задачи проекта\n",
    "\n",
    "<font color='#777778'> Проанализировать поведение пользователей сервиса Яндекс Книги, сравнить вовлечённость пользователей из Москвы и Санкт-Петербурга, а также проверить статистическую гипотезу о различии в среднем времени активности между этими двумя группами. Сделать выводы, которые помогут бизнесу понять, как пользователи взаимодействуют с продуктом, и принять решения по его дальнейшему развитию.</font>"
   ]
  },
  {
   "cell_type": "markdown",
   "id": "728986ea",
   "metadata": {
    "id": "728986ea"
   },
   "source": [
    "## Описание данных\n",
    "\n",
    "\n",
    "<font color='#777778'>\n",
    "    \n",
    "    Часть 1. Проверка гипотезы (Яндекс Книги)\n",
    "https://code.s3.yandex.net/datasets/yandex_knigi_data.csv\n",
    "    \n",
    "    Структура файла:\n",
    "- `city` — город пользователя;\n",
    "- `puid` — идентификатор пользователя;\n",
    "- `hours` — общее количество часов активности (вычисляется по полю hours).\n",
    "    \n",
    "    \n",
    "    Часть 2. Анализ A/B-теста (BitMotion Kit)\n",
    "https://code.s3.yandex.net/datasets/ab_test_participants.csv — таблица участников тестов.\n",
    "\n",
    "    Структура файла:\n",
    "- `user_id` — идентификатор пользователя;\n",
    "- `group` — группа пользователя;\n",
    "- `ab_test` — название теста;\n",
    "- `device` — устройство, с которого происходила регистрация.\n",
    "    \n",
    "https://code.s3.yandex.net/datasets/ab_test_events.zip — архив с одним csv-файлом, в котором собраны события 2020 года;\n",
    "\n",
    "    Структура файла:\n",
    "- `user_id` — идентификатор пользователя;\n",
    "- `event_dt` — дата и время события;\n",
    "- `event_name` — тип события;\n",
    "- `details` — дополнительные данные о событии.</font>"
   ]
  },
  {
   "cell_type": "markdown",
   "id": "4fecaf95",
   "metadata": {
    "id": "4fecaf95"
   },
   "source": [
    "## Содержимое проекта\n",
    "\n",
    "<font color='#777778'> \n",
    "    \n",
    "    Часть 1. Проверка гипотезы (Яндекс Книги)\n",
    "\n",
    "- Загрузка и очистка данных\n",
    "- Проверка дубликатов и фильтрация по городам\n",
    "- Сравнение выборок (Москва vs Санкт-Петербург)\n",
    "- Проверка гипотезы (t-тест, p-value)\n",
    "- Интерпретация результатов и аналитическая записка\n",
    "    \n",
    "    Часть 2. Анализ A/B-теста (BitMotion Kit)\n",
    "\n",
    "    \n",
    "- Загрузка и объединение данных\n",
    "- Проверка корректности теста (распределение, пересечения, длительность)\n",
    "- Расчёт конверсий и проверка гипотезы (z-тест)\n",
    "- Интерпретация результатов и бизнес-рекомендации</font>\n",
    "\n",
    "---"
   ]
  },
  {
   "cell_type": "markdown",
   "id": "6f7d21d6",
   "metadata": {
    "id": "6f7d21d6"
   },
   "source": [
    "## 1. Загрузка данных и знакомство с ними\n",
    "\n",
    "Загрузите данные пользователей из Москвы и Санкт-Петербурга c их активностью (суммой часов чтения и прослушивания) из файла `/datasets/yandex_knigi_data.csv`."
   ]
  },
  {
   "cell_type": "code",
   "execution_count": 1,
   "id": "05faf34b",
   "metadata": {
    "id": "05faf34b"
   },
   "outputs": [],
   "source": [
    "import pandas as pd\n",
    "import matplotlib.pyplot as plt\n",
    "from scipy.stats import mannwhitneyu\n",
    "import math\n",
    "from statsmodels.stats.proportion import proportions_ztest"
   ]
  },
  {
   "cell_type": "code",
   "execution_count": 2,
   "id": "ce87c1db",
   "metadata": {
    "id": "ce87c1db"
   },
   "outputs": [],
   "source": [
    "knigi = pd.read_csv('https://code.s3.yandex.net/datasets/yandex_knigi_data.csv')"
   ]
  },
  {
   "cell_type": "code",
   "execution_count": 3,
   "id": "110a34a5",
   "metadata": {},
   "outputs": [
    {
     "data": {
      "text/html": [
       "<div>\n",
       "<style scoped>\n",
       "    .dataframe tbody tr th:only-of-type {\n",
       "        vertical-align: middle;\n",
       "    }\n",
       "\n",
       "    .dataframe tbody tr th {\n",
       "        vertical-align: top;\n",
       "    }\n",
       "\n",
       "    .dataframe thead th {\n",
       "        text-align: right;\n",
       "    }\n",
       "</style>\n",
       "<table border=\"1\" class=\"dataframe\">\n",
       "  <thead>\n",
       "    <tr style=\"text-align: right;\">\n",
       "      <th></th>\n",
       "      <th>Unnamed: 0</th>\n",
       "      <th>city</th>\n",
       "      <th>puid</th>\n",
       "      <th>hours</th>\n",
       "    </tr>\n",
       "  </thead>\n",
       "  <tbody>\n",
       "    <tr>\n",
       "      <th>0</th>\n",
       "      <td>0</td>\n",
       "      <td>Москва</td>\n",
       "      <td>9668</td>\n",
       "      <td>26.167776</td>\n",
       "    </tr>\n",
       "    <tr>\n",
       "      <th>1</th>\n",
       "      <td>1</td>\n",
       "      <td>Москва</td>\n",
       "      <td>16598</td>\n",
       "      <td>82.111217</td>\n",
       "    </tr>\n",
       "    <tr>\n",
       "      <th>2</th>\n",
       "      <td>2</td>\n",
       "      <td>Москва</td>\n",
       "      <td>80401</td>\n",
       "      <td>4.656906</td>\n",
       "    </tr>\n",
       "    <tr>\n",
       "      <th>3</th>\n",
       "      <td>3</td>\n",
       "      <td>Москва</td>\n",
       "      <td>140205</td>\n",
       "      <td>1.840556</td>\n",
       "    </tr>\n",
       "    <tr>\n",
       "      <th>4</th>\n",
       "      <td>4</td>\n",
       "      <td>Москва</td>\n",
       "      <td>248755</td>\n",
       "      <td>151.326434</td>\n",
       "    </tr>\n",
       "  </tbody>\n",
       "</table>\n",
       "</div>"
      ],
      "text/plain": [
       "   Unnamed: 0    city    puid       hours\n",
       "0           0  Москва    9668   26.167776\n",
       "1           1  Москва   16598   82.111217\n",
       "2           2  Москва   80401    4.656906\n",
       "3           3  Москва  140205    1.840556\n",
       "4           4  Москва  248755  151.326434"
      ]
     },
     "execution_count": 3,
     "metadata": {},
     "output_type": "execute_result"
    }
   ],
   "source": [
    "knigi.head()"
   ]
  },
  {
   "cell_type": "code",
   "execution_count": 4,
   "id": "1a40cf84",
   "metadata": {},
   "outputs": [
    {
     "name": "stdout",
     "output_type": "stream",
     "text": [
      "<class 'pandas.core.frame.DataFrame'>\n",
      "RangeIndex: 8784 entries, 0 to 8783\n",
      "Data columns (total 4 columns):\n",
      " #   Column      Non-Null Count  Dtype  \n",
      "---  ------      --------------  -----  \n",
      " 0   Unnamed: 0  8784 non-null   int64  \n",
      " 1   city        8784 non-null   object \n",
      " 2   puid        8784 non-null   int64  \n",
      " 3   hours       8784 non-null   float64\n",
      "dtypes: float64(1), int64(2), object(1)\n",
      "memory usage: 274.6+ KB\n"
     ]
    }
   ],
   "source": [
    "knigi.info()"
   ]
  },
  {
   "cell_type": "code",
   "execution_count": 5,
   "id": "0314b250",
   "metadata": {},
   "outputs": [
    {
     "data": {
      "text/plain": [
       "Unnamed: 0    0\n",
       "city          0\n",
       "puid          0\n",
       "hours         0\n",
       "dtype: int64"
      ]
     },
     "execution_count": 5,
     "metadata": {},
     "output_type": "execute_result"
    }
   ],
   "source": [
    "knigi.isnull().sum()"
   ]
  },
  {
   "cell_type": "markdown",
   "id": "6a63d7d5",
   "metadata": {},
   "source": [
    "Данные содержат 8784 строки и 4 столбца:\n",
    "\n",
    "- Unnamed: 0 — индекс (целочисленный), без пропусков.\n",
    "- city — город (строковый тип), без пропусков.\n",
    "- puid — идентификатор пользователя (целочисленный), без пропусков.\n",
    "- hours — количество часов активности (числовой тип с плавающей точкой), без пропусков.\n",
    "\n",
    "Пропусков в данных нет — все 8784 строки заполнены во всех столбцах.\n",
    "\n"
   ]
  },
  {
   "cell_type": "code",
   "execution_count": 6,
   "id": "92cdbc98",
   "metadata": {},
   "outputs": [
    {
     "name": "stdout",
     "output_type": "stream",
     "text": [
      "Количество явных дубликатов: 0\n",
      "Количество дубликатов по puid: 244\n"
     ]
    }
   ],
   "source": [
    "# Выведем явные дубликаты\n",
    "duplicates_count = knigi.duplicated().sum()\n",
    "print(f'Количество явных дубликатов: {duplicates_count}')\n",
    "\n",
    "# Проверим данные на неявные дубликаты (по puid)\n",
    "duplicates_puid = knigi.duplicated(subset=['puid']).sum()\n",
    "print(f'Количество дубликатов по puid: {duplicates_puid}')"
   ]
  },
  {
   "cell_type": "code",
   "execution_count": 7,
   "id": "fd2cc5d9",
   "metadata": {},
   "outputs": [
    {
     "data": {
      "text/plain": [
       "879888383           2\n",
       "73736051            2\n",
       "331188228           2\n",
       "16488430            2\n",
       "1965288031          2\n",
       "                   ..\n",
       "246902970           2\n",
       "64622566            2\n",
       "1130000002551638    2\n",
       "1485911865          2\n",
       "1074710451          2\n",
       "Name: puid, Length: 244, dtype: int64"
      ]
     },
     "execution_count": 7,
     "metadata": {},
     "output_type": "execute_result"
    }
   ],
   "source": [
    "# Посчитаем, сколько раз каждый puid встречается\n",
    "puid_counts = knigi['puid'].value_counts()\n",
    "puid_duplicates = puid_counts[puid_counts > 1]\n",
    "\n",
    "puid_duplicates"
   ]
  },
  {
   "cell_type": "markdown",
   "id": "3db36809",
   "metadata": {},
   "source": [
    "Полных дубликатов в данных нет. \n",
    "\n",
    "Повторяющиеся значения puid присутствуют, что,скорее всего, отражает множественные записи активности одного и того же пользователя в разные моменты времени. Для исключения повторного учёта одного и того же пользователя в анализе удалим повторяющиеся записи с одинаковым puid, оставляя только по одной записи на пользователя.\n"
   ]
  },
  {
   "cell_type": "code",
   "execution_count": 8,
   "id": "ddf436e5",
   "metadata": {},
   "outputs": [
    {
     "name": "stdout",
     "output_type": "stream",
     "text": [
      "Размер после удаления дубликатов по puid: 8540\n"
     ]
    }
   ],
   "source": [
    "# Оставим только первую запись для каждого puid\n",
    "knigi_unique = knigi.drop_duplicates(subset=['puid'], keep='first')\n",
    "\n",
    "print(f'Размер после удаления дубликатов по puid: {knigi_unique.shape[0]}')"
   ]
  },
  {
   "cell_type": "markdown",
   "id": "956e82e2",
   "metadata": {
    "id": "956e82e2"
   },
   "source": [
    "## 2. Проверка гипотезы в Python\n",
    "\n",
    "Гипотеза звучит так: пользователи из Санкт-Петербурга проводят в среднем больше времени за чтением и прослушиванием книг в приложении, чем пользователи из Москвы. Попробуйте статистически это доказать, используя одностороннюю проверку гипотезы с двумя выборками:\n",
    "\n",
    "- `Нулевая гипотеза  𝐻0:𝜇СПб≤𝜇Москва`\n",
    " \n",
    "Среднее время активности пользователей в Санкт-Петербурге не больше, чем в Москве.\n",
    "\n",
    "- `Альтернативная гипотеза  𝐻1:𝜇СПб>𝜇Москва`\n",
    " \n",
    "Среднее время активности пользователей в Санкт-Петербурге больше, и это различие статистически значимо."
   ]
  },
  {
   "cell_type": "code",
   "execution_count": 9,
   "id": "db4d39da",
   "metadata": {},
   "outputs": [
    {
     "data": {
      "image/png": "[encoded data removed]",
      "text/plain": [
       "<Figure size 864x360 with 2 Axes>"
      ]
     },
     "metadata": {
      "needs_background": "light"
     },
     "output_type": "display_data"
    },
    {
     "data": {
      "image/png": "[encoded data removed]",
      "text/plain": [
       "<Figure size 432x288 with 1 Axes>"
      ]
     },
     "metadata": {
      "needs_background": "light"
     },
     "output_type": "display_data"
    }
   ],
   "source": [
    "# Чтобы решить, какой тест применять, нужно проверить нормальность данных.\n",
    "\n",
    "# Фильтруем данные по городам и выбираем столбец с активностью ('hours')\n",
    "moscow = knigi_unique.loc[knigi['city'] == 'Москва', 'hours']\n",
    "spb = knigi_unique.loc[knigi['city'] == 'Санкт-Петербург', 'hours']\n",
    "\n",
    "plt.figure(figsize=(12,5))\n",
    "\n",
    "plt.subplot(1,2,1)\n",
    "plt.hist(moscow, bins=30, alpha=0.7, color='blue')\n",
    "plt.title('Гистограмма времени активности - Москва')\n",
    "plt.xlabel('Часы')\n",
    "plt.ylabel('Частота')\n",
    "\n",
    "plt.subplot(1,2,2)\n",
    "plt.hist(spb, bins=30, alpha=0.7, color='green')\n",
    "plt.title('Гистограмма времени активности - Санкт-Петербург')\n",
    "plt.xlabel('Часы')\n",
    "plt.ylabel('Частота')\n",
    "\n",
    "plt.show()\n",
    "\n",
    "# Boxplots\n",
    "plt.boxplot([moscow, spb], labels=['Москва', 'Санкт-Петербург'])\n",
    "plt.title('Boxplot времени активности')\n",
    "plt.ylabel('Часы')\n",
    "plt.show()"
   ]
  },
  {
   "cell_type": "markdown",
   "id": "db4cb405",
   "metadata": {},
   "source": [
    "Гистограмма:\n",
    "\n",
    "- Распределение данных сильно скошено вправо (положительная асимметрия).\n",
    "- Большая часть значений сосредоточена около нуля, а длинный «хвост» тянется вправо.\n",
    "- Такое распределение не похоже на нормальное.\n",
    "\n",
    "\n",
    "Ящик с усами:\n",
    "\n",
    "- Наличие большого количества выбросов.\n",
    "- Распределение данных неравномерное, имеются экстремальные значения.\n",
    "\n",
    "\n",
    "Данные не соответствуют нормальному распределению.\n",
    "\n",
    "Из-за сильной скошенности и большого количества выбросов лучше использовать непараметрический тест Манна-Уитни, который не требует нормальности распределения и устойчив к выбросам."
   ]
  },
  {
   "cell_type": "code",
   "execution_count": 10,
   "id": "67956690",
   "metadata": {
    "id": "67956690"
   },
   "outputs": [
    {
     "name": "stdout",
     "output_type": "stream",
     "text": [
      "p-value: 0.61896\n",
      "Нет оснований отвергать нулевую гипотезу: статистически значимых доказательств превосходства активности СПб над Москвой нет.\n"
     ]
    }
   ],
   "source": [
    "# Тест Манна-Уитни с односторонней альтернативой:\n",
    "alpha = 0.05\n",
    "stat_mw, p_value = mannwhitneyu(spb, moscow, alternative='greater')\n",
    "\n",
    "print(f\"p-value: {p_value:.5f}\")\n",
    "\n",
    "if p_value < alpha:\n",
    "    print(\"Отвергаем нулевую гипотезу: среднее время активности в СПб статистически значимо больше, чем в Москве.\")\n",
    "else:\n",
    "    print(\"Нет оснований отвергать нулевую гипотезу: статистически значимых доказательств превосходства активности СПб над Москвой нет.\")"
   ]
  },
  {
   "cell_type": "markdown",
   "id": "79dcd23e",
   "metadata": {},
   "source": [
    "На основе одностороннего теста Манна-Уитни нельзя утверждать, что средняя активность в Санкт-Петербурге статистически значимо превышает активность в Москве. Различия между городами по активности не являются статистически значимыми."
   ]
  },
  {
   "cell_type": "markdown",
   "id": "6953e84c",
   "metadata": {
    "id": "6953e84c"
   },
   "source": [
    "## 3. Аналитическая записка\n",
    "По результатам анализа данных подготовьте аналитическую записку, в которой опишете:\n",
    "\n",
    "- Выбранный тип t-теста и уровень статистической значимости.\n",
    "\n",
    "- Результат теста, или p-value.\n",
    "\n",
    "- Вывод на основе полученного p-value, то есть интерпретацию результатов.\n",
    "\n",
    "- Одну или две возможные причины, объясняющие полученные результаты.\n",
    "\n"
   ]
  },
  {
   "cell_type": "markdown",
   "id": "6f2c742f",
   "metadata": {},
   "source": [
    "**1. Выбранный тип теста и уровень значимости:**\n",
    "\n",
    "Из-за сильной положительной скошенности распределения часов активности и наличия большого количества выбросов данные не соответствуют предпосылкам нормальности, необходимым для t-теста.\n",
    "\n",
    "Для сравнения средней активности пользователей в Санкт-Петербурге и Москве был выбран непараметрический односторонний тест Манна-Уитни (средняя активность СПб > Москва), при уровене статистической значимости alpha = 0.05.\n",
    "\n",
    "**2. Результат теста:**\n",
    "\n",
    "p-value одностороннего теста Манна-Уитни оказался больше 0.05.\n",
    "\n",
    "**3. Интерпретация результата:**\n",
    "\n",
    "На уровне значимости 0.05 отсутствуют статистически значимые доказательства того, что среднее время активности пользователей из Санкт-Петербурга превышает среднее время активности пользователей из Москвы.\n",
    "\n",
    "Нулевая гипотеза (𝜇СПб ≤ 𝜇Москва) не отвергается. Можно заключить, что данные не подтверждают превосходство активности пользователей СПб над Москвой.\n",
    "\n",
    "**4. Возможные причины полученных результатов:**\n",
    "\n",
    "Сильная вариативность и наличие выбросов в данных, которые сглаживают различия между группами.\n",
    "\n",
    "Множественные записи одного пользователя могут влиять на распределение и снижать статистическую мощность теста, если активность внутри пользователей сильно варьируется.\n",
    "\n",
    "Возможное влияние внешних факторов, одинаково воздействующих на пользователей обоих городов (например, сезонность, общие события, особенности платформы)."
   ]
  },
  {
   "cell_type": "markdown",
   "id": "hc1d6jVISegz",
   "metadata": {
    "id": "hc1d6jVISegz"
   },
   "source": [
    "----"
   ]
  },
  {
   "cell_type": "markdown",
   "id": "NqOUIYhbrIfC",
   "metadata": {
    "id": "NqOUIYhbrIfC"
   },
   "source": [
    "# Часть 2. Анализ результатов A/B-тестирования"
   ]
  },
  {
   "cell_type": "markdown",
   "id": "tDwMKFNGsClr",
   "metadata": {
    "id": "tDwMKFNGsClr"
   },
   "source": [
    "Теперь вам нужно проанализировать другие данные. Представьте, что к вам обратились представители интернет-магазина BitMotion Kit, в котором продаются геймифицированные товары для тех, кто ведёт здоровый образ жизни. У него есть своя целевая аудитория, даже появились хиты продаж: эспандер со счётчиком и напоминанием, так и подстольный велотренажёр с Bluetooth.\n",
    "\n",
    "В будущем компания хочет расширить ассортимент товаров. Но перед этим нужно решить одну проблему. Интерфейс онлайн-магазина слишком сложен для пользователей — об этом говорят отзывы.\n",
    "\n",
    "Чтобы привлечь новых клиентов и увеличить число продаж, владельцы магазина разработали новую версию сайта и протестировали его на части пользователей. По задумке, это решение доказуемо повысит количество пользователей, которые совершат покупку.\n",
    "\n",
    "Ваша задача — провести оценку результатов A/B-теста. В вашем распоряжении:\n",
    "\n",
    "* данные о действиях пользователей и распределении их на группы,\n",
    "\n",
    "* техническое задание.\n",
    "\n",
    "Оцените корректность проведения теста и проанализируйте его результаты."
   ]
  },
  {
   "cell_type": "markdown",
   "id": "ef2bd546",
   "metadata": {},
   "source": []
  },
  {
   "cell_type": "markdown",
   "id": "UNXAAyF5r9Rk",
   "metadata": {
    "id": "UNXAAyF5r9Rk"
   },
   "source": [
    "## 1. Опишите цели исследования.\n",
    "\n"
   ]
  },
  {
   "cell_type": "markdown",
   "id": "kHx-51yES8bd",
   "metadata": {
    "id": "kHx-51yES8bd"
   },
   "source": [
    "Цель исследования: \n",
    "Оценить влияние нового интерфейса интернет-магазина BitMotion Kit на конверсию пользователей в покупателей в течение 7 дней после регистрации. Проверить, приводит ли редизайн сайта к статистически значимому увеличению числа покупок и соответствует ли результат бизнес-ожиданиям (рост конверсии минимум на 3 процентных пункта)."
   ]
  },
  {
   "cell_type": "markdown",
   "id": "_CZryx2OsH-s",
   "metadata": {
    "id": "_CZryx2OsH-s"
   },
   "source": [
    "## 2. Загрузите данные, оцените их целостность.\n"
   ]
  },
  {
   "cell_type": "code",
   "execution_count": 11,
   "id": "DjFcJbeGsTIg",
   "metadata": {
    "id": "DjFcJbeGsTIg"
   },
   "outputs": [],
   "source": [
    "participants = pd.read_csv('https://code.s3.yandex.net/datasets/ab_test_participants.csv')\n",
    "events = pd.read_csv('https://code.s3.yandex.net/datasets/ab_test_events.zip',\n",
    "                     parse_dates=['event_dt'], low_memory=False)"
   ]
  },
  {
   "cell_type": "code",
   "execution_count": 12,
   "id": "32200399",
   "metadata": {},
   "outputs": [
    {
     "name": "stdout",
     "output_type": "stream",
     "text": [
      "Данные участников:\n"
     ]
    },
    {
     "data": {
      "text/html": [
       "<div>\n",
       "<style scoped>\n",
       "    .dataframe tbody tr th:only-of-type {\n",
       "        vertical-align: middle;\n",
       "    }\n",
       "\n",
       "    .dataframe tbody tr th {\n",
       "        vertical-align: top;\n",
       "    }\n",
       "\n",
       "    .dataframe thead th {\n",
       "        text-align: right;\n",
       "    }\n",
       "</style>\n",
       "<table border=\"1\" class=\"dataframe\">\n",
       "  <thead>\n",
       "    <tr style=\"text-align: right;\">\n",
       "      <th></th>\n",
       "      <th>user_id</th>\n",
       "      <th>group</th>\n",
       "      <th>ab_test</th>\n",
       "      <th>device</th>\n",
       "    </tr>\n",
       "  </thead>\n",
       "  <tbody>\n",
       "    <tr>\n",
       "      <th>0</th>\n",
       "      <td>0002CE61FF2C4011</td>\n",
       "      <td>B</td>\n",
       "      <td>interface_eu_test</td>\n",
       "      <td>Mac</td>\n",
       "    </tr>\n",
       "    <tr>\n",
       "      <th>1</th>\n",
       "      <td>001064FEAAB631A1</td>\n",
       "      <td>B</td>\n",
       "      <td>recommender_system_test</td>\n",
       "      <td>Android</td>\n",
       "    </tr>\n",
       "    <tr>\n",
       "      <th>2</th>\n",
       "      <td>001064FEAAB631A1</td>\n",
       "      <td>A</td>\n",
       "      <td>interface_eu_test</td>\n",
       "      <td>Android</td>\n",
       "    </tr>\n",
       "    <tr>\n",
       "      <th>3</th>\n",
       "      <td>0010A1C096941592</td>\n",
       "      <td>A</td>\n",
       "      <td>recommender_system_test</td>\n",
       "      <td>Android</td>\n",
       "    </tr>\n",
       "    <tr>\n",
       "      <th>4</th>\n",
       "      <td>001E72F50D1C48FA</td>\n",
       "      <td>A</td>\n",
       "      <td>interface_eu_test</td>\n",
       "      <td>Mac</td>\n",
       "    </tr>\n",
       "  </tbody>\n",
       "</table>\n",
       "</div>"
      ],
      "text/plain": [
       "            user_id group                  ab_test   device\n",
       "0  0002CE61FF2C4011     B        interface_eu_test      Mac\n",
       "1  001064FEAAB631A1     B  recommender_system_test  Android\n",
       "2  001064FEAAB631A1     A        interface_eu_test  Android\n",
       "3  0010A1C096941592     A  recommender_system_test  Android\n",
       "4  001E72F50D1C48FA     A        interface_eu_test      Mac"
      ]
     },
     "metadata": {},
     "output_type": "display_data"
    },
    {
     "name": "stdout",
     "output_type": "stream",
     "text": [
      "<class 'pandas.core.frame.DataFrame'>\n",
      "RangeIndex: 14525 entries, 0 to 14524\n",
      "Data columns (total 4 columns):\n",
      " #   Column   Non-Null Count  Dtype \n",
      "---  ------   --------------  ----- \n",
      " 0   user_id  14525 non-null  object\n",
      " 1   group    14525 non-null  object\n",
      " 2   ab_test  14525 non-null  object\n",
      " 3   device   14525 non-null  object\n",
      "dtypes: object(4)\n",
      "memory usage: 454.0+ KB\n"
     ]
    }
   ],
   "source": [
    "print(\"Данные участников:\")\n",
    "display(participants.head())\n",
    "participants.info()"
   ]
  },
  {
   "cell_type": "code",
   "execution_count": 13,
   "id": "90d0931f",
   "metadata": {},
   "outputs": [
    {
     "name": "stdout",
     "output_type": "stream",
     "text": [
      "Данные событий:\n"
     ]
    },
    {
     "data": {
      "text/html": [
       "<div>\n",
       "<style scoped>\n",
       "    .dataframe tbody tr th:only-of-type {\n",
       "        vertical-align: middle;\n",
       "    }\n",
       "\n",
       "    .dataframe tbody tr th {\n",
       "        vertical-align: top;\n",
       "    }\n",
       "\n",
       "    .dataframe thead th {\n",
       "        text-align: right;\n",
       "    }\n",
       "</style>\n",
       "<table border=\"1\" class=\"dataframe\">\n",
       "  <thead>\n",
       "    <tr style=\"text-align: right;\">\n",
       "      <th></th>\n",
       "      <th>user_id</th>\n",
       "      <th>event_dt</th>\n",
       "      <th>event_name</th>\n",
       "      <th>details</th>\n",
       "    </tr>\n",
       "  </thead>\n",
       "  <tbody>\n",
       "    <tr>\n",
       "      <th>0</th>\n",
       "      <td>GLOBAL</td>\n",
       "      <td>2020-12-01 00:00:00</td>\n",
       "      <td>End of Black Friday Ads Campaign</td>\n",
       "      <td>ZONE_CODE15</td>\n",
       "    </tr>\n",
       "    <tr>\n",
       "      <th>1</th>\n",
       "      <td>CCBE9E7E99F94A08</td>\n",
       "      <td>2020-12-01 00:00:11</td>\n",
       "      <td>registration</td>\n",
       "      <td>0.0</td>\n",
       "    </tr>\n",
       "    <tr>\n",
       "      <th>2</th>\n",
       "      <td>GLOBAL</td>\n",
       "      <td>2020-12-01 00:00:25</td>\n",
       "      <td>product_page</td>\n",
       "      <td>NaN</td>\n",
       "    </tr>\n",
       "    <tr>\n",
       "      <th>3</th>\n",
       "      <td>CCBE9E7E99F94A08</td>\n",
       "      <td>2020-12-01 00:00:33</td>\n",
       "      <td>login</td>\n",
       "      <td>NaN</td>\n",
       "    </tr>\n",
       "    <tr>\n",
       "      <th>4</th>\n",
       "      <td>CCBE9E7E99F94A08</td>\n",
       "      <td>2020-12-01 00:00:52</td>\n",
       "      <td>product_page</td>\n",
       "      <td>NaN</td>\n",
       "    </tr>\n",
       "  </tbody>\n",
       "</table>\n",
       "</div>"
      ],
      "text/plain": [
       "            user_id            event_dt                        event_name  \\\n",
       "0            GLOBAL 2020-12-01 00:00:00  End of Black Friday Ads Campaign   \n",
       "1  CCBE9E7E99F94A08 2020-12-01 00:00:11                      registration   \n",
       "2            GLOBAL 2020-12-01 00:00:25                      product_page   \n",
       "3  CCBE9E7E99F94A08 2020-12-01 00:00:33                             login   \n",
       "4  CCBE9E7E99F94A08 2020-12-01 00:00:52                      product_page   \n",
       "\n",
       "       details  \n",
       "0  ZONE_CODE15  \n",
       "1          0.0  \n",
       "2          NaN  \n",
       "3          NaN  \n",
       "4          NaN  "
      ]
     },
     "metadata": {},
     "output_type": "display_data"
    },
    {
     "name": "stdout",
     "output_type": "stream",
     "text": [
      "<class 'pandas.core.frame.DataFrame'>\n",
      "RangeIndex: 787286 entries, 0 to 787285\n",
      "Data columns (total 4 columns):\n",
      " #   Column      Non-Null Count   Dtype         \n",
      "---  ------      --------------   -----         \n",
      " 0   user_id     787286 non-null  object        \n",
      " 1   event_dt    787286 non-null  datetime64[ns]\n",
      " 2   event_name  787286 non-null  object        \n",
      " 3   details     249022 non-null  object        \n",
      "dtypes: datetime64[ns](1), object(3)\n",
      "memory usage: 24.0+ MB\n"
     ]
    }
   ],
   "source": [
    "print(\"Данные событий:\")\n",
    "display(events.head())\n",
    "events.info()"
   ]
  },
  {
   "cell_type": "markdown",
   "id": "ccd45c9f",
   "metadata": {},
   "source": [
    "**interface_eu_test**\n",
    "\n",
    "- Тестирует влияние интерфейса.\n",
    "- Имеет чётко определённые группы.\n",
    "- Позволяет измерить конверсию в покупку в течение 7 дней.\n",
    "- Подходит для оценки статистической значимости и бизнес-эффекта (рост на ≥3 п.п.)."
   ]
  },
  {
   "cell_type": "code",
   "execution_count": null,
   "id": "0858a558",
   "metadata": {},
   "outputs": [],
   "source": []
  },
  {
   "cell_type": "markdown",
   "id": "CnzA-efasUrk",
   "metadata": {
    "id": "CnzA-efasUrk"
   },
   "source": [
    "## 3. По таблице `ab_test_participants` оцените корректность проведения теста:\n",
    "\n",
    "   3\\.1 Выделите пользователей, участвующих в тесте, и проверьте:\n",
    "\n",
    "   - соответствие требованиям технического задания,\n",
    "\n",
    "   - равномерность распределения пользователей по группам теста,\n",
    "\n",
    "   - отсутствие пересечений с конкурирующим тестом (нет пользователей, участвующих одновременно в двух тестовых группах)."
   ]
  },
  {
   "cell_type": "code",
   "execution_count": 14,
   "id": "aNa3zHrKslEN",
   "metadata": {
    "id": "aNa3zHrKslEN"
   },
   "outputs": [
    {
     "name": "stdout",
     "output_type": "stream",
     "text": [
      "Участников в interface_eu_test: 10850\n",
      "\n",
      "Распределение по группам:\n",
      "B    5467\n",
      "A    5383\n",
      "Name: group, dtype: int64\n",
      "\n",
      "Доля группы B: 0.504\n",
      "\n",
      "Пользователей, попавших в обе группы A и B: 0\n",
      "\n",
      "Пользователей, участвующих одновременно в interface_eu_test и других тестах: 887\n"
     ]
    }
   ],
   "source": [
    "interface_test = participants[participants['ab_test'] == 'interface_eu_test']\n",
    "print(f'Участников в interface_eu_test: {interface_test.shape[0]}')\n",
    "\n",
    "# Проверим распределение по группам:\n",
    "group_counts = interface_test['group'].value_counts()\n",
    "print('\\nРаспределение по группам:')\n",
    "print(group_counts)\n",
    "print('\\nДоля группы B:', round(group_counts['B'] / group_counts.sum(), 3))\n",
    "\n",
    "\n",
    "# Проверим, что каждый пользователь участвует только в одной группе в рамках interface_eu_test:\n",
    "duplicates = interface_test.groupby('user_id')['group'].nunique()\n",
    "multi_group_users = duplicates[duplicates > 1]\n",
    "print(f'\\nПользователей, попавших в обе группы A и B: {multi_group_users.shape[0]}')\n",
    "\n",
    "\n",
    "# Проверим пересечения с другим тестом:\n",
    "#Пользователи из interface_eu_test\n",
    "interface_users = set(interface_test['user_id'])\n",
    "\n",
    "#Пользователи из другого теста\n",
    "other_test = participants[participants['ab_test'] != 'interface_eu_test']\n",
    "other_users = set(other_test['user_id'])\n",
    "\n",
    "#Пересечения\n",
    "overlap_users = interface_users & other_users\n",
    "print(f'\\nПользователей, участвующих одновременно в interface_eu_test и других тестах: {len(overlap_users)}')"
   ]
  },
  {
   "cell_type": "markdown",
   "id": "336351d8",
   "metadata": {},
   "source": [
    "- Всего участников в тесте interface_eu_test: 10 850.\n",
    "- Все пользователи участвуют только в одной из двух групп (A или B).\n",
    "- Пользователей, попавших одновременно в обе группы — 0.\n",
    "\n",
    "Участники корректно распределены по группам, дублирующих записей нет.\n",
    "\n",
    "- Группа A: 5 383 пользователей.\n",
    "\n",
    "- Группа B: 5 467 пользователей.\n",
    "\n",
    "- Доля группы B: 50.4%.\n",
    "\n",
    "Распределение по группам практически равномерное (разница менее 1.6%), что допустимо для A/B-тестов.\n",
    "\n",
    "\n",
    "- Пользователей, участвующих одновременно в interface_eu_test и других тестах: 887 ( есть пересечения с другими тестами (примерно 8.2% от выборки)."
   ]
  },
  {
   "cell_type": "code",
   "execution_count": 15,
   "id": "80a7b007",
   "metadata": {
    "scrolled": true
   },
   "outputs": [
    {
     "name": "stdout",
     "output_type": "stream",
     "text": [
      "Количество участников после удаления пересечений: 9963\n",
      "\n",
      "Распределение по группам после удаления пересечений:\n",
      "B    5011\n",
      "A    4952\n",
      "Name: group, dtype: int64\n",
      "\n",
      "Доля группы B после удаления пересечений: 0.503\n"
     ]
    }
   ],
   "source": [
    "# Удалим пересекающихся пользователей\n",
    "c_interface_test = interface_test[~interface_test['user_id'].isin(overlap_users)]\n",
    "print(f'Количество участников после удаления пересечений: {c_interface_test.shape[0]}')\n",
    "\n",
    "# Проверяем распределение по группам после удаления\n",
    "group_counts_c = c_interface_test['group'].value_counts()\n",
    "print('\\nРаспределение по группам после удаления пересечений:')\n",
    "print(group_counts_c)\n",
    "print('\\nДоля группы B после удаления пересечений:', round(group_counts_c['B'] / group_counts_c.sum(), 3))"
   ]
  },
  {
   "cell_type": "markdown",
   "id": "d99ff21c",
   "metadata": {},
   "source": [
    "Изначально в тесте участвовало 10 850 пользователей, распределённых почти поровну между группами A (5 383) и B (5 467).\n",
    "\n",
    "Проверка показала, что каждый пользователь относится только к одной группе, пересечений внутри теста нет.\n",
    "\n",
    "Выявленные 887 пользователей (около 8,2%), которые одновременно участвовали и в других тестах удалены.\n",
    "\n",
    "В выборке осталось 9963 участника с равномерным распределением по группам (A — 4 952, B — 5 011), доля группы B — 50,3%."
   ]
  },
  {
   "cell_type": "markdown",
   "id": "GjulgSrlsqUU",
   "metadata": {
    "id": "GjulgSrlsqUU"
   },
   "source": [
    "3\\.2 Проанализируйте данные о пользовательской активности по таблице `ab_test_events`:\n",
    "\n",
    "- оставьте только события, связанные с участвующими в изучаемом тесте пользователями;"
   ]
  },
  {
   "cell_type": "code",
   "execution_count": 16,
   "id": "QMt0Ybo_swDK",
   "metadata": {
    "id": "QMt0Ybo_swDK"
   },
   "outputs": [
    {
     "name": "stdout",
     "output_type": "stream",
     "text": [
      "Всего событий после очистки: 728791\n",
      "Событий от участников interface_eu_test после удаления пересечений: 73815\n",
      "Уникальных пользователей в событиях: 9963\n"
     ]
    }
   ],
   "source": [
    "# Используем очищенный список участников теста после удаления пересечений\n",
    "clean_user_ids = set(c_interface_test['user_id'])\n",
    "\n",
    "# Очищаем события от некорректных user_id\n",
    "events = events[events['user_id'].notna()]\n",
    "events = events[events['user_id'] != 'GLOBAL']\n",
    "\n",
    "# Оставляем только события пользователей из очищенного списка\n",
    "c_interface_events = events[events['user_id'].isin(clean_user_ids)]\n",
    "\n",
    "print(f'Всего событий после очистки: {events.shape[0]}')\n",
    "print(f'Событий от участников interface_eu_test после удаления пересечений: {c_interface_events.shape[0]}')\n",
    "print(f'Уникальных пользователей в событиях: {c_interface_events[\"user_id\"].nunique()}')"
   ]
  },
  {
   "cell_type": "markdown",
   "id": "fBZ4DC2xswZJ",
   "metadata": {
    "id": "fBZ4DC2xswZJ"
   },
   "source": [
    "- определите горизонт анализа: рассчитайте время (лайфтайм) совершения события пользователем после регистрации и оставьте только те события, которые были выполнены в течение первых семи дней с момента регистрации;"
   ]
  },
  {
   "cell_type": "code",
   "execution_count": 17,
   "id": "sES4-dKts0Yb",
   "metadata": {
    "id": "sES4-dKts0Yb"
   },
   "outputs": [
    {
     "name": "stdout",
     "output_type": "stream",
     "text": [
      "Событий в течение 7 дней после регистрации: 63805\n",
      "Уникальных пользователей: 9963\n"
     ]
    }
   ],
   "source": [
    "# Найдём первое событие каждого пользователя (регистрацию) в очищенных данных\n",
    "registration_times = c_interface_events.groupby('user_id')['event_dt'].min().reset_index()\n",
    "registration_times.columns = ['user_id', 'registration_time']\n",
    "\n",
    "# Объединим с основной таблицей событий\n",
    "c_interface_events = c_interface_events.merge(registration_times, on='user_id', how='left')\n",
    "\n",
    "# Вычислим разницу в днях между событием и регистрацией\n",
    "c_interface_events['days_since_registration'] = (c_interface_events['event_dt'] - c_interface_events['registration_time']).dt.days\n",
    "\n",
    "# Оставим только события, совершённые в течение первых 7 дней после регистрации (включительно с 0 по 6 день)\n",
    "c_interface_events_7d = c_interface_events[c_interface_events['days_since_registration'] < 7]\n",
    "\n",
    "print(f'Событий в течение 7 дней после регистрации: {c_interface_events_7d.shape[0]}')\n",
    "print(f'Уникальных пользователей: {c_interface_events_7d[\"user_id\"].nunique()}')"
   ]
  },
  {
   "cell_type": "code",
   "execution_count": 18,
   "id": "61dc4a57",
   "metadata": {},
   "outputs": [
    {
     "data": {
      "text/html": [
       "<div>\n",
       "<style scoped>\n",
       "    .dataframe tbody tr th:only-of-type {\n",
       "        vertical-align: middle;\n",
       "    }\n",
       "\n",
       "    .dataframe tbody tr th {\n",
       "        vertical-align: top;\n",
       "    }\n",
       "\n",
       "    .dataframe thead th {\n",
       "        text-align: right;\n",
       "    }\n",
       "</style>\n",
       "<table border=\"1\" class=\"dataframe\">\n",
       "  <thead>\n",
       "    <tr style=\"text-align: right;\">\n",
       "      <th></th>\n",
       "      <th>user_id</th>\n",
       "      <th>event_dt</th>\n",
       "      <th>event_name</th>\n",
       "      <th>details</th>\n",
       "      <th>registration_time</th>\n",
       "      <th>days_since_registration</th>\n",
       "    </tr>\n",
       "  </thead>\n",
       "  <tbody>\n",
       "    <tr>\n",
       "      <th>0</th>\n",
       "      <td>5F506CEBEDC05D30</td>\n",
       "      <td>2020-12-06 14:10:01</td>\n",
       "      <td>registration</td>\n",
       "      <td>0.0</td>\n",
       "      <td>2020-12-06 14:10:01</td>\n",
       "      <td>0</td>\n",
       "    </tr>\n",
       "    <tr>\n",
       "      <th>1</th>\n",
       "      <td>51278A006E918D97</td>\n",
       "      <td>2020-12-06 14:37:25</td>\n",
       "      <td>registration</td>\n",
       "      <td>-3.8</td>\n",
       "      <td>2020-12-06 14:37:25</td>\n",
       "      <td>0</td>\n",
       "    </tr>\n",
       "    <tr>\n",
       "      <th>2</th>\n",
       "      <td>A0C1E8EFAD874D8B</td>\n",
       "      <td>2020-12-06 17:20:22</td>\n",
       "      <td>registration</td>\n",
       "      <td>-3.32</td>\n",
       "      <td>2020-12-06 17:20:22</td>\n",
       "      <td>0</td>\n",
       "    </tr>\n",
       "    <tr>\n",
       "      <th>3</th>\n",
       "      <td>275A8D6254ACF530</td>\n",
       "      <td>2020-12-06 19:36:54</td>\n",
       "      <td>registration</td>\n",
       "      <td>-0.48</td>\n",
       "      <td>2020-12-06 19:36:54</td>\n",
       "      <td>0</td>\n",
       "    </tr>\n",
       "    <tr>\n",
       "      <th>4</th>\n",
       "      <td>0B704EB2DC7FCA4B</td>\n",
       "      <td>2020-12-06 19:42:20</td>\n",
       "      <td>registration</td>\n",
       "      <td>0.0</td>\n",
       "      <td>2020-12-06 19:42:20</td>\n",
       "      <td>0</td>\n",
       "    </tr>\n",
       "    <tr>\n",
       "      <th>...</th>\n",
       "      <td>...</td>\n",
       "      <td>...</td>\n",
       "      <td>...</td>\n",
       "      <td>...</td>\n",
       "      <td>...</td>\n",
       "      <td>...</td>\n",
       "    </tr>\n",
       "    <tr>\n",
       "      <th>73667</th>\n",
       "      <td>E89AF4EFC757D283</td>\n",
       "      <td>2020-12-29 21:46:43</td>\n",
       "      <td>product_cart</td>\n",
       "      <td>NaN</td>\n",
       "      <td>2020-12-23 09:35:48</td>\n",
       "      <td>6</td>\n",
       "    </tr>\n",
       "    <tr>\n",
       "      <th>73670</th>\n",
       "      <td>E89AF4EFC757D283</td>\n",
       "      <td>2020-12-29 21:47:56</td>\n",
       "      <td>product_cart</td>\n",
       "      <td>NaN</td>\n",
       "      <td>2020-12-23 09:35:48</td>\n",
       "      <td>6</td>\n",
       "    </tr>\n",
       "    <tr>\n",
       "      <th>73739</th>\n",
       "      <td>A6AFDC94A0D3B23D</td>\n",
       "      <td>2020-12-29 22:47:00</td>\n",
       "      <td>product_page</td>\n",
       "      <td>NaN</td>\n",
       "      <td>2020-12-23 13:53:33</td>\n",
       "      <td>6</td>\n",
       "    </tr>\n",
       "    <tr>\n",
       "      <th>73745</th>\n",
       "      <td>A6AFDC94A0D3B23D</td>\n",
       "      <td>2020-12-29 22:48:46</td>\n",
       "      <td>product_page</td>\n",
       "      <td>NaN</td>\n",
       "      <td>2020-12-23 13:53:33</td>\n",
       "      <td>6</td>\n",
       "    </tr>\n",
       "    <tr>\n",
       "      <th>73793</th>\n",
       "      <td>31DBDCA380DD035F</td>\n",
       "      <td>2020-12-29 23:41:16</td>\n",
       "      <td>product_page</td>\n",
       "      <td>NaN</td>\n",
       "      <td>2020-12-23 18:11:40</td>\n",
       "      <td>6</td>\n",
       "    </tr>\n",
       "  </tbody>\n",
       "</table>\n",
       "<p>63805 rows × 6 columns</p>\n",
       "</div>"
      ],
      "text/plain": [
       "                user_id            event_dt    event_name details  \\\n",
       "0      5F506CEBEDC05D30 2020-12-06 14:10:01  registration     0.0   \n",
       "1      51278A006E918D97 2020-12-06 14:37:25  registration    -3.8   \n",
       "2      A0C1E8EFAD874D8B 2020-12-06 17:20:22  registration   -3.32   \n",
       "3      275A8D6254ACF530 2020-12-06 19:36:54  registration   -0.48   \n",
       "4      0B704EB2DC7FCA4B 2020-12-06 19:42:20  registration     0.0   \n",
       "...                 ...                 ...           ...     ...   \n",
       "73667  E89AF4EFC757D283 2020-12-29 21:46:43  product_cart     NaN   \n",
       "73670  E89AF4EFC757D283 2020-12-29 21:47:56  product_cart     NaN   \n",
       "73739  A6AFDC94A0D3B23D 2020-12-29 22:47:00  product_page     NaN   \n",
       "73745  A6AFDC94A0D3B23D 2020-12-29 22:48:46  product_page     NaN   \n",
       "73793  31DBDCA380DD035F 2020-12-29 23:41:16  product_page     NaN   \n",
       "\n",
       "        registration_time  days_since_registration  \n",
       "0     2020-12-06 14:10:01                        0  \n",
       "1     2020-12-06 14:37:25                        0  \n",
       "2     2020-12-06 17:20:22                        0  \n",
       "3     2020-12-06 19:36:54                        0  \n",
       "4     2020-12-06 19:42:20                        0  \n",
       "...                   ...                      ...  \n",
       "73667 2020-12-23 09:35:48                        6  \n",
       "73670 2020-12-23 09:35:48                        6  \n",
       "73739 2020-12-23 13:53:33                        6  \n",
       "73745 2020-12-23 13:53:33                        6  \n",
       "73793 2020-12-23 18:11:40                        6  \n",
       "\n",
       "[63805 rows x 6 columns]"
      ]
     },
     "execution_count": 18,
     "metadata": {},
     "output_type": "execute_result"
    }
   ],
   "source": [
    "c_interface_events_7d"
   ]
  },
  {
   "cell_type": "markdown",
   "id": "7cf1df48",
   "metadata": {},
   "source": [
    "Оцените достаточность выборки для получения статистически значимых результатов A/B-теста. Заданные параметры:\n",
    "\n",
    "- базовый показатель конверсии — 30%,\n",
    "\n",
    "- мощность теста — 80%,\n",
    "\n",
    "- достоверность теста — 95%."
   ]
  },
  {
   "cell_type": "code",
   "execution_count": 19,
   "id": "46dd42e0",
   "metadata": {},
   "outputs": [
    {
     "name": "stdout",
     "output_type": "stream",
     "text": [
      "Минимальный размер выборки на группу для обнаружения uplift 3.0 п.п.: 1859\n",
      "Всего пользователей в тесте (2 группы): 3718\n"
     ]
    }
   ],
   "source": [
    "p1 = 0.30  # базовый уровень конверсии\n",
    "uplift_absolute = 0.03  # ожидаемый абсолютный uplift (3 п.п.)\n",
    "p2 = p1 + uplift_absolute  # конверсия в группе B\n",
    "power = 0.8  # мощность теста (1 - beta)\n",
    "alpha = 0.05  # уровень значимости\n",
    "\n",
    "z_alpha = 1.96  # квантиль нормального распределения для alpha=0.05\n",
    "z_beta = 0.84   # квантиль нормального распределения для мощности 80%\n",
    "\n",
    "# Расчитаем минимальный размер выборки на группу\n",
    "numerator = (z_alpha * math.sqrt(p1 * (1 - p1)) + z_beta * math.sqrt(p2 * (1 - p2))) ** 2\n",
    "denominator = (p2 - p1) ** 2\n",
    "\n",
    "n_per_group = math.ceil(numerator / denominator)\n",
    "\n",
    "print(f\"Минимальный размер выборки на группу для обнаружения uplift {uplift_absolute*100:.1f} п.п.: {n_per_group}\")\n",
    "print(f\"Всего пользователей в тесте (2 группы): {n_per_group * 2}\")"
   ]
  },
  {
   "cell_type": "markdown",
   "id": "a7bdd37f",
   "metadata": {},
   "source": []
  },
  {
   "cell_type": "markdown",
   "id": "acf09ac7",
   "metadata": {},
   "source": [
    "Текущая выборка (~4950 пользователя на группу) достаточна для того, чтобы:\n",
    "\n",
    "Обнаружить ожидаемый эффект (рост конверсии на 3 п.п.) И сделать статистически обоснованный вывод о влиянии редизайна на конверсию."
   ]
  },
  {
   "cell_type": "markdown",
   "id": "SadyUDgZs0t3",
   "metadata": {
    "id": "SadyUDgZs0t3"
   },
   "source": [
    "- рассчитайте для каждой группы количество посетителей, сделавших покупку, и общее количество посетителей."
   ]
  },
  {
   "cell_type": "code",
   "execution_count": 20,
   "id": "7ph853Xks4sy",
   "metadata": {
    "id": "7ph853Xks4sy"
   },
   "outputs": [
    {
     "data": {
      "text/html": [
       "<div>\n",
       "<style scoped>\n",
       "    .dataframe tbody tr th:only-of-type {\n",
       "        vertical-align: middle;\n",
       "    }\n",
       "\n",
       "    .dataframe tbody tr th {\n",
       "        vertical-align: top;\n",
       "    }\n",
       "\n",
       "    .dataframe thead th {\n",
       "        text-align: right;\n",
       "    }\n",
       "</style>\n",
       "<table border=\"1\" class=\"dataframe\">\n",
       "  <thead>\n",
       "    <tr style=\"text-align: right;\">\n",
       "      <th></th>\n",
       "      <th>group</th>\n",
       "      <th>total_users</th>\n",
       "      <th>buyers</th>\n",
       "    </tr>\n",
       "  </thead>\n",
       "  <tbody>\n",
       "    <tr>\n",
       "      <th>0</th>\n",
       "      <td>A</td>\n",
       "      <td>4952</td>\n",
       "      <td>1377</td>\n",
       "    </tr>\n",
       "    <tr>\n",
       "      <th>1</th>\n",
       "      <td>B</td>\n",
       "      <td>5011</td>\n",
       "      <td>1480</td>\n",
       "    </tr>\n",
       "  </tbody>\n",
       "</table>\n",
       "</div>"
      ],
      "text/plain": [
       "  group  total_users  buyers\n",
       "0     A         4952    1377\n",
       "1     B         5011    1480"
      ]
     },
     "execution_count": 20,
     "metadata": {},
     "output_type": "execute_result"
    }
   ],
   "source": [
    "# Добавим информацию о группе к событиям (через participants)\n",
    "events_with_group = c_interface_events_7d.merge(participants[['user_id', 'group']], on='user_id', how='left')\n",
    "\n",
    "# Посчитаем общее количество уникальных пользователей в каждой группе (посетителей)\n",
    "total_users_by_group = events_with_group.groupby('group')['user_id'].nunique().reset_index()\n",
    "total_users_by_group.columns = ['group', 'total_users']\n",
    "\n",
    "# Отфильтруем события покупки\n",
    "purchase_events = events_with_group[events_with_group['event_name'] == 'purchase']\n",
    "\n",
    "# Посчитаем количество уникальных пользователей, совершивших покупку, в каждой группе\n",
    "buyers_by_group = purchase_events.groupby('group')['user_id'].nunique().reset_index()\n",
    "buyers_by_group.columns = ['group', 'buyers']\n",
    "summary = total_users_by_group.merge(buyers_by_group, on='group', how='left')\n",
    "\n",
    "# Заполним NaN в столбце buyers нулями (если в группе никто не покупал)\n",
    "summary['buyers'] = summary['buyers'].fillna(0).astype(int)\n",
    "summary"
   ]
  },
  {
   "cell_type": "code",
   "execution_count": 21,
   "id": "c4b24153",
   "metadata": {},
   "outputs": [
    {
     "data": {
      "text/html": [
       "<div>\n",
       "<style scoped>\n",
       "    .dataframe tbody tr th:only-of-type {\n",
       "        vertical-align: middle;\n",
       "    }\n",
       "\n",
       "    .dataframe tbody tr th {\n",
       "        vertical-align: top;\n",
       "    }\n",
       "\n",
       "    .dataframe thead th {\n",
       "        text-align: right;\n",
       "    }\n",
       "</style>\n",
       "<table border=\"1\" class=\"dataframe\">\n",
       "  <thead>\n",
       "    <tr style=\"text-align: right;\">\n",
       "      <th></th>\n",
       "      <th>group</th>\n",
       "      <th>conversion</th>\n",
       "    </tr>\n",
       "  </thead>\n",
       "  <tbody>\n",
       "    <tr>\n",
       "      <th>0</th>\n",
       "      <td>A</td>\n",
       "      <td>0.278069</td>\n",
       "    </tr>\n",
       "    <tr>\n",
       "      <th>1</th>\n",
       "      <td>B</td>\n",
       "      <td>0.295350</td>\n",
       "    </tr>\n",
       "  </tbody>\n",
       "</table>\n",
       "</div>"
      ],
      "text/plain": [
       "  group  conversion\n",
       "0     A    0.278069\n",
       "1     B    0.295350"
      ]
     },
     "execution_count": 21,
     "metadata": {},
     "output_type": "execute_result"
    }
   ],
   "source": [
    "# Расчет конверсий\n",
    "summary['conversion'] = summary['buyers'] / summary['total_users']\n",
    "summary[['group', 'conversion']]"
   ]
  },
  {
   "cell_type": "code",
   "execution_count": 22,
   "id": "f9c5bcca",
   "metadata": {},
   "outputs": [
    {
     "name": "stdout",
     "output_type": "stream",
     "text": [
      "Разница в конверсии (B - A): 0.0172807626130429 \n"
     ]
    }
   ],
   "source": [
    "# Расчет разницы конверсий\n",
    "conversion_diff = summary.loc[summary['group'] == 'B', 'conversion'].values[0] - \\\n",
    "                  summary.loc[summary['group'] == 'A', 'conversion'].values[0]\n",
    "\n",
    "print(f'Разница в конверсии (B - A): {conversion_diff} ')"
   ]
  },
  {
   "cell_type": "markdown",
   "id": "sh1JpGvAs5E3",
   "metadata": {
    "id": "sh1JpGvAs5E3"
   },
   "source": [
    "- сделайте предварительный общий вывод об изменении пользовательской активности в тестовой группе по сравнению с контрольной."
   ]
  },
  {
   "cell_type": "markdown",
   "id": "caa3f5cc",
   "metadata": {
    "id": "hHTHPkJYs8mE"
   },
   "source": [
    "**Конверсия в покупку:**\n",
    "\n",
    "Группа A:\n",
    "1377 / 4952 ≈ 27.81%\n",
    "\n",
    "Группа B:\n",
    "1480 / 5011 ≈ 29.54%\n",
    "\n",
    "Разница в конверсии: +1.73 п.п.\n",
    "\n",
    "Это означает, что в тестовой группе B, где был применён редизайн интерфейса, доля пользователей, совершивших покупку, выше на 1.73 процентных пункта по сравнению с контрольной группой A.\n",
    "\n",
    "**Рост активности:**\n",
    "\n",
    "Несмотря на примерно равное количество пользователей в обеих группах (5011 в B против 4952 в A), в тестовой группе B наблюдается большее число покупателей (1480 против 1377). Это указывает на положительную динамику вовлечённости и активности пользователей после внедрения изменений.\n",
    "\n",
    "**Предварительный вывод:**\n",
    "\n",
    "Редизайн интерфейса в тестовой группе B, по предварительным данным, привёл к небольшому росту конверсии в покупку. Пользователи стали активнее. Это может свидетельствовать о положительном влиянии изменений в интерфейсе на поведение пользователей.\n",
    "\n",
    "Рекомендуется провести статистический тест (например, z-тест) для проверки значимости различий в конверсии между группами A и B."
   ]
  },
  {
   "cell_type": "markdown",
   "id": "IKZ1Oo3Ws919",
   "metadata": {
    "id": "IKZ1Oo3Ws919"
   },
   "source": [
    "## 4. Проведите оценку результатов A/B-тестирования:"
   ]
  },
  {
   "cell_type": "markdown",
   "id": "dcUdBSmvtC-E",
   "metadata": {
    "id": "dcUdBSmvtC-E"
   },
   "source": [
    "- Проверьте изменение конверсии подходящим статистическим тестом, учитывая все этапы проверки гипотез."
   ]
  },
  {
   "cell_type": "markdown",
   "id": "58fe65f3",
   "metadata": {},
   "source": [
    "- `Нулевая гипотеза (H₀): рА=рВ`.\n",
    "Конверсии групп А и В равны.\n",
    "- `Альтернативная гипотеза (H₁): рА<рВ`.\n",
    "Конверсия группы В выше конверсии группы А."
   ]
  },
  {
   "cell_type": "code",
   "execution_count": 23,
   "id": "l_KOziBQtL3t",
   "metadata": {
    "id": "l_KOziBQtL3t"
   },
   "outputs": [
    {
     "name": "stdout",
     "output_type": "stream",
     "text": [
      "p-value: 0.9717\n",
      "P-value ≥ 0.05. Недостаточно оснований отвергнуть H0.\n"
     ]
    }
   ],
   "source": [
    "successes = summary['buyers'].values  # [покупатели в группе A, покупатели в группе B]\n",
    "nobs = summary['total_users'].values  # [пользователи в группе A, пользователи в группе B]\n",
    "\n",
    "alpha = 0.05\n",
    "\n",
    "# Односторонний тест\n",
    "z_stat, p_value = proportions_ztest(successes, nobs, alternative='larger')\n",
    "\n",
    "print(f'p-value: {p_value:.4f}')\n",
    "\n",
    "if p_value < alpha:\n",
    "    print(f'P-value < {alpha}. Различие статистически значимо. Отвергаем H0, конверсия в группе B выше.')\n",
    "else:\n",
    "    print(f'P-value ≥ {alpha}. Недостаточно оснований отвергнуть H0.')"
   ]
  },
  {
   "cell_type": "code",
   "execution_count": null,
   "id": "a85187c9",
   "metadata": {},
   "outputs": [],
   "source": []
  },
  {
   "cell_type": "markdown",
   "id": "9jkyKOjgtGoc",
   "metadata": {
    "id": "9jkyKOjgtGoc"
   },
   "source": [
    "- Опишите выводы по проведённой оценке результатов A/B-тестирования. Что можно сказать про результаты A/B-тестирования? Был ли достигнут ожидаемый эффект в изменении конверсии?"
   ]
  },
  {
   "cell_type": "markdown",
   "id": "npoPPSKytKvR",
   "metadata": {
    "id": "npoPPSKytKvR"
   },
   "source": [
    "**Статистическая значимость:**\n",
    "\n",
    "Проведен односторонний z-тест с гипотезами:\n",
    "H₀: pA = pB (конверсии равны)\n",
    "H₁: pB > pA (конверсия в группе B выше)\n",
    "Полученное p-значение = 0.9717, что значительно больше уровня значимости α = 0.05.\n",
    "\n",
    "Недостаточно оснований отвергнуть нулевую гипотезу. Различие в конверсиях между группами статистически незначимо.\n",
    "\n",
    "**Рост конверсии:**\n",
    "\n",
    "Конверсия в группе A: 27.81%\n",
    "Конверсия в группе B: 29.54%\n",
    "Абсолютный прирост: +1.73 п.п.\n",
    "Минимальный размер выборки рассчитан для обнаружения эффекта в 3 п.п. и текущая выборка (~4950 на группу) достаточна для этого.\n",
    "\n",
    "\n",
    "**Вывод:**\n",
    "\n",
    "Результаты A/B-теста показввают, что несмотря на положительную разницу в конверсии (+1.73 п.п.) в пользу группы B, эффект оказался меньше ожидаемого бизнес-условиями (3 п.п.) и не является статистически значимым.\n",
    "Это означает, что наблюдаемое улучшение может быть вызвано случайными колебаниями, и нельзя с уверенностью утверждать, что редизайн повысил конверсию.\n",
    "\n",
    "**Заключение:**\n",
    "\n",
    "На текущем этапе нет статистически обоснованных доказательств, что новый интерфейс повысил конверсию пользователей в покупателей на заявленный минимум 3 процентных пункта. Наблюдается положительная тенденция, но она не подтверждена статистически. Для принятия решения о масштабном внедрении рекомендуется дополнительный анализ и/или сбор данных."
   ]
  },
  {
   "cell_type": "markdown",
   "id": "9f52bb61",
   "metadata": {},
   "source": []
  },
  {
   "cell_type": "markdown",
   "id": "c2358ea5",
   "metadata": {},
   "source": []
  }
 ],
 "metadata": {
  "ExecuteTimeLog": [
   {
    "duration": 176,
    "start_time": "2025-06-09T16:17:12.030Z"
   },
   {
    "duration": 408,
    "start_time": "2025-06-09T16:18:45.296Z"
   },
   {
    "duration": 108,
    "start_time": "2025-06-09T16:18:46.032Z"
   },
   {
    "duration": 93,
    "start_time": "2025-06-09T16:19:00.343Z"
   },
   {
    "duration": 118,
    "start_time": "2025-06-09T16:19:22.318Z"
   },
   {
    "duration": 452,
    "start_time": "2025-06-09T16:20:48.302Z"
   },
   {
    "duration": 100,
    "start_time": "2025-06-09T16:20:50.086Z"
   },
   {
    "duration": 11,
    "start_time": "2025-06-09T16:23:15.340Z"
   },
   {
    "duration": 13,
    "start_time": "2025-06-09T16:26:03.591Z"
   },
   {
    "duration": 3,
    "start_time": "2025-06-09T16:26:08.214Z"
   },
   {
    "duration": 85,
    "start_time": "2025-06-09T16:26:08.782Z"
   },
   {
    "duration": 13,
    "start_time": "2025-06-09T16:26:10.437Z"
   },
   {
    "duration": 9,
    "start_time": "2025-06-09T16:26:26.412Z"
   },
   {
    "duration": 9,
    "start_time": "2025-06-09T16:27:25.767Z"
   },
   {
    "duration": 898,
    "start_time": "2025-06-09T16:27:34.481Z"
   },
   {
    "duration": 102,
    "start_time": "2025-06-09T16:27:35.381Z"
   },
   {
    "duration": 179,
    "start_time": "2025-06-09T16:27:35.485Z"
   },
   {
    "duration": 0,
    "start_time": "2025-06-09T16:27:35.666Z"
   },
   {
    "duration": 3,
    "start_time": "2025-06-09T16:27:49.693Z"
   },
   {
    "duration": 74,
    "start_time": "2025-06-09T16:27:54.005Z"
   },
   {
    "duration": 24,
    "start_time": "2025-06-09T16:27:55.781Z"
   },
   {
    "duration": 3,
    "start_time": "2025-06-09T16:28:06.523Z"
   },
   {
    "duration": 92,
    "start_time": "2025-06-09T16:28:07.548Z"
   },
   {
    "duration": 13,
    "start_time": "2025-06-09T16:28:09.068Z"
   },
   {
    "duration": 14,
    "start_time": "2025-06-09T16:28:17.308Z"
   },
   {
    "duration": 9,
    "start_time": "2025-06-09T16:29:08.879Z"
   },
   {
    "duration": 9,
    "start_time": "2025-06-09T16:36:26.159Z"
   },
   {
    "duration": 10,
    "start_time": "2025-06-09T16:37:03.139Z"
   },
   {
    "duration": 12,
    "start_time": "2025-06-09T16:37:12.075Z"
   },
   {
    "duration": 9,
    "start_time": "2025-06-09T16:39:17.785Z"
   },
   {
    "duration": 1715,
    "start_time": "2025-06-09T16:39:21.536Z"
   },
   {
    "duration": 23,
    "start_time": "2025-06-09T16:39:23.253Z"
   },
   {
    "duration": 123,
    "start_time": "2025-06-09T16:39:36.903Z"
   },
   {
    "duration": 15,
    "start_time": "2025-06-09T16:46:45.759Z"
   },
   {
    "duration": 129,
    "start_time": "2025-06-09T16:47:01.149Z"
   },
   {
    "duration": 25,
    "start_time": "2025-06-09T16:51:11.996Z"
   },
   {
    "duration": 543,
    "start_time": "2025-06-09T17:02:10.607Z"
   },
   {
    "duration": 251,
    "start_time": "2025-06-09T17:02:42.477Z"
   },
   {
    "duration": 1447,
    "start_time": "2025-06-09T17:05:06.297Z"
   },
   {
    "duration": 79,
    "start_time": "2025-06-09T17:05:58.151Z"
   },
   {
    "duration": 91,
    "start_time": "2025-06-09T17:09:21.631Z"
   },
   {
    "duration": 127,
    "start_time": "2025-06-09T17:09:31.605Z"
   },
   {
    "duration": 6,
    "start_time": "2025-06-09T17:20:55.016Z"
   },
   {
    "duration": 20,
    "start_time": "2025-06-09T17:25:18.918Z"
   },
   {
    "duration": 2010,
    "start_time": "2025-06-09T17:25:49.291Z"
   },
   {
    "duration": 1335,
    "start_time": "2025-06-09T17:28:33.415Z"
   },
   {
    "duration": 58,
    "start_time": "2025-06-09T17:30:44.365Z"
   },
   {
    "duration": 947,
    "start_time": "2025-06-09T17:31:08.980Z"
   },
   {
    "duration": 105,
    "start_time": "2025-06-09T17:31:09.929Z"
   },
   {
    "duration": 99,
    "start_time": "2025-06-09T17:31:10.036Z"
   },
   {
    "duration": 0,
    "start_time": "2025-06-09T17:31:10.137Z"
   },
   {
    "duration": 0,
    "start_time": "2025-06-09T17:31:10.139Z"
   },
   {
    "duration": 0,
    "start_time": "2025-06-09T17:31:10.140Z"
   },
   {
    "duration": 0,
    "start_time": "2025-06-09T17:31:10.141Z"
   },
   {
    "duration": 0,
    "start_time": "2025-06-09T17:31:10.143Z"
   },
   {
    "duration": 0,
    "start_time": "2025-06-09T17:31:10.145Z"
   },
   {
    "duration": 0,
    "start_time": "2025-06-09T17:31:10.146Z"
   },
   {
    "duration": 0,
    "start_time": "2025-06-09T17:31:10.148Z"
   },
   {
    "duration": 10,
    "start_time": "2025-06-09T17:33:43.869Z"
   },
   {
    "duration": 887,
    "start_time": "2025-06-09T17:33:51.894Z"
   },
   {
    "duration": 164,
    "start_time": "2025-06-09T17:33:52.783Z"
   },
   {
    "duration": 10,
    "start_time": "2025-06-09T17:33:52.949Z"
   },
   {
    "duration": 1696,
    "start_time": "2025-06-09T17:33:52.961Z"
   },
   {
    "duration": 21,
    "start_time": "2025-06-09T17:33:54.659Z"
   },
   {
    "duration": 134,
    "start_time": "2025-06-09T17:33:54.681Z"
   },
   {
    "duration": 25,
    "start_time": "2025-06-09T17:33:54.816Z"
   },
   {
    "duration": 280,
    "start_time": "2025-06-09T17:33:54.843Z"
   },
   {
    "duration": 75,
    "start_time": "2025-06-09T17:33:55.124Z"
   },
   {
    "duration": 18,
    "start_time": "2025-06-09T17:33:55.201Z"
   },
   {
    "duration": 72,
    "start_time": "2025-06-09T17:33:55.221Z"
   },
   {
    "duration": 2,
    "start_time": "2025-06-09T17:34:54.596Z"
   },
   {
    "duration": 79,
    "start_time": "2025-06-09T17:34:55.429Z"
   },
   {
    "duration": 12,
    "start_time": "2025-06-09T17:34:57.116Z"
   },
   {
    "duration": 12,
    "start_time": "2025-06-09T17:41:53.500Z"
   },
   {
    "duration": 858,
    "start_time": "2025-06-09T17:42:00.290Z"
   },
   {
    "duration": 83,
    "start_time": "2025-06-09T17:42:01.150Z"
   },
   {
    "duration": 10,
    "start_time": "2025-06-09T17:42:01.234Z"
   },
   {
    "duration": 1641,
    "start_time": "2025-06-09T17:42:01.246Z"
   },
   {
    "duration": 15,
    "start_time": "2025-06-09T17:42:02.890Z"
   },
   {
    "duration": 147,
    "start_time": "2025-06-09T17:42:02.907Z"
   },
   {
    "duration": 31,
    "start_time": "2025-06-09T17:42:03.056Z"
   },
   {
    "duration": 286,
    "start_time": "2025-06-09T17:42:03.089Z"
   },
   {
    "duration": 75,
    "start_time": "2025-06-09T17:42:03.378Z"
   },
   {
    "duration": 18,
    "start_time": "2025-06-09T17:42:03.455Z"
   },
   {
    "duration": 71,
    "start_time": "2025-06-09T17:42:03.475Z"
   },
   {
    "duration": 141,
    "start_time": "2025-06-09T17:44:06.486Z"
   },
   {
    "duration": 51,
    "start_time": "2025-06-09T17:44:11.414Z"
   },
   {
    "duration": 14,
    "start_time": "2025-06-09T17:44:44.051Z"
   },
   {
    "duration": 961,
    "start_time": "2025-06-09T17:45:06.671Z"
   },
   {
    "duration": 85,
    "start_time": "2025-06-09T17:45:07.634Z"
   },
   {
    "duration": 11,
    "start_time": "2025-06-09T17:45:07.720Z"
   },
   {
    "duration": 1773,
    "start_time": "2025-06-09T17:45:07.733Z"
   },
   {
    "duration": 18,
    "start_time": "2025-06-09T17:45:09.507Z"
   },
   {
    "duration": 138,
    "start_time": "2025-06-09T17:45:09.526Z"
   },
   {
    "duration": 26,
    "start_time": "2025-06-09T17:45:09.671Z"
   },
   {
    "duration": 286,
    "start_time": "2025-06-09T17:45:09.699Z"
   },
   {
    "duration": 85,
    "start_time": "2025-06-09T17:45:09.987Z"
   },
   {
    "duration": 6,
    "start_time": "2025-06-09T17:45:10.075Z"
   },
   {
    "duration": 89,
    "start_time": "2025-06-09T17:45:10.082Z"
   },
   {
    "duration": 103,
    "start_time": "2025-06-09T17:45:10.173Z"
   },
   {
    "duration": 12,
    "start_time": "2025-06-09T17:46:44.214Z"
   },
   {
    "duration": 4,
    "start_time": "2025-06-09T17:47:06.684Z"
   },
   {
    "duration": 929,
    "start_time": "2025-06-09T17:47:13.453Z"
   },
   {
    "duration": 75,
    "start_time": "2025-06-09T17:47:14.385Z"
   },
   {
    "duration": 11,
    "start_time": "2025-06-09T17:47:14.461Z"
   },
   {
    "duration": 1560,
    "start_time": "2025-06-09T17:47:14.473Z"
   },
   {
    "duration": 17,
    "start_time": "2025-06-09T17:47:16.036Z"
   },
   {
    "duration": 145,
    "start_time": "2025-06-09T17:47:16.055Z"
   },
   {
    "duration": 35,
    "start_time": "2025-06-09T17:47:16.202Z"
   },
   {
    "duration": 282,
    "start_time": "2025-06-09T17:47:16.239Z"
   },
   {
    "duration": 80,
    "start_time": "2025-06-09T17:47:16.522Z"
   },
   {
    "duration": 5,
    "start_time": "2025-06-09T17:47:16.605Z"
   },
   {
    "duration": 76,
    "start_time": "2025-06-09T17:47:16.612Z"
   },
   {
    "duration": 105,
    "start_time": "2025-06-09T17:47:16.690Z"
   },
   {
    "duration": 5,
    "start_time": "2025-06-09T17:47:42.945Z"
   },
   {
    "duration": 5,
    "start_time": "2025-06-09T17:50:40.852Z"
   },
   {
    "duration": 933,
    "start_time": "2025-06-09T18:18:38.117Z"
   },
   {
    "duration": 203,
    "start_time": "2025-06-09T18:18:39.052Z"
   },
   {
    "duration": 10,
    "start_time": "2025-06-09T18:18:39.257Z"
   },
   {
    "duration": 1641,
    "start_time": "2025-06-09T18:18:39.269Z"
   },
   {
    "duration": 16,
    "start_time": "2025-06-09T18:18:40.911Z"
   },
   {
    "duration": 137,
    "start_time": "2025-06-09T18:18:40.929Z"
   },
   {
    "duration": 24,
    "start_time": "2025-06-09T18:18:41.067Z"
   },
   {
    "duration": 280,
    "start_time": "2025-06-09T18:18:41.092Z"
   },
   {
    "duration": 72,
    "start_time": "2025-06-09T18:18:41.374Z"
   },
   {
    "duration": 23,
    "start_time": "2025-06-09T18:18:41.449Z"
   },
   {
    "duration": 77,
    "start_time": "2025-06-09T18:18:41.474Z"
   },
   {
    "duration": 5,
    "start_time": "2025-06-09T18:18:41.553Z"
   },
   {
    "duration": 3,
    "start_time": "2025-06-09T18:21:05.335Z"
   },
   {
    "duration": 69,
    "start_time": "2025-06-09T18:21:06.758Z"
   },
   {
    "duration": 10,
    "start_time": "2025-06-09T18:21:09.694Z"
   },
   {
    "duration": 11,
    "start_time": "2025-06-09T18:21:32.214Z"
   },
   {
    "duration": 10,
    "start_time": "2025-06-09T18:21:51.523Z"
   },
   {
    "duration": 10,
    "start_time": "2025-06-09T18:22:04.682Z"
   },
   {
    "duration": 888,
    "start_time": "2025-06-09T18:22:26.095Z"
   },
   {
    "duration": 129,
    "start_time": "2025-06-09T18:22:26.984Z"
   },
   {
    "duration": 101,
    "start_time": "2025-06-09T18:22:27.115Z"
   },
   {
    "duration": 0,
    "start_time": "2025-06-09T18:22:27.218Z"
   },
   {
    "duration": 0,
    "start_time": "2025-06-09T18:22:27.221Z"
   },
   {
    "duration": 0,
    "start_time": "2025-06-09T18:22:27.222Z"
   },
   {
    "duration": 0,
    "start_time": "2025-06-09T18:22:27.224Z"
   },
   {
    "duration": 0,
    "start_time": "2025-06-09T18:22:27.225Z"
   },
   {
    "duration": 0,
    "start_time": "2025-06-09T18:22:27.226Z"
   },
   {
    "duration": 0,
    "start_time": "2025-06-09T18:22:27.227Z"
   },
   {
    "duration": 0,
    "start_time": "2025-06-09T18:22:27.228Z"
   },
   {
    "duration": 0,
    "start_time": "2025-06-09T18:22:27.229Z"
   },
   {
    "duration": 16,
    "start_time": "2025-06-09T18:23:07.101Z"
   },
   {
    "duration": 16,
    "start_time": "2025-06-09T18:23:15.077Z"
   },
   {
    "duration": 11,
    "start_time": "2025-06-09T18:23:20.229Z"
   },
   {
    "duration": 935,
    "start_time": "2025-06-09T18:23:27.985Z"
   },
   {
    "duration": 116,
    "start_time": "2025-06-09T18:23:28.922Z"
   },
   {
    "duration": 10,
    "start_time": "2025-06-09T18:23:29.040Z"
   },
   {
    "duration": 2128,
    "start_time": "2025-06-09T18:23:29.052Z"
   },
   {
    "duration": 16,
    "start_time": "2025-06-09T18:23:31.183Z"
   },
   {
    "duration": 137,
    "start_time": "2025-06-09T18:23:31.201Z"
   },
   {
    "duration": 34,
    "start_time": "2025-06-09T18:23:31.340Z"
   },
   {
    "duration": 291,
    "start_time": "2025-06-09T18:23:31.375Z"
   },
   {
    "duration": 70,
    "start_time": "2025-06-09T18:23:31.671Z"
   },
   {
    "duration": 5,
    "start_time": "2025-06-09T18:23:31.743Z"
   },
   {
    "duration": 78,
    "start_time": "2025-06-09T18:23:31.749Z"
   },
   {
    "duration": 6,
    "start_time": "2025-06-09T18:23:31.829Z"
   },
   {
    "duration": 10,
    "start_time": "2025-06-09T18:23:58.364Z"
   },
   {
    "duration": 1015,
    "start_time": "2025-06-09T18:24:04.338Z"
   },
   {
    "duration": 97,
    "start_time": "2025-06-09T18:24:05.354Z"
   },
   {
    "duration": 15,
    "start_time": "2025-06-09T18:24:05.453Z"
   },
   {
    "duration": 1482,
    "start_time": "2025-06-09T18:24:05.470Z"
   },
   {
    "duration": 21,
    "start_time": "2025-06-09T18:24:06.955Z"
   },
   {
    "duration": 146,
    "start_time": "2025-06-09T18:24:06.978Z"
   },
   {
    "duration": 27,
    "start_time": "2025-06-09T18:24:07.126Z"
   },
   {
    "duration": 279,
    "start_time": "2025-06-09T18:24:07.154Z"
   },
   {
    "duration": 77,
    "start_time": "2025-06-09T18:24:07.435Z"
   },
   {
    "duration": 5,
    "start_time": "2025-06-09T18:24:07.514Z"
   },
   {
    "duration": 72,
    "start_time": "2025-06-09T18:24:07.520Z"
   },
   {
    "duration": 6,
    "start_time": "2025-06-09T18:24:07.593Z"
   },
   {
    "duration": 866,
    "start_time": "2025-06-10T14:06:31.196Z"
   },
   {
    "duration": 58,
    "start_time": "2025-06-10T14:06:32.063Z"
   },
   {
    "duration": 9,
    "start_time": "2025-06-10T14:06:32.122Z"
   },
   {
    "duration": 1759,
    "start_time": "2025-06-10T14:06:32.133Z"
   },
   {
    "duration": 15,
    "start_time": "2025-06-10T14:06:33.894Z"
   },
   {
    "duration": 149,
    "start_time": "2025-06-10T14:06:33.910Z"
   },
   {
    "duration": 23,
    "start_time": "2025-06-10T14:06:34.061Z"
   },
   {
    "duration": 272,
    "start_time": "2025-06-10T14:06:34.086Z"
   },
   {
    "duration": 65,
    "start_time": "2025-06-10T14:06:34.359Z"
   },
   {
    "duration": 4,
    "start_time": "2025-06-10T14:06:34.426Z"
   },
   {
    "duration": 76,
    "start_time": "2025-06-10T14:06:34.432Z"
   },
   {
    "duration": 6,
    "start_time": "2025-06-10T14:06:34.510Z"
   },
   {
    "duration": 787,
    "start_time": "2025-06-11T08:58:21.583Z"
   },
   {
    "duration": 97,
    "start_time": "2025-06-11T08:58:22.372Z"
   },
   {
    "duration": 8,
    "start_time": "2025-06-11T08:58:22.471Z"
   },
   {
    "duration": 1358,
    "start_time": "2025-06-11T08:58:22.481Z"
   },
   {
    "duration": 15,
    "start_time": "2025-06-11T08:58:23.841Z"
   },
   {
    "duration": 123,
    "start_time": "2025-06-11T08:58:23.857Z"
   },
   {
    "duration": 23,
    "start_time": "2025-06-11T08:58:23.981Z"
   },
   {
    "duration": 264,
    "start_time": "2025-06-11T08:58:24.005Z"
   },
   {
    "duration": 68,
    "start_time": "2025-06-11T08:58:24.271Z"
   },
   {
    "duration": 4,
    "start_time": "2025-06-11T08:58:24.341Z"
   },
   {
    "duration": 53,
    "start_time": "2025-06-11T08:58:24.347Z"
   },
   {
    "duration": 33,
    "start_time": "2025-06-11T08:58:24.402Z"
   },
   {
    "duration": 1314,
    "start_time": "2025-06-11T09:02:52.459Z"
   },
   {
    "duration": 832,
    "start_time": "2025-06-11T09:02:59.956Z"
   },
   {
    "duration": 57,
    "start_time": "2025-06-11T09:03:00.790Z"
   },
   {
    "duration": 9,
    "start_time": "2025-06-11T09:03:00.848Z"
   },
   {
    "duration": 1400,
    "start_time": "2025-06-11T09:03:00.858Z"
   },
   {
    "duration": 14,
    "start_time": "2025-06-11T09:03:02.260Z"
   },
   {
    "duration": 182,
    "start_time": "2025-06-11T09:03:02.276Z"
   },
   {
    "duration": 22,
    "start_time": "2025-06-11T09:03:02.460Z"
   },
   {
    "duration": 270,
    "start_time": "2025-06-11T09:03:02.484Z"
   },
   {
    "duration": 65,
    "start_time": "2025-06-11T09:03:02.755Z"
   },
   {
    "duration": 4,
    "start_time": "2025-06-11T09:03:02.835Z"
   },
   {
    "duration": 119,
    "start_time": "2025-06-11T09:03:02.840Z"
   },
   {
    "duration": 5,
    "start_time": "2025-06-11T09:03:02.961Z"
   },
   {
    "duration": 14,
    "start_time": "2025-06-11T09:03:09.440Z"
   },
   {
    "duration": 10,
    "start_time": "2025-06-11T09:03:21.448Z"
   },
   {
    "duration": 47,
    "start_time": "2025-06-12T07:03:10.833Z"
   },
   {
    "duration": 808,
    "start_time": "2025-06-12T07:03:13.197Z"
   },
   {
    "duration": 41,
    "start_time": "2025-06-12T07:03:14.007Z"
   },
   {
    "duration": 13,
    "start_time": "2025-06-12T07:03:14.934Z"
   },
   {
    "duration": 12,
    "start_time": "2025-06-12T07:03:40.772Z"
   },
   {
    "duration": 9,
    "start_time": "2025-06-12T07:03:51.787Z"
   },
   {
    "duration": 13,
    "start_time": "2025-06-12T07:03:54.315Z"
   },
   {
    "duration": 6,
    "start_time": "2025-06-12T07:08:16.358Z"
   },
   {
    "duration": 7,
    "start_time": "2025-06-12T07:08:30.950Z"
   },
   {
    "duration": 9,
    "start_time": "2025-06-12T07:09:34.297Z"
   },
   {
    "duration": 7,
    "start_time": "2025-06-12T07:10:23.302Z"
   },
   {
    "duration": 4,
    "start_time": "2025-06-12T07:12:52.969Z"
   },
   {
    "duration": 3,
    "start_time": "2025-06-12T07:12:54.673Z"
   },
   {
    "duration": 6,
    "start_time": "2025-06-12T07:13:01.441Z"
   },
   {
    "duration": 6,
    "start_time": "2025-06-12T07:13:23.958Z"
   },
   {
    "duration": 5,
    "start_time": "2025-06-12T07:13:35.814Z"
   },
   {
    "duration": 5,
    "start_time": "2025-06-12T07:14:49.448Z"
   },
   {
    "duration": 7,
    "start_time": "2025-06-12T07:14:56.463Z"
   },
   {
    "duration": 53,
    "start_time": "2025-06-12T07:15:08.830Z"
   },
   {
    "duration": 81,
    "start_time": "2025-06-12T07:15:17.958Z"
   },
   {
    "duration": 7,
    "start_time": "2025-06-12T07:16:54.902Z"
   },
   {
    "duration": 7,
    "start_time": "2025-06-12T07:18:09.273Z"
   },
   {
    "duration": 8,
    "start_time": "2025-06-12T07:19:39.385Z"
   },
   {
    "duration": 7,
    "start_time": "2025-06-12T07:20:14.817Z"
   },
   {
    "duration": 6,
    "start_time": "2025-06-12T07:23:34.263Z"
   },
   {
    "duration": 9,
    "start_time": "2025-06-12T07:23:38.607Z"
   },
   {
    "duration": 6,
    "start_time": "2025-06-12T07:30:46.806Z"
   },
   {
    "duration": 752,
    "start_time": "2025-06-12T07:32:03.177Z"
   },
   {
    "duration": 3,
    "start_time": "2025-06-12T07:35:10.779Z"
   },
   {
    "duration": 49,
    "start_time": "2025-06-12T07:35:12.129Z"
   },
   {
    "duration": 38,
    "start_time": "2025-06-12T07:35:14.314Z"
   },
   {
    "duration": 8,
    "start_time": "2025-06-12T07:35:14.762Z"
   },
   {
    "duration": 11,
    "start_time": "2025-06-12T07:35:19.876Z"
   },
   {
    "duration": 7,
    "start_time": "2025-06-12T07:35:20.368Z"
   },
   {
    "duration": 8,
    "start_time": "2025-06-12T07:35:21.305Z"
   },
   {
    "duration": 6,
    "start_time": "2025-06-12T07:35:21.769Z"
   },
   {
    "duration": 378,
    "start_time": "2025-06-12T07:35:27.392Z"
   },
   {
    "duration": 362,
    "start_time": "2025-06-12T07:35:31.936Z"
   },
   {
    "duration": 18,
    "start_time": "2025-06-12T07:41:24.188Z"
   },
   {
    "duration": 433,
    "start_time": "2025-06-12T07:44:56.357Z"
   },
   {
    "duration": 8,
    "start_time": "2025-06-12T07:45:39.130Z"
   },
   {
    "duration": 12,
    "start_time": "2025-06-12T07:45:46.577Z"
   },
   {
    "duration": 12,
    "start_time": "2025-06-12T07:49:24.944Z"
   },
   {
    "duration": 12,
    "start_time": "2025-06-12T07:51:37.717Z"
   },
   {
    "duration": 1496,
    "start_time": "2025-06-12T07:59:03.275Z"
   },
   {
    "duration": 14,
    "start_time": "2025-06-12T07:59:04.773Z"
   },
   {
    "duration": 20,
    "start_time": "2025-06-12T08:00:08.286Z"
   },
   {
    "duration": 17,
    "start_time": "2025-06-12T08:00:17.117Z"
   },
   {
    "duration": 17,
    "start_time": "2025-06-12T08:00:26.604Z"
   },
   {
    "duration": 123,
    "start_time": "2025-06-12T08:01:19.633Z"
   },
   {
    "duration": 20,
    "start_time": "2025-06-12T08:02:00.957Z"
   },
   {
    "duration": 121,
    "start_time": "2025-06-12T08:02:03.037Z"
   },
   {
    "duration": 161,
    "start_time": "2025-06-12T08:02:47.371Z"
   },
   {
    "duration": 108,
    "start_time": "2025-06-12T08:03:03.553Z"
   },
   {
    "duration": 121,
    "start_time": "2025-06-12T08:03:12.704Z"
   },
   {
    "duration": 116,
    "start_time": "2025-06-12T08:03:22.665Z"
   },
   {
    "duration": 124,
    "start_time": "2025-06-12T08:03:42.462Z"
   },
   {
    "duration": 116,
    "start_time": "2025-06-12T08:04:02.084Z"
   },
   {
    "duration": 21,
    "start_time": "2025-06-12T08:04:21.740Z"
   },
   {
    "duration": 10,
    "start_time": "2025-06-12T08:07:26.445Z"
   },
   {
    "duration": 10,
    "start_time": "2025-06-12T08:11:47.801Z"
   },
   {
    "duration": 9,
    "start_time": "2025-06-12T08:12:32.662Z"
   },
   {
    "duration": 9,
    "start_time": "2025-06-12T08:12:47.341Z"
   },
   {
    "duration": 11,
    "start_time": "2025-06-12T08:16:58.834Z"
   },
   {
    "duration": 270,
    "start_time": "2025-06-12T08:17:01.849Z"
   },
   {
    "duration": 9,
    "start_time": "2025-06-12T08:17:29.295Z"
   },
   {
    "duration": 214,
    "start_time": "2025-06-12T08:20:46.895Z"
   },
   {
    "duration": 60,
    "start_time": "2025-06-12T08:22:48.518Z"
   },
   {
    "duration": 12,
    "start_time": "2025-06-12T08:22:51.070Z"
   },
   {
    "duration": 11,
    "start_time": "2025-06-12T08:29:23.496Z"
   },
   {
    "duration": 5,
    "start_time": "2025-06-12T08:37:56.207Z"
   },
   {
    "duration": 5,
    "start_time": "2025-06-12T08:39:01.195Z"
   },
   {
    "duration": 5,
    "start_time": "2025-06-12T08:44:32.904Z"
   },
   {
    "duration": 5,
    "start_time": "2025-06-12T08:46:23.968Z"
   },
   {
    "duration": 11,
    "start_time": "2025-06-12T08:46:41.110Z"
   },
   {
    "duration": 12,
    "start_time": "2025-06-12T08:49:12.028Z"
   },
   {
    "duration": 11,
    "start_time": "2025-06-12T08:49:26.955Z"
   },
   {
    "duration": 5,
    "start_time": "2025-06-12T08:49:30.562Z"
   },
   {
    "duration": 10,
    "start_time": "2025-06-12T08:49:34.978Z"
   },
   {
    "duration": 68,
    "start_time": "2025-06-12T08:53:29.095Z"
   },
   {
    "duration": 56,
    "start_time": "2025-06-12T08:53:41.558Z"
   },
   {
    "duration": 66,
    "start_time": "2025-06-12T08:54:47.905Z"
   },
   {
    "duration": 9,
    "start_time": "2025-06-12T08:56:33.049Z"
   },
   {
    "duration": 5,
    "start_time": "2025-06-12T08:58:32.440Z"
   },
   {
    "duration": 6,
    "start_time": "2025-06-12T08:59:08.013Z"
   },
   {
    "duration": 5,
    "start_time": "2025-06-12T09:07:39.853Z"
   },
   {
    "duration": 6,
    "start_time": "2025-06-12T09:15:12.274Z"
   },
   {
    "duration": 6,
    "start_time": "2025-06-12T09:17:47.046Z"
   },
   {
    "duration": 5,
    "start_time": "2025-06-12T09:17:59.701Z"
   },
   {
    "duration": 7,
    "start_time": "2025-06-12T09:19:36.261Z"
   },
   {
    "duration": 5,
    "start_time": "2025-06-12T09:19:42.918Z"
   },
   {
    "duration": 1122,
    "start_time": "2025-06-12T09:26:02.147Z"
   },
   {
    "duration": 102,
    "start_time": "2025-06-12T09:26:03.271Z"
   },
   {
    "duration": 20,
    "start_time": "2025-06-12T09:26:03.374Z"
   },
   {
    "duration": 180,
    "start_time": "2025-06-12T09:26:03.395Z"
   },
   {
    "duration": 167,
    "start_time": "2025-06-12T09:26:03.576Z"
   },
   {
    "duration": 26,
    "start_time": "2025-06-12T09:26:03.744Z"
   },
   {
    "duration": 39,
    "start_time": "2025-06-12T09:26:03.772Z"
   },
   {
    "duration": 450,
    "start_time": "2025-06-12T09:26:03.813Z"
   },
   {
    "duration": 12,
    "start_time": "2025-06-12T09:26:04.265Z"
   },
   {
    "duration": 1726,
    "start_time": "2025-06-12T09:26:04.279Z"
   },
   {
    "duration": 16,
    "start_time": "2025-06-12T09:26:06.007Z"
   },
   {
    "duration": 144,
    "start_time": "2025-06-12T09:26:06.025Z"
   },
   {
    "duration": 23,
    "start_time": "2025-06-12T09:26:06.170Z"
   },
   {
    "duration": 242,
    "start_time": "2025-06-12T09:26:06.194Z"
   },
   {
    "duration": 368,
    "start_time": "2025-06-12T09:26:06.438Z"
   },
   {
    "duration": 69,
    "start_time": "2025-06-12T09:26:06.808Z"
   },
   {
    "duration": 110,
    "start_time": "2025-06-12T09:26:06.879Z"
   },
   {
    "duration": 0,
    "start_time": "2025-06-12T09:26:06.990Z"
   },
   {
    "duration": 0,
    "start_time": "2025-06-12T09:26:06.991Z"
   },
   {
    "duration": 0,
    "start_time": "2025-06-12T09:26:06.993Z"
   },
   {
    "duration": 0,
    "start_time": "2025-06-12T09:26:06.993Z"
   },
   {
    "duration": 0,
    "start_time": "2025-06-12T09:26:06.994Z"
   },
   {
    "duration": 9,
    "start_time": "2025-06-12T09:29:44.726Z"
   },
   {
    "duration": 874,
    "start_time": "2025-06-12T09:29:48.830Z"
   },
   {
    "duration": 1098,
    "start_time": "2025-06-12T09:29:58.820Z"
   },
   {
    "duration": 46,
    "start_time": "2025-06-12T09:29:59.920Z"
   },
   {
    "duration": 11,
    "start_time": "2025-06-12T09:29:59.968Z"
   },
   {
    "duration": 10,
    "start_time": "2025-06-12T09:29:59.981Z"
   },
   {
    "duration": 5,
    "start_time": "2025-06-12T09:29:59.993Z"
   },
   {
    "duration": 79,
    "start_time": "2025-06-12T09:29:59.999Z"
   },
   {
    "duration": 118,
    "start_time": "2025-06-12T09:30:00.080Z"
   },
   {
    "duration": 756,
    "start_time": "2025-06-12T09:30:00.199Z"
   },
   {
    "duration": 11,
    "start_time": "2025-06-12T09:30:00.960Z"
   },
   {
    "duration": 1466,
    "start_time": "2025-06-12T09:30:00.973Z"
   },
   {
    "duration": 26,
    "start_time": "2025-06-12T09:30:02.441Z"
   },
   {
    "duration": 176,
    "start_time": "2025-06-12T09:30:02.468Z"
   },
   {
    "duration": 27,
    "start_time": "2025-06-12T09:30:02.646Z"
   },
   {
    "duration": 81,
    "start_time": "2025-06-12T09:30:02.675Z"
   },
   {
    "duration": 257,
    "start_time": "2025-06-12T09:30:02.758Z"
   },
   {
    "duration": 62,
    "start_time": "2025-06-12T09:30:03.017Z"
   },
   {
    "duration": 96,
    "start_time": "2025-06-12T09:30:03.080Z"
   },
   {
    "duration": 0,
    "start_time": "2025-06-12T09:30:03.177Z"
   },
   {
    "duration": 0,
    "start_time": "2025-06-12T09:30:03.179Z"
   },
   {
    "duration": 0,
    "start_time": "2025-06-12T09:30:03.180Z"
   },
   {
    "duration": 0,
    "start_time": "2025-06-12T09:30:03.181Z"
   },
   {
    "duration": 0,
    "start_time": "2025-06-12T09:30:03.182Z"
   },
   {
    "duration": 14,
    "start_time": "2025-06-12T09:30:19.714Z"
   },
   {
    "duration": 15,
    "start_time": "2025-06-12T09:30:42.097Z"
   },
   {
    "duration": 14,
    "start_time": "2025-06-12T09:32:26.154Z"
   },
   {
    "duration": 1119,
    "start_time": "2025-06-12T09:32:50.264Z"
   },
   {
    "duration": 42,
    "start_time": "2025-06-12T09:32:51.385Z"
   },
   {
    "duration": 304,
    "start_time": "2025-06-12T09:32:51.431Z"
   },
   {
    "duration": 38,
    "start_time": "2025-06-12T09:32:51.737Z"
   },
   {
    "duration": 22,
    "start_time": "2025-06-12T09:32:51.777Z"
   },
   {
    "duration": 21,
    "start_time": "2025-06-12T09:32:51.801Z"
   },
   {
    "duration": 31,
    "start_time": "2025-06-12T09:32:51.824Z"
   },
   {
    "duration": 386,
    "start_time": "2025-06-12T09:32:51.857Z"
   },
   {
    "duration": 19,
    "start_time": "2025-06-12T09:32:52.245Z"
   },
   {
    "duration": 1696,
    "start_time": "2025-06-12T09:32:52.266Z"
   },
   {
    "duration": 17,
    "start_time": "2025-06-12T09:32:53.963Z"
   },
   {
    "duration": 131,
    "start_time": "2025-06-12T09:32:53.982Z"
   },
   {
    "duration": 21,
    "start_time": "2025-06-12T09:32:54.114Z"
   },
   {
    "duration": 23,
    "start_time": "2025-06-12T09:32:54.137Z"
   },
   {
    "duration": 245,
    "start_time": "2025-06-12T09:32:54.162Z"
   },
   {
    "duration": 60,
    "start_time": "2025-06-12T09:32:54.409Z"
   },
   {
    "duration": 19,
    "start_time": "2025-06-12T09:32:54.471Z"
   },
   {
    "duration": 44,
    "start_time": "2025-06-12T09:32:54.491Z"
   },
   {
    "duration": 85,
    "start_time": "2025-06-12T09:32:54.537Z"
   },
   {
    "duration": 8,
    "start_time": "2025-06-12T09:32:54.623Z"
   },
   {
    "duration": 113,
    "start_time": "2025-06-12T09:32:54.632Z"
   },
   {
    "duration": 19,
    "start_time": "2025-06-12T09:32:54.746Z"
   },
   {
    "duration": 1181,
    "start_time": "2025-06-12T09:34:12.270Z"
   },
   {
    "duration": 43,
    "start_time": "2025-06-12T09:34:13.453Z"
   },
   {
    "duration": 96,
    "start_time": "2025-06-12T09:34:13.498Z"
   },
   {
    "duration": 142,
    "start_time": "2025-06-12T09:34:13.596Z"
   },
   {
    "duration": 27,
    "start_time": "2025-06-12T09:34:13.742Z"
   },
   {
    "duration": 16,
    "start_time": "2025-06-12T09:34:13.771Z"
   },
   {
    "duration": 11,
    "start_time": "2025-06-12T09:34:13.789Z"
   },
   {
    "duration": 415,
    "start_time": "2025-06-12T09:34:13.802Z"
   },
   {
    "duration": 12,
    "start_time": "2025-06-12T09:34:14.219Z"
   },
   {
    "duration": 1463,
    "start_time": "2025-06-12T09:34:14.233Z"
   },
   {
    "duration": 17,
    "start_time": "2025-06-12T09:34:15.698Z"
   },
   {
    "duration": 177,
    "start_time": "2025-06-12T09:34:15.716Z"
   },
   {
    "duration": 25,
    "start_time": "2025-06-12T09:34:15.896Z"
   },
   {
    "duration": 11,
    "start_time": "2025-06-12T09:34:15.924Z"
   },
   {
    "duration": 248,
    "start_time": "2025-06-12T09:34:15.962Z"
   },
   {
    "duration": 66,
    "start_time": "2025-06-12T09:34:16.212Z"
   },
   {
    "duration": 17,
    "start_time": "2025-06-12T09:34:16.279Z"
   },
   {
    "duration": 314,
    "start_time": "2025-06-12T09:34:16.298Z"
   },
   {
    "duration": 222,
    "start_time": "2025-06-12T09:34:16.614Z"
   },
   {
    "duration": 12,
    "start_time": "2025-06-12T09:34:16.838Z"
   },
   {
    "duration": 7,
    "start_time": "2025-06-12T09:34:16.852Z"
   },
   {
    "duration": 12,
    "start_time": "2025-06-12T09:34:16.861Z"
   },
   {
    "duration": 52,
    "start_time": "2025-06-12T10:05:47.145Z"
   },
   {
    "duration": 1319,
    "start_time": "2025-06-12T10:05:53.299Z"
   },
   {
    "duration": 51,
    "start_time": "2025-06-12T10:05:54.621Z"
   },
   {
    "duration": 19,
    "start_time": "2025-06-12T10:05:54.674Z"
   },
   {
    "duration": 18,
    "start_time": "2025-06-12T10:05:54.696Z"
   },
   {
    "duration": 22,
    "start_time": "2025-06-12T10:05:54.718Z"
   },
   {
    "duration": 11,
    "start_time": "2025-06-12T10:05:54.742Z"
   },
   {
    "duration": 9,
    "start_time": "2025-06-12T10:05:54.754Z"
   },
   {
    "duration": 447,
    "start_time": "2025-06-12T10:05:54.764Z"
   },
   {
    "duration": 26,
    "start_time": "2025-06-12T10:05:55.213Z"
   },
   {
    "duration": 2427,
    "start_time": "2025-06-12T10:05:55.241Z"
   },
   {
    "duration": 19,
    "start_time": "2025-06-12T10:05:57.669Z"
   },
   {
    "duration": 139,
    "start_time": "2025-06-12T10:05:57.690Z"
   },
   {
    "duration": 28,
    "start_time": "2025-06-12T10:05:57.831Z"
   },
   {
    "duration": 69,
    "start_time": "2025-06-12T10:05:57.863Z"
   },
   {
    "duration": 258,
    "start_time": "2025-06-12T10:05:57.934Z"
   },
   {
    "duration": 75,
    "start_time": "2025-06-12T10:05:58.194Z"
   },
   {
    "duration": 17,
    "start_time": "2025-06-12T10:05:58.270Z"
   },
   {
    "duration": 8,
    "start_time": "2025-06-12T10:05:58.289Z"
   },
   {
    "duration": 88,
    "start_time": "2025-06-12T10:05:58.299Z"
   },
   {
    "duration": 10,
    "start_time": "2025-06-12T10:05:58.389Z"
   },
   {
    "duration": 64,
    "start_time": "2025-06-12T10:05:58.401Z"
   },
   {
    "duration": 6,
    "start_time": "2025-06-12T10:05:58.467Z"
   },
   {
    "duration": 11,
    "start_time": "2025-06-12T10:05:58.475Z"
   },
   {
    "duration": 4,
    "start_time": "2025-06-12T10:06:09.485Z"
   },
   {
    "duration": 46,
    "start_time": "2025-06-12T14:00:45.631Z"
   },
   {
    "duration": 1300,
    "start_time": "2025-06-12T14:00:49.925Z"
   },
   {
    "duration": 121,
    "start_time": "2025-06-12T14:00:51.227Z"
   },
   {
    "duration": 12,
    "start_time": "2025-06-12T14:00:51.350Z"
   },
   {
    "duration": 16,
    "start_time": "2025-06-12T14:00:51.389Z"
   },
   {
    "duration": 7,
    "start_time": "2025-06-12T14:00:52.124Z"
   },
   {
    "duration": 8,
    "start_time": "2025-06-12T14:00:53.508Z"
   },
   {
    "duration": 9,
    "start_time": "2025-06-12T14:00:54.092Z"
   },
   {
    "duration": 7,
    "start_time": "2025-06-12T14:00:55.588Z"
   },
   {
    "duration": 6,
    "start_time": "2025-06-12T14:01:48.705Z"
   },
   {
    "duration": 6,
    "start_time": "2025-06-12T14:05:04.947Z"
   },
   {
    "duration": 374,
    "start_time": "2025-06-12T14:07:11.792Z"
   },
   {
    "duration": 11,
    "start_time": "2025-06-12T14:07:21.270Z"
   },
   {
    "duration": 10,
    "start_time": "2025-06-12T14:08:25.946Z"
   },
   {
    "duration": 1704,
    "start_time": "2025-06-12T14:08:56.519Z"
   },
   {
    "duration": 17,
    "start_time": "2025-06-12T14:08:58.224Z"
   },
   {
    "duration": 124,
    "start_time": "2025-06-12T14:09:03.126Z"
   },
   {
    "duration": 21,
    "start_time": "2025-06-12T14:09:08.918Z"
   },
   {
    "duration": 9,
    "start_time": "2025-06-12T14:09:11.118Z"
   },
   {
    "duration": 265,
    "start_time": "2025-06-12T14:09:17.569Z"
   },
   {
    "duration": 70,
    "start_time": "2025-06-12T14:09:20.533Z"
   },
   {
    "duration": 16,
    "start_time": "2025-06-12T14:09:22.204Z"
   },
   {
    "duration": 5,
    "start_time": "2025-06-12T14:09:25.773Z"
   },
   {
    "duration": 68,
    "start_time": "2025-06-12T14:09:33.732Z"
   },
   {
    "duration": 13,
    "start_time": "2025-06-12T14:09:34.471Z"
   },
   {
    "duration": 15,
    "start_time": "2025-06-12T14:09:35.460Z"
   },
   {
    "duration": 4,
    "start_time": "2025-06-12T14:10:09.193Z"
   },
   {
    "duration": 1095,
    "start_time": "2025-06-12T14:13:21.204Z"
   },
   {
    "duration": 44,
    "start_time": "2025-06-12T14:13:22.301Z"
   },
   {
    "duration": 16,
    "start_time": "2025-06-12T14:13:22.348Z"
   },
   {
    "duration": 12,
    "start_time": "2025-06-12T14:13:22.374Z"
   },
   {
    "duration": 90,
    "start_time": "2025-06-12T14:13:22.388Z"
   },
   {
    "duration": 15,
    "start_time": "2025-06-12T14:13:22.479Z"
   },
   {
    "duration": 25,
    "start_time": "2025-06-12T14:13:22.496Z"
   },
   {
    "duration": 22,
    "start_time": "2025-06-12T14:13:22.523Z"
   },
   {
    "duration": 429,
    "start_time": "2025-06-12T14:13:22.547Z"
   },
   {
    "duration": 11,
    "start_time": "2025-06-12T14:13:22.978Z"
   },
   {
    "duration": 1791,
    "start_time": "2025-06-12T14:13:22.990Z"
   },
   {
    "duration": 18,
    "start_time": "2025-06-12T14:13:24.783Z"
   },
   {
    "duration": 145,
    "start_time": "2025-06-12T14:13:24.803Z"
   },
   {
    "duration": 37,
    "start_time": "2025-06-12T14:13:24.950Z"
   },
   {
    "duration": 124,
    "start_time": "2025-06-12T14:13:24.989Z"
   },
   {
    "duration": 282,
    "start_time": "2025-06-12T14:13:25.115Z"
   },
   {
    "duration": 57,
    "start_time": "2025-06-12T14:13:25.398Z"
   },
   {
    "duration": 26,
    "start_time": "2025-06-12T14:13:25.457Z"
   },
   {
    "duration": 4,
    "start_time": "2025-06-12T14:13:25.485Z"
   },
   {
    "duration": 83,
    "start_time": "2025-06-12T14:13:25.491Z"
   },
   {
    "duration": 10,
    "start_time": "2025-06-12T14:13:25.575Z"
   },
   {
    "duration": 20,
    "start_time": "2025-06-12T14:13:25.586Z"
   },
   {
    "duration": 7,
    "start_time": "2025-06-12T14:13:25.607Z"
   },
   {
    "duration": 1205,
    "start_time": "2025-06-12T15:16:33.770Z"
   },
   {
    "duration": 109,
    "start_time": "2025-06-12T15:16:34.978Z"
   },
   {
    "duration": 15,
    "start_time": "2025-06-12T15:16:35.089Z"
   },
   {
    "duration": 31,
    "start_time": "2025-06-12T15:16:35.106Z"
   },
   {
    "duration": 44,
    "start_time": "2025-06-12T15:16:35.140Z"
   },
   {
    "duration": 15,
    "start_time": "2025-06-12T15:16:35.185Z"
   },
   {
    "duration": 28,
    "start_time": "2025-06-12T15:16:35.201Z"
   },
   {
    "duration": 35,
    "start_time": "2025-06-12T15:16:35.231Z"
   },
   {
    "duration": 506,
    "start_time": "2025-06-12T15:16:35.267Z"
   },
   {
    "duration": 15,
    "start_time": "2025-06-12T15:16:35.775Z"
   },
   {
    "duration": 1837,
    "start_time": "2025-06-12T15:16:35.792Z"
   },
   {
    "duration": 20,
    "start_time": "2025-06-12T15:16:37.631Z"
   },
   {
    "duration": 164,
    "start_time": "2025-06-12T15:16:37.653Z"
   },
   {
    "duration": 28,
    "start_time": "2025-06-12T15:16:37.821Z"
   },
   {
    "duration": 61,
    "start_time": "2025-06-12T15:16:37.851Z"
   },
   {
    "duration": 416,
    "start_time": "2025-06-12T15:16:37.914Z"
   },
   {
    "duration": 89,
    "start_time": "2025-06-12T15:16:38.332Z"
   },
   {
    "duration": 17,
    "start_time": "2025-06-12T15:16:38.423Z"
   },
   {
    "duration": 41,
    "start_time": "2025-06-12T15:16:38.442Z"
   },
   {
    "duration": 77,
    "start_time": "2025-06-12T15:16:38.485Z"
   },
   {
    "duration": 10,
    "start_time": "2025-06-12T15:16:38.564Z"
   },
   {
    "duration": 11,
    "start_time": "2025-06-12T15:16:38.575Z"
   },
   {
    "duration": 7,
    "start_time": "2025-06-12T15:16:38.588Z"
   }
  ],
  "colab": {
   "provenance": [],
   "toc_visible": true
  },
  "kernelspec": {
   "display_name": "Python [conda env:base] *",
   "language": "python",
   "name": "conda-base-py"
  },
  "language_info": {
   "codemirror_mode": {
    "name": "ipython",
    "version": 3
   },
   "file_extension": ".py",
   "mimetype": "text/x-python",
   "name": "python",
   "nbconvert_exporter": "python",
   "pygments_lexer": "ipython3",
   "version": "3.12.7"
  },
  "toc": {
   "base_numbering": 1,
   "nav_menu": {},
   "number_sections": true,
   "sideBar": true,
   "skip_h1_title": true,
   "title_cell": "Table of Contents",
   "title_sidebar": "Contents",
   "toc_cell": false,
   "toc_position": {},
   "toc_section_display": true,
   "toc_window_display": true
  }
 },
 "nbformat": 4,
 "nbformat_minor": 5
}
