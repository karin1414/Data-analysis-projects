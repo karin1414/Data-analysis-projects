{
 "cells": [
  {
   "cell_type": "markdown",
   "metadata": {
    "id": "LMuaGIE3lGcr"
   },
   "source": [
    "# Анализ изменений спроса и поведения пользователей Яндекс Афиша: осень 2024\n",
    "\n",
    "- Автор: Волкова Карина\n",
    "- Дата: 26.06.2025"
   ]
  },
  {
   "cell_type": "markdown",
   "metadata": {},
   "source": [
    "### Цели и задачи проекта:\n",
    "\n",
    "**Цель:** Провести исследовательский анализ данных сервиса Яндекс Афиша за осень 2024 года для выявления изменений в пользовательских предпочтениях и популярности событий, а также для проверки гипотез о различиях в поведении пользователей мобильных и стационарных устройств. Результаты анализа помогут продуктовой команде понять влияние сезонности и особенности аудитории, а также подготовиться к зимним распродажам и новогодним акциям.\n",
    "\n",
    "**Задачи:**\n",
    "- Исследовать динамику продаж билетов по категориям событий и временным периодам осени 2024 года.\n",
    "- Определить влияние сезонности на спрос и пользовательские предпочтения.\n",
    "- Проанализировать изменения в составе аудитории и выявить новые тенденции в поведении пользователей.\n",
    "- Выявить наиболее популярные мероприятия, организаторов и площадки по объему продаж и посещаемости.\n",
    "- Сравнить активность и предпочтения пользователей мобильных и стационарных устройств.\n",
    "- Рассчитать ключевые метрики: среднюю выручку с заказа и среднюю цену билета.\n",
    "- Визуализировать результаты анализа в аналитическом дашборде для удобного мониторинга и принятия решений."
   ]
  },
  {
   "cell_type": "markdown",
   "metadata": {},
   "source": [
    "### Описание данных\n",
    "\n",
    "<font color='#777778'> Датасет **final_tickets_orders_df.csv** содержит информацию обо всех заказах билетов, совершённых с двух типов устройств — мобильных и стационарных. \n",
    "- `order_id` — уникальный идентификатор заказа.\n",
    "- `user_id` — уникальный идентификатор пользователя.\n",
    "- `created_dt_msk` — дата создания заказа (московское время).\n",
    "- `created_ts_msk` — дата и время создания заказа (московское время).\n",
    "- `event_id` — идентификатор мероприятия из таблицы events.\n",
    "- `cinema_circuit` — сеть кинотеатров. Если не применимо, то здесь будет значение 'нет'.\n",
    "- `age_limit` — возрастное ограничение мероприятия.\n",
    "- `currency_code` — валюта оплаты, например rub для российских рублей.\n",
    "- `device_type_canonical` — тип устройства, с которого был оформлен заказ, например mobile для мобильных устройств, desktop для стационарных.\n",
    "- `revenue` — выручка от заказа.\n",
    "- `service_name` — название билетного оператора.\n",
    "- `tickets_count` — количество купленных билетов.\n",
    "- `total` — общая сумма заказа.\n",
    "- `days_since_prev`- количество дней с предыдущей покупки для каждого пользователя. Если покупки не было, то данные содержат пропуск.\n",
    "\n",
    "Датасет **final_tickets_events_df.csv** содержит информацию о событиях, включая город и регион события, а также информацию о площадке проведения мероприятия (из данных исключены фильмы).\n",
    "- `event_id` — уникальный идентификатор мероприятия.\n",
    "- `event_name` — название мероприятия. Аналог поля event_name_code из исходной базы данных.\n",
    "- `event_type_description` — описание типа мероприятия.\n",
    "- `event_type_main` — основной тип мероприятия: театральная постановка, концерт и так далее.\n",
    "- `organizers` — организаторы мероприятия.\n",
    "- `region_name` — название региона.\n",
    "- `city_name` — название города.\n",
    "- `venue_id` — уникальный идентификатор площадки.\n",
    "- `venue_name` — название площадки.\n",
    "- `venue_address` — адрес площадки.\n",
    "\n",
    "Датасет **final_tickets_tenge_df.csv** с информацией о курсе тенге к российскому рублю за 2024 год. Значения в рублях представлено для 100 тенге. \n",
    "- `nominal` — номинал (100 тенге).\n",
    "- `data` — дата.\n",
    "- `curs` — курс тенге к рублю.\n",
    "- `cdx` — обозначение валюты (kzt).</font>"
   ]
  },
  {
   "cell_type": "markdown",
   "metadata": {},
   "source": [
    "### Содержимое проекта\n",
    "\n",
    "1. Загрузка данных и знакомство с их содержимым.\n",
    "2. Ппредобработка данных.\n",
    "3. Исследовательский анализ данных.\n",
    "4. Статистический анализ данных.\n",
    "5. Общий вывод и рекомендации"
   ]
  },
  {
   "cell_type": "markdown",
   "metadata": {},
   "source": [
    "## 1. Загрузка данных и знакомство с ними"
   ]
  },
  {
   "cell_type": "code",
   "execution_count": 1,
   "metadata": {},
   "outputs": [],
   "source": [
    "import pandas as pd\n",
    "import matplotlib.pyplot as plt\n",
    "import numpy as np\n",
    "import seaborn as sns\n",
    "from scipy.stats import mannwhitneyu, shapiro"
   ]
  },
  {
   "cell_type": "code",
   "execution_count": 2,
   "metadata": {},
   "outputs": [],
   "source": [
    "orders = pd.read_csv('')"
   ]
  },
  {
   "cell_type": "code",
   "execution_count": 3,
   "metadata": {},
   "outputs": [
    {
     "data": {
      "text/html": [
       "<div>\n",
       "<style scoped>\n",
       "    .dataframe tbody tr th:only-of-type {\n",
       "        vertical-align: middle;\n",
       "    }\n",
       "\n",
       "    .dataframe tbody tr th {\n",
       "        vertical-align: top;\n",
       "    }\n",
       "\n",
       "    .dataframe thead th {\n",
       "        text-align: right;\n",
       "    }\n",
       "</style>\n",
       "<table border=\"1\" class=\"dataframe\">\n",
       "  <thead>\n",
       "    <tr style=\"text-align: right;\">\n",
       "      <th></th>\n",
       "      <th>order_id</th>\n",
       "      <th>user_id</th>\n",
       "      <th>created_dt_msk</th>\n",
       "      <th>created_ts_msk</th>\n",
       "      <th>event_id</th>\n",
       "      <th>cinema_circuit</th>\n",
       "      <th>age_limit</th>\n",
       "      <th>currency_code</th>\n",
       "      <th>device_type_canonical</th>\n",
       "      <th>revenue</th>\n",
       "      <th>service_name</th>\n",
       "      <th>tickets_count</th>\n",
       "      <th>total</th>\n",
       "      <th>days_since_prev</th>\n",
       "    </tr>\n",
       "  </thead>\n",
       "  <tbody>\n",
       "    <tr>\n",
       "      <th>0</th>\n",
       "      <td>4359165</td>\n",
       "      <td>0002849b70a3ce2</td>\n",
       "      <td>2024-08-20</td>\n",
       "      <td>2024-08-20 16:08:03</td>\n",
       "      <td>169230</td>\n",
       "      <td>нет</td>\n",
       "      <td>16</td>\n",
       "      <td>rub</td>\n",
       "      <td>mobile</td>\n",
       "      <td>1521.94</td>\n",
       "      <td>Край билетов</td>\n",
       "      <td>4</td>\n",
       "      <td>10870.99</td>\n",
       "      <td>NaN</td>\n",
       "    </tr>\n",
       "    <tr>\n",
       "      <th>1</th>\n",
       "      <td>7965605</td>\n",
       "      <td>0005ca5e93f2cf4</td>\n",
       "      <td>2024-07-23</td>\n",
       "      <td>2024-07-23 18:36:24</td>\n",
       "      <td>237325</td>\n",
       "      <td>нет</td>\n",
       "      <td>0</td>\n",
       "      <td>rub</td>\n",
       "      <td>mobile</td>\n",
       "      <td>289.45</td>\n",
       "      <td>Мой билет</td>\n",
       "      <td>2</td>\n",
       "      <td>2067.51</td>\n",
       "      <td>NaN</td>\n",
       "    </tr>\n",
       "    <tr>\n",
       "      <th>2</th>\n",
       "      <td>7292370</td>\n",
       "      <td>0005ca5e93f2cf4</td>\n",
       "      <td>2024-10-06</td>\n",
       "      <td>2024-10-06 13:56:02</td>\n",
       "      <td>578454</td>\n",
       "      <td>нет</td>\n",
       "      <td>0</td>\n",
       "      <td>rub</td>\n",
       "      <td>mobile</td>\n",
       "      <td>1258.57</td>\n",
       "      <td>За билетом!</td>\n",
       "      <td>4</td>\n",
       "      <td>13984.16</td>\n",
       "      <td>75.0</td>\n",
       "    </tr>\n",
       "    <tr>\n",
       "      <th>3</th>\n",
       "      <td>1139875</td>\n",
       "      <td>000898990054619</td>\n",
       "      <td>2024-07-13</td>\n",
       "      <td>2024-07-13 19:40:48</td>\n",
       "      <td>387271</td>\n",
       "      <td>нет</td>\n",
       "      <td>0</td>\n",
       "      <td>rub</td>\n",
       "      <td>mobile</td>\n",
       "      <td>8.49</td>\n",
       "      <td>Лови билет!</td>\n",
       "      <td>2</td>\n",
       "      <td>212.28</td>\n",
       "      <td>NaN</td>\n",
       "    </tr>\n",
       "    <tr>\n",
       "      <th>4</th>\n",
       "      <td>972400</td>\n",
       "      <td>000898990054619</td>\n",
       "      <td>2024-10-04</td>\n",
       "      <td>2024-10-04 22:33:15</td>\n",
       "      <td>509453</td>\n",
       "      <td>нет</td>\n",
       "      <td>18</td>\n",
       "      <td>rub</td>\n",
       "      <td>mobile</td>\n",
       "      <td>1390.41</td>\n",
       "      <td>Билеты без проблем</td>\n",
       "      <td>3</td>\n",
       "      <td>10695.43</td>\n",
       "      <td>83.0</td>\n",
       "    </tr>\n",
       "  </tbody>\n",
       "</table>\n",
       "</div>"
      ],
      "text/plain": [
       "   order_id          user_id created_dt_msk       created_ts_msk  event_id  \\\n",
       "0   4359165  0002849b70a3ce2     2024-08-20  2024-08-20 16:08:03    169230   \n",
       "1   7965605  0005ca5e93f2cf4     2024-07-23  2024-07-23 18:36:24    237325   \n",
       "2   7292370  0005ca5e93f2cf4     2024-10-06  2024-10-06 13:56:02    578454   \n",
       "3   1139875  000898990054619     2024-07-13  2024-07-13 19:40:48    387271   \n",
       "4    972400  000898990054619     2024-10-04  2024-10-04 22:33:15    509453   \n",
       "\n",
       "  cinema_circuit  age_limit currency_code device_type_canonical  revenue  \\\n",
       "0            нет         16           rub                mobile  1521.94   \n",
       "1            нет          0           rub                mobile   289.45   \n",
       "2            нет          0           rub                mobile  1258.57   \n",
       "3            нет          0           rub                mobile     8.49   \n",
       "4            нет         18           rub                mobile  1390.41   \n",
       "\n",
       "         service_name  tickets_count     total  days_since_prev  \n",
       "0        Край билетов              4  10870.99              NaN  \n",
       "1           Мой билет              2   2067.51              NaN  \n",
       "2         За билетом!              4  13984.16             75.0  \n",
       "3         Лови билет!              2    212.28              NaN  \n",
       "4  Билеты без проблем              3  10695.43             83.0  "
      ]
     },
     "execution_count": 3,
     "metadata": {},
     "output_type": "execute_result"
    }
   ],
   "source": [
    "orders.head()"
   ]
  },
  {
   "cell_type": "code",
   "execution_count": 4,
   "metadata": {},
   "outputs": [
    {
     "name": "stdout",
     "output_type": "stream",
     "text": [
      "<class 'pandas.core.frame.DataFrame'>\n",
      "RangeIndex: 290849 entries, 0 to 290848\n",
      "Data columns (total 14 columns):\n",
      " #   Column                 Non-Null Count   Dtype  \n",
      "---  ------                 --------------   -----  \n",
      " 0   order_id               290849 non-null  int64  \n",
      " 1   user_id                290849 non-null  object \n",
      " 2   created_dt_msk         290849 non-null  object \n",
      " 3   created_ts_msk         290849 non-null  object \n",
      " 4   event_id               290849 non-null  int64  \n",
      " 5   cinema_circuit         290849 non-null  object \n",
      " 6   age_limit              290849 non-null  int64  \n",
      " 7   currency_code          290849 non-null  object \n",
      " 8   device_type_canonical  290849 non-null  object \n",
      " 9   revenue                290849 non-null  float64\n",
      " 10  service_name           290849 non-null  object \n",
      " 11  tickets_count          290849 non-null  int64  \n",
      " 12  total                  290849 non-null  float64\n",
      " 13  days_since_prev        268909 non-null  float64\n",
      "dtypes: float64(3), int64(4), object(7)\n",
      "memory usage: 31.1+ MB\n"
     ]
    }
   ],
   "source": [
    "orders.info()"
   ]
  },
  {
   "cell_type": "markdown",
   "metadata": {},
   "source": [
    "В датафрейме 290 849 строк и 14 столбцов. Они охватывают идентификаторы заказов и пользователей, временные метки, характеристики событий, информацию о пользователях и устройствах, а также финансовые показатели.\n",
    "\n",
    "- Все столбцы заполнены полностью, кроме столбца days_since_prev — в нём 268 909 непустых значений, значит пропущено около 22 000 строк. days_since_prev отражает дни с предыдущего заказа, пропуск - для первого заказа пользователя значение отсутствует.\n",
    "- Типы данных в целом соответствуют ожидаемым: идентификаторы — строки или числа, даты — строковые, которые необходимо преобразовать в datetime, числовые значения — float или int.\n",
    "- Временные столбцы created_dt_msk и created_ts_msk представлены как строки, для анализа нужно будет преобразовать их в datetime.\n",
    "\n",
    "В целом, данные выглядят корректными и соответствуют описанию. Требуется стандартная предобработка: преобразование дат в datetime, обработка пропусков в days_since_prev, проверки на дубликаты и аномалии, а также стандартизация категориальных признаков. "
   ]
  },
  {
   "cell_type": "code",
   "execution_count": 5,
   "metadata": {},
   "outputs": [],
   "source": [
    "events = pd.read_csv('')"
   ]
  },
  {
   "cell_type": "code",
   "execution_count": 6,
   "metadata": {},
   "outputs": [
    {
     "data": {
      "text/html": [
       "<div>\n",
       "<style scoped>\n",
       "    .dataframe tbody tr th:only-of-type {\n",
       "        vertical-align: middle;\n",
       "    }\n",
       "\n",
       "    .dataframe tbody tr th {\n",
       "        vertical-align: top;\n",
       "    }\n",
       "\n",
       "    .dataframe thead th {\n",
       "        text-align: right;\n",
       "    }\n",
       "</style>\n",
       "<table border=\"1\" class=\"dataframe\">\n",
       "  <thead>\n",
       "    <tr style=\"text-align: right;\">\n",
       "      <th></th>\n",
       "      <th>event_id</th>\n",
       "      <th>event_name</th>\n",
       "      <th>event_type_description</th>\n",
       "      <th>event_type_main</th>\n",
       "      <th>organizers</th>\n",
       "      <th>region_name</th>\n",
       "      <th>city_name</th>\n",
       "      <th>city_id</th>\n",
       "      <th>venue_id</th>\n",
       "      <th>venue_name</th>\n",
       "      <th>venue_address</th>\n",
       "    </tr>\n",
       "  </thead>\n",
       "  <tbody>\n",
       "    <tr>\n",
       "      <th>0</th>\n",
       "      <td>4436</td>\n",
       "      <td>e4f26fba-da77-4c61-928a-6c3e434d793f</td>\n",
       "      <td>спектакль</td>\n",
       "      <td>театр</td>\n",
       "      <td>№4893</td>\n",
       "      <td>Североярская область</td>\n",
       "      <td>Озёрск</td>\n",
       "      <td>2</td>\n",
       "      <td>1600</td>\n",
       "      <td>Кладбище искусств \"Проблема\" и партнеры</td>\n",
       "      <td>наб. Загородная, д. 785</td>\n",
       "    </tr>\n",
       "    <tr>\n",
       "      <th>1</th>\n",
       "      <td>5785</td>\n",
       "      <td>5cc08a60-fdea-4186-9bb2-bffc3603fb77</td>\n",
       "      <td>спектакль</td>\n",
       "      <td>театр</td>\n",
       "      <td>№1931</td>\n",
       "      <td>Светополянский округ</td>\n",
       "      <td>Глиноград</td>\n",
       "      <td>54</td>\n",
       "      <td>2196</td>\n",
       "      <td>Лекции по искусству \"Свет\" Групп</td>\n",
       "      <td>ул. Ягодная, д. 942</td>\n",
       "    </tr>\n",
       "    <tr>\n",
       "      <th>2</th>\n",
       "      <td>8817</td>\n",
       "      <td>8e379a89-3a10-4811-ba06-ec22ebebe989</td>\n",
       "      <td>спектакль</td>\n",
       "      <td>театр</td>\n",
       "      <td>№4896</td>\n",
       "      <td>Североярская область</td>\n",
       "      <td>Озёрск</td>\n",
       "      <td>2</td>\n",
       "      <td>4043</td>\n",
       "      <td>Кинокомитет \"Золотая\" Инк</td>\n",
       "      <td>ш. Коммуны, д. 92 стр. 6</td>\n",
       "    </tr>\n",
       "    <tr>\n",
       "      <th>3</th>\n",
       "      <td>8849</td>\n",
       "      <td>682e3129-6a32-4952-9d8a-ef7f60d4c247</td>\n",
       "      <td>спектакль</td>\n",
       "      <td>театр</td>\n",
       "      <td>№4960</td>\n",
       "      <td>Каменевский регион</td>\n",
       "      <td>Глиногорск</td>\n",
       "      <td>213</td>\n",
       "      <td>1987</td>\n",
       "      <td>Выставка ремесел \"Свет\" Лтд</td>\n",
       "      <td>пер. Набережный, д. 35</td>\n",
       "    </tr>\n",
       "    <tr>\n",
       "      <th>4</th>\n",
       "      <td>8850</td>\n",
       "      <td>d6e99176-c77f-4af0-9222-07c571f6c624</td>\n",
       "      <td>спектакль</td>\n",
       "      <td>театр</td>\n",
       "      <td>№4770</td>\n",
       "      <td>Лесодальний край</td>\n",
       "      <td>Родниковец</td>\n",
       "      <td>55</td>\n",
       "      <td>4230</td>\n",
       "      <td>Фестивальный проект \"Листья\" Групп</td>\n",
       "      <td>пер. Проезжий, д. 9</td>\n",
       "    </tr>\n",
       "  </tbody>\n",
       "</table>\n",
       "</div>"
      ],
      "text/plain": [
       "   event_id                            event_name event_type_description  \\\n",
       "0      4436  e4f26fba-da77-4c61-928a-6c3e434d793f              спектакль   \n",
       "1      5785  5cc08a60-fdea-4186-9bb2-bffc3603fb77              спектакль   \n",
       "2      8817  8e379a89-3a10-4811-ba06-ec22ebebe989              спектакль   \n",
       "3      8849  682e3129-6a32-4952-9d8a-ef7f60d4c247              спектакль   \n",
       "4      8850  d6e99176-c77f-4af0-9222-07c571f6c624              спектакль   \n",
       "\n",
       "  event_type_main organizers           region_name   city_name  city_id  \\\n",
       "0           театр      №4893  Североярская область      Озёрск        2   \n",
       "1           театр      №1931  Светополянский округ   Глиноград       54   \n",
       "2           театр      №4896  Североярская область      Озёрск        2   \n",
       "3           театр      №4960    Каменевский регион  Глиногорск      213   \n",
       "4           театр      №4770      Лесодальний край  Родниковец       55   \n",
       "\n",
       "   venue_id                               venue_name             venue_address  \n",
       "0      1600  Кладбище искусств \"Проблема\" и партнеры   наб. Загородная, д. 785  \n",
       "1      2196         Лекции по искусству \"Свет\" Групп       ул. Ягодная, д. 942  \n",
       "2      4043                Кинокомитет \"Золотая\" Инк  ш. Коммуны, д. 92 стр. 6  \n",
       "3      1987              Выставка ремесел \"Свет\" Лтд    пер. Набережный, д. 35  \n",
       "4      4230       Фестивальный проект \"Листья\" Групп       пер. Проезжий, д. 9  "
      ]
     },
     "execution_count": 6,
     "metadata": {},
     "output_type": "execute_result"
    }
   ],
   "source": [
    "events.head()"
   ]
  },
  {
   "cell_type": "code",
   "execution_count": 7,
   "metadata": {},
   "outputs": [
    {
     "name": "stdout",
     "output_type": "stream",
     "text": [
      "<class 'pandas.core.frame.DataFrame'>\n",
      "RangeIndex: 22427 entries, 0 to 22426\n",
      "Data columns (total 11 columns):\n",
      " #   Column                  Non-Null Count  Dtype \n",
      "---  ------                  --------------  ----- \n",
      " 0   event_id                22427 non-null  int64 \n",
      " 1   event_name              22427 non-null  object\n",
      " 2   event_type_description  22427 non-null  object\n",
      " 3   event_type_main         22427 non-null  object\n",
      " 4   organizers              22427 non-null  object\n",
      " 5   region_name             22427 non-null  object\n",
      " 6   city_name               22427 non-null  object\n",
      " 7   city_id                 22427 non-null  int64 \n",
      " 8   venue_id                22427 non-null  int64 \n",
      " 9   venue_name              22427 non-null  object\n",
      " 10  venue_address           22427 non-null  object\n",
      "dtypes: int64(3), object(8)\n",
      "memory usage: 1.9+ MB\n"
     ]
    }
   ],
   "source": [
    "events.info()"
   ]
  },
  {
   "cell_type": "markdown",
   "metadata": {},
   "source": [
    "В датафрейме 22 427 строк и 11 столбцов. Столбцы содержат идентификаторы событий, названия, описания типов, организаторов, а также географические и локационные данные.\n",
    "\n",
    "- Все столбцы заполнены полностью, пропусков нет.\n",
    "- Типы данных соответствуют ожидаемым: идентификаторы — целочисленные, остальные — строковые.\n",
    "- Названия событий и описания типов представлены в текстовом формате, что соответствует их содержанию.\n",
    "- Географические данные содержат как числовые идентификаторы (city_id, venue_id), так и текстовые названия, что удобно для группировок и объединений.\n",
    "- Каждый event_id описан полным набором атрибутов.\n",
    "\n",
    "Структура и содержимое соответствуют описанию, все ключевые признаки присутствуют и заполнены. Для подготовки данных к анализу необходимо проверить уникальность идентификаторов, стандартизировать и очистить текстовые поля, проверить согласованность географической информации."
   ]
  },
  {
   "cell_type": "code",
   "execution_count": 8,
   "metadata": {},
   "outputs": [],
   "source": [
    "tenge= pd.read_csv('')"
   ]
  },
  {
   "cell_type": "code",
   "execution_count": 9,
   "metadata": {},
   "outputs": [
    {
     "data": {
      "text/html": [
       "<div>\n",
       "<style scoped>\n",
       "    .dataframe tbody tr th:only-of-type {\n",
       "        vertical-align: middle;\n",
       "    }\n",
       "\n",
       "    .dataframe tbody tr th {\n",
       "        vertical-align: top;\n",
       "    }\n",
       "\n",
       "    .dataframe thead th {\n",
       "        text-align: right;\n",
       "    }\n",
       "</style>\n",
       "<table border=\"1\" class=\"dataframe\">\n",
       "  <thead>\n",
       "    <tr style=\"text-align: right;\">\n",
       "      <th></th>\n",
       "      <th>data</th>\n",
       "      <th>nominal</th>\n",
       "      <th>curs</th>\n",
       "      <th>cdx</th>\n",
       "    </tr>\n",
       "  </thead>\n",
       "  <tbody>\n",
       "    <tr>\n",
       "      <th>0</th>\n",
       "      <td>2024-01-10</td>\n",
       "      <td>100</td>\n",
       "      <td>19.9391</td>\n",
       "      <td>kzt</td>\n",
       "    </tr>\n",
       "    <tr>\n",
       "      <th>1</th>\n",
       "      <td>2024-01-11</td>\n",
       "      <td>100</td>\n",
       "      <td>19.7255</td>\n",
       "      <td>kzt</td>\n",
       "    </tr>\n",
       "    <tr>\n",
       "      <th>2</th>\n",
       "      <td>2024-01-12</td>\n",
       "      <td>100</td>\n",
       "      <td>19.5839</td>\n",
       "      <td>kzt</td>\n",
       "    </tr>\n",
       "    <tr>\n",
       "      <th>3</th>\n",
       "      <td>2024-01-13</td>\n",
       "      <td>100</td>\n",
       "      <td>19.4501</td>\n",
       "      <td>kzt</td>\n",
       "    </tr>\n",
       "    <tr>\n",
       "      <th>4</th>\n",
       "      <td>2024-01-14</td>\n",
       "      <td>100</td>\n",
       "      <td>19.4501</td>\n",
       "      <td>kzt</td>\n",
       "    </tr>\n",
       "  </tbody>\n",
       "</table>\n",
       "</div>"
      ],
      "text/plain": [
       "         data  nominal     curs  cdx\n",
       "0  2024-01-10      100  19.9391  kzt\n",
       "1  2024-01-11      100  19.7255  kzt\n",
       "2  2024-01-12      100  19.5839  kzt\n",
       "3  2024-01-13      100  19.4501  kzt\n",
       "4  2024-01-14      100  19.4501  kzt"
      ]
     },
     "metadata": {},
     "output_type": "display_data"
    },
    {
     "name": "stdout",
     "output_type": "stream",
     "text": [
      "<class 'pandas.core.frame.DataFrame'>\n",
      "RangeIndex: 357 entries, 0 to 356\n",
      "Data columns (total 4 columns):\n",
      " #   Column   Non-Null Count  Dtype  \n",
      "---  ------   --------------  -----  \n",
      " 0   data     357 non-null    object \n",
      " 1   nominal  357 non-null    int64  \n",
      " 2   curs     357 non-null    float64\n",
      " 3   cdx      357 non-null    object \n",
      "dtypes: float64(1), int64(1), object(2)\n",
      "memory usage: 11.3+ KB\n"
     ]
    },
    {
     "data": {
      "text/plain": [
       "None"
      ]
     },
     "metadata": {},
     "output_type": "display_data"
    }
   ],
   "source": [
    "display(tenge.head())\n",
    "display(tenge.info()) "
   ]
  },
  {
   "cell_type": "markdown",
   "metadata": {},
   "source": [
    "В датафрейме 357 строк и 4 столбца.\n",
    "\n",
    "Все строки заполнены, пропусков нет.\n",
    "- data — тип object, содержит даты в формате \"YYYY-MM-DD\", но не в datetime, требует преобразования."
   ]
  },
  {
   "cell_type": "markdown",
   "metadata": {},
   "source": [
    "## 2. Предобработка данных и подготовка их к исследованию"
   ]
  },
  {
   "cell_type": "code",
   "execution_count": 10,
   "metadata": {},
   "outputs": [
    {
     "name": "stdout",
     "output_type": "stream",
     "text": [
      "Размер orders: (290849, 14)\n",
      "Размер events: (22427, 11)\n",
      "Размер объединенного df: (290849, 24)\n"
     ]
    },
    {
     "data": {
      "text/html": [
       "<div>\n",
       "<style scoped>\n",
       "    .dataframe tbody tr th:only-of-type {\n",
       "        vertical-align: middle;\n",
       "    }\n",
       "\n",
       "    .dataframe tbody tr th {\n",
       "        vertical-align: top;\n",
       "    }\n",
       "\n",
       "    .dataframe thead th {\n",
       "        text-align: right;\n",
       "    }\n",
       "</style>\n",
       "<table border=\"1\" class=\"dataframe\">\n",
       "  <thead>\n",
       "    <tr style=\"text-align: right;\">\n",
       "      <th></th>\n",
       "      <th>order_id</th>\n",
       "      <th>user_id</th>\n",
       "      <th>created_dt_msk</th>\n",
       "      <th>created_ts_msk</th>\n",
       "      <th>event_id</th>\n",
       "      <th>cinema_circuit</th>\n",
       "      <th>age_limit</th>\n",
       "      <th>currency_code</th>\n",
       "      <th>device_type_canonical</th>\n",
       "      <th>revenue</th>\n",
       "      <th>...</th>\n",
       "      <th>event_name</th>\n",
       "      <th>event_type_description</th>\n",
       "      <th>event_type_main</th>\n",
       "      <th>organizers</th>\n",
       "      <th>region_name</th>\n",
       "      <th>city_name</th>\n",
       "      <th>city_id</th>\n",
       "      <th>venue_id</th>\n",
       "      <th>venue_name</th>\n",
       "      <th>venue_address</th>\n",
       "    </tr>\n",
       "  </thead>\n",
       "  <tbody>\n",
       "    <tr>\n",
       "      <th>0</th>\n",
       "      <td>4359165</td>\n",
       "      <td>0002849b70a3ce2</td>\n",
       "      <td>2024-08-20</td>\n",
       "      <td>2024-08-20 16:08:03</td>\n",
       "      <td>169230</td>\n",
       "      <td>нет</td>\n",
       "      <td>16</td>\n",
       "      <td>rub</td>\n",
       "      <td>mobile</td>\n",
       "      <td>1521.94</td>\n",
       "      <td>...</td>\n",
       "      <td>f0f7b271-04eb-4af6-bcb8-8f05cf46d6ad</td>\n",
       "      <td>спектакль</td>\n",
       "      <td>театр</td>\n",
       "      <td>№3322</td>\n",
       "      <td>Каменевский регион</td>\n",
       "      <td>Глиногорск</td>\n",
       "      <td>213.0</td>\n",
       "      <td>3972.0</td>\n",
       "      <td>Сценический центр \"Деталь\" Групп</td>\n",
       "      <td>алл. Машиностроителей, д. 19 стр. 6</td>\n",
       "    </tr>\n",
       "    <tr>\n",
       "      <th>1</th>\n",
       "      <td>7965605</td>\n",
       "      <td>0005ca5e93f2cf4</td>\n",
       "      <td>2024-07-23</td>\n",
       "      <td>2024-07-23 18:36:24</td>\n",
       "      <td>237325</td>\n",
       "      <td>нет</td>\n",
       "      <td>0</td>\n",
       "      <td>rub</td>\n",
       "      <td>mobile</td>\n",
       "      <td>289.45</td>\n",
       "      <td>...</td>\n",
       "      <td>40efeb04-81b7-4135-b41f-708ff00cc64c</td>\n",
       "      <td>событие</td>\n",
       "      <td>выставки</td>\n",
       "      <td>№4850</td>\n",
       "      <td>Каменевский регион</td>\n",
       "      <td>Глиногорск</td>\n",
       "      <td>213.0</td>\n",
       "      <td>2941.0</td>\n",
       "      <td>Музыкальная школа для детей \"Аккаунт\" Лтд</td>\n",
       "      <td>алл. Шмидта, д. 9 стр. 4</td>\n",
       "    </tr>\n",
       "    <tr>\n",
       "      <th>2</th>\n",
       "      <td>7292370</td>\n",
       "      <td>0005ca5e93f2cf4</td>\n",
       "      <td>2024-10-06</td>\n",
       "      <td>2024-10-06 13:56:02</td>\n",
       "      <td>578454</td>\n",
       "      <td>нет</td>\n",
       "      <td>0</td>\n",
       "      <td>rub</td>\n",
       "      <td>mobile</td>\n",
       "      <td>1258.57</td>\n",
       "      <td>...</td>\n",
       "      <td>01f3fb7b-ed07-4f94-b1d3-9a2e1ee5a8ca</td>\n",
       "      <td>цирковое шоу</td>\n",
       "      <td>другое</td>\n",
       "      <td>№1540</td>\n",
       "      <td>Каменевский регион</td>\n",
       "      <td>Глиногорск</td>\n",
       "      <td>213.0</td>\n",
       "      <td>4507.0</td>\n",
       "      <td>Училище искусств \"Нирвана\" Инк</td>\n",
       "      <td>алл. Юбилейная, д. 5/6</td>\n",
       "    </tr>\n",
       "    <tr>\n",
       "      <th>3</th>\n",
       "      <td>1139875</td>\n",
       "      <td>000898990054619</td>\n",
       "      <td>2024-07-13</td>\n",
       "      <td>2024-07-13 19:40:48</td>\n",
       "      <td>387271</td>\n",
       "      <td>нет</td>\n",
       "      <td>0</td>\n",
       "      <td>rub</td>\n",
       "      <td>mobile</td>\n",
       "      <td>8.49</td>\n",
       "      <td>...</td>\n",
       "      <td>2f638715-8844-466c-b43f-378a627c419f</td>\n",
       "      <td>выставка</td>\n",
       "      <td>другое</td>\n",
       "      <td>№5049</td>\n",
       "      <td>Североярская область</td>\n",
       "      <td>Озёрск</td>\n",
       "      <td>2.0</td>\n",
       "      <td>3574.0</td>\n",
       "      <td>Театр альтернативного искусства \"Ода\" Лимитед</td>\n",
       "      <td>алл. Есенина, д. 243 к. 3/8</td>\n",
       "    </tr>\n",
       "    <tr>\n",
       "      <th>4</th>\n",
       "      <td>972400</td>\n",
       "      <td>000898990054619</td>\n",
       "      <td>2024-10-04</td>\n",
       "      <td>2024-10-04 22:33:15</td>\n",
       "      <td>509453</td>\n",
       "      <td>нет</td>\n",
       "      <td>18</td>\n",
       "      <td>rub</td>\n",
       "      <td>mobile</td>\n",
       "      <td>1390.41</td>\n",
       "      <td>...</td>\n",
       "      <td>10d805d3-9809-4d8a-834e-225b7d03f95d</td>\n",
       "      <td>шоу</td>\n",
       "      <td>стендап</td>\n",
       "      <td>№832</td>\n",
       "      <td>Озернинский край</td>\n",
       "      <td>Родниковецк</td>\n",
       "      <td>240.0</td>\n",
       "      <td>1896.0</td>\n",
       "      <td>Театр кукол \"Огни\" Инкорпорэйтед</td>\n",
       "      <td>ш. Набережное, д. 595 стр. 8</td>\n",
       "    </tr>\n",
       "  </tbody>\n",
       "</table>\n",
       "<p>5 rows × 24 columns</p>\n",
       "</div>"
      ],
      "text/plain": [
       "   order_id          user_id created_dt_msk      created_ts_msk  event_id  \\\n",
       "0   4359165  0002849b70a3ce2     2024-08-20 2024-08-20 16:08:03    169230   \n",
       "1   7965605  0005ca5e93f2cf4     2024-07-23 2024-07-23 18:36:24    237325   \n",
       "2   7292370  0005ca5e93f2cf4     2024-10-06 2024-10-06 13:56:02    578454   \n",
       "3   1139875  000898990054619     2024-07-13 2024-07-13 19:40:48    387271   \n",
       "4    972400  000898990054619     2024-10-04 2024-10-04 22:33:15    509453   \n",
       "\n",
       "  cinema_circuit  age_limit currency_code device_type_canonical  revenue  ...  \\\n",
       "0            нет         16           rub                mobile  1521.94  ...   \n",
       "1            нет          0           rub                mobile   289.45  ...   \n",
       "2            нет          0           rub                mobile  1258.57  ...   \n",
       "3            нет          0           rub                mobile     8.49  ...   \n",
       "4            нет         18           rub                mobile  1390.41  ...   \n",
       "\n",
       "                             event_name  event_type_description  \\\n",
       "0  f0f7b271-04eb-4af6-bcb8-8f05cf46d6ad               спектакль   \n",
       "1  40efeb04-81b7-4135-b41f-708ff00cc64c                 событие   \n",
       "2  01f3fb7b-ed07-4f94-b1d3-9a2e1ee5a8ca            цирковое шоу   \n",
       "3  2f638715-8844-466c-b43f-378a627c419f                выставка   \n",
       "4  10d805d3-9809-4d8a-834e-225b7d03f95d                     шоу   \n",
       "\n",
       "   event_type_main  organizers           region_name    city_name city_id  \\\n",
       "0            театр       №3322    Каменевский регион   Глиногорск   213.0   \n",
       "1         выставки       №4850    Каменевский регион   Глиногорск   213.0   \n",
       "2           другое       №1540    Каменевский регион   Глиногорск   213.0   \n",
       "3           другое       №5049  Североярская область       Озёрск     2.0   \n",
       "4          стендап        №832      Озернинский край  Родниковецк   240.0   \n",
       "\n",
       "  venue_id                                     venue_name  \\\n",
       "0   3972.0               Сценический центр \"Деталь\" Групп   \n",
       "1   2941.0      Музыкальная школа для детей \"Аккаунт\" Лтд   \n",
       "2   4507.0                 Училище искусств \"Нирвана\" Инк   \n",
       "3   3574.0  Театр альтернативного искусства \"Ода\" Лимитед   \n",
       "4   1896.0               Театр кукол \"Огни\" Инкорпорэйтед   \n",
       "\n",
       "                         venue_address  \n",
       "0  алл. Машиностроителей, д. 19 стр. 6  \n",
       "1             алл. Шмидта, д. 9 стр. 4  \n",
       "2               алл. Юбилейная, д. 5/6  \n",
       "3          алл. Есенина, д. 243 к. 3/8  \n",
       "4         ш. Набережное, д. 595 стр. 8  \n",
       "\n",
       "[5 rows x 24 columns]"
      ]
     },
     "metadata": {},
     "output_type": "display_data"
    }
   ],
   "source": [
    "# Преобразуем даты\n",
    "orders['created_dt_msk'] = pd.to_datetime(orders['created_dt_msk'])\n",
    "orders['created_ts_msk'] = pd.to_datetime(orders['created_ts_msk'])\n",
    "tenge['data'] = pd.to_datetime(tenge['data'])\n",
    "\n",
    "# Размеры датафреймов до объединения\n",
    "print(f\"Размер orders: {orders.shape}\")\n",
    "print(f\"Размер events: {events.shape}\")\n",
    "\n",
    "# Объединим Orders и Events\n",
    "df = orders.merge(events, on='event_id', how='left')\n",
    "\n",
    "# Проверим размер дф после объединения\n",
    "print(f\"Размер объединенного df: {df.shape}\")\n",
    "\n",
    "display(df.head())"
   ]
  },
  {
   "cell_type": "code",
   "execution_count": 11,
   "metadata": {},
   "outputs": [
    {
     "name": "stdout",
     "output_type": "stream",
     "text": [
      "Пропуски по столбцам:\n",
      "                        count     ratio\n",
      "days_since_prev         21940  0.075434\n",
      "event_name                238  0.000818\n",
      "event_type_description    238  0.000818\n",
      "event_type_main           238  0.000818\n",
      "organizers                238  0.000818\n",
      "region_name               238  0.000818\n",
      "city_name                 238  0.000818\n",
      "city_id                   238  0.000818\n",
      "venue_id                  238  0.000818\n",
      "venue_name                238  0.000818\n",
      "venue_address             238  0.000818\n",
      "\n",
      "Всего строк: 290849\n"
     ]
    }
   ],
   "source": [
    "# Посмотрим количество пропусков по всем столбцам\n",
    "missing_counts = df.isna().sum()\n",
    "missing_ratios = df.isna().mean()\n",
    "\n",
    "# Отфильтруем только столбцы с пропусками\n",
    "missing = missing_counts[missing_counts > 0]\n",
    "\n",
    "print(\"Пропуски по столбцам:\")\n",
    "print(pd.DataFrame({'count': missing, 'ratio': missing_ratios[missing.index]}))\n",
    "\n",
    "print(f\"\\nВсего строк: {len(df)}\")"
   ]
  },
  {
   "cell_type": "markdown",
   "metadata": {},
   "source": [
    "238 пропусков это очень маленькая доля от общего числа строк (около 0.08%). Удалим их."
   ]
  },
  {
   "cell_type": "code",
   "execution_count": 12,
   "metadata": {},
   "outputs": [
    {
     "name": "stdout",
     "output_type": "stream",
     "text": [
      "Размер данных до удаления: 290849\n",
      "Размер данных после удаления: 290611\n",
      "Удалено строк: 238\n"
     ]
    }
   ],
   "source": [
    "# Удалим пропуски\n",
    "cols_with_missing = [\n",
    "    'event_name', 'event_type_description', 'event_type_main', 'organizers',\n",
    "    'region_name', 'city_name', 'city_id', 'venue_id', 'venue_name', 'venue_address'\n",
    "]\n",
    "\n",
    "df_clean = df.dropna(subset=cols_with_missing).reset_index(drop=True)\n",
    "\n",
    "print(f\"Размер данных до удаления: {len(df)}\")\n",
    "print(f\"Размер данных после удаления: {len(df_clean)}\")\n",
    "print(f\"Удалено строк: {len(df) - len(df_clean)}\")"
   ]
  },
  {
   "cell_type": "code",
   "execution_count": 13,
   "metadata": {},
   "outputs": [
    {
     "name": "stdout",
     "output_type": "stream",
     "text": [
      "\n",
      "Категории в currency_code:\n",
      "rub    285542\n",
      "kzt      5069\n",
      "Name: currency_code, dtype: int64\n",
      "\n",
      "Категории в device_type_canonical:\n",
      "mobile     232490\n",
      "desktop     58121\n",
      "Name: device_type_canonical, dtype: int64\n",
      "\n",
      "Категории в service_name:\n",
      "Билеты без проблем    63519\n",
      "Лови билет!           41124\n",
      "Билеты в руки         40343\n",
      "Мой билет             34839\n",
      "Облачко               26642\n",
      "Лучшие билеты         17774\n",
      "Весь в билетах        16849\n",
      "Прачечная             10273\n",
      "Край билетов           6207\n",
      "Тебе билет!            5228\n",
      "Name: service_name, dtype: int64\n",
      "\n",
      "Категории в cinema_circuit:\n",
      "нет           289213\n",
      "Другое          1261\n",
      "КиноСити         122\n",
      "Москино            7\n",
      "Киномакс           7\n",
      "ЦентрФильм         1\n",
      "Name: cinema_circuit, dtype: int64\n",
      "\n",
      "Категории в event_type_description:\n",
      "концерт                   112049\n",
      "событие                    58605\n",
      "спектакль                  50592\n",
      "шоу                        13626\n",
      "спорт                      12837\n",
      "мюзикл                      9919\n",
      "спортивное мероприятие      9074\n",
      "балет                       5998\n",
      "выставка                    5876\n",
      "цирковое шоу                5327\n",
      "Name: event_type_description, dtype: int64\n",
      "\n",
      "Категории в event_type_main:\n",
      "концерты    115276\n",
      "театр        67321\n",
      "другое       65867\n",
      "спорт        21911\n",
      "стендап      13393\n",
      "выставки      4854\n",
      "ёлки          1989\n",
      "Name: event_type_main, dtype: int64\n",
      "\n",
      "Категории в organizers:\n",
      "№1531    9748\n",
      "№2121    4738\n",
      "№4054    4362\n",
      "№4549    3972\n",
      "№4837    3368\n",
      "№4086    3323\n",
      "№4950    3212\n",
      "№4403    3037\n",
      "№5085    3005\n",
      "№2378    2886\n",
      "Name: organizers, dtype: int64\n",
      "\n",
      "Категории в region_name:\n",
      "Каменевский регион         91058\n",
      "Североярская область       44049\n",
      "Широковская область        16457\n",
      "Медовская область          13901\n",
      "Озернинский край           10476\n",
      "Светополянский округ        7607\n",
      "Малиновоярский округ        6618\n",
      "Речиновская область         6293\n",
      "Солнечноземская область     6288\n",
      "Яблоневская область         6181\n",
      "Name: region_name, dtype: int64\n",
      "\n",
      "Категории в city_name:\n",
      "Глиногорск      89446\n",
      "Озёрск          43910\n",
      "Радужсвет       13711\n",
      "Радужнополье     8741\n",
      "Верховино        6579\n",
      "Дальнесветск     6293\n",
      "Глинополье       6196\n",
      "Светополье       5993\n",
      "Глиноград        5934\n",
      "Лесоярич         5831\n",
      "Name: city_name, dtype: int64\n",
      "\n",
      "Категории в venue_name:\n",
      "Студия дизайна \"Платформа\" Инкорпорэйтед          9910\n",
      "Картинная галерея \"Светлячок\" Лтд                 4406\n",
      "Креативное пространство \"Вдох\" Лимитед            4257\n",
      "Центр культурного наследия \"Заряд\" и партнеры     4099\n",
      "Студия дизайна \"Лестница\" Лимитед                 4025\n",
      "Культурный центр \"Общие\" Групп                    3876\n",
      "Научно-культурный центр \"Синтез\" Инкорпорэйтед    3718\n",
      "Клуб киноманов \"Верность\" Лтд                     3472\n",
      "Мастерская живого действия \"Гардероб\" Лимитед     3424\n",
      "Дворец культуры \"Скворечник\" Инк                  3366\n",
      "Name: venue_name, dtype: int64\n"
     ]
    }
   ],
   "source": [
    "# Анализ категориальных переменных на очищенных данных\n",
    "cat_cols = ['currency_code', 'device_type_canonical', 'service_name', 'cinema_circuit',\n",
    "            'event_type_description', 'event_type_main', 'organizers', 'region_name', 'city_name', 'venue_name']\n",
    "\n",
    "for col in cat_cols:\n",
    "    print(f\"\\nКатегории в {col}:\")\n",
    "    print(df_clean[col].value_counts(dropna=False).head(10))\n",
    "\n",
    "# Нормализация: приведем device_type_canonical к нижнему регистру и уберем пробелы\n",
    "df_clean['device_type_canonical'] = df_clean['device_type_canonical'].str.lower().str.strip()"
   ]
  },
  {
   "cell_type": "markdown",
   "metadata": {},
   "source": [
    "Видно, что большинство пользователей используют валюту RUB, что соответствует основной географии проекта — России, при этом присутствует небольшая часть аудитории из Казахстана. \n",
    "\n",
    "По устройствам доминирует mobile, что важно учитывать при разработке интерфейсов и маркетинговых кампаний для улучшения пользовательского опыта. \n",
    "\n",
    "Сервисы распределены достаточно равномерно, однако выделяются несколько лидирующих площадок, что может помочь в оптимизации каналов продаж. \n",
    "\n",
    "Большинство событий относятся к концертам и театру, отражая основные направления мероприятий и интересы аудитории. \n",
    "\n",
    "Региональное распределение и распределение по городам показывает концентрацию активности в нескольких ключевых локациях, что важно учитывать при планировании локальных маркетинговых и организационных стратегий."
   ]
  },
  {
   "cell_type": "markdown",
   "metadata": {},
   "source": []
  },
  {
   "cell_type": "code",
   "execution_count": 14,
   "metadata": {},
   "outputs": [
    {
     "name": "stdout",
     "output_type": "stream",
     "text": [
      "Количество заказов в рублях: 285542\n",
      "Количество заказов в тенге: 5069\n"
     ]
    },
    {
     "data": {
      "image/png": "[encoded data removed]",
      "text/plain": [
       "<Figure size 864x360 with 2 Axes>"
      ]
     },
     "metadata": {
      "needs_background": "light"
     },
     "output_type": "display_data"
    },
    {
     "data": {
      "image/png": "[encoded data removed]",
      "text/plain": [
       "<Figure size 864x360 with 2 Axes>"
      ]
     },
     "metadata": {
      "needs_background": "light"
     },
     "output_type": "display_data"
    }
   ],
   "source": [
    "# Анализ количественных переменных revenue и tickets_count с учетом валют на очищенных данных\n",
    "df_rub = df_clean[df_clean['currency_code'] == 'rub'].copy()\n",
    "df_kzt = df_clean[df_clean['currency_code'] == 'kzt'].copy()\n",
    "\n",
    "print(f\"Количество заказов в рублях: {len(df_rub)}\")\n",
    "print(f\"Количество заказов в тенге: {len(df_kzt)}\")\n",
    "\n",
    "# Гистограммы распределения revenue\n",
    "plt.figure(figsize=(12,5))\n",
    "plt.subplot(1,2,1)\n",
    "sns.histplot(df_rub['revenue'], bins=50, kde=True)\n",
    "plt.title('Revenue в рублях')\n",
    "\n",
    "plt.subplot(1,2,2)\n",
    "sns.histplot(df_kzt['revenue'], bins=50, kde=True)\n",
    "plt.title('Revenue в тенге')\n",
    "plt.show()\n",
    "\n",
    "# Гистограммы распределения tickets_count\n",
    "plt.figure(figsize=(12,5))\n",
    "plt.subplot(1,2,1)\n",
    "sns.histplot(df_rub['tickets_count'], bins=30, kde=False)\n",
    "plt.title('Tickets count в рублях')\n",
    "\n",
    "plt.subplot(1,2,2)\n",
    "sns.histplot(df_kzt['tickets_count'], bins=30, kde=False)\n",
    "plt.title('Tickets count в тенге')\n",
    "plt.show()"
   ]
  },
  {
   "cell_type": "markdown",
   "metadata": {},
   "source": [
    "Основная часть данных приходится на рублевые заказы (285 542), а в тенге — существенно меньше (5 069), что говорит о доминировании российского рынка в выборке.\n",
    "\n",
    "\n",
    "- Revenue в рублях: Распределение сильно скошено вправо, с большим числом малых значений и длинным \"хвостом\" редких крупных доходов. Это типично для финансовых данных, где большинство заказов имеют невысокую выручку, а крупные заказы встречаются редко.\n",
    "\n",
    "- Revenue в тенге: Распределение более разреженное и с пиками на отдельных значениях, возможно, из-за меньшего объёма данных и специфики рынка.\n",
    "\n",
    "- Tickets count в рублях: Большинство заказов имеют небольшое количество билетов, с резким спадом при увеличении количества. Это говорит о том, что чаще покупают по 1-2 билета.\n",
    "\n",
    "- Tickets count в тенге: Распределение более дискретное и менее гладкое, опять же из-за меньшего объёма и, возможно, особенностей поведения покупателей.\n",
    "\n",
    "\n",
    "Наблюдается классическое распределение финансовых показателей с преобладанием небольших значений и редкими крупными заказами."
   ]
  },
  {
   "cell_type": "code",
   "execution_count": 15,
   "metadata": {},
   "outputs": [
    {
     "name": "stdout",
     "output_type": "stream",
     "text": [
      "99-й перцентиль revenue в рублях: 2570.8\n",
      "99-й перцентиль revenue в тенге: 17617.24\n",
      "Размер после фильтрации выбросов: 287782\n"
     ]
    }
   ],
   "source": [
    "# Рассчитаем 99-й перцентиль revenue для каждой валюты на очищенных данных\n",
    "rub_99 = df_rub['revenue'].quantile(0.99)\n",
    "kzt_99 = df_kzt['revenue'].quantile(0.99)\n",
    "\n",
    "print(f\"99-й перцентиль revenue в рублях: {rub_99}\")\n",
    "print(f\"99-й перцентиль revenue в тенге: {kzt_99}\")\n",
    "\n",
    "# Фильтрация данных по 99-му перцентилю для каждой валюты\n",
    "df_filt = df_clean[\n",
    "    ((df_clean['currency_code'] == 'rub') & (df_clean['revenue'] <= rub_99)) |\n",
    "    ((df_clean['currency_code'] == 'kzt') & (df_clean['revenue'] <= kzt_99))\n",
    "].copy()\n",
    "\n",
    "print(f\"Размер после фильтрации выбросов: {len(df_filt)}\")\n"
   ]
  },
  {
   "cell_type": "markdown",
   "metadata": {},
   "source": [
    "- 99-й перцентиль выручки (revenue) в рублях равен примерно 2570.8, что означает, что 99% заказов в рублях имеют выручку ниже или равную этому значению. Заказы с выручкой выше этого порога считаются выбросами и исключены из анализа.\n",
    "\n",
    "- 99-й перцентиль выручки в тенге составляет около 17617.24, что аналогично отражает верхний порог для большинства заказов в тенге.\n",
    "\n",
    "- После применения фильтрации по 99-м перцентилям размер выборки сократился до 287 782 заказов. Это говорит о том, что удалено относительно небольшое количество экстремальных заказов (выбросов), что позволяет получить более чистые и стабильные данные для дальнейшего анализа.\n",
    "\n",
    "Фильтрация по 99-му перцентилю помогает избавиться от редких, но очень крупных заказов, которые могут искажать статистику и модели. При этом сохраняется большая часть данных, особенно по рублям, что обеспечивает надежность последующих выводов и прогнозов."
   ]
  },
  {
   "cell_type": "code",
   "execution_count": 16,
   "metadata": {},
   "outputs": [
    {
     "name": "stdout",
     "output_type": "stream",
     "text": [
      "Явных дубликатов в df_filt: 0\n",
      "Неявных дубликатов по всем признакам, кроме order_id: 30\n"
     ]
    }
   ],
   "source": [
    "# Проверим на явные дубликаты\n",
    "num_duplicates = df_filt.duplicated().sum()\n",
    "print(f\"Явных дубликатов в df_filt: {num_duplicates}\")\n",
    "\n",
    "# Проверка неявных дубликатов по ключевым полям \n",
    "subset_cols = [col for col in df_filt.columns if col != 'order_id']\n",
    "num_duplicates = df_filt.duplicated(subset=subset_cols).sum()\n",
    "print(f\"Неявных дубликатов по всем признакам, кроме order_id: {num_duplicates}\")\n",
    "\n",
    "# Удалим неявные дубликаты, оставляя первое вхождение\n",
    "df_filt = df_filt.drop_duplicates(subset=subset_cols)"
   ]
  },
  {
   "cell_type": "markdown",
   "metadata": {},
   "source": [
    "Явные дубликаты отсутствуют, неявные удалены."
   ]
  },
  {
   "cell_type": "code",
   "execution_count": 17,
   "metadata": {},
   "outputs": [],
   "source": [
    "# Оптимизируем типы данных\n",
    "df_filt['tickets_count'] = df_filt['tickets_count'].astype('int16')\n",
    "df_filt['age_limit'] = df_filt['age_limit'].astype('int8')\n",
    "df_filt['revenue'] = df_filt['revenue'].astype('float32')\n",
    "df_filt['total'] = df_filt['total'].astype('float32')"
   ]
  },
  {
   "cell_type": "markdown",
   "metadata": {},
   "source": []
  },
  {
   "cell_type": "code",
   "execution_count": 18,
   "metadata": {},
   "outputs": [],
   "source": [
    "# Переимуем столбцы\n",
    "tenge = tenge.rename(columns={'data': 'date', 'curs': 'tenge_to_rub_rate'})\n",
    "\n",
    "# Приведем к типу date (без времени)\n",
    "tenge['date'] = tenge['date'].dt.date\n",
    "\n",
    "df_filt['order_date'] = df_filt['created_dt_msk'].dt.date\n",
    "df_filt = df_filt.merge(tenge[['date', 'tenge_to_rub_rate']], left_on='order_date', right_on='date', how='left')\n",
    "df_filt['tenge_to_rub_rate'] = df_filt.apply(lambda x: x['tenge_to_rub_rate'] if x['currency_code']=='kzt' else 1, axis=1)\n",
    "df_filt['revenue_rub'] = df_filt.apply(\n",
    "    lambda x: x['revenue'] / 100 * x['tenge_to_rub_rate'] if x['currency_code']=='kzt' else x['revenue'], axis=1)"
   ]
  },
  {
   "cell_type": "code",
   "execution_count": 19,
   "metadata": {},
   "outputs": [
    {
     "name": "stdout",
     "output_type": "stream",
     "text": [
      "<class 'pandas.core.frame.DataFrame'>\n",
      "Int64Index: 287752 entries, 0 to 287751\n",
      "Data columns (total 31 columns):\n",
      " #   Column                  Non-Null Count   Dtype         \n",
      "---  ------                  --------------   -----         \n",
      " 0   order_id                287752 non-null  int64         \n",
      " 1   user_id                 287752 non-null  object        \n",
      " 2   created_dt_msk          287752 non-null  datetime64[ns]\n",
      " 3   created_ts_msk          287752 non-null  datetime64[ns]\n",
      " 4   event_id                287752 non-null  int64         \n",
      " 5   cinema_circuit          287752 non-null  object        \n",
      " 6   age_limit               287752 non-null  int8          \n",
      " 7   currency_code           287752 non-null  object        \n",
      " 8   device_type_canonical   287752 non-null  object        \n",
      " 9   revenue                 287752 non-null  float32       \n",
      " 10  service_name            287752 non-null  object        \n",
      " 11  tickets_count           287752 non-null  int16         \n",
      " 12  total                   287752 non-null  float32       \n",
      " 13  days_since_prev         266040 non-null  float64       \n",
      " 14  event_name              287752 non-null  object        \n",
      " 15  event_type_description  287752 non-null  object        \n",
      " 16  event_type_main         287752 non-null  object        \n",
      " 17  organizers              287752 non-null  object        \n",
      " 18  region_name             287752 non-null  object        \n",
      " 19  city_name               287752 non-null  object        \n",
      " 20  city_id                 287752 non-null  float64       \n",
      " 21  venue_id                287752 non-null  float64       \n",
      " 22  venue_name              287752 non-null  object        \n",
      " 23  venue_address           287752 non-null  object        \n",
      " 24  order_date              287752 non-null  object        \n",
      " 25  date                    287752 non-null  object        \n",
      " 26  tenge_to_rub_rate       287752 non-null  float64       \n",
      " 27  revenue_rub             287752 non-null  float64       \n",
      " 28  one_ticket_revenue_rub  287752 non-null  float64       \n",
      " 29  month                   287752 non-null  int64         \n",
      " 30  season                  287752 non-null  object        \n",
      "dtypes: datetime64[ns](2), float32(2), float64(6), int16(1), int64(3), int8(1), object(16)\n",
      "memory usage: 64.5+ MB\n"
     ]
    }
   ],
   "source": [
    "# Создание новых признаков\n",
    "df_filt['one_ticket_revenue_rub'] = df_filt['revenue_rub'] / df_filt['tickets_count']\n",
    "df_filt['month'] = df_filt['created_dt_msk'].dt.month\n",
    "\n",
    "def season_from_month(m):\n",
    "    if m in [12, 1, 2]:\n",
    "        return 'зима'\n",
    "    elif m in [3, 4, 5]:\n",
    "        return 'весна'\n",
    "    elif m in [6, 7, 8]:\n",
    "        return 'лето'\n",
    "    elif m in [9, 10, 11]:\n",
    "        return 'осень'\n",
    "    else:\n",
    "        return np.nan\n",
    "\n",
    "df_filt['season'] = df_filt['month'].apply(season_from_month)\n",
    "df_filt.info()"
   ]
  },
  {
   "cell_type": "code",
   "execution_count": 20,
   "metadata": {},
   "outputs": [
    {
     "data": {
      "text/html": [
       "<div>\n",
       "<style scoped>\n",
       "    .dataframe tbody tr th:only-of-type {\n",
       "        vertical-align: middle;\n",
       "    }\n",
       "\n",
       "    .dataframe tbody tr th {\n",
       "        vertical-align: top;\n",
       "    }\n",
       "\n",
       "    .dataframe thead th {\n",
       "        text-align: right;\n",
       "    }\n",
       "</style>\n",
       "<table border=\"1\" class=\"dataframe\">\n",
       "  <thead>\n",
       "    <tr style=\"text-align: right;\">\n",
       "      <th></th>\n",
       "      <th>order_id</th>\n",
       "      <th>user_id</th>\n",
       "      <th>created_dt_msk</th>\n",
       "      <th>created_ts_msk</th>\n",
       "      <th>event_id</th>\n",
       "      <th>cinema_circuit</th>\n",
       "      <th>age_limit</th>\n",
       "      <th>currency_code</th>\n",
       "      <th>device_type_canonical</th>\n",
       "      <th>revenue</th>\n",
       "      <th>...</th>\n",
       "      <th>venue_id</th>\n",
       "      <th>venue_name</th>\n",
       "      <th>venue_address</th>\n",
       "      <th>order_date</th>\n",
       "      <th>date</th>\n",
       "      <th>tenge_to_rub_rate</th>\n",
       "      <th>revenue_rub</th>\n",
       "      <th>one_ticket_revenue_rub</th>\n",
       "      <th>month</th>\n",
       "      <th>season</th>\n",
       "    </tr>\n",
       "  </thead>\n",
       "  <tbody>\n",
       "    <tr>\n",
       "      <th>0</th>\n",
       "      <td>4359165</td>\n",
       "      <td>0002849b70a3ce2</td>\n",
       "      <td>2024-08-20</td>\n",
       "      <td>2024-08-20 16:08:03</td>\n",
       "      <td>169230</td>\n",
       "      <td>нет</td>\n",
       "      <td>16</td>\n",
       "      <td>rub</td>\n",
       "      <td>mobile</td>\n",
       "      <td>1521.939941</td>\n",
       "      <td>...</td>\n",
       "      <td>3972.0</td>\n",
       "      <td>Сценический центр \"Деталь\" Групп</td>\n",
       "      <td>алл. Машиностроителей, д. 19 стр. 6</td>\n",
       "      <td>2024-08-20</td>\n",
       "      <td>2024-08-20</td>\n",
       "      <td>1.0</td>\n",
       "      <td>1521.939941</td>\n",
       "      <td>380.484985</td>\n",
       "      <td>8</td>\n",
       "      <td>лето</td>\n",
       "    </tr>\n",
       "    <tr>\n",
       "      <th>1</th>\n",
       "      <td>7965605</td>\n",
       "      <td>0005ca5e93f2cf4</td>\n",
       "      <td>2024-07-23</td>\n",
       "      <td>2024-07-23 18:36:24</td>\n",
       "      <td>237325</td>\n",
       "      <td>нет</td>\n",
       "      <td>0</td>\n",
       "      <td>rub</td>\n",
       "      <td>mobile</td>\n",
       "      <td>289.450012</td>\n",
       "      <td>...</td>\n",
       "      <td>2941.0</td>\n",
       "      <td>Музыкальная школа для детей \"Аккаунт\" Лтд</td>\n",
       "      <td>алл. Шмидта, д. 9 стр. 4</td>\n",
       "      <td>2024-07-23</td>\n",
       "      <td>2024-07-23</td>\n",
       "      <td>1.0</td>\n",
       "      <td>289.450012</td>\n",
       "      <td>144.725006</td>\n",
       "      <td>7</td>\n",
       "      <td>лето</td>\n",
       "    </tr>\n",
       "    <tr>\n",
       "      <th>2</th>\n",
       "      <td>7292370</td>\n",
       "      <td>0005ca5e93f2cf4</td>\n",
       "      <td>2024-10-06</td>\n",
       "      <td>2024-10-06 13:56:02</td>\n",
       "      <td>578454</td>\n",
       "      <td>нет</td>\n",
       "      <td>0</td>\n",
       "      <td>rub</td>\n",
       "      <td>mobile</td>\n",
       "      <td>1258.569946</td>\n",
       "      <td>...</td>\n",
       "      <td>4507.0</td>\n",
       "      <td>Училище искусств \"Нирвана\" Инк</td>\n",
       "      <td>алл. Юбилейная, д. 5/6</td>\n",
       "      <td>2024-10-06</td>\n",
       "      <td>2024-10-06</td>\n",
       "      <td>1.0</td>\n",
       "      <td>1258.569946</td>\n",
       "      <td>314.642487</td>\n",
       "      <td>10</td>\n",
       "      <td>осень</td>\n",
       "    </tr>\n",
       "    <tr>\n",
       "      <th>3</th>\n",
       "      <td>1139875</td>\n",
       "      <td>000898990054619</td>\n",
       "      <td>2024-07-13</td>\n",
       "      <td>2024-07-13 19:40:48</td>\n",
       "      <td>387271</td>\n",
       "      <td>нет</td>\n",
       "      <td>0</td>\n",
       "      <td>rub</td>\n",
       "      <td>mobile</td>\n",
       "      <td>8.490000</td>\n",
       "      <td>...</td>\n",
       "      <td>3574.0</td>\n",
       "      <td>Театр альтернативного искусства \"Ода\" Лимитед</td>\n",
       "      <td>алл. Есенина, д. 243 к. 3/8</td>\n",
       "      <td>2024-07-13</td>\n",
       "      <td>2024-07-13</td>\n",
       "      <td>1.0</td>\n",
       "      <td>8.490000</td>\n",
       "      <td>4.245000</td>\n",
       "      <td>7</td>\n",
       "      <td>лето</td>\n",
       "    </tr>\n",
       "    <tr>\n",
       "      <th>4</th>\n",
       "      <td>972400</td>\n",
       "      <td>000898990054619</td>\n",
       "      <td>2024-10-04</td>\n",
       "      <td>2024-10-04 22:33:15</td>\n",
       "      <td>509453</td>\n",
       "      <td>нет</td>\n",
       "      <td>18</td>\n",
       "      <td>rub</td>\n",
       "      <td>mobile</td>\n",
       "      <td>1390.410034</td>\n",
       "      <td>...</td>\n",
       "      <td>1896.0</td>\n",
       "      <td>Театр кукол \"Огни\" Инкорпорэйтед</td>\n",
       "      <td>ш. Набережное, д. 595 стр. 8</td>\n",
       "      <td>2024-10-04</td>\n",
       "      <td>2024-10-04</td>\n",
       "      <td>1.0</td>\n",
       "      <td>1390.410034</td>\n",
       "      <td>463.470011</td>\n",
       "      <td>10</td>\n",
       "      <td>осень</td>\n",
       "    </tr>\n",
       "  </tbody>\n",
       "</table>\n",
       "<p>5 rows × 31 columns</p>\n",
       "</div>"
      ],
      "text/plain": [
       "   order_id          user_id created_dt_msk      created_ts_msk  event_id  \\\n",
       "0   4359165  0002849b70a3ce2     2024-08-20 2024-08-20 16:08:03    169230   \n",
       "1   7965605  0005ca5e93f2cf4     2024-07-23 2024-07-23 18:36:24    237325   \n",
       "2   7292370  0005ca5e93f2cf4     2024-10-06 2024-10-06 13:56:02    578454   \n",
       "3   1139875  000898990054619     2024-07-13 2024-07-13 19:40:48    387271   \n",
       "4    972400  000898990054619     2024-10-04 2024-10-04 22:33:15    509453   \n",
       "\n",
       "  cinema_circuit  age_limit currency_code device_type_canonical      revenue  \\\n",
       "0            нет         16           rub                mobile  1521.939941   \n",
       "1            нет          0           rub                mobile   289.450012   \n",
       "2            нет          0           rub                mobile  1258.569946   \n",
       "3            нет          0           rub                mobile     8.490000   \n",
       "4            нет         18           rub                mobile  1390.410034   \n",
       "\n",
       "   ... venue_id                                     venue_name  \\\n",
       "0  ...   3972.0               Сценический центр \"Деталь\" Групп   \n",
       "1  ...   2941.0      Музыкальная школа для детей \"Аккаунт\" Лтд   \n",
       "2  ...   4507.0                 Училище искусств \"Нирвана\" Инк   \n",
       "3  ...   3574.0  Театр альтернативного искусства \"Ода\" Лимитед   \n",
       "4  ...   1896.0               Театр кукол \"Огни\" Инкорпорэйтед   \n",
       "\n",
       "                         venue_address  order_date        date  \\\n",
       "0  алл. Машиностроителей, д. 19 стр. 6  2024-08-20  2024-08-20   \n",
       "1             алл. Шмидта, д. 9 стр. 4  2024-07-23  2024-07-23   \n",
       "2               алл. Юбилейная, д. 5/6  2024-10-06  2024-10-06   \n",
       "3          алл. Есенина, д. 243 к. 3/8  2024-07-13  2024-07-13   \n",
       "4         ш. Набережное, д. 595 стр. 8  2024-10-04  2024-10-04   \n",
       "\n",
       "  tenge_to_rub_rate  revenue_rub one_ticket_revenue_rub month season  \n",
       "0               1.0  1521.939941             380.484985     8   лето  \n",
       "1               1.0   289.450012             144.725006     7   лето  \n",
       "2               1.0  1258.569946             314.642487    10  осень  \n",
       "3               1.0     8.490000               4.245000     7   лето  \n",
       "4               1.0  1390.410034             463.470011    10  осень  \n",
       "\n",
       "[5 rows x 31 columns]"
      ]
     },
     "execution_count": 20,
     "metadata": {},
     "output_type": "execute_result"
    }
   ],
   "source": [
    "df_filt.head()"
   ]
  },
  {
   "cell_type": "markdown",
   "metadata": {},
   "source": [
    "В датафрейме *df_filt* теперь 31 столбец, все новые признаки заполнены без пропусков."
   ]
  },
  {
   "cell_type": "code",
   "execution_count": 21,
   "metadata": {},
   "outputs": [
    {
     "name": "stdout",
     "output_type": "stream",
     "text": [
      "Всего заказов до фильтрации: 290611\n",
      "Заказов после фильтрации: 287752\n",
      "Удалено заказов: 2859 (0.98%)\n"
     ]
    }
   ],
   "source": [
    "total_orders = len(df_clean)\n",
    "filtered_orders = len(df_filt)\n",
    "removed_orders = total_orders - filtered_orders\n",
    "removed_ratio = removed_orders / total_orders * 100\n",
    "\n",
    "print(f\"Всего заказов до фильтрации: {total_orders}\")\n",
    "print(f\"Заказов после фильтрации: {filtered_orders}\")\n",
    "print(f\"Удалено заказов: {removed_orders} ({removed_ratio:.2f}%)\")"
   ]
  },
  {
   "cell_type": "markdown",
   "metadata": {},
   "source": []
  },
  {
   "cell_type": "markdown",
   "metadata": {},
   "source": [
    "Была произведена обработка исходных таблиц заказов и событий, а также их объединение. Удалены пропуски в части признаков (около 0.08% строк),что не повлияло на объём выборки. Отсутствие явных дубликатов и удаление неявных дубликатов обеспечило чистоту данных.\n",
    "\n",
    "Анализ распределения выручки и количества билетов показал классическое для финансовых данных скошенное вправо распределение с преобладанием небольших значений и редкими крупными заказами. Основная часть данных представлена рублевыми заказами (около 285 тыс.), тенговые заказы составляют небольшую долю (около 5 тыс.), что отражает доминирование российского рынка.\n",
    "\n",
    "Была применена фильтрация по 99-му перцентилю выручки отдельно для каждой валюты для устранения влияния экстремальных выбросов . Это позволило удалить менее 1% заказов (около 2 859 строк), сохранив при этом большую часть данных для дальнейшего анализа. Для последующей аналитики созданы новые информативные признаки, такие как выручка в рублях с учётом курса, выручка на билет, сезонность и др.."
   ]
  },
  {
   "cell_type": "markdown",
   "metadata": {},
   "source": [
    "## 3. Исследовательский анализ данных"
   ]
  },
  {
   "cell_type": "markdown",
   "metadata": {},
   "source": [
    "###  Анализ распределения заказов по сегментам и их сезонные изменения"
   ]
  },
  {
   "cell_type": "code",
   "execution_count": 22,
   "metadata": {},
   "outputs": [
    {
     "name": "stdout",
     "output_type": "stream",
     "text": [
      "   month  orders_count\n",
      "0      6         34164\n",
      "1      7         40407\n",
      "2      8         44550\n",
      "3      9         69352\n",
      "4     10         99279\n"
     ]
    },
    {
     "data": {
      "image/png": "[encoded data removed]",
      "text/plain": [
       "<Figure size 720x432 with 1 Axes>"
      ]
     },
     "metadata": {
      "needs_background": "light"
     },
     "output_type": "display_data"
    }
   ],
   "source": [
    "# Выберем 2024 год\n",
    "df_filt['year'] = df_filt['created_dt_msk'].dt.year\n",
    "df_2024 = df_filt[df_filt['year'] == 2024]\n",
    "\n",
    "# Посчитаем количество заказов по месяцам\n",
    "orders_per_month = df_2024.groupby('month')['order_id'].count().reset_index(name='orders_count')\n",
    "\n",
    "# Как увеличивается количество заказов с июня по октябрь\n",
    "print(orders_per_month[(orders_per_month['month'] >= 6) & (orders_per_month['month'] <= 10)])\n",
    "\n",
    "# Оставим только месяцы с заказами\n",
    "orders_per_month_nonzero = orders_per_month[orders_per_month['orders_count'] > 0]\n",
    "\n",
    "# Линейная диаграмма количества заказов по месяцам \n",
    "plt.figure(figsize=(10,6))\n",
    "sns.lineplot(data=orders_per_month_nonzero, x='month', y='orders_count', marker='o')\n",
    "plt.title('Количество заказов по месяцам в 2024 году')\n",
    "plt.xlabel('Месяц')\n",
    "plt.ylabel('Количество заказов')\n",
    "plt.xticks(orders_per_month_nonzero['month'])\n",
    "plt.grid(True)\n",
    "plt.show()"
   ]
  },
  {
   "cell_type": "markdown",
   "metadata": {},
   "source": [
    "Тренд показывает устойчивый рост числа заказов с каждым месяцем, особенно заметный скачок в сентябре и октябре."
   ]
  },
  {
   "cell_type": "code",
   "execution_count": 23,
   "metadata": {},
   "outputs": [
    {
     "data": {
      "image/png": "[encoded data removed]",
      "text/plain": [
       "<Figure size 864x576 with 1 Axes>"
      ]
     },
     "metadata": {
      "needs_background": "light"
     },
     "output_type": "display_data"
    }
   ],
   "source": [
    "# Анализ динамики пользовательской активности по типу мероприятия:\n",
    "orders_by_event_type = df_2024.groupby(['month', 'event_type_main'])['order_id'].count().reset_index()\n",
    "\n",
    "# Фильтр по месяцам июнь-октябрь\n",
    "orders_by_event_type_filtered = orders_by_event_type[\n",
    "    (orders_by_event_type['month'] >= 6) & (orders_by_event_type['month'] <= 10)]\n",
    "\n",
    "# Исключим строки с нулевыми заказами\n",
    "orders_by_event_type_filtered = orders_by_event_type_filtered[orders_by_event_type_filtered['order_id'] > 0]\n",
    "                                                              \n",
    "plt.figure(figsize=(12,8))\n",
    "sns.lineplot(data=orders_by_event_type_filtered, x='month', y='order_id', hue='event_type_main', marker='o')\n",
    "plt.title('Количество заказов по типу мероприятия и месяцам июнь-октябрь в 2024 году')\n",
    "plt.xlabel('Месяц')\n",
    "plt.ylabel('Количество заказов')\n",
    "plt.xticks(range(6, 11))\n",
    "plt.legend(title='Тип мероприятия')\n",
    "plt.grid(True)\n",
    "plt.show()"
   ]
  },
  {
   "cell_type": "markdown",
   "metadata": {},
   "source": []
  },
  {
   "cell_type": "markdown",
   "metadata": {},
   "source": [
    "- Концерты (зеленая линия) демонстрируют самый сильный рост заказов, особенно заметный в последние месяцы, что говорит о высокой популярности данного типа мероприятий.\n",
    "- Другое (оранжевая линия) и спорт (коричневая линия) также показывают устойчивый рост, при этом спорт резко набирает популярность ближе к концу периода.\n",
    "- Выставки, стендап, театр и ёлки имеют значительно меньший объем заказов и более плавный, менее выраженный рост.\n",
    "\n",
    "В целом, наибольший интерес и рост спроса сосредоточен вокруг концертов, спорта и категории \"другое\".\n",
    "Таким образом, можно сделать вывод, что концерты и спортивные мероприятия являются наиболее востребованными и быстрорастущими сегментами на рынке событий в рассматриваемый период."
   ]
  },
  {
   "cell_type": "code",
   "execution_count": 24,
   "metadata": {},
   "outputs": [
    {
     "data": {
      "image/png": "[encoded data removed]",
      "text/plain": [
       "<Figure size 864x576 with 1 Axes>"
      ]
     },
     "metadata": {
      "needs_background": "light"
     },
     "output_type": "display_data"
    }
   ],
   "source": [
    "# Анализ динамики пользовательской активности по типу устройства:\n",
    "orders_by_device = df_2024.groupby(['month', 'device_type_canonical'])['order_id'].count().reset_index()\n",
    "\n",
    "# Фильтр по месяцам июнь-октябрь\n",
    "orders_by_device = orders_by_device[(orders_by_device['month'] >= 6) & (orders_by_device['month'] <= 10)]\n",
    "\n",
    "# Исключим строки с нулевыми заказами\n",
    "orders_by_device = orders_by_device[orders_by_device['order_id'] > 0]\n",
    "\n",
    "plt.figure(figsize=(12,8))\n",
    "sns.lineplot(data=orders_by_device, x='month', y='order_id', hue='device_type_canonical', marker='o')\n",
    "plt.title('Количество заказов по типу устройства и месяцам июнь-октябрь в 2024 году')\n",
    "plt.xlabel('Месяц')\n",
    "plt.ylabel('Количество заказов')\n",
    "plt.xticks(range(6, 11))\n",
    "plt.grid(True)\n",
    "plt.show()"
   ]
  },
  {
   "cell_type": "markdown",
   "metadata": {},
   "source": [
    "- Заказы с мобильных устройств (оранжевая линия) значительно превышают заказы с десктопов (синяя линия) на протяжении всего периода.\n",
    "- При этом рост заказов с мобильных устройств более резкий и выраженный, особенно в последние месяцы.\n",
    "- Заказы с десктопов тоже растут, но темпы роста заметно ниже и общий объем меньше.\n",
    "- Это свидетельствует о том, что пользователи все активнее используют мобильные устройства для оформления заказов на мероприятия, и мобильный трафик становится доминирующим каналом.\n",
    "\n",
    "Таким образом, для маркетинговых и технических стратегий важно уделять приоритетное внимание мобильной платформе, учитывая её растущую значимость."
   ]
  },
  {
   "cell_type": "code",
   "execution_count": 25,
   "metadata": {},
   "outputs": [
    {
     "data": {
      "image/png": "[encoded data removed]",
      "text/plain": [
       "<Figure size 864x576 with 1 Axes>"
      ]
     },
     "metadata": {
      "needs_background": "light"
     },
     "output_type": "display_data"
    }
   ],
   "source": [
    "# Анализ динамики пользовательской активности по возрастному рейтингу:\n",
    "orders_by_age_limit = df_2024.groupby(['month', 'age_limit'])['order_id'].count().reset_index()\n",
    "\n",
    "# Фильтр по месяцам июнь-октябрь\n",
    "orders_by_age_limit = orders_by_age_limit[(orders_by_age_limit['month'] >= 6) & (orders_by_age_limit['month'] <= 10)]\n",
    "\n",
    "# Исключим строки с нулевыми заказами\n",
    "orders_by_age_limit = orders_by_age_limit[orders_by_age_limit['order_id'] > 0]\n",
    "\n",
    "plt.figure(figsize=(12,8))\n",
    "sns.lineplot(data=orders_by_age_limit, x='month', y='order_id', hue='age_limit', marker='o')\n",
    "plt.title('Количество заказов по возрастному рейтингу и месяцам июнь-октябрь в 2024 году')\n",
    "plt.xlabel('Месяц')\n",
    "plt.ylabel('Количество заказов')\n",
    "plt.xticks(range(6, 11))  # Показываем только месяцы с июня по октябрь\n",
    "plt.legend(title='Возрастной рейтинг')\n",
    "plt.grid(True)\n",
    "plt.show()"
   ]
  },
  {
   "cell_type": "markdown",
   "metadata": {},
   "source": [
    "- Наибольший рост заказов наблюдается для мероприятий с возрастными рейтингами 16 и 18, особенно заметно увеличение в последние месяцы.\n",
    "- Мероприятия с рейтингом 0, 6 и 12 показывают более умеренный и плавный рост.\n",
    "- Это указывает на повышенный интерес аудитории к более взрослым и, вероятно, более насыщенным или специфичным событиям.\n",
    "- Рост заказов по возрастным рейтингам 16 и 18 может быть связан с увеличением предложения или спроса на мероприятия с ограничением по возрасту.\n",
    "В целом, можно сказать, что сегмент мероприятий с возрастными ограничениями 16+ становится всё более востребованным, что важно учитывать при планировании маркетинговых кампаний и формировании ассортимента."
   ]
  },
  {
   "cell_type": "code",
   "execution_count": 26,
   "metadata": {},
   "outputs": [
    {
     "data": {
      "image/png": "[encoded data removed]",
      "text/plain": [
       "<Figure size 720x432 with 1 Axes>"
      ]
     },
     "metadata": {
      "needs_background": "light"
     },
     "output_type": "display_data"
    }
   ],
   "source": [
    "# Добавим колонку с сезоном\n",
    "def assign_season(month):\n",
    "    if month in [6,7,8]:\n",
    "        return 'summer'\n",
    "    elif month in [9,10]:\n",
    "        return 'autumn'\n",
    "    else:\n",
    "        return None\n",
    "\n",
    "df_2024['season'] = df_2024['month'].apply(assign_season)\n",
    "df_seasons = df_2024[df_2024['season'].notna()]\n",
    "\n",
    "# Функция для расчёта долей заказов по категории и сезону\n",
    "def calc_shares(df, category):\n",
    "    grouped = df.groupby(['season', category])['order_id'].count().reset_index(name='orders_count')\n",
    "    total_per_season = grouped.groupby('season')['orders_count'].transform('sum')\n",
    "    grouped['share'] = grouped['orders_count'] / total_per_season\n",
    "    return grouped\n",
    "\n",
    "# Рассчитаем доли по каждой категории\n",
    "shares_type_event = calc_shares(df_seasons, 'event_type_main')\n",
    "shares_device_type = calc_shares(df_seasons, 'device_type_canonical')\n",
    "shares_age_limit = calc_shares(df_seasons, 'age_limit')\n",
    "\n",
    "# Столбчатая диаграмма доли заказов по типу мероприятия: лето vs осень (2024)\n",
    "plt.figure(figsize=(10,6))\n",
    "sns.barplot(data=shares_type_event, x='event_type_main', y='share', hue='season')\n",
    "plt.ylabel('Доля заказов')\n",
    "plt.xlabel('Тип мероприятия')\n",
    "plt.title('Доли заказов по типу мероприятия: лето vs осень (2024)')\n",
    "plt.xticks(rotation=45)\n",
    "plt.legend(title='Сезон')\n",
    "plt.tight_layout()\n",
    "plt.show()"
   ]
  },
  {
   "cell_type": "markdown",
   "metadata": {},
   "source": [
    "- Летом доля заказов выше для некоторых категорий, таких как выставки, концерты, стендап.\n",
    "- Осенью больше доля у других категорий(спорт, театр, елки).\n",
    "\n",
    "Это может свидетельствовать о сезонных предпочтениях в типах мероприятий."
   ]
  },
  {
   "cell_type": "code",
   "execution_count": 27,
   "metadata": {},
   "outputs": [
    {
     "data": {
      "image/png": "[encoded data removed]",
      "text/plain": [
       "<Figure size 720x432 with 1 Axes>"
      ]
     },
     "metadata": {
      "needs_background": "light"
     },
     "output_type": "display_data"
    },
    {
     "name": "stdout",
     "output_type": "stream",
     "text": [
      "season device_type_canonical   autumn    summer  relative_change_%\n",
      "0                    desktop  0.20342  0.193585           5.080883\n",
      "1                     mobile  0.79658  0.806415          -1.219696\n"
     ]
    },
    {
     "data": {
      "image/png": "[encoded data removed]",
      "text/plain": [
       "<Figure size 720x432 with 1 Axes>"
      ]
     },
     "metadata": {
      "needs_background": "light"
     },
     "output_type": "display_data"
    }
   ],
   "source": [
    "# Доли заказов по типу устройства: лето vs осень (2024)\n",
    "plt.figure(figsize=(10,6))\n",
    "sns.barplot(data=shares_device_type, x='device_type_canonical', y='share', hue='season')\n",
    "plt.ylabel('Доля заказов')\n",
    "plt.xlabel('Тип устройства')\n",
    "plt.title('Доли заказов по типу устройства: лето vs осень (2024)')\n",
    "plt.xticks(rotation=45)\n",
    "plt.legend(title='Сезон')\n",
    "plt.tight_layout()\n",
    "plt.show()\n",
    "\n",
    "def calc_relative_change(shares_df, category_col):\n",
    "    pivot = shares_df.pivot(index=category_col, columns='season', values='share').reset_index()\n",
    "    pivot['relative_change_%'] = 100 * (pivot['autumn'] - pivot['summer']) / pivot['summer']\n",
    "    return pivot\n",
    "\n",
    "\n",
    "relative_change_device = calc_relative_change(shares_device_type, 'device_type_canonical')\n",
    "print(relative_change_device)\n",
    "\n",
    "plt.figure(figsize=(10,6))\n",
    "sns.barplot(data=relative_change_device, x='device_type_canonical', y='relative_change_%')\n",
    "plt.axhline(0, color='gray', linestyle='--')\n",
    "plt.ylabel('Относительное изменение доли, % (осень vs лето)')\n",
    "plt.xlabel('Тип устройства')\n",
    "plt.title('Относительное изменение доли заказов по типу устройства')\n",
    "plt.xticks(rotation=45)\n",
    "plt.tight_layout()\n",
    "plt.show()"
   ]
  },
  {
   "cell_type": "markdown",
   "metadata": {},
   "source": [
    "Доли двух основных категорий устройств примерно равны между летом и осенью.\n",
    "Возможно, тип устройства не сильно зависит от сезона."
   ]
  },
  {
   "cell_type": "code",
   "execution_count": 28,
   "metadata": {},
   "outputs": [
    {
     "data": {
      "image/png": "[encoded data removed]",
      "text/plain": [
       "<Figure size 720x432 with 1 Axes>"
      ]
     },
     "metadata": {
      "needs_background": "light"
     },
     "output_type": "display_data"
    },
    {
     "name": "stdout",
     "output_type": "stream",
     "text": [
      "season  age_limit    autumn    summer  relative_change_%\n",
      "0               0  0.236184  0.179683          31.445121\n",
      "1               6  0.176243  0.181941          -3.131921\n",
      "2              12  0.220974  0.205371           7.597273\n",
      "3              16  0.262212  0.283376          -7.468584\n",
      "4              18  0.104388  0.149629         -30.235830\n"
     ]
    },
    {
     "data": {
      "image/png": "[encoded data removed]",
      "text/plain": [
       "<Figure size 720x432 with 1 Axes>"
      ]
     },
     "metadata": {
      "needs_background": "light"
     },
     "output_type": "display_data"
    }
   ],
   "source": [
    "# Столбчатая диаграмма Доли заказов по возрастному рейтингу\n",
    "plt.figure(figsize=(10,6))\n",
    "sns.barplot(data=shares_age_limit, x='age_limit', y='share', hue='season')\n",
    "plt.ylabel('Доля заказов')\n",
    "plt.xlabel('Возрастной рейтинг')\n",
    "plt.title('Доли заказов по возрастному рейтингу: лето vs осень (2024)')\n",
    "plt.xticks(rotation=45)\n",
    "plt.legend(title='Сезон')\n",
    "plt.tight_layout()\n",
    "plt.show()\n",
    "\n",
    "#  Относительного изменения\n",
    "relative_change_age = calc_relative_change(shares_age_limit, 'age_limit')\n",
    "print(relative_change_age)\n",
    "\n",
    "plt.figure(figsize=(10,6))\n",
    "sns.barplot(data=relative_change_age, x='age_limit', y='relative_change_%')\n",
    "plt.axhline(0, color='gray', linestyle='--')\n",
    "plt.ylabel('Относительное изменение доли, % (осень vs лето)')\n",
    "plt.xlabel('Возрастной рейтинг')\n",
    "plt.title('Относительное изменение доли заказов по возрастному рейтингу')\n",
    "plt.xticks(rotation=45)\n",
    "plt.tight_layout()\n",
    "plt.show()"
   ]
  },
  {
   "cell_type": "markdown",
   "metadata": {},
   "source": [
    "Видно, что для некоторых возрастных категорий летом доля заказов выше, для других — осенью.\n",
    "Разница не очень большая, но есть тенденция к небольшим сезонным колебаниям."
   ]
  },
  {
   "cell_type": "markdown",
   "metadata": {},
   "source": []
  },
  {
   "cell_type": "code",
   "execution_count": 29,
   "metadata": {},
   "outputs": [
    {
     "name": "stdout",
     "output_type": "stream",
     "text": [
      "season event_type_main      autumn      summer  relative_change_%\n",
      "0             выставки   90.603607   86.416199           4.845629\n",
      "1               другое   80.452744   81.974113          -1.855915\n",
      "2             концерты  279.100494  430.674103         -35.194504\n",
      "3                спорт   53.926430   55.172066          -2.257730\n",
      "4              стендап  231.124969  219.073166           5.501269\n",
      "5                театр  175.969513  214.194122         -17.845779\n",
      "6                 ёлки  229.585587  271.436188         -15.418210\n"
     ]
    },
    {
     "data": {
      "image/png": "[encoded data removed]",
      "text/plain": [
       "<Figure size 864x432 with 1 Axes>"
      ]
     },
     "metadata": {
      "needs_background": "light"
     },
     "output_type": "display_data"
    },
    {
     "data": {
      "image/png": "[encoded data removed]",
      "text/plain": [
       "<Figure size 864x432 with 1 Axes>"
      ]
     },
     "metadata": {
      "needs_background": "light"
     },
     "output_type": "display_data"
    }
   ],
   "source": [
    "# Рассчитаем среднюю выручку с одного билета по типу мероприятия и сезону\n",
    "df_seasons = df_seasons.copy()\n",
    "df_seasons['revenue_per_ticket'] = df_seasons['revenue'] / df_seasons['tickets_count']\n",
    "\n",
    "mean_revenue = df_seasons.groupby(['season', 'event_type_main'])['revenue_per_ticket'].mean().reset_index()\n",
    "\n",
    "# Таблица для удобства сравнения\n",
    "mean_revenue_pivot = mean_revenue.pivot(index='event_type_main', columns='season', values='revenue_per_ticket').reset_index()\n",
    "\n",
    "# Рассчитаем относительное изменение (осень относительно лета)\n",
    "mean_revenue_pivot['relative_change_%'] = 100 * (mean_revenue_pivot['autumn'] - mean_revenue_pivot['summer']) / mean_revenue_pivot['summer']\n",
    "\n",
    "print(mean_revenue_pivot)\n",
    "\n",
    "# Столбчатая диаграмма средней выручки по сезонам\n",
    "plt.figure(figsize=(12,6))\n",
    "sns.barplot(data=mean_revenue, x='event_type_main', y='revenue_per_ticket', hue='season')\n",
    "plt.xticks(rotation=45)\n",
    "plt.ylabel('Средняя выручка с одного билета')\n",
    "plt.xlabel('Тип мероприятия')\n",
    "plt.title('Средняя выручка с одного билета по типу мероприятия: лето vs осень (2024)')\n",
    "plt.legend(title='Сезон')\n",
    "plt.tight_layout()\n",
    "plt.show()\n",
    "\n",
    "# Относительного изменения\n",
    "plt.figure(figsize=(12,6))\n",
    "sns.barplot(data=mean_revenue_pivot, x='event_type_main', y='relative_change_%')\n",
    "plt.xticks(rotation=45)\n",
    "plt.ylabel('Относительное изменение, % (осень vs лето)')\n",
    "plt.xlabel('Тип мероприятия')\n",
    "plt.title('Относительное изменение средней выручки с одного билета по типу мероприятия')\n",
    "plt.axhline(0, color='gray', linestyle='--')\n",
    "plt.tight_layout()\n",
    "plt.show()"
   ]
  },
  {
   "cell_type": "markdown",
   "metadata": {},
   "source": [
    "Положительная динамика (рост средней стоимости билета осенью):\n",
    "- Выставки (+4.85%)\n",
    "- Стендап (+5.50%)\n",
    "\n",
    "Отрицательная динамика (снижение средней стоимости билета осенью):\n",
    "- Концерты (-35.19%) — значительное снижение\n",
    "- Театр (-17.84%)\n",
    "- Ёлки (-15.42%)\n",
    "- Спорт (-2.25%)\n",
    "- Другое (-1.86%)\n",
    "\n",
    "Средняя стоимость билета по типам и сезонам:\n",
    "- Видно, что для большинства категорий средняя стоимость билета летом выше, чем осенью. Особенно заметно это для концертов и театра, где осенние цены существенно ниже летних. Исключения — выставки и стендап, где осенью билеты стали немного дороже.\n",
    "\n",
    "Относительное изменение в %:\n",
    "- Подтверждает выводы из таблицы — значительное падение стоимости билетов на концерты, театр и ёлки осенью, а также небольшой рост для выставок и стендапа.\n",
    "\n",
    "В целом, осенью наблюдается тенденция к снижению средней стоимости билетов в большинстве категорий, что может быть связано с сезонным снижением спроса или изменением ценовой политики. Исключение составляют выставки и стендап, где средняя цена билета выросла.\n",
    "\n",
    "Возможные причины изменений:\n",
    "- Сезонность спроса (осенью меньше мероприятий или меньше зрителей на концертах и театрах).\n",
    "- Изменение ассортимента мероприятий (например, менее дорогие концерты осенью).\n",
    "- Акции и скидки в осенний период.\n",
    "- Особенности мероприятия (например, ёлки — сезонные события с фиксированной датой)."
   ]
  },
  {
   "cell_type": "markdown",
   "metadata": {},
   "source": [
    "### Осенняя активность пользователей"
   ]
  },
  {
   "cell_type": "code",
   "execution_count": 30,
   "metadata": {},
   "outputs": [
    {
     "data": {
      "image/png": "[encoded data removed]",
      "text/plain": [
       "<Figure size 1008x720 with 4 Axes>"
      ]
     },
     "metadata": {
      "needs_background": "light"
     },
     "output_type": "display_data"
    }
   ],
   "source": [
    "# Фильтруем только осенние данные\n",
    "df_autumn = df_seasons[df_seasons['season'] == 'autumn'].copy()\n",
    "df_autumn['order_date'] = pd.to_datetime(df_autumn['order_date'])\n",
    "# Cводная таблица по дням \n",
    "daily_stats = df_autumn.groupby('order_date').agg(\n",
    "    orders_count=('order_id', 'count'),\n",
    "    unique_users=('user_id', 'nunique'),\n",
    "    revenue=('revenue', 'sum'),\n",
    "    tickets_count=('tickets_count', 'sum') ).reset_index()\n",
    "\n",
    "daily_stats['orders_per_user'] = daily_stats['orders_count'] / daily_stats['unique_users']\n",
    "daily_stats['avg_ticket_price'] = daily_stats['revenue'] / daily_stats['tickets_count']\n",
    "\n",
    "plt.figure(figsize=(14, 10))\n",
    "\n",
    "# Линейная диаграмма Общее число заказов по дням\n",
    "plt.subplot(4, 1, 1)\n",
    "sns.lineplot(data=daily_stats, x='order_date', y='orders_count')\n",
    "plt.title('Общее число заказов по дням (осень 2024)')\n",
    "plt.ylabel('Число заказов')\n",
    "\n",
    "# Количество активных пользователей (DAU) по дням\n",
    "plt.subplot(4, 1, 2)\n",
    "sns.lineplot(data=daily_stats, x='order_date', y='unique_users')\n",
    "plt.title('Количество активных пользователей (DAU) по дням (осень 2024)')\n",
    "plt.ylabel('Активные пользователи')\n",
    "\n",
    "# Среднее число заказов на пользователя по дням\n",
    "plt.subplot(4, 1, 3)\n",
    "sns.lineplot(data=daily_stats, x='order_date', y='orders_per_user')\n",
    "plt.title('Среднее число заказов на пользователя по дням (осень 2024)')\n",
    "plt.ylabel('Заказы на пользователя')\n",
    "\n",
    "# Средняя стоимость одного билета по дням\n",
    "plt.subplot(4, 1, 4)\n",
    "sns.lineplot(data=daily_stats, x='order_date', y='avg_ticket_price')\n",
    "plt.title('Средняя стоимость одного билета по дням (осень 2024)')\n",
    "plt.ylabel('Средняя стоимость билета')\n",
    "plt.xlabel('Дата')\n",
    "\n",
    "plt.tight_layout()\n",
    "plt.show()"
   ]
  },
  {
   "cell_type": "markdown",
   "metadata": {},
   "source": [
    "- Общее число заказов (первый график) показывает выраженные колебания с некоторыми пиками, особенно в отдельные дни, и общим трендом на рост к концу периода. Это говорит о сезонных или событийных всплесках активности.\n",
    "- Количество активных пользователей (DAU) (второй график) демонстрирует более плавный и стабильный рост во времени, что свидетельствует о постепенном увеличении базы пользователей.\n",
    "- Среднее число заказов на одного пользователя (третий график) колеблется, но в целом держится на уровне около 3 заказов на пользователя, с редкими всплесками. Это указывает на стабильное поведение пользователей в плане частоты заказов.\n",
    "- Средняя стоимость одного билета (четвертый график) относительно стабильна, с некоторым снижением в отдельные дни, что может быть связано с изменением ассортимента или скидками.\n"
   ]
  },
  {
   "cell_type": "code",
   "execution_count": 31,
   "metadata": {},
   "outputs": [
    {
     "name": "stdout",
     "output_type": "stream",
     "text": [
      "   day_type   avg_orders    avg_users  avg_orders_per_user  avg_ticket_price\n",
      "0    Будний  2390.555556   853.666667             2.780350        188.562012\n",
      "1    Будний  3498.888889   934.555556             3.722218        158.977890\n",
      "2    Будний  2543.444444   923.555556             2.752209        193.423019\n",
      "3    Будний  3018.555556   962.111111             3.064152        189.661621\n",
      "4    Будний  3104.375000  1022.625000             3.003061        191.846008\n",
      "5  Выходной  2667.750000   961.000000             2.761382        196.006287\n",
      "6  Выходной  2154.555556   822.777778             2.598522        201.171555\n"
     ]
    },
    {
     "data": {
      "image/png": "[encoded data removed]",
      "text/plain": [
       "<Figure size 1008x720 with 4 Axes>"
      ]
     },
     "metadata": {
      "needs_background": "light"
     },
     "output_type": "display_data"
    }
   ],
   "source": [
    "# Добавляем день недели и номер дня недели\n",
    "daily_stats['day_of_week'] = daily_stats['order_date'].dt.day_name()\n",
    "daily_stats['weekday_num'] = daily_stats['order_date'].dt.dayofweek\n",
    "\n",
    "# Определяем тип дня: будний или выходной\n",
    "daily_stats['day_type'] = daily_stats['weekday_num'].apply(lambda x: 'Будний' if x < 5 else 'Выходной')\n",
    "\n",
    "# Список дней недели в правильном порядке\n",
    "order_days = (\n",
    "    daily_stats[['day_of_week', 'weekday_num']]\n",
    "    .drop_duplicates()\n",
    "    .sort_values('weekday_num')['day_of_week']\n",
    "    .tolist() )\n",
    "\n",
    "# Группировка по дню недели, среднее\n",
    "weekly_agg = daily_stats.groupby(['weekday_num', 'day_of_week'], as_index=False).agg(\n",
    "    avg_orders=('orders_count', 'mean'),\n",
    "    avg_users=('unique_users', 'mean'),\n",
    "    avg_orders_per_user=('orders_per_user', 'mean'),\n",
    "    avg_ticket_price=('avg_ticket_price', 'mean'))\n",
    "\n",
    "\n",
    "day_type_df = daily_stats[['day_of_week', 'day_type']].drop_duplicates()\n",
    "weekly_summary = weekly_agg.merge(day_type_df, on='day_of_week', how='left')\n",
    "\n",
    "print(weekly_summary[['day_type', 'avg_orders', 'avg_users', 'avg_orders_per_user', 'avg_ticket_price']])\n",
    "\n",
    "# Палитра для будних и выходных\n",
    "palette = {'Будний': 'steelblue', 'Выходной': 'orange'}\n",
    "\n",
    "fig, axes = plt.subplots(2, 2, figsize=(14, 10))\n",
    "axes = axes.flatten()\n",
    "\n",
    "sns.barplot(data=weekly_summary, x='day_of_week', y='avg_orders', ax=axes[0], order=order_days, hue='day_type', palette=palette)\n",
    "axes[0].set_title('Среднее число заказов по дням недели')\n",
    "axes[0].set_ylabel('Среднее число заказов')\n",
    "axes[0].legend(title='Тип дня')\n",
    "\n",
    "sns.barplot(data=weekly_summary, x='day_of_week', y='avg_users', ax=axes[1], order=order_days, hue='day_type', palette=palette)\n",
    "axes[1].set_title('Среднее число активных пользователей по дням недели')\n",
    "axes[1].set_ylabel('Среднее число пользователей')\n",
    "axes[1].legend_.remove()\n",
    "\n",
    "sns.barplot(data=weekly_summary, x='day_of_week', y='avg_orders_per_user', ax=axes[2], order=order_days, hue='day_type', palette=palette)\n",
    "axes[2].set_title('Среднее число заказов на пользователя')\n",
    "axes[2].set_ylabel('Заказы на пользователя')\n",
    "axes[2].legend_.remove()\n",
    "\n",
    "sns.barplot(data=weekly_summary, x='day_of_week', y='avg_ticket_price', ax=axes[3], order=order_days, hue='day_type', palette=palette)\n",
    "axes[3].set_title('Средняя стоимость билета по дням недели')\n",
    "axes[3].set_ylabel('Средняя стоимость билета')\n",
    "axes[3].legend_.remove()\n",
    "\n",
    "for ax in axes:\n",
    "    ax.set_xlabel('')\n",
    "    ax.tick_params(axis='x', rotation=45)\n",
    "\n",
    "plt.tight_layout()\n",
    "plt.show()"
   ]
  },
  {
   "cell_type": "markdown",
   "metadata": {},
   "source": [
    "- В будние дни наблюдается более высокая активность пользователей — на 20% больше заказов и примерно на 6% больше уникальных пользователей, чем в выходные.\n",
    "- Среднее число заказов на пользователя в будни выше (3.07 против 2.68), что свидетельствует о более интенсивном использовании сервиса в рабочие дни.\n",
    "- В то же время, средняя стоимость билета выше в выходные (около 199 против 184 в будни), что может указывать на предпочтение более дорогих мероприятий или билетов в выходные дни.\n",
    "\n",
    "- По столбчатым графикам видно, что активность (число заказов и пользователей) имеет выраженные пики в середине недели (вторник, среда, четверг).\n",
    "- В понедельник и воскресенье активность заметно ниже.\n",
    "- Средняя стоимость билета показывает обратную тенденцию — она выше в выходные и немного ниже в будни, что подтверждает вывод о более дорогих билетах в выходные.\n",
    "\n",
    "Пользовательская активность и количество заказов выше в будние дни, что может быть связано с рабочим графиком и планированием досуга.\n",
    "\n",
    "В выходные наблюдается снижение активности, но при этом растёт средний чек, что говорит о покупке более дорогих билетов или посещении более премиальных мероприятий.\n",
    "\n",
    "Недельная цикличность выражена чётко: пики активности приходятся на середину недели, минимумы — на начало и конец.\n",
    "\n",
    "Для повышения эффективности маркетинговых кампаний стоит учитывать эти особенности: в будни — фокус на увеличение количества заказов и пользователей, в выходные — на повышение среднего чека и продвижение дорогих категорий билетов."
   ]
  },
  {
   "cell_type": "markdown",
   "metadata": {},
   "source": [
    "### Популярные события и партнёры"
   ]
  },
  {
   "cell_type": "code",
   "execution_count": 32,
   "metadata": {},
   "outputs": [
    {
     "name": "stdout",
     "output_type": "stream",
     "text": [
      "Регионы с наибольшим разнообразием мероприятий и объёмом заказов:\n",
      "                region_name  unique_events  orders_count  events_share  \\\n",
      "23       Каменевский регион           3910         46684      0.246284   \n",
      "59     Североярская область           2613         20718      0.164588   \n",
      "75      Широковская область            803          8715      0.050579   \n",
      "56     Светополянский округ            764          4779      0.048123   \n",
      "51      Речиновская область            529          3565      0.033321   \n",
      "60     Серебринская область            456          4467      0.028723   \n",
      "76      Яблоневская область            432          4199      0.027211   \n",
      "67     Тепляковская область            419          2485      0.026392   \n",
      "11     Горицветская область            406          3230      0.025573   \n",
      "63  Солнечноземская область            403          4228      0.025384   \n",
      "\n",
      "    orders_share  \n",
      "23      0.276841  \n",
      "59      0.122860  \n",
      "75      0.051681  \n",
      "56      0.028340  \n",
      "51      0.021141  \n",
      "60      0.026490  \n",
      "76      0.024901  \n",
      "67      0.014736  \n",
      "11      0.019154  \n",
      "63      0.025072  \n"
     ]
    }
   ],
   "source": [
    "# Общее число уникальных мероприятий и заказов в осеннем срезе\n",
    "total_unique_events = df_autumn['event_id'].nunique()\n",
    "total_orders = df_autumn['order_id'].count()\n",
    "total_revenue = df_autumn['revenue'].sum()\n",
    "\n",
    "# Анализ по регионам\n",
    "region_events = df_autumn.groupby('region_name')['event_id'].nunique().reset_index(name='unique_events')\n",
    "region_orders = df_autumn.groupby('region_name')['order_id'].count().reset_index(name='orders_count')\n",
    "\n",
    "region_summary = region_events.merge(region_orders, on='region_name')\n",
    "\n",
    "region_summary['events_share'] = region_summary['unique_events'] / total_unique_events\n",
    "region_summary['orders_share'] = region_summary['orders_count'] / total_orders\n",
    "\n",
    "region_summary = region_summary.sort_values(by='unique_events', ascending=False)\n",
    "\n",
    "print(\"Регионы с наибольшим разнообразием мероприятий и объёмом заказов:\")\n",
    "print(region_summary.head(10))"
   ]
  },
  {
   "cell_type": "code",
   "execution_count": 33,
   "metadata": {},
   "outputs": [
    {
     "data": {
      "image/png": "[encoded data removed]",
      "text/plain": [
       "<Figure size 864x432 with 1 Axes>"
      ]
     },
     "metadata": {
      "needs_background": "light"
     },
     "output_type": "display_data"
    },
    {
     "data": {
      "image/png": "[encoded data removed]",
      "text/plain": [
       "<Figure size 864x432 with 1 Axes>"
      ]
     },
     "metadata": {
      "needs_background": "light"
     },
     "output_type": "display_data"
    }
   ],
   "source": [
    "# Топ-10 регионов по уникальным мероприятиям\n",
    "top_regions_events = region_summary.head(10)\n",
    "\n",
    "plt.figure(figsize=(12, 6))\n",
    "sns.barplot(data=top_regions_events, x='region_name', y='unique_events', palette='viridis')\n",
    "plt.title('Топ-10 регионов по количеству уникальных мероприятий (осень)')\n",
    "plt.xlabel('Регион')\n",
    "plt.ylabel('Количество уникальных мероприятий')\n",
    "plt.xticks(rotation=45, ha='right', fontsize=10)  \n",
    "plt.tight_layout()\n",
    "plt.show()\n",
    "\n",
    "# Топ-10 регионов по количеству заказов\n",
    "top_regions_orders = region_summary.head(10)\n",
    "\n",
    "plt.figure(figsize=(12, 6))\n",
    "sns.barplot(data=top_regions_orders, x='region_name', y='orders_count', palette='magma')\n",
    "plt.title('Топ-10 регионов по количеству заказов (осень)')\n",
    "plt.xlabel('Регион')\n",
    "plt.ylabel('Количество заказов')\n",
    "plt.xticks(rotation=45)\n",
    "plt.tight_layout()\n",
    "plt.show()"
   ]
  },
  {
   "cell_type": "code",
   "execution_count": 34,
   "metadata": {},
   "outputs": [
    {
     "name": "stdout",
     "output_type": "stream",
     "text": [
      "\n",
      "Наиболее активные партнёры по количеству заказов и выручке:\n",
      "          service_name  unique_events  orders_count  total_revenue  \\\n",
      "3   Билеты без проблем           2847         32405   1.359507e+07   \n",
      "21         Лови билет!           3616         25794   1.038194e+07   \n",
      "5        Билеты в руки           2469         25728   7.613384e+06   \n",
      "24           Мой билет           1005         19416   1.163675e+07   \n",
      "25             Облачко           1409         15478   1.061105e+07   \n",
      "22       Лучшие билеты           1396         12432   1.676010e+06   \n",
      "8       Весь в билетах            599          9416   9.351279e+06   \n",
      "26           Прачечная            728          5798   2.548310e+06   \n",
      "30         Тебе билет!            859          3760   2.166179e+06   \n",
      "34              Яблоко            537          3473   2.763332e+06   \n",
      "\n",
      "    events_share  orders_share  revenue_share  \n",
      "3       0.179327      0.192165       0.161527  \n",
      "21      0.227765      0.152961       0.123351  \n",
      "5       0.155518      0.152570       0.090457  \n",
      "24      0.063303      0.115139       0.138260  \n",
      "25      0.088750      0.091786       0.126073  \n",
      "22      0.087931      0.073723       0.019913  \n",
      "8       0.037730      0.055838       0.111105  \n",
      "26      0.045855      0.034383       0.030277  \n",
      "30      0.054107      0.022297       0.025737  \n",
      "34      0.033825      0.020595       0.032832  \n"
     ]
    }
   ],
   "source": [
    "# Анализ по партнёрам (service_name)\n",
    "partner_events = df_autumn.groupby('service_name')['event_id'].nunique().reset_index(name='unique_events')\n",
    "partner_orders = df_autumn.groupby('service_name')['order_id'].count().reset_index(name='orders_count')\n",
    "partner_revenue = df_autumn.groupby('service_name')['revenue'].sum().reset_index(name='total_revenue')\n",
    "\n",
    "partner_summary = partner_events.merge(partner_orders, on='service_name').merge(partner_revenue, on='service_name')\n",
    "\n",
    "partner_summary['events_share'] = partner_summary['unique_events'] / total_unique_events\n",
    "partner_summary['orders_share'] = partner_summary['orders_count'] / total_orders\n",
    "partner_summary['revenue_share'] = partner_summary['total_revenue'] / total_revenue\n",
    "\n",
    "partner_summary = partner_summary.sort_values(by='orders_count', ascending=False)\n",
    "\n",
    "print(\"\\nНаиболее активные партнёры по количеству заказов и выручке:\")\n",
    "print(partner_summary.head(10))"
   ]
  },
  {
   "cell_type": "markdown",
   "metadata": {},
   "source": [
    "Регионы с наибольшим разнообразием мероприятий и объёмом заказов:\n",
    "- Каменевский регион — лидер по количеству уникальных мероприятий (3910, почти 25% от всех) и по заказам (46681, около 28% от всех заказов). Это ключевой регион с широкой и активной культурной жизнью.\n",
    "- Североярская область — второй по активности регион с 2613 мероприятиями и 20718 заказами, что составляет примерно 16% и 12% от общего объёма.\n",
    "- Далее идут регионы с существенно меньшим числом уникальных событий и заказов, но всё ещё заметным вкладом (например, Широковская область, Светополянский округ и др.).\n",
    "- Видно, что топ-2 региона концентрируют значительную долю и разнообразие мероприятий, а остальные регионы имеют более нишевую или локальную активность.\n",
    "\n",
    "Для стратегического развития стоит ориентироваться в первую очередь на Каменевский регион и Североярскую область — там и выбор событий шире, и спрос выше. Остальные регионы можно рассматривать как перспективные для расширения, но с меньшим текущим влиянием.\n",
    "\n",
    "Наиболее активные партнёры по количеству заказов и выручке:\n",
    "- «Билеты без проблем» — крупнейший партнёр по заказам (32404) и выручке (~13.6 млн), обрабатывает почти 18% всех уникальных мероприятий.\n",
    "- «Лови билет!» — обрабатывает больше уникальных событий (3616), но чуть меньше заказов и выручки, около 12% от общего оборота.\n",
    "- «Билеты в руки» и «Мой билет» — также крупные игроки с высокой выручкой и заказами.\n",
    "- «Мой билет» имеет относительно меньше уникальных мероприятий, но высокую выручку — возможно, специализируется на более дорогих или премиальных событиях.\n",
    "- Остальные партнёры имеют меньшую долю рынка, но всё равно вносят заметный вклад.\n",
    "\n",
    "Рынок билетных партнёров достаточно концентрирован — топ-4-5 партнёров контролируют значительную часть заказов и выручки. Для повышения продаж и оптимизации процессов стоит работать в первую очередь с этими крупными партнёрами, а также анализировать возможности расширения сотрудничества с перспективными средними игроками."
   ]
  },
  {
   "cell_type": "code",
   "execution_count": null,
   "metadata": {},
   "outputs": [],
   "source": []
  },
  {
   "cell_type": "markdown",
   "metadata": {},
   "source": [
    "## 4. Статистический анализ данных"
   ]
  },
  {
   "cell_type": "markdown",
   "metadata": {},
   "source": [
    "1 Гипотеза: \n",
    "\n",
    "**Среднее количество заказов на одного пользователя мобильного приложения выше, чем у пользователей стационарных устройств.**\n",
    "\n",
    "Нулевая гипотеза `H0: μ mobile = μ desktop` \n",
    "Среднее количество заказов на пользователя в мобильной группе равно среднему в стационарной группе.\n",
    "\n",
    "Альтернативная гипотеза `H1: μ mobile > μ desktop` \n",
    "Среднее количество заказов на пользователя в мобильной группе выше, чем в стационарной группе."
   ]
  },
  {
   "cell_type": "code",
   "execution_count": 35,
   "metadata": {
    "scrolled": true
   },
   "outputs": [
    {
     "name": "stdout",
     "output_type": "stream",
     "text": [
      "Число пользователей в мобильной выборке: 14192\n",
      "Число пользователей в десктопной выборке: 4868\n"
     ]
    }
   ],
   "source": [
    "# Количество заказов на пользователя\n",
    "orders_per_user = df_autumn.groupby(['user_id', 'device_type_canonical'])['order_id'].count().reset_index(name='orders_count')\n",
    "\n",
    "# Разделим группы\n",
    "mobile_orders = orders_per_user[orders_per_user['device_type_canonical'] == 'mobile']['orders_count']\n",
    "desktop_orders = orders_per_user[orders_per_user['device_type_canonical'] == 'desktop']['orders_count']\n",
    "\n",
    "# Найдем количество пользователей, сделавших заказы с мобильных устройств\n",
    "num_mobile_users = mobile_orders.shape[0]\n",
    "print(f\"Число пользователей в мобильной выборке: {num_mobile_users}\")\n",
    "\n",
    "# Подсчитаем количество пользователей, сделавших заказы с десктопов\n",
    "num_desktop_users = desktop_orders.shape[0]\n",
    "print(f\"Число пользователей в десктопной выборке: {num_desktop_users}\")"
   ]
  },
  {
   "cell_type": "code",
   "execution_count": 36,
   "metadata": {},
   "outputs": [
    {
     "name": "stdout",
     "output_type": "stream",
     "text": [
      "Количество пользователей, присутствующих в обеих группах: 3249\n",
      "Размер мобильной выборки после фильтрации: 10943\n",
      "Размер десктопной выборки после фильтрации: 1619\n"
     ]
    },
    {
     "data": {
      "image/png": "[encoded data removed]",
      "text/plain": [
       "<Figure size 1008x432 with 2 Axes>"
      ]
     },
     "metadata": {
      "needs_background": "light"
     },
     "output_type": "display_data"
    }
   ],
   "source": [
    "#Количество пользователей, присутствующих в обеих группах\n",
    "mobile_users = set(orders_per_user[orders_per_user['device_type_canonical'] == 'mobile']['user_id'])\n",
    "desktop_users = set(orders_per_user[orders_per_user['device_type_canonical'] == 'desktop']['user_id'])\n",
    "\n",
    "common_users = mobile_users.intersection(desktop_users)\n",
    "print(f\"Количество пользователей, присутствующих в обеих группах: {len(common_users)}\")\n",
    "\n",
    "# Отфильтруем данные, исключая общих пользователей\n",
    "orders_filtered = orders_per_user[~orders_per_user['user_id'].isin(common_users)]\n",
    "\n",
    "# Новые выборки\n",
    "mobile_orders_filtered = orders_filtered[orders_filtered['device_type_canonical'] == 'mobile']['orders_count']\n",
    "desktop_orders_filtered = orders_filtered[orders_filtered['device_type_canonical'] == 'desktop']['orders_count']\n",
    "\n",
    "print(f\"Размер мобильной выборки после фильтрации: {mobile_orders_filtered.shape[0]}\")\n",
    "print(f\"Размер десктопной выборки после фильтрации: {desktop_orders_filtered.shape[0]}\")\n",
    "\n",
    "# Проверим нормальность на графиках\n",
    "plt.figure(figsize=(14,6))\n",
    "\n",
    "# Ограничим диапазон по оси X, например, до 99-го процентили, чтобы убрать выбросы\n",
    "xlim_mobile = np.percentile(mobile_orders_filtered, 99)\n",
    "xlim_desktop = np.percentile(desktop_orders_filtered, 99)\n",
    "\n",
    "plt.subplot(1,2,1)\n",
    "sns.histplot(mobile_orders_filtered, bins=30, kde=True, color='skyblue', alpha=0.7)\n",
    "plt.title('Распределение количества заказов (мобильные, после фильтрации)')\n",
    "plt.xlim(0, xlim_mobile)\n",
    "plt.grid(True, linestyle='--', alpha=0.5)\n",
    "\n",
    "plt.subplot(1,2,2)\n",
    "sns.histplot(desktop_orders_filtered, bins=30, kde=True, color='salmon', alpha=0.7)\n",
    "plt.title('Распределение количества заказов (десктопы, после фильтрации)')\n",
    "plt.xlim(0, xlim_desktop)\n",
    "plt.grid(True, linestyle='--', alpha=0.5)\n",
    "\n",
    "plt.tight_layout()\n",
    "plt.show()"
   ]
  },
  {
   "cell_type": "markdown",
   "metadata": {},
   "source": [
    "Для сравнения групп лучше использовать непараметрические методы (тест Манна-Уитни), которые не требуют нормальности данных.\n",
    "\n",
    "Распределения явно не нормальные — они сильно скошены вправо, с большим числом нулевых или малых значений и длинным «хвостом» справа.\n",
    "Это подтверждает необходимость использовать непараметрический тест Манна-Уитни для сравнения средних."
   ]
  },
  {
   "cell_type": "code",
   "execution_count": 37,
   "metadata": {},
   "outputs": [
    {
     "name": "stdout",
     "output_type": "stream",
     "text": [
      "Манна-Уитни тест: статистика = 36111903.0, p-value = 0.0000\n"
     ]
    }
   ],
   "source": [
    "# Тест Манна-Уитни\n",
    "alpha = 0.05\n",
    "stat, p_value = mannwhitneyu(mobile_orders, desktop_orders, alternative='greater')\n",
    "print(f\"Манна-Уитни тест: статистика = {stat}, p-value = {p_value:.4f}\")"
   ]
  },
  {
   "cell_type": "markdown",
   "metadata": {},
   "source": [
    "При уровне значимости (например, 0.05) мы отвергаем нулевую гипотезу H0 и принимаем альтернативную гипотезу H1: среднее количество заказов на пользователя в мобильной выборке статистически значимо больше, чем в десктопной выборке.\n",
    "\n",
    "Данные подтверждают, что пользователи с мобильных устройств делают больше заказов, чем пользователи с десктопов."
   ]
  },
  {
   "cell_type": "markdown",
   "metadata": {},
   "source": [
    "2 Гипотеза: \n",
    "\n",
    "**Среднее время между заказами пользователей мобильных приложений выше, чем у пользователей стационарных устройств.**\n",
    "\n",
    "Нулевая гипотеза `H0: μ mobile = μ desktop` \n",
    "Среднее время между заказами в мобильной группе равно среднему в стационарной группе.\n",
    "\n",
    "Альтернативная гипотеза `H1: μ mobile > μ desktop`\n",
    "Среднее время между заказами в мобильной группе выше, чем в стационарной группе.\n"
   ]
  },
  {
   "cell_type": "code",
   "execution_count": 38,
   "metadata": {},
   "outputs": [
    {
     "name": "stdout",
     "output_type": "stream",
     "text": [
      "Количество пользователей, присутствующих в обеих группах: 1891\n",
      "Размер мобильной выборки после фильтрации: 25915\n",
      "Размер десктопной выборки после фильтрации: 2249\n"
     ]
    },
    {
     "data": {
      "image/png": "[encoded data removed]",
      "text/plain": [
       "<Figure size 1008x432 with 2 Axes>"
      ]
     },
     "metadata": {
      "needs_background": "light"
     },
     "output_type": "display_data"
    }
   ],
   "source": [
    "# Данные по пользователю, устройству и времени заказа\n",
    "df_sorted = df_autumn.sort_values(['user_id', 'device_type_canonical', 'order_date'])\n",
    "\n",
    "# Группируем и считаем разницу во времени между заказами для каждого пользователя и устройства\n",
    "df_sorted['time_diff'] = df_sorted.groupby(['user_id', 'device_type_canonical'])['order_date'].diff().dt.total_seconds() / 3600  # время в часах\n",
    "\n",
    "# Отфильтруем ненулевые значения (первый заказ у пользователя не имеет предыдущего)\n",
    "time_diffs = df_sorted.dropna(subset=['time_diff'])\n",
    "\n",
    "# Получим множество пользователей для каждого типа устройства\n",
    "mobile_users = set(time_diffs[time_diffs['device_type_canonical'] == 'mobile']['user_id'])\n",
    "desktop_users = set(time_diffs[time_diffs['device_type_canonical'] == 'desktop']['user_id'])\n",
    "\n",
    "# Пересекающиеся пользователи\n",
    "common_users = mobile_users.intersection(desktop_users)\n",
    "print(f\"Количество пользователей, присутствующих в обеих группах: {len(common_users)}\")\n",
    "\n",
    "# Исключим общих пользователей\n",
    "time_diffs_filtered = time_diffs[~time_diffs['user_id'].isin(common_users)]\n",
    "\n",
    "# Новые выборки по устройствам\n",
    "mobile_time_diffs_filtered = time_diffs_filtered[time_diffs_filtered['device_type_canonical'] == 'mobile']['time_diff']\n",
    "desktop_time_diffs_filtered = time_diffs_filtered[time_diffs_filtered['device_type_canonical'] == 'desktop']['time_diff']\n",
    "\n",
    "print(f\"Размер мобильной выборки после фильтрации: {mobile_time_diffs_filtered.shape[0]}\")\n",
    "print(f\"Размер десктопной выборки после фильтрации: {desktop_time_diffs_filtered.shape[0]}\")\n",
    "\n",
    "# Проверим нормальность на графиках\n",
    "plt.figure(figsize=(14, 6))\n",
    "\n",
    "# Определим границы по оси X\n",
    "xlim_mobile = mobile_time_diffs_filtered.max() * 1.05\n",
    "xlim_desktop = desktop_time_diffs_filtered.max() * 1.05\n",
    "xlim = max(xlim_mobile, xlim_desktop)\n",
    "\n",
    "plt.subplot(1, 2, 1)\n",
    "sns.histplot(mobile_time_diffs_filtered, bins=30, kde=True, color='skyblue', alpha=0.7)\n",
    "plt.title('Распределение времени между заказами (мобильные)')\n",
    "plt.xlim(0, xlim)\n",
    "plt.xlabel('Время между заказами (час)')\n",
    "plt.ylabel('Частота')\n",
    "plt.grid(True, linestyle='--', alpha=0.5)\n",
    "\n",
    "plt.subplot(1, 2, 2)\n",
    "sns.histplot(desktop_time_diffs_filtered, bins=30, kde=True, color='salmon', alpha=0.7)\n",
    "plt.title('Распределение времени между заказами (десктопы)')\n",
    "plt.xlim(0, xlim)\n",
    "plt.xlabel('Время между заказами (час)')\n",
    "plt.ylabel('Частота')\n",
    "plt.grid(True, linestyle='--', alpha=0.5)\n",
    "\n",
    "plt.tight_layout()\n",
    "plt.show()"
   ]
  },
  {
   "cell_type": "markdown",
   "metadata": {},
   "source": [
    "Графики подтверждают, что распределения схожи по форме и скошены вправо. Распределения времени между заказами для обеих групп сильно отклоняются от нормального — значит, применим непараметрический тест Манна-Уитни."
   ]
  },
  {
   "cell_type": "code",
   "execution_count": 39,
   "metadata": {},
   "outputs": [
    {
     "name": "stdout",
     "output_type": "stream",
     "text": [
      "Манна-Уитни тест: статистика = 35500720.0, p-value = 0.0000\n"
     ]
    }
   ],
   "source": [
    "# Тест Манна-Уитни\n",
    "alpha = 0.05\n",
    "stat, p_value = mannwhitneyu(mobile_time_diffs_filtered, desktop_time_diffs_filtered, alternative='greater')\n",
    "print(f\"Манна-Уитни тест: статистика = {stat}, p-value = {p_value:.4f}\")"
   ]
  },
  {
   "cell_type": "markdown",
   "metadata": {},
   "source": [
    "Значение p-value значительно меньше уровня значимости 0.05. Следовательно, нулевая гипотеза отвергается в пользу альтернативной гипотезы.\n",
    "\n",
    "Имеются статистически значимые доказательства того, что среднее время между заказами у пользователей мобильных приложений выше, чем у пользователей стационарных устройств.\n"
   ]
  },
  {
   "cell_type": "markdown",
   "metadata": {},
   "source": [
    "## Общий вывод и рекомендации"
   ]
  },
  {
   "cell_type": "markdown",
   "metadata": {},
   "source": [
    "В ходе анализа была изучена обширная выборка данных по заказам билетов на различные мероприятия, преимущественно в рублях (около 285 тысяч заказов) и в меньшем объёме в тенге (около 5 тысяч заказов). Данные отражают поведение пользователей на российском рынке и включают информацию о количестве билетов, выручке, типах мероприятий, сезонных изменениях, активности по устройствам, региональному распределению и партнёрским каналам.\n",
    "\n",
    "**Основные результаты анализа:**\n",
    "\n",
    "*Популярность мероприятий:*\n",
    "- Наиболее востребованы концерты и спортивные мероприятия, демонстрирующие устойчивый рост заказов, особенно осенью. \n",
    "- Категория «Другое» также показывает положительную динамику. Мероприятия с возрастными рейтингами 16 и 18 лет растут быстрее, что указывает на растущий интерес к событиям с возрастными ограничениями.\n",
    "\n",
    "*Сезонные изменения:*\n",
    "- Осенью наблюдается снижение средней стоимости билетов на концерты, театр и ёлки, при этом выставки и стендап наоборот подорожали. Это может быть связано с сезонным спросом, изменением ассортимента и ценовой политикой.\n",
    "\n",
    "*Пользовательская активность:*\n",
    "- Заказы с мобильных устройств значительно превышают заказы с десктопов и растут быстрее, что подчёркивает важность мобильного канала для продаж. \n",
    "- Активность пользователей выше в будние дни, с пиковыми значениями во вторник-четверг. В выходные дни средний чек выше, что говорит о покупке более дорогих билетов.\n",
    "\n",
    "*Региональные и партнёрские лидеры:*\n",
    "- Каменевский регион и Североярская область лидируют по количеству мероприятий и заказов, что делает их приоритетными для маркетинговых усилий. \n",
    "- Среди партнёров выделяются «Билеты без проблем», «Лови билет!», «Билеты в руки» и «Мой билет», контролирующие значительную долю рынка по заказам и выручке.\n",
    "\n",
    "*Результаты проверки гипотез:*\n",
    "- Подтверждена гипотеза о том, что пользователи мобильных устройств делают статистически значимо больше заказов, чем пользователи десктопов.\n",
    "- Гипотеза о том, что среднее время между заказами у мобильных пользователей выше, чем у десктопных, получила статистическое подтверждение — различия значимы.\n",
    "\n",
    "**Рекомендации:**\n",
    "- Уделять приоритетное внимание развитию и оптимизации мобильной платформы, учитывая её доминирующую роль в продажах.\n",
    "- Фокусироваться на продвижении концертов и спортивных мероприятий, особенно для аудитории 16+ и 18+, с учётом сезонных колебаний спроса.\n",
    "- Использовать данные о недельной и дневной цикличности активности для планирования маркетинговых кампаний: стимулировать количество заказов в будни и повышать средний чек в выходные.\n",
    "- Сосредоточить усилия на ключевых регионах (Каменевский и Североярская область) и крупных партнёрах для максимизации охвата и выручки.\n",
    "- Продолжать мониторинг ценовой политики и ассортимента, особенно в осенний период, чтобы адаптироваться к изменяющимся предпочтениям аудитории."
   ]
  },
  {
   "cell_type": "code",
   "execution_count": null,
   "metadata": {},
   "outputs": [],
   "source": []
  }
 ],
 "metadata": {
  "ExecuteTimeLog": [
   {
    "duration": 1255,
    "start_time": "2025-06-26T08:50:28.119Z"
   },
   {
    "duration": 2027,
    "start_time": "2025-06-26T08:51:13.365Z"
   },
   {
    "duration": 6595,
    "start_time": "2025-06-26T08:51:30.845Z"
   },
   {
    "duration": 1171,
    "start_time": "2025-06-26T08:51:54.570Z"
   },
   {
    "duration": 1517,
    "start_time": "2025-06-26T08:52:19.183Z"
   },
   {
    "duration": 86,
    "start_time": "2025-06-26T08:53:52.250Z"
   },
   {
    "duration": 1352,
    "start_time": "2025-06-26T09:04:51.851Z"
   },
   {
    "duration": 1268,
    "start_time": "2025-06-26T09:05:01.253Z"
   },
   {
    "duration": 1212,
    "start_time": "2025-06-26T09:06:09.297Z"
   },
   {
    "duration": 1171,
    "start_time": "2025-06-26T09:06:19.192Z"
   },
   {
    "duration": 1354,
    "start_time": "2025-06-26T09:06:30.222Z"
   },
   {
    "duration": 157,
    "start_time": "2025-06-26T09:10:52.602Z"
   },
   {
    "duration": 3,
    "start_time": "2025-06-26T09:11:04.561Z"
   },
   {
    "duration": 2711,
    "start_time": "2025-06-26T09:11:05.424Z"
   },
   {
    "duration": 87,
    "start_time": "2025-06-26T09:11:08.800Z"
   },
   {
    "duration": 70,
    "start_time": "2025-06-26T09:11:10.649Z"
   },
   {
    "duration": 293,
    "start_time": "2025-06-26T09:11:33.503Z"
   },
   {
    "duration": 372,
    "start_time": "2025-06-26T09:11:43.894Z"
   },
   {
    "duration": 18,
    "start_time": "2025-06-26T09:12:27.597Z"
   },
   {
    "duration": 71,
    "start_time": "2025-06-26T09:19:06.845Z"
   },
   {
    "duration": 64,
    "start_time": "2025-06-26T09:19:16.540Z"
   },
   {
    "duration": 54,
    "start_time": "2025-06-26T09:19:25.779Z"
   },
   {
    "duration": 54,
    "start_time": "2025-06-26T09:19:35.660Z"
   },
   {
    "duration": 56,
    "start_time": "2025-06-26T09:19:50.809Z"
   },
   {
    "duration": 66,
    "start_time": "2025-06-26T09:33:46.554Z"
   },
   {
    "duration": 2,
    "start_time": "2025-06-26T09:33:56.672Z"
   },
   {
    "duration": 1937,
    "start_time": "2025-06-26T09:33:57.168Z"
   },
   {
    "duration": 100,
    "start_time": "2025-06-26T09:33:59.784Z"
   },
   {
    "duration": 1036,
    "start_time": "2025-06-26T09:34:00.713Z"
   },
   {
    "duration": 20,
    "start_time": "2025-06-26T09:34:02.440Z"
   },
   {
    "duration": 93,
    "start_time": "2025-06-26T09:34:04.487Z"
   },
   {
    "duration": 1416,
    "start_time": "2025-06-26T09:38:49.635Z"
   },
   {
    "duration": 30,
    "start_time": "2025-06-26T09:40:25.931Z"
   },
   {
    "duration": 26,
    "start_time": "2025-06-26T09:40:42.025Z"
   },
   {
    "duration": 217,
    "start_time": "2025-06-26T09:41:34.590Z"
   },
   {
    "duration": 291,
    "start_time": "2025-06-26T09:41:57.444Z"
   },
   {
    "duration": 228,
    "start_time": "2025-06-26T09:42:12.979Z"
   },
   {
    "duration": 336,
    "start_time": "2025-06-26T09:42:35.617Z"
   },
   {
    "duration": 234,
    "start_time": "2025-06-26T09:42:46.456Z"
   },
   {
    "duration": 3,
    "start_time": "2025-06-26T09:44:17.088Z"
   },
   {
    "duration": 451,
    "start_time": "2025-06-26T09:45:37.051Z"
   },
   {
    "duration": 405,
    "start_time": "2025-06-26T09:46:47.045Z"
   },
   {
    "duration": 393,
    "start_time": "2025-06-26T09:47:25.770Z"
   },
   {
    "duration": 2046,
    "start_time": "2025-06-26T09:49:05.163Z"
   },
   {
    "duration": 171,
    "start_time": "2025-06-26T09:50:04.710Z"
   },
   {
    "duration": 621,
    "start_time": "2025-06-26T09:50:21.460Z"
   },
   {
    "duration": 13,
    "start_time": "2025-06-26T09:50:40.515Z"
   },
   {
    "duration": 8093,
    "start_time": "2025-06-26T09:51:01.571Z"
   },
   {
    "duration": 284,
    "start_time": "2025-06-26T09:51:37.134Z"
   },
   {
    "duration": 281,
    "start_time": "2025-06-26T09:52:00.660Z"
   },
   {
    "duration": 23,
    "start_time": "2025-06-26T09:52:12.307Z"
   },
   {
    "duration": 310,
    "start_time": "2025-06-26T09:56:05.905Z"
   },
   {
    "duration": 303,
    "start_time": "2025-06-26T09:56:14.912Z"
   },
   {
    "duration": 1045,
    "start_time": "2025-06-26T09:56:28.511Z"
   },
   {
    "duration": 1726,
    "start_time": "2025-06-26T09:56:29.558Z"
   },
   {
    "duration": 113,
    "start_time": "2025-06-26T09:56:31.288Z"
   },
   {
    "duration": 341,
    "start_time": "2025-06-26T09:56:31.404Z"
   },
   {
    "duration": 18,
    "start_time": "2025-06-26T09:56:31.746Z"
   },
   {
    "duration": 88,
    "start_time": "2025-06-26T09:56:31.765Z"
   },
   {
    "duration": 364,
    "start_time": "2025-06-26T09:56:31.854Z"
   },
   {
    "duration": 449,
    "start_time": "2025-06-26T09:56:32.220Z"
   },
   {
    "duration": 403,
    "start_time": "2025-06-26T09:56:32.671Z"
   },
   {
    "duration": 2021,
    "start_time": "2025-06-26T09:56:33.076Z"
   },
   {
    "duration": 164,
    "start_time": "2025-06-26T09:56:35.098Z"
   },
   {
    "duration": 627,
    "start_time": "2025-06-26T09:56:35.264Z"
   },
   {
    "duration": 13,
    "start_time": "2025-06-26T09:56:35.894Z"
   },
   {
    "duration": 7848,
    "start_time": "2025-06-26T09:56:35.909Z"
   },
   {
    "duration": 279,
    "start_time": "2025-06-26T09:56:43.761Z"
   },
   {
    "duration": 33,
    "start_time": "2025-06-26T09:56:44.042Z"
   },
   {
    "duration": 184,
    "start_time": "2025-06-26T09:56:54.246Z"
   },
   {
    "duration": 212,
    "start_time": "2025-06-26T09:57:01.966Z"
   },
   {
    "duration": 198,
    "start_time": "2025-06-26T09:59:12.619Z"
   },
   {
    "duration": 397,
    "start_time": "2025-06-26T10:01:30.360Z"
   },
   {
    "duration": 1983,
    "start_time": "2025-06-26T10:05:04.920Z"
   },
   {
    "duration": 218,
    "start_time": "2025-06-26T10:06:54.440Z"
   },
   {
    "duration": 422,
    "start_time": "2025-06-26T10:06:57.095Z"
   },
   {
    "duration": 1227,
    "start_time": "2025-06-26T10:07:29.652Z"
   },
   {
    "duration": 2477,
    "start_time": "2025-06-26T10:07:30.882Z"
   },
   {
    "duration": 115,
    "start_time": "2025-06-26T10:07:33.362Z"
   },
   {
    "duration": 398,
    "start_time": "2025-06-26T10:07:33.479Z"
   },
   {
    "duration": 17,
    "start_time": "2025-06-26T10:07:33.880Z"
   },
   {
    "duration": 78,
    "start_time": "2025-06-26T10:07:33.899Z"
   },
   {
    "duration": 433,
    "start_time": "2025-06-26T10:07:33.979Z"
   },
   {
    "duration": 382,
    "start_time": "2025-06-26T10:07:34.413Z"
   },
   {
    "duration": 472,
    "start_time": "2025-06-26T10:07:34.797Z"
   },
   {
    "duration": 2038,
    "start_time": "2025-06-26T10:07:35.271Z"
   },
   {
    "duration": 176,
    "start_time": "2025-06-26T10:07:37.311Z"
   },
   {
    "duration": 693,
    "start_time": "2025-06-26T10:07:37.489Z"
   },
   {
    "duration": 14,
    "start_time": "2025-06-26T10:07:38.184Z"
   },
   {
    "duration": 8422,
    "start_time": "2025-06-26T10:07:38.201Z"
   },
   {
    "duration": 316,
    "start_time": "2025-06-26T10:07:46.625Z"
   },
   {
    "duration": 36,
    "start_time": "2025-06-26T10:07:46.944Z"
   },
   {
    "duration": 229,
    "start_time": "2025-06-26T10:10:04.922Z"
   },
   {
    "duration": 432,
    "start_time": "2025-06-26T10:10:10.000Z"
   },
   {
    "duration": 422,
    "start_time": "2025-06-26T10:11:33.971Z"
   },
   {
    "duration": 388,
    "start_time": "2025-06-26T10:12:31.597Z"
   },
   {
    "duration": 1160,
    "start_time": "2025-06-26T10:12:39.807Z"
   },
   {
    "duration": 27552,
    "start_time": "2025-06-26T10:12:40.969Z"
   },
   {
    "duration": 109,
    "start_time": "2025-06-26T10:13:08.523Z"
   },
   {
    "duration": 1207,
    "start_time": "2025-06-26T10:13:08.633Z"
   },
   {
    "duration": 23,
    "start_time": "2025-06-26T10:13:09.842Z"
   },
   {
    "duration": 86,
    "start_time": "2025-06-26T10:13:09.867Z"
   },
   {
    "duration": 403,
    "start_time": "2025-06-26T10:13:09.955Z"
   },
   {
    "duration": 354,
    "start_time": "2025-06-26T10:13:10.360Z"
   },
   {
    "duration": 359,
    "start_time": "2025-06-26T10:13:10.715Z"
   },
   {
    "duration": 0,
    "start_time": "2025-06-26T10:13:11.075Z"
   },
   {
    "duration": 0,
    "start_time": "2025-06-26T10:13:11.076Z"
   },
   {
    "duration": 0,
    "start_time": "2025-06-26T10:13:11.077Z"
   },
   {
    "duration": 0,
    "start_time": "2025-06-26T10:13:11.078Z"
   },
   {
    "duration": 0,
    "start_time": "2025-06-26T10:13:11.079Z"
   },
   {
    "duration": 0,
    "start_time": "2025-06-26T10:13:11.080Z"
   },
   {
    "duration": 0,
    "start_time": "2025-06-26T10:13:11.081Z"
   },
   {
    "duration": 254,
    "start_time": "2025-06-26T10:13:35.038Z"
   },
   {
    "duration": 260,
    "start_time": "2025-06-26T10:14:17.850Z"
   },
   {
    "duration": 408,
    "start_time": "2025-06-26T10:15:10.805Z"
   },
   {
    "duration": 2016,
    "start_time": "2025-06-26T10:17:00.814Z"
   },
   {
    "duration": 169,
    "start_time": "2025-06-26T10:24:45.787Z"
   },
   {
    "duration": 751,
    "start_time": "2025-06-26T10:29:20.006Z"
   },
   {
    "duration": 676,
    "start_time": "2025-06-26T10:29:48.787Z"
   },
   {
    "duration": 14,
    "start_time": "2025-06-26T10:31:15.397Z"
   },
   {
    "duration": 7,
    "start_time": "2025-06-26T10:31:22.436Z"
   },
   {
    "duration": 8200,
    "start_time": "2025-06-26T10:31:28.507Z"
   },
   {
    "duration": 290,
    "start_time": "2025-06-26T10:31:36.709Z"
   },
   {
    "duration": 23,
    "start_time": "2025-06-26T10:31:41.570Z"
   },
   {
    "duration": 222,
    "start_time": "2025-06-26T10:36:38.972Z"
   },
   {
    "duration": 390,
    "start_time": "2025-06-26T10:36:40.506Z"
   },
   {
    "duration": 1920,
    "start_time": "2025-06-26T10:36:42.054Z"
   },
   {
    "duration": 139,
    "start_time": "2025-06-26T10:36:46.362Z"
   },
   {
    "duration": 634,
    "start_time": "2025-06-26T10:36:47.930Z"
   },
   {
    "duration": 12,
    "start_time": "2025-06-26T10:36:55.251Z"
   },
   {
    "duration": 16,
    "start_time": "2025-06-26T10:37:08.785Z"
   },
   {
    "duration": 13,
    "start_time": "2025-06-26T10:37:21.203Z"
   },
   {
    "duration": 1101,
    "start_time": "2025-06-26T10:37:34.561Z"
   },
   {
    "duration": 1700,
    "start_time": "2025-06-26T10:37:35.664Z"
   },
   {
    "duration": 103,
    "start_time": "2025-06-26T10:37:37.365Z"
   },
   {
    "duration": 451,
    "start_time": "2025-06-26T10:37:37.470Z"
   },
   {
    "duration": 29,
    "start_time": "2025-06-26T10:37:37.923Z"
   },
   {
    "duration": 99,
    "start_time": "2025-06-26T10:37:37.955Z"
   },
   {
    "duration": 375,
    "start_time": "2025-06-26T10:37:38.056Z"
   },
   {
    "duration": 342,
    "start_time": "2025-06-26T10:37:38.432Z"
   },
   {
    "duration": 226,
    "start_time": "2025-06-26T10:37:38.775Z"
   },
   {
    "duration": 395,
    "start_time": "2025-06-26T10:37:39.002Z"
   },
   {
    "duration": 1910,
    "start_time": "2025-06-26T10:37:39.398Z"
   },
   {
    "duration": 157,
    "start_time": "2025-06-26T10:37:41.310Z"
   },
   {
    "duration": 625,
    "start_time": "2025-06-26T10:37:41.468Z"
   },
   {
    "duration": 15,
    "start_time": "2025-06-26T10:37:42.096Z"
   },
   {
    "duration": 7932,
    "start_time": "2025-06-26T10:37:42.113Z"
   },
   {
    "duration": 1469,
    "start_time": "2025-06-26T10:37:50.047Z"
   },
   {
    "duration": 0,
    "start_time": "2025-06-26T10:37:51.517Z"
   },
   {
    "duration": 116,
    "start_time": "2025-06-26T10:38:11.157Z"
   },
   {
    "duration": 636,
    "start_time": "2025-06-26T10:38:36.106Z"
   },
   {
    "duration": 14,
    "start_time": "2025-06-26T10:39:09.832Z"
   },
   {
    "duration": 15,
    "start_time": "2025-06-26T10:39:25.294Z"
   },
   {
    "duration": 1263,
    "start_time": "2025-06-26T10:40:06.972Z"
   },
   {
    "duration": 22,
    "start_time": "2025-06-26T10:40:12.858Z"
   },
   {
    "duration": 1226,
    "start_time": "2025-06-26T10:40:27.348Z"
   },
   {
    "duration": 2117,
    "start_time": "2025-06-26T10:40:28.576Z"
   },
   {
    "duration": 103,
    "start_time": "2025-06-26T10:40:30.696Z"
   },
   {
    "duration": 291,
    "start_time": "2025-06-26T10:40:30.802Z"
   },
   {
    "duration": 18,
    "start_time": "2025-06-26T10:40:31.094Z"
   },
   {
    "duration": 68,
    "start_time": "2025-06-26T10:40:31.113Z"
   },
   {
    "duration": 374,
    "start_time": "2025-06-26T10:40:31.183Z"
   },
   {
    "duration": 352,
    "start_time": "2025-06-26T10:40:31.563Z"
   },
   {
    "duration": 229,
    "start_time": "2025-06-26T10:40:31.917Z"
   },
   {
    "duration": 409,
    "start_time": "2025-06-26T10:40:32.148Z"
   },
   {
    "duration": 2002,
    "start_time": "2025-06-26T10:40:32.562Z"
   },
   {
    "duration": 166,
    "start_time": "2025-06-26T10:40:34.566Z"
   },
   {
    "duration": 666,
    "start_time": "2025-06-26T10:40:34.735Z"
   },
   {
    "duration": 17,
    "start_time": "2025-06-26T10:40:35.403Z"
   },
   {
    "duration": 8251,
    "start_time": "2025-06-26T10:40:35.422Z"
   },
   {
    "duration": 1445,
    "start_time": "2025-06-26T10:40:43.675Z"
   },
   {
    "duration": 0,
    "start_time": "2025-06-26T10:40:45.122Z"
   },
   {
    "duration": 6,
    "start_time": "2025-06-26T10:43:02.338Z"
   },
   {
    "duration": 14,
    "start_time": "2025-06-26T10:43:04.145Z"
   },
   {
    "duration": 3758,
    "start_time": "2025-06-26T10:44:03.189Z"
   },
   {
    "duration": 8113,
    "start_time": "2025-06-26T10:45:35.462Z"
   },
   {
    "duration": 289,
    "start_time": "2025-06-26T10:45:43.577Z"
   },
   {
    "duration": 22,
    "start_time": "2025-06-26T10:45:46.276Z"
   },
   {
    "duration": 12,
    "start_time": "2025-06-26T10:46:46.081Z"
   },
   {
    "duration": 3551,
    "start_time": "2025-06-26T10:47:26.365Z"
   },
   {
    "duration": 301,
    "start_time": "2025-06-26T10:47:31.317Z"
   },
   {
    "duration": 24,
    "start_time": "2025-06-26T10:47:35.041Z"
   },
   {
    "duration": 1164,
    "start_time": "2025-06-26T10:48:15.198Z"
   },
   {
    "duration": 2292,
    "start_time": "2025-06-26T10:48:16.364Z"
   },
   {
    "duration": 100,
    "start_time": "2025-06-26T10:48:18.662Z"
   },
   {
    "duration": 334,
    "start_time": "2025-06-26T10:48:18.764Z"
   },
   {
    "duration": 17,
    "start_time": "2025-06-26T10:48:19.100Z"
   },
   {
    "duration": 53,
    "start_time": "2025-06-26T10:48:19.118Z"
   },
   {
    "duration": 362,
    "start_time": "2025-06-26T10:48:19.173Z"
   },
   {
    "duration": 342,
    "start_time": "2025-06-26T10:48:19.537Z"
   },
   {
    "duration": 225,
    "start_time": "2025-06-26T10:48:19.881Z"
   },
   {
    "duration": 397,
    "start_time": "2025-06-26T10:48:20.109Z"
   },
   {
    "duration": 1947,
    "start_time": "2025-06-26T10:48:20.508Z"
   },
   {
    "duration": 161,
    "start_time": "2025-06-26T10:48:22.456Z"
   },
   {
    "duration": 643,
    "start_time": "2025-06-26T10:48:22.619Z"
   },
   {
    "duration": 15,
    "start_time": "2025-06-26T10:48:23.263Z"
   },
   {
    "duration": 7956,
    "start_time": "2025-06-26T10:48:23.279Z"
   },
   {
    "duration": 284,
    "start_time": "2025-06-26T10:48:31.236Z"
   },
   {
    "duration": 21,
    "start_time": "2025-06-26T10:48:31.522Z"
   },
   {
    "duration": 102,
    "start_time": "2025-06-26T10:48:41.060Z"
   },
   {
    "duration": 1070,
    "start_time": "2025-06-26T10:48:46.920Z"
   },
   {
    "duration": 1399,
    "start_time": "2025-06-26T10:48:47.992Z"
   },
   {
    "duration": 103,
    "start_time": "2025-06-26T10:48:49.393Z"
   },
   {
    "duration": 396,
    "start_time": "2025-06-26T10:48:49.498Z"
   },
   {
    "duration": 17,
    "start_time": "2025-06-26T10:48:49.896Z"
   },
   {
    "duration": 56,
    "start_time": "2025-06-26T10:48:49.915Z"
   },
   {
    "duration": 381,
    "start_time": "2025-06-26T10:48:49.973Z"
   },
   {
    "duration": 343,
    "start_time": "2025-06-26T10:48:50.355Z"
   },
   {
    "duration": 220,
    "start_time": "2025-06-26T10:48:50.700Z"
   },
   {
    "duration": 410,
    "start_time": "2025-06-26T10:48:50.922Z"
   },
   {
    "duration": 1937,
    "start_time": "2025-06-26T10:48:51.333Z"
   },
   {
    "duration": 155,
    "start_time": "2025-06-26T10:48:53.271Z"
   },
   {
    "duration": 624,
    "start_time": "2025-06-26T10:48:53.428Z"
   },
   {
    "duration": 15,
    "start_time": "2025-06-26T10:48:54.063Z"
   },
   {
    "duration": 8122,
    "start_time": "2025-06-26T10:48:54.080Z"
   },
   {
    "duration": 299,
    "start_time": "2025-06-26T10:49:02.203Z"
   },
   {
    "duration": 21,
    "start_time": "2025-06-26T10:49:02.504Z"
   },
   {
    "duration": 2,
    "start_time": "2025-06-26T10:52:25.662Z"
   },
   {
    "duration": 220,
    "start_time": "2025-06-26T10:57:04.937Z"
   },
   {
    "duration": 269,
    "start_time": "2025-06-26T10:57:33.110Z"
   },
   {
    "duration": 5,
    "start_time": "2025-06-26T10:59:20.359Z"
   },
   {
    "duration": 252,
    "start_time": "2025-06-26T10:59:58.140Z"
   },
   {
    "duration": 252,
    "start_time": "2025-06-26T11:00:29.696Z"
   },
   {
    "duration": 257,
    "start_time": "2025-06-26T11:00:45.010Z"
   },
   {
    "duration": 88,
    "start_time": "2025-06-26T11:02:39.583Z"
   },
   {
    "duration": 781,
    "start_time": "2025-06-26T11:03:25.517Z"
   },
   {
    "duration": 306,
    "start_time": "2025-06-26T11:06:17.031Z"
   },
   {
    "duration": 228,
    "start_time": "2025-06-26T11:06:18.646Z"
   },
   {
    "duration": 258,
    "start_time": "2025-06-26T11:06:19.687Z"
   },
   {
    "duration": 89,
    "start_time": "2025-06-26T11:07:55.703Z"
   },
   {
    "duration": 256,
    "start_time": "2025-06-26T11:09:08.153Z"
   },
   {
    "duration": 237,
    "start_time": "2025-06-26T11:09:23.016Z"
   },
   {
    "duration": 314,
    "start_time": "2025-06-26T11:09:28.720Z"
   },
   {
    "duration": 213,
    "start_time": "2025-06-26T11:12:32.162Z"
   },
   {
    "duration": 1104,
    "start_time": "2025-06-26T11:15:38.819Z"
   },
   {
    "duration": 586,
    "start_time": "2025-06-26T11:15:55.962Z"
   },
   {
    "duration": 556,
    "start_time": "2025-06-26T11:16:16.087Z"
   },
   {
    "duration": 252,
    "start_time": "2025-06-26T11:16:27.728Z"
   },
   {
    "duration": 922,
    "start_time": "2025-06-26T11:16:32.903Z"
   },
   {
    "duration": 1269,
    "start_time": "2025-06-26T11:18:32.046Z"
   },
   {
    "duration": 1118,
    "start_time": "2025-06-26T11:19:33.218Z"
   },
   {
    "duration": 336,
    "start_time": "2025-06-26T11:20:39.908Z"
   },
   {
    "duration": 525,
    "start_time": "2025-06-26T11:20:45.716Z"
   },
   {
    "duration": 263,
    "start_time": "2025-06-26T11:20:56.859Z"
   },
   {
    "duration": 303,
    "start_time": "2025-06-26T11:21:01.218Z"
   },
   {
    "duration": 109,
    "start_time": "2025-06-26T11:28:02.835Z"
   },
   {
    "duration": 114,
    "start_time": "2025-06-26T11:28:28.960Z"
   },
   {
    "duration": 855,
    "start_time": "2025-06-26T11:28:32.753Z"
   },
   {
    "duration": 752,
    "start_time": "2025-06-26T11:28:50.560Z"
   },
   {
    "duration": 745,
    "start_time": "2025-06-26T11:28:56.784Z"
   },
   {
    "duration": 145,
    "start_time": "2025-06-26T11:38:31.186Z"
   },
   {
    "duration": 989,
    "start_time": "2025-06-26T11:38:50.962Z"
   },
   {
    "duration": 859,
    "start_time": "2025-06-26T11:41:15.861Z"
   },
   {
    "duration": 17,
    "start_time": "2025-06-26T11:42:15.567Z"
   },
   {
    "duration": 974,
    "start_time": "2025-06-26T11:42:59.837Z"
   },
   {
    "duration": 15,
    "start_time": "2025-06-26T11:43:02.317Z"
   },
   {
    "duration": 1070,
    "start_time": "2025-06-26T11:43:31.492Z"
   },
   {
    "duration": 1402,
    "start_time": "2025-06-26T11:43:32.564Z"
   },
   {
    "duration": 102,
    "start_time": "2025-06-26T11:43:33.967Z"
   },
   {
    "duration": 489,
    "start_time": "2025-06-26T11:43:34.071Z"
   },
   {
    "duration": 17,
    "start_time": "2025-06-26T11:43:34.562Z"
   },
   {
    "duration": 111,
    "start_time": "2025-06-26T11:43:34.581Z"
   },
   {
    "duration": 356,
    "start_time": "2025-06-26T11:43:34.694Z"
   },
   {
    "duration": 337,
    "start_time": "2025-06-26T11:43:35.052Z"
   },
   {
    "duration": 219,
    "start_time": "2025-06-26T11:43:35.391Z"
   },
   {
    "duration": 403,
    "start_time": "2025-06-26T11:43:35.614Z"
   },
   {
    "duration": 1923,
    "start_time": "2025-06-26T11:43:36.019Z"
   },
   {
    "duration": 166,
    "start_time": "2025-06-26T11:43:37.944Z"
   },
   {
    "duration": 621,
    "start_time": "2025-06-26T11:43:38.111Z"
   },
   {
    "duration": 15,
    "start_time": "2025-06-26T11:43:38.733Z"
   },
   {
    "duration": 7720,
    "start_time": "2025-06-26T11:43:38.749Z"
   },
   {
    "duration": 279,
    "start_time": "2025-06-26T11:43:46.471Z"
   },
   {
    "duration": 29,
    "start_time": "2025-06-26T11:43:46.751Z"
   },
   {
    "duration": 391,
    "start_time": "2025-06-26T11:43:46.782Z"
   },
   {
    "duration": 333,
    "start_time": "2025-06-26T11:43:47.175Z"
   },
   {
    "duration": 242,
    "start_time": "2025-06-26T11:43:47.509Z"
   },
   {
    "duration": 293,
    "start_time": "2025-06-26T11:43:47.752Z"
   },
   {
    "duration": 546,
    "start_time": "2025-06-26T11:43:48.047Z"
   },
   {
    "duration": 310,
    "start_time": "2025-06-26T11:43:48.594Z"
   },
   {
    "duration": 310,
    "start_time": "2025-06-26T11:43:48.906Z"
   },
   {
    "duration": 725,
    "start_time": "2025-06-26T11:43:49.217Z"
   },
   {
    "duration": 967,
    "start_time": "2025-06-26T11:43:49.944Z"
   },
   {
    "duration": 99,
    "start_time": "2025-06-26T11:43:50.912Z"
   },
   {
    "duration": 57,
    "start_time": "2025-06-26T11:45:00.763Z"
   },
   {
    "duration": 897,
    "start_time": "2025-06-26T11:45:41.960Z"
   },
   {
    "duration": 1145,
    "start_time": "2025-06-26T11:45:44.648Z"
   },
   {
    "duration": 1084,
    "start_time": "2025-06-26T11:46:53.091Z"
   },
   {
    "duration": 169,
    "start_time": "2025-06-26T11:56:36.349Z"
   },
   {
    "duration": 99,
    "start_time": "2025-06-26T12:01:32.095Z"
   },
   {
    "duration": 7,
    "start_time": "2025-06-26T12:01:45.117Z"
   },
   {
    "duration": 64,
    "start_time": "2025-06-26T12:02:05.772Z"
   },
   {
    "duration": 77,
    "start_time": "2025-06-26T12:02:21.810Z"
   },
   {
    "duration": 12,
    "start_time": "2025-06-26T12:13:18.161Z"
   },
   {
    "duration": 49,
    "start_time": "2025-06-26T12:13:40.479Z"
   },
   {
    "duration": 3,
    "start_time": "2025-06-26T12:14:01.813Z"
   },
   {
    "duration": 51,
    "start_time": "2025-06-26T12:14:14.171Z"
   },
   {
    "duration": 46,
    "start_time": "2025-06-26T12:20:22.152Z"
   },
   {
    "duration": 15,
    "start_time": "2025-06-26T12:22:16.087Z"
   },
   {
    "duration": 52,
    "start_time": "2025-06-26T12:23:42.496Z"
   },
   {
    "duration": 53,
    "start_time": "2025-06-26T12:26:18.870Z"
   },
   {
    "duration": 17,
    "start_time": "2025-06-26T12:26:20.562Z"
   },
   {
    "duration": 16,
    "start_time": "2025-06-26T12:28:42.065Z"
   },
   {
    "duration": 13,
    "start_time": "2025-06-26T12:35:14.002Z"
   },
   {
    "duration": 3497,
    "start_time": "2025-06-26T12:36:00.151Z"
   },
   {
    "duration": 82,
    "start_time": "2025-06-26T12:38:48.586Z"
   },
   {
    "duration": 1152,
    "start_time": "2025-06-26T12:45:43.551Z"
   },
   {
    "duration": 1860,
    "start_time": "2025-06-26T12:45:44.705Z"
   },
   {
    "duration": 103,
    "start_time": "2025-06-26T12:45:46.567Z"
   },
   {
    "duration": 362,
    "start_time": "2025-06-26T12:45:46.672Z"
   },
   {
    "duration": 27,
    "start_time": "2025-06-26T12:45:47.035Z"
   },
   {
    "duration": 367,
    "start_time": "2025-06-26T12:45:47.063Z"
   },
   {
    "duration": 370,
    "start_time": "2025-06-26T12:45:47.432Z"
   },
   {
    "duration": 368,
    "start_time": "2025-06-26T12:45:47.804Z"
   },
   {
    "duration": 223,
    "start_time": "2025-06-26T12:45:48.174Z"
   },
   {
    "duration": 393,
    "start_time": "2025-06-26T12:45:48.399Z"
   },
   {
    "duration": 1979,
    "start_time": "2025-06-26T12:45:48.794Z"
   },
   {
    "duration": 158,
    "start_time": "2025-06-26T12:45:50.775Z"
   },
   {
    "duration": 643,
    "start_time": "2025-06-26T12:45:50.934Z"
   },
   {
    "duration": 15,
    "start_time": "2025-06-26T12:45:51.578Z"
   },
   {
    "duration": 7775,
    "start_time": "2025-06-26T12:45:51.595Z"
   },
   {
    "duration": 285,
    "start_time": "2025-06-26T12:45:59.372Z"
   },
   {
    "duration": 26,
    "start_time": "2025-06-26T12:45:59.662Z"
   },
   {
    "duration": 420,
    "start_time": "2025-06-26T12:45:59.690Z"
   },
   {
    "duration": 326,
    "start_time": "2025-06-26T12:46:00.111Z"
   },
   {
    "duration": 254,
    "start_time": "2025-06-26T12:46:00.439Z"
   },
   {
    "duration": 287,
    "start_time": "2025-06-26T12:46:00.695Z"
   },
   {
    "duration": 589,
    "start_time": "2025-06-26T12:46:00.984Z"
   },
   {
    "duration": 255,
    "start_time": "2025-06-26T12:46:01.575Z"
   },
   {
    "duration": 301,
    "start_time": "2025-06-26T12:46:01.832Z"
   },
   {
    "duration": 780,
    "start_time": "2025-06-26T12:46:02.134Z"
   },
   {
    "duration": 972,
    "start_time": "2025-06-26T12:46:02.915Z"
   },
   {
    "duration": 1078,
    "start_time": "2025-06-26T12:46:03.889Z"
   },
   {
    "duration": 60,
    "start_time": "2025-06-26T12:46:04.969Z"
   },
   {
    "duration": 87,
    "start_time": "2025-06-26T12:46:05.031Z"
   },
   {
    "duration": 55,
    "start_time": "2025-06-26T12:46:05.120Z"
   },
   {
    "duration": 91,
    "start_time": "2025-06-26T12:46:05.177Z"
   },
   {
    "duration": 3193,
    "start_time": "2025-06-26T12:46:05.269Z"
   },
   {
    "duration": 81,
    "start_time": "2025-06-26T12:46:08.463Z"
   },
   {
    "duration": 2,
    "start_time": "2025-06-26T12:47:36.017Z"
   },
   {
    "duration": 48,
    "start_time": "2025-06-26T12:49:48.262Z"
   },
   {
    "duration": 24604,
    "start_time": "2025-06-26T12:49:53.934Z"
   },
   {
    "duration": 2340,
    "start_time": "2025-06-26T12:50:38.675Z"
   },
   {
    "duration": 23469,
    "start_time": "2025-06-26T12:51:12.041Z"
   },
   {
    "duration": 711,
    "start_time": "2025-06-26T12:53:22.838Z"
   },
   {
    "duration": 14,
    "start_time": "2025-06-26T12:54:35.312Z"
   },
   {
    "duration": 6198,
    "start_time": "2025-06-26T12:59:11.924Z"
   },
   {
    "duration": 5694,
    "start_time": "2025-06-26T12:59:26.227Z"
   },
   {
    "duration": 5134,
    "start_time": "2025-06-26T12:59:59.328Z"
   },
   {
    "duration": 4378,
    "start_time": "2025-06-26T13:00:11.215Z"
   },
   {
    "duration": 5256,
    "start_time": "2025-06-26T13:00:46.692Z"
   },
   {
    "duration": 4660,
    "start_time": "2025-06-26T13:02:14.125Z"
   },
   {
    "duration": 699,
    "start_time": "2025-06-26T13:02:58.145Z"
   },
   {
    "duration": 681,
    "start_time": "2025-06-26T13:03:15.986Z"
   },
   {
    "duration": 4651,
    "start_time": "2025-06-26T13:03:52.151Z"
   },
   {
    "duration": 85,
    "start_time": "2025-06-26T13:04:21.859Z"
   },
   {
    "duration": 82,
    "start_time": "2025-06-26T13:06:17.177Z"
   },
   {
    "duration": 3,
    "start_time": "2025-06-26T13:10:03.640Z"
   },
   {
    "duration": 1031,
    "start_time": "2025-06-26T13:10:12.425Z"
   },
   {
    "duration": 2027,
    "start_time": "2025-06-26T13:10:13.458Z"
   },
   {
    "duration": 103,
    "start_time": "2025-06-26T13:10:15.486Z"
   },
   {
    "duration": 407,
    "start_time": "2025-06-26T13:10:15.591Z"
   },
   {
    "duration": 18,
    "start_time": "2025-06-26T13:10:16.000Z"
   },
   {
    "duration": 75,
    "start_time": "2025-06-26T13:10:16.020Z"
   },
   {
    "duration": 357,
    "start_time": "2025-06-26T13:10:16.097Z"
   },
   {
    "duration": 335,
    "start_time": "2025-06-26T13:10:16.456Z"
   },
   {
    "duration": 216,
    "start_time": "2025-06-26T13:10:16.792Z"
   },
   {
    "duration": 404,
    "start_time": "2025-06-26T13:10:17.009Z"
   },
   {
    "duration": 1944,
    "start_time": "2025-06-26T13:10:17.414Z"
   },
   {
    "duration": 158,
    "start_time": "2025-06-26T13:10:19.361Z"
   },
   {
    "duration": 651,
    "start_time": "2025-06-26T13:10:19.521Z"
   },
   {
    "duration": 14,
    "start_time": "2025-06-26T13:10:20.175Z"
   },
   {
    "duration": 8386,
    "start_time": "2025-06-26T13:10:20.190Z"
   },
   {
    "duration": 289,
    "start_time": "2025-06-26T13:10:28.577Z"
   },
   {
    "duration": 23,
    "start_time": "2025-06-26T13:10:28.867Z"
   },
   {
    "duration": 384,
    "start_time": "2025-06-26T13:10:28.891Z"
   },
   {
    "duration": 322,
    "start_time": "2025-06-26T13:10:29.277Z"
   },
   {
    "duration": 246,
    "start_time": "2025-06-26T13:10:29.600Z"
   },
   {
    "duration": 299,
    "start_time": "2025-06-26T13:10:29.847Z"
   },
   {
    "duration": 602,
    "start_time": "2025-06-26T13:10:30.148Z"
   },
   {
    "duration": 268,
    "start_time": "2025-06-26T13:10:30.751Z"
   },
   {
    "duration": 310,
    "start_time": "2025-06-26T13:10:31.020Z"
   },
   {
    "duration": 789,
    "start_time": "2025-06-26T13:10:31.332Z"
   },
   {
    "duration": 972,
    "start_time": "2025-06-26T13:10:32.123Z"
   },
   {
    "duration": 1084,
    "start_time": "2025-06-26T13:10:33.097Z"
   },
   {
    "duration": 65,
    "start_time": "2025-06-26T13:10:34.183Z"
   },
   {
    "duration": 79,
    "start_time": "2025-06-26T13:10:34.250Z"
   },
   {
    "duration": 56,
    "start_time": "2025-06-26T13:10:34.331Z"
   },
   {
    "duration": 645,
    "start_time": "2025-06-26T13:10:34.389Z"
   },
   {
    "duration": 14,
    "start_time": "2025-06-26T13:10:35.035Z"
   },
   {
    "duration": 4645,
    "start_time": "2025-06-26T13:10:35.050Z"
   },
   {
    "duration": 90,
    "start_time": "2025-06-26T13:10:39.696Z"
   },
   {
    "duration": 1067,
    "start_time": "2025-06-26T13:13:02.220Z"
   },
   {
    "duration": 2339,
    "start_time": "2025-06-26T13:13:03.288Z"
   },
   {
    "duration": 99,
    "start_time": "2025-06-26T13:13:05.629Z"
   },
   {
    "duration": 374,
    "start_time": "2025-06-26T13:13:05.730Z"
   },
   {
    "duration": 15,
    "start_time": "2025-06-26T13:13:06.105Z"
   },
   {
    "duration": 66,
    "start_time": "2025-06-26T13:13:06.122Z"
   },
   {
    "duration": 352,
    "start_time": "2025-06-26T13:13:06.189Z"
   },
   {
    "duration": 342,
    "start_time": "2025-06-26T13:13:06.542Z"
   },
   {
    "duration": 216,
    "start_time": "2025-06-26T13:13:06.885Z"
   },
   {
    "duration": 391,
    "start_time": "2025-06-26T13:13:07.103Z"
   },
   {
    "duration": 1934,
    "start_time": "2025-06-26T13:13:07.495Z"
   },
   {
    "duration": 157,
    "start_time": "2025-06-26T13:13:09.431Z"
   },
   {
    "duration": 632,
    "start_time": "2025-06-26T13:13:09.590Z"
   },
   {
    "duration": 16,
    "start_time": "2025-06-26T13:13:10.224Z"
   },
   {
    "duration": 7673,
    "start_time": "2025-06-26T13:13:10.242Z"
   },
   {
    "duration": 305,
    "start_time": "2025-06-26T13:13:17.919Z"
   },
   {
    "duration": 20,
    "start_time": "2025-06-26T13:13:18.226Z"
   },
   {
    "duration": 396,
    "start_time": "2025-06-26T13:13:18.248Z"
   },
   {
    "duration": 323,
    "start_time": "2025-06-26T13:13:18.645Z"
   },
   {
    "duration": 260,
    "start_time": "2025-06-26T13:13:18.970Z"
   },
   {
    "duration": 264,
    "start_time": "2025-06-26T13:13:19.232Z"
   },
   {
    "duration": 649,
    "start_time": "2025-06-26T13:13:19.498Z"
   },
   {
    "duration": 270,
    "start_time": "2025-06-26T13:13:20.148Z"
   },
   {
    "duration": 302,
    "start_time": "2025-06-26T13:13:20.419Z"
   },
   {
    "duration": 705,
    "start_time": "2025-06-26T13:13:20.722Z"
   },
   {
    "duration": 958,
    "start_time": "2025-06-26T13:13:21.429Z"
   },
   {
    "duration": 1109,
    "start_time": "2025-06-26T13:13:22.389Z"
   },
   {
    "duration": 69,
    "start_time": "2025-06-26T13:13:23.501Z"
   },
   {
    "duration": 70,
    "start_time": "2025-06-26T13:13:23.571Z"
   },
   {
    "duration": 52,
    "start_time": "2025-06-26T13:13:23.643Z"
   },
   {
    "duration": 765,
    "start_time": "2025-06-26T13:13:23.697Z"
   },
   {
    "duration": 13,
    "start_time": "2025-06-26T13:13:24.464Z"
   },
   {
    "duration": 4626,
    "start_time": "2025-06-26T13:13:24.478Z"
   },
   {
    "duration": 86,
    "start_time": "2025-06-26T13:13:29.106Z"
   },
   {
    "duration": 1318,
    "start_time": "2025-06-26T19:42:37.462Z"
   },
   {
    "duration": 1784,
    "start_time": "2025-06-26T19:42:38.782Z"
   },
   {
    "duration": 119,
    "start_time": "2025-06-26T19:42:40.568Z"
   },
   {
    "duration": 439,
    "start_time": "2025-06-26T19:42:40.689Z"
   },
   {
    "duration": 32,
    "start_time": "2025-06-26T19:42:41.130Z"
   },
   {
    "duration": 91,
    "start_time": "2025-06-26T19:42:41.164Z"
   },
   {
    "duration": 497,
    "start_time": "2025-06-26T19:42:41.259Z"
   },
   {
    "duration": 418,
    "start_time": "2025-06-26T19:42:41.763Z"
   },
   {
    "duration": 269,
    "start_time": "2025-06-26T19:42:42.183Z"
   },
   {
    "duration": 592,
    "start_time": "2025-06-26T19:42:42.455Z"
   },
   {
    "duration": 2634,
    "start_time": "2025-06-26T19:42:43.049Z"
   },
   {
    "duration": 193,
    "start_time": "2025-06-26T19:42:45.685Z"
   },
   {
    "duration": 836,
    "start_time": "2025-06-26T19:42:45.884Z"
   },
   {
    "duration": 34,
    "start_time": "2025-06-26T19:42:46.722Z"
   },
   {
    "duration": 10230,
    "start_time": "2025-06-26T19:42:46.758Z"
   },
   {
    "duration": 382,
    "start_time": "2025-06-26T19:42:56.990Z"
   },
   {
    "duration": 26,
    "start_time": "2025-06-26T19:42:57.374Z"
   },
   {
    "duration": 481,
    "start_time": "2025-06-26T19:42:57.402Z"
   },
   {
    "duration": 428,
    "start_time": "2025-06-26T19:42:57.885Z"
   },
   {
    "duration": 372,
    "start_time": "2025-06-26T19:42:58.316Z"
   },
   {
    "duration": 343,
    "start_time": "2025-06-26T19:42:58.690Z"
   },
   {
    "duration": 663,
    "start_time": "2025-06-26T19:42:59.035Z"
   },
   {
    "duration": 324,
    "start_time": "2025-06-26T19:42:59.700Z"
   },
   {
    "duration": 371,
    "start_time": "2025-06-26T19:43:00.026Z"
   },
   {
    "duration": 873,
    "start_time": "2025-06-26T19:43:00.399Z"
   },
   {
    "duration": 1294,
    "start_time": "2025-06-26T19:43:01.274Z"
   },
   {
    "duration": 1413,
    "start_time": "2025-06-26T19:43:02.570Z"
   },
   {
    "duration": 92,
    "start_time": "2025-06-26T19:43:03.986Z"
   },
   {
    "duration": 112,
    "start_time": "2025-06-26T19:43:04.080Z"
   },
   {
    "duration": 58,
    "start_time": "2025-06-26T19:43:04.194Z"
   },
   {
    "duration": 955,
    "start_time": "2025-06-26T19:43:04.254Z"
   },
   {
    "duration": 19,
    "start_time": "2025-06-26T19:43:05.210Z"
   },
   {
    "duration": 6007,
    "start_time": "2025-06-26T19:43:05.240Z"
   },
   {
    "duration": 129,
    "start_time": "2025-06-26T19:43:11.249Z"
   },
   {
    "duration": 15,
    "start_time": "2025-06-26T19:54:01.399Z"
   },
   {
    "duration": 47,
    "start_time": "2025-06-27T15:05:10.441Z"
   },
   {
    "duration": 6,
    "start_time": "2025-06-27T15:05:25.449Z"
   },
   {
    "duration": 1363,
    "start_time": "2025-06-27T15:05:32.135Z"
   },
   {
    "duration": 1681,
    "start_time": "2025-06-27T15:05:33.646Z"
   },
   {
    "duration": 18,
    "start_time": "2025-06-27T15:05:35.329Z"
   },
   {
    "duration": 372,
    "start_time": "2025-06-27T15:05:48.462Z"
   },
   {
    "duration": 11,
    "start_time": "2025-06-27T15:06:01.021Z"
   },
   {
    "duration": 19,
    "start_time": "2025-06-27T15:06:04.076Z"
   },
   {
    "duration": 57,
    "start_time": "2025-06-27T15:07:05.808Z"
   },
   {
    "duration": 17,
    "start_time": "2025-06-27T15:07:10.752Z"
   },
   {
    "duration": 383,
    "start_time": "2025-06-27T15:09:49.548Z"
   },
   {
    "duration": 234,
    "start_time": "2025-06-27T15:12:10.704Z"
   },
   {
    "duration": 328,
    "start_time": "2025-06-27T15:13:53.800Z"
   },
   {
    "duration": 346,
    "start_time": "2025-06-27T15:17:50.942Z"
   },
   {
    "duration": 65,
    "start_time": "2025-06-27T15:21:20.158Z"
   },
   {
    "duration": 327,
    "start_time": "2025-06-27T15:21:32.901Z"
   },
   {
    "duration": 310,
    "start_time": "2025-06-27T15:21:35.891Z"
   },
   {
    "duration": 416,
    "start_time": "2025-06-27T15:21:38.588Z"
   },
   {
    "duration": 435,
    "start_time": "2025-06-27T15:23:50.059Z"
   },
   {
    "duration": 2201,
    "start_time": "2025-06-27T15:29:17.945Z"
   },
   {
    "duration": 159,
    "start_time": "2025-06-27T15:29:42.478Z"
   },
   {
    "duration": 737,
    "start_time": "2025-06-27T15:29:52.405Z"
   },
   {
    "duration": 1343,
    "start_time": "2025-06-27T15:31:04.565Z"
   },
   {
    "duration": 1233,
    "start_time": "2025-06-27T15:31:20.757Z"
   },
   {
    "duration": 2991,
    "start_time": "2025-06-27T15:31:21.991Z"
   },
   {
    "duration": 18,
    "start_time": "2025-06-27T15:31:24.983Z"
   },
   {
    "duration": 118,
    "start_time": "2025-06-27T15:31:25.003Z"
   },
   {
    "duration": 285,
    "start_time": "2025-06-27T15:31:25.122Z"
   },
   {
    "duration": 11,
    "start_time": "2025-06-27T15:31:25.409Z"
   },
   {
    "duration": 18,
    "start_time": "2025-06-27T15:31:25.422Z"
   },
   {
    "duration": 82,
    "start_time": "2025-06-27T15:31:25.442Z"
   },
   {
    "duration": 17,
    "start_time": "2025-06-27T15:31:25.526Z"
   },
   {
    "duration": 382,
    "start_time": "2025-06-27T15:31:25.546Z"
   },
   {
    "duration": 344,
    "start_time": "2025-06-27T15:31:25.930Z"
   },
   {
    "duration": 349,
    "start_time": "2025-06-27T15:31:26.275Z"
   },
   {
    "duration": 433,
    "start_time": "2025-06-27T15:31:26.625Z"
   },
   {
    "duration": 2262,
    "start_time": "2025-06-27T15:31:27.059Z"
   },
   {
    "duration": 162,
    "start_time": "2025-06-27T15:31:29.322Z"
   },
   {
    "duration": 1356,
    "start_time": "2025-06-27T15:31:29.486Z"
   },
   {
    "duration": 18,
    "start_time": "2025-06-27T15:31:30.843Z"
   },
   {
    "duration": 8666,
    "start_time": "2025-06-27T15:31:30.863Z"
   },
   {
    "duration": 305,
    "start_time": "2025-06-27T15:31:39.531Z"
   },
   {
    "duration": 34,
    "start_time": "2025-06-27T15:31:39.837Z"
   },
   {
    "duration": 431,
    "start_time": "2025-06-27T15:31:39.873Z"
   },
   {
    "duration": 385,
    "start_time": "2025-06-27T15:31:40.306Z"
   },
   {
    "duration": 281,
    "start_time": "2025-06-27T15:31:40.692Z"
   },
   {
    "duration": 327,
    "start_time": "2025-06-27T15:31:40.974Z"
   },
   {
    "duration": 756,
    "start_time": "2025-06-27T15:31:41.303Z"
   },
   {
    "duration": 300,
    "start_time": "2025-06-27T15:31:42.061Z"
   },
   {
    "duration": 324,
    "start_time": "2025-06-27T15:31:42.362Z"
   },
   {
    "duration": 756,
    "start_time": "2025-06-27T15:31:42.689Z"
   },
   {
    "duration": 1072,
    "start_time": "2025-06-27T15:31:43.446Z"
   },
   {
    "duration": 1196,
    "start_time": "2025-06-27T15:31:44.520Z"
   },
   {
    "duration": 76,
    "start_time": "2025-06-27T15:31:45.717Z"
   },
   {
    "duration": 86,
    "start_time": "2025-06-27T15:31:45.795Z"
   },
   {
    "duration": 45,
    "start_time": "2025-06-27T15:31:45.883Z"
   },
   {
    "duration": 838,
    "start_time": "2025-06-27T15:31:45.930Z"
   },
   {
    "duration": 14,
    "start_time": "2025-06-27T15:31:46.770Z"
   },
   {
    "duration": 5272,
    "start_time": "2025-06-27T15:31:46.786Z"
   },
   {
    "duration": 88,
    "start_time": "2025-06-27T15:31:52.059Z"
   },
   {
    "duration": 1817,
    "start_time": "2025-06-27T15:33:37.097Z"
   },
   {
    "duration": 3,
    "start_time": "2025-06-27T15:33:48.352Z"
   },
   {
    "duration": 2549,
    "start_time": "2025-06-27T15:33:49.599Z"
   },
   {
    "duration": 19,
    "start_time": "2025-06-27T15:33:52.150Z"
   },
   {
    "duration": 100,
    "start_time": "2025-06-27T15:33:53.695Z"
   },
   {
    "duration": 259,
    "start_time": "2025-06-27T15:33:55.159Z"
   },
   {
    "duration": 12,
    "start_time": "2025-06-27T15:33:55.975Z"
   },
   {
    "duration": 19,
    "start_time": "2025-06-27T15:33:56.895Z"
   },
   {
    "duration": 34,
    "start_time": "2025-06-27T15:33:58.038Z"
   },
   {
    "duration": 17,
    "start_time": "2025-06-27T15:33:59.689Z"
   },
   {
    "duration": 346,
    "start_time": "2025-06-27T15:34:04.647Z"
   },
   {
    "duration": 334,
    "start_time": "2025-06-27T15:34:07.093Z"
   },
   {
    "duration": 350,
    "start_time": "2025-06-27T15:34:10.022Z"
   },
   {
    "duration": 417,
    "start_time": "2025-06-27T15:34:11.966Z"
   },
   {
    "duration": 2208,
    "start_time": "2025-06-27T15:34:15.694Z"
   },
   {
    "duration": 162,
    "start_time": "2025-06-27T15:34:21.957Z"
   },
   {
    "duration": 1362,
    "start_time": "2025-06-27T15:34:25.501Z"
   },
   {
    "duration": 14,
    "start_time": "2025-06-27T15:34:34.515Z"
   },
   {
    "duration": 8576,
    "start_time": "2025-06-27T15:34:36.269Z"
   },
   {
    "duration": 312,
    "start_time": "2025-06-27T15:34:44.847Z"
   },
   {
    "duration": 23,
    "start_time": "2025-06-27T15:34:53.971Z"
   },
   {
    "duration": 5,
    "start_time": "2025-06-27T15:37:25.528Z"
   },
   {
    "duration": 379,
    "start_time": "2025-06-27T15:45:53.601Z"
   },
   {
    "duration": 309,
    "start_time": "2025-06-27T15:46:11.359Z"
   },
   {
    "duration": 258,
    "start_time": "2025-06-27T15:46:40.733Z"
   },
   {
    "duration": 302,
    "start_time": "2025-06-27T15:49:15.164Z"
   },
   {
    "duration": 277,
    "start_time": "2025-06-27T15:49:31.856Z"
   },
   {
    "duration": 65,
    "start_time": "2025-06-27T15:52:07.835Z"
   },
   {
    "duration": 77,
    "start_time": "2025-06-27T15:52:30.329Z"
   },
   {
    "duration": 263,
    "start_time": "2025-06-27T15:52:36.273Z"
   },
   {
    "duration": 120,
    "start_time": "2025-06-27T15:52:40.129Z"
   },
   {
    "duration": 336,
    "start_time": "2025-06-27T15:53:00.273Z"
   },
   {
    "duration": 421,
    "start_time": "2025-06-27T15:53:13.167Z"
   },
   {
    "duration": 337,
    "start_time": "2025-06-27T15:53:51.764Z"
   },
   {
    "duration": 275,
    "start_time": "2025-06-27T15:58:30.942Z"
   },
   {
    "duration": 260,
    "start_time": "2025-06-27T15:58:38.548Z"
   },
   {
    "duration": 266,
    "start_time": "2025-06-27T15:58:47.741Z"
   },
   {
    "duration": 135,
    "start_time": "2025-06-27T15:59:28.938Z"
   },
   {
    "duration": 347,
    "start_time": "2025-06-27T16:00:37.710Z"
   },
   {
    "duration": 256,
    "start_time": "2025-06-27T16:02:55.225Z"
   },
   {
    "duration": 575,
    "start_time": "2025-06-27T16:03:11.592Z"
   },
   {
    "duration": 279,
    "start_time": "2025-06-27T16:03:17.183Z"
   },
   {
    "duration": 328,
    "start_time": "2025-06-27T16:03:30.685Z"
   },
   {
    "duration": 870,
    "start_time": "2025-06-27T16:03:34.470Z"
   },
   {
    "duration": 599,
    "start_time": "2025-06-27T16:37:02.612Z"
   },
   {
    "duration": 326,
    "start_time": "2025-06-27T16:38:24.685Z"
   },
   {
    "duration": 642,
    "start_time": "2025-06-27T16:38:40.948Z"
   },
   {
    "duration": 668,
    "start_time": "2025-06-27T16:38:54.938Z"
   },
   {
    "duration": 652,
    "start_time": "2025-06-27T16:43:51.260Z"
   },
   {
    "duration": 547,
    "start_time": "2025-06-27T16:44:37.968Z"
   },
   {
    "duration": 931,
    "start_time": "2025-06-27T16:49:35.313Z"
   },
   {
    "duration": 9212,
    "start_time": "2025-06-27T16:52:26.732Z"
   },
   {
    "duration": 8518,
    "start_time": "2025-06-27T16:54:46.489Z"
   },
   {
    "duration": 11880,
    "start_time": "2025-06-27T16:55:43.238Z"
   },
   {
    "duration": 10328,
    "start_time": "2025-06-27T16:58:03.410Z"
   },
   {
    "duration": 12199,
    "start_time": "2025-06-27T17:01:33.922Z"
   },
   {
    "duration": 8880,
    "start_time": "2025-06-27T17:01:55.440Z"
   },
   {
    "duration": 1183,
    "start_time": "2025-06-27T17:02:26.230Z"
   },
   {
    "duration": 9334,
    "start_time": "2025-06-27T17:02:55.443Z"
   },
   {
    "duration": 9274,
    "start_time": "2025-06-27T17:07:31.070Z"
   },
   {
    "duration": 699,
    "start_time": "2025-06-27T17:09:03.847Z"
   },
   {
    "duration": 874,
    "start_time": "2025-06-27T17:13:50.561Z"
   },
   {
    "duration": 9118,
    "start_time": "2025-06-27T17:14:12.327Z"
   },
   {
    "duration": 784,
    "start_time": "2025-06-27T17:15:58.303Z"
   },
   {
    "duration": 746,
    "start_time": "2025-06-27T17:18:38.867Z"
   },
   {
    "duration": 852,
    "start_time": "2025-06-27T17:20:46.673Z"
   },
   {
    "duration": 1035,
    "start_time": "2025-06-27T17:21:53.676Z"
   },
   {
    "duration": 398,
    "start_time": "2025-06-27T17:24:23.560Z"
   },
   {
    "duration": 910,
    "start_time": "2025-06-27T17:24:47.494Z"
   },
   {
    "duration": 65,
    "start_time": "2025-06-27T17:25:42.745Z"
   },
   {
    "duration": 761,
    "start_time": "2025-06-27T17:28:01.455Z"
   },
   {
    "duration": 795,
    "start_time": "2025-06-27T17:29:53.447Z"
   },
   {
    "duration": 685,
    "start_time": "2025-06-27T17:30:54.376Z"
   },
   {
    "duration": 79,
    "start_time": "2025-06-27T17:30:58.016Z"
   },
   {
    "duration": 3,
    "start_time": "2025-06-27T17:32:46.169Z"
   },
   {
    "duration": 47,
    "start_time": "2025-06-27T17:33:19.647Z"
   },
   {
    "duration": 681,
    "start_time": "2025-06-27T17:33:30.093Z"
   },
   {
    "duration": 1538,
    "start_time": "2025-06-27T17:33:40.485Z"
   },
   {
    "duration": 373,
    "start_time": "2025-06-27T17:34:10.122Z"
   },
   {
    "duration": 697,
    "start_time": "2025-06-27T17:34:48.584Z"
   },
   {
    "duration": 730,
    "start_time": "2025-06-27T17:36:08.442Z"
   },
   {
    "duration": 910,
    "start_time": "2025-06-27T17:37:06.668Z"
   },
   {
    "duration": 749,
    "start_time": "2025-06-27T17:37:34.252Z"
   },
   {
    "duration": 769,
    "start_time": "2025-06-27T17:38:35.526Z"
   },
   {
    "duration": 15,
    "start_time": "2025-06-27T17:40:04.102Z"
   },
   {
    "duration": 779,
    "start_time": "2025-06-27T17:42:30.557Z"
   },
   {
    "duration": 14,
    "start_time": "2025-06-27T18:02:34.222Z"
   },
   {
    "duration": 5042,
    "start_time": "2025-06-27T18:04:45.700Z"
   },
   {
    "duration": 5128,
    "start_time": "2025-06-27T18:07:00.802Z"
   },
   {
    "duration": 5115,
    "start_time": "2025-06-27T18:08:02.605Z"
   },
   {
    "duration": 5213,
    "start_time": "2025-06-27T18:09:39.718Z"
   },
   {
    "duration": 88,
    "start_time": "2025-06-27T18:11:09.349Z"
   },
   {
    "duration": 19,
    "start_time": "2025-06-27T18:12:31.137Z"
   },
   {
    "duration": 4474,
    "start_time": "2025-06-27T18:13:37.059Z"
   },
   {
    "duration": 815,
    "start_time": "2025-06-27T18:15:05.596Z"
   },
   {
    "duration": 902,
    "start_time": "2025-06-27T18:15:16.100Z"
   },
   {
    "duration": 4572,
    "start_time": "2025-06-27T18:15:48.746Z"
   },
   {
    "duration": 18,
    "start_time": "2025-06-27T18:16:09.303Z"
   },
   {
    "duration": 4474,
    "start_time": "2025-06-27T18:16:41.006Z"
   },
   {
    "duration": 19,
    "start_time": "2025-06-27T18:16:53.355Z"
   },
   {
    "duration": 1272,
    "start_time": "2025-06-27T18:17:01.607Z"
   },
   {
    "duration": 2563,
    "start_time": "2025-06-27T18:17:02.881Z"
   },
   {
    "duration": 21,
    "start_time": "2025-06-27T18:17:05.446Z"
   },
   {
    "duration": 110,
    "start_time": "2025-06-27T18:17:05.469Z"
   },
   {
    "duration": 506,
    "start_time": "2025-06-27T18:17:05.581Z"
   },
   {
    "duration": 13,
    "start_time": "2025-06-27T18:17:06.089Z"
   },
   {
    "duration": 18,
    "start_time": "2025-06-27T18:17:06.103Z"
   },
   {
    "duration": 85,
    "start_time": "2025-06-27T18:17:06.123Z"
   },
   {
    "duration": 18,
    "start_time": "2025-06-27T18:17:06.210Z"
   },
   {
    "duration": 389,
    "start_time": "2025-06-27T18:17:06.230Z"
   },
   {
    "duration": 347,
    "start_time": "2025-06-27T18:17:06.621Z"
   },
   {
    "duration": 364,
    "start_time": "2025-06-27T18:17:06.969Z"
   },
   {
    "duration": 415,
    "start_time": "2025-06-27T18:17:07.334Z"
   },
   {
    "duration": 2146,
    "start_time": "2025-06-27T18:17:07.751Z"
   },
   {
    "duration": 162,
    "start_time": "2025-06-27T18:17:09.898Z"
   },
   {
    "duration": 1359,
    "start_time": "2025-06-27T18:17:10.062Z"
   },
   {
    "duration": 15,
    "start_time": "2025-06-27T18:17:11.423Z"
   },
   {
    "duration": 8445,
    "start_time": "2025-06-27T18:17:11.440Z"
   },
   {
    "duration": 304,
    "start_time": "2025-06-27T18:17:19.886Z"
   },
   {
    "duration": 24,
    "start_time": "2025-06-27T18:17:20.192Z"
   },
   {
    "duration": 5,
    "start_time": "2025-06-27T18:17:20.217Z"
   },
   {
    "duration": 504,
    "start_time": "2025-06-27T18:17:20.223Z"
   },
   {
    "duration": 342,
    "start_time": "2025-06-27T18:17:20.728Z"
   },
   {
    "duration": 256,
    "start_time": "2025-06-27T18:17:21.071Z"
   },
   {
    "duration": 297,
    "start_time": "2025-06-27T18:17:21.329Z"
   },
   {
    "duration": 631,
    "start_time": "2025-06-27T18:17:21.628Z"
   },
   {
    "duration": 656,
    "start_time": "2025-06-27T18:17:22.261Z"
   },
   {
    "duration": 678,
    "start_time": "2025-06-27T18:17:22.921Z"
   },
   {
    "duration": 828,
    "start_time": "2025-06-27T18:17:23.600Z"
   },
   {
    "duration": 1104,
    "start_time": "2025-06-27T18:17:24.430Z"
   },
   {
    "duration": 876,
    "start_time": "2025-06-27T18:17:25.536Z"
   },
   {
    "duration": 75,
    "start_time": "2025-06-27T18:17:26.413Z"
   },
   {
    "duration": 699,
    "start_time": "2025-06-27T18:17:26.490Z"
   },
   {
    "duration": 83,
    "start_time": "2025-06-27T18:17:27.190Z"
   },
   {
    "duration": 45,
    "start_time": "2025-06-27T18:17:27.274Z"
   },
   {
    "duration": 986,
    "start_time": "2025-06-27T18:17:27.320Z"
   },
   {
    "duration": 15,
    "start_time": "2025-06-27T18:17:28.307Z"
   },
   {
    "duration": 4619,
    "start_time": "2025-06-27T18:17:28.323Z"
   },
   {
    "duration": 29,
    "start_time": "2025-06-27T18:17:32.944Z"
   },
   {
    "duration": 4322,
    "start_time": "2025-06-27T18:25:22.016Z"
   },
   {
    "duration": 847,
    "start_time": "2025-06-27T18:25:56.838Z"
   },
   {
    "duration": 1222,
    "start_time": "2025-06-27T18:27:04.675Z"
   },
   {
    "duration": 4004,
    "start_time": "2025-06-27T18:27:05.899Z"
   },
   {
    "duration": 18,
    "start_time": "2025-06-27T18:27:09.905Z"
   },
   {
    "duration": 118,
    "start_time": "2025-06-27T18:27:09.925Z"
   },
   {
    "duration": 566,
    "start_time": "2025-06-27T18:27:10.044Z"
   },
   {
    "duration": 11,
    "start_time": "2025-06-27T18:27:10.612Z"
   },
   {
    "duration": 33,
    "start_time": "2025-06-27T18:27:10.625Z"
   },
   {
    "duration": 28,
    "start_time": "2025-06-27T18:27:10.660Z"
   },
   {
    "duration": 18,
    "start_time": "2025-06-27T18:27:10.689Z"
   },
   {
    "duration": 409,
    "start_time": "2025-06-27T18:27:10.711Z"
   },
   {
    "duration": 341,
    "start_time": "2025-06-27T18:27:11.122Z"
   },
   {
    "duration": 372,
    "start_time": "2025-06-27T18:27:11.465Z"
   },
   {
    "duration": 422,
    "start_time": "2025-06-27T18:27:11.838Z"
   },
   {
    "duration": 2170,
    "start_time": "2025-06-27T18:27:12.261Z"
   },
   {
    "duration": 163,
    "start_time": "2025-06-27T18:27:14.433Z"
   },
   {
    "duration": 1354,
    "start_time": "2025-06-27T18:27:14.597Z"
   },
   {
    "duration": 16,
    "start_time": "2025-06-27T18:27:15.953Z"
   },
   {
    "duration": 8479,
    "start_time": "2025-06-27T18:27:15.970Z"
   },
   {
    "duration": 311,
    "start_time": "2025-06-27T18:27:24.451Z"
   },
   {
    "duration": 25,
    "start_time": "2025-06-27T18:27:24.763Z"
   },
   {
    "duration": 57,
    "start_time": "2025-06-27T18:27:24.790Z"
   },
   {
    "duration": 441,
    "start_time": "2025-06-27T18:27:24.849Z"
   },
   {
    "duration": 346,
    "start_time": "2025-06-27T18:27:25.292Z"
   },
   {
    "duration": 253,
    "start_time": "2025-06-27T18:27:25.640Z"
   },
   {
    "duration": 271,
    "start_time": "2025-06-27T18:27:25.895Z"
   },
   {
    "duration": 591,
    "start_time": "2025-06-27T18:27:26.168Z"
   },
   {
    "duration": 551,
    "start_time": "2025-06-27T18:27:26.760Z"
   },
   {
    "duration": 687,
    "start_time": "2025-06-27T18:27:27.314Z"
   },
   {
    "duration": 829,
    "start_time": "2025-06-27T18:27:28.003Z"
   },
   {
    "duration": 1076,
    "start_time": "2025-06-27T18:27:28.834Z"
   },
   {
    "duration": 902,
    "start_time": "2025-06-27T18:27:29.912Z"
   },
   {
    "duration": 76,
    "start_time": "2025-06-27T18:27:30.815Z"
   },
   {
    "duration": 687,
    "start_time": "2025-06-27T18:27:30.893Z"
   },
   {
    "duration": 107,
    "start_time": "2025-06-27T18:27:31.582Z"
   },
   {
    "duration": 46,
    "start_time": "2025-06-27T18:27:31.690Z"
   },
   {
    "duration": 894,
    "start_time": "2025-06-27T18:27:31.738Z"
   },
   {
    "duration": 15,
    "start_time": "2025-06-27T18:27:32.634Z"
   },
   {
    "duration": 4477,
    "start_time": "2025-06-27T18:27:32.650Z"
   },
   {
    "duration": 28,
    "start_time": "2025-06-27T18:27:37.129Z"
   },
   {
    "duration": 1313,
    "start_time": "2025-06-27T19:08:30.782Z"
   },
   {
    "duration": 2497,
    "start_time": "2025-06-27T19:08:32.096Z"
   },
   {
    "duration": 17,
    "start_time": "2025-06-27T19:08:34.595Z"
   },
   {
    "duration": 110,
    "start_time": "2025-06-27T19:08:34.614Z"
   },
   {
    "duration": 340,
    "start_time": "2025-06-27T19:08:34.726Z"
   },
   {
    "duration": 11,
    "start_time": "2025-06-27T19:08:35.067Z"
   },
   {
    "duration": 85,
    "start_time": "2025-06-27T19:08:35.079Z"
   },
   {
    "duration": 129,
    "start_time": "2025-06-27T19:08:35.166Z"
   },
   {
    "duration": 15,
    "start_time": "2025-06-27T19:08:35.297Z"
   },
   {
    "duration": 362,
    "start_time": "2025-06-27T19:08:35.314Z"
   },
   {
    "duration": 354,
    "start_time": "2025-06-27T19:08:35.678Z"
   },
   {
    "duration": 349,
    "start_time": "2025-06-27T19:08:36.034Z"
   },
   {
    "duration": 420,
    "start_time": "2025-06-27T19:08:36.385Z"
   },
   {
    "duration": 2031,
    "start_time": "2025-06-27T19:08:36.808Z"
   },
   {
    "duration": 155,
    "start_time": "2025-06-27T19:08:38.841Z"
   },
   {
    "duration": 1256,
    "start_time": "2025-06-27T19:08:38.998Z"
   },
   {
    "duration": 22,
    "start_time": "2025-06-27T19:08:40.256Z"
   },
   {
    "duration": 8101,
    "start_time": "2025-06-27T19:08:40.280Z"
   },
   {
    "duration": 292,
    "start_time": "2025-06-27T19:08:48.383Z"
   },
   {
    "duration": 21,
    "start_time": "2025-06-27T19:08:48.677Z"
   },
   {
    "duration": 5,
    "start_time": "2025-06-27T19:08:48.700Z"
   },
   {
    "duration": 409,
    "start_time": "2025-06-27T19:08:48.706Z"
   },
   {
    "duration": 341,
    "start_time": "2025-06-27T19:08:49.117Z"
   },
   {
    "duration": 243,
    "start_time": "2025-06-27T19:08:49.459Z"
   },
   {
    "duration": 270,
    "start_time": "2025-06-27T19:08:49.704Z"
   },
   {
    "duration": 586,
    "start_time": "2025-06-27T19:08:49.976Z"
   },
   {
    "duration": 562,
    "start_time": "2025-06-27T19:08:50.564Z"
   },
   {
    "duration": 645,
    "start_time": "2025-06-27T19:08:51.128Z"
   },
   {
    "duration": 868,
    "start_time": "2025-06-27T19:08:51.776Z"
   },
   {
    "duration": 1074,
    "start_time": "2025-06-27T19:08:52.646Z"
   },
   {
    "duration": 876,
    "start_time": "2025-06-27T19:08:53.723Z"
   },
   {
    "duration": 73,
    "start_time": "2025-06-27T19:08:54.601Z"
   },
   {
    "duration": 682,
    "start_time": "2025-06-27T19:08:54.676Z"
   },
   {
    "duration": 86,
    "start_time": "2025-06-27T19:08:55.360Z"
   },
   {
    "duration": 57,
    "start_time": "2025-06-27T19:08:55.448Z"
   },
   {
    "duration": 921,
    "start_time": "2025-06-27T19:08:55.507Z"
   },
   {
    "duration": 14,
    "start_time": "2025-06-27T19:08:56.430Z"
   },
   {
    "duration": 4272,
    "start_time": "2025-06-27T19:08:56.445Z"
   },
   {
    "duration": 20,
    "start_time": "2025-06-27T19:09:00.719Z"
   }
  ],
  "colab": {
   "provenance": []
  },
  "kernelspec": {
   "display_name": "Python [conda env:base] *",
   "language": "python",
   "name": "conda-base-py"
  },
  "language_info": {
   "codemirror_mode": {
    "name": "ipython",
    "version": 3
   },
   "file_extension": ".py",
   "mimetype": "text/x-python",
   "name": "python",
   "nbconvert_exporter": "python",
   "pygments_lexer": "ipython3",
   "version": "3.12.7"
  },
  "toc": {
   "base_numbering": 1,
   "nav_menu": {},
   "number_sections": true,
   "sideBar": true,
   "skip_h1_title": true,
   "title_cell": "Table of Contents",
   "title_sidebar": "Contents",
   "toc_cell": false,
   "toc_position": {},
   "toc_section_display": true,
   "toc_window_display": true
  }
 },
 "nbformat": 4,
 "nbformat_minor": 4
}
